{
 "cells": [
  {
   "cell_type": "markdown",
   "metadata": {},
   "source": [
    "# Model Tuning\n",
    "\n",
    "In this notebook, I'll be following up on the top-scoring models of the last trials, and attempting to optimize the hyperparameters for even better test scores."
   ]
  },
  {
   "cell_type": "code",
   "execution_count": 24,
   "metadata": {},
   "outputs": [],
   "source": [
    "# Imports\n",
    "\n",
    "import pandas as pd\n",
    "import matplotlib.pyplot as plt\n",
    "import numpy as np\n",
    "\n",
    "from sklearn.feature_extraction.text import CountVectorizer, TfidfVectorizer\n",
    "from sklearn.model_selection import train_test_split, cross_val_score, GridSearchCV\n",
    "from sklearn.linear_model import LogisticRegression\n",
    "from sklearn.tree import DecisionTreeClassifier\n",
    "\n",
    "from sklearn.ensemble import RandomForestClassifier, GradientBoostingClassifier, AdaBoostClassifier, BaggingClassifier, StackingClassifier\n",
    "from sklearn.pipeline import Pipeline \n",
    "from sklearn.metrics import confusion_matrix, plot_confusion_matrix\n",
    "from sklearn.naive_bayes import MultinomialNB\n",
    "import warnings\n",
    "warnings.simplefilter('ignore') # Ignoring warnings in this notebook to avoid endless convergence issue scrolling\n",
    "\n",
    "pd.options.display.max_colwidth = 200"
   ]
  },
  {
   "cell_type": "code",
   "execution_count": 25,
   "metadata": {},
   "outputs": [
    {
     "data": {
      "text/html": [
       "<div>\n",
       "<style scoped>\n",
       "    .dataframe tbody tr th:only-of-type {\n",
       "        vertical-align: middle;\n",
       "    }\n",
       "\n",
       "    .dataframe tbody tr th {\n",
       "        vertical-align: top;\n",
       "    }\n",
       "\n",
       "    .dataframe thead th {\n",
       "        text-align: right;\n",
       "    }\n",
       "</style>\n",
       "<table border=\"1\" class=\"dataframe\">\n",
       "  <thead>\n",
       "    <tr style=\"text-align: right;\">\n",
       "      <th></th>\n",
       "      <th>subreddit_class</th>\n",
       "      <th>title</th>\n",
       "      <th>selftext</th>\n",
       "      <th>author</th>\n",
       "      <th>title_word_count</th>\n",
       "      <th>selftext_word_count</th>\n",
       "    </tr>\n",
       "  </thead>\n",
       "  <tbody>\n",
       "    <tr>\n",
       "      <th>0</th>\n",
       "      <td>0</td>\n",
       "      <td>about the donovan lewis police shooting in columbus.</td>\n",
       "      <td>donovan reacted as naturally as anyone would when strangers burst open your bedroom door. there is inherent risk when serving a warrant and going through someone’s home unwelcomed. cops need to re...</td>\n",
       "      <td>barelycriminal</td>\n",
       "      <td>8</td>\n",
       "      <td>48</td>\n",
       "    </tr>\n",
       "  </tbody>\n",
       "</table>\n",
       "</div>"
      ],
      "text/plain": [
       "   subreddit_class                                                 title  \\\n",
       "0                0  about the donovan lewis police shooting in columbus.   \n",
       "\n",
       "                                                                                                                                                                                                  selftext  \\\n",
       "0  donovan reacted as naturally as anyone would when strangers burst open your bedroom door. there is inherent risk when serving a warrant and going through someone’s home unwelcomed. cops need to re...   \n",
       "\n",
       "           author  title_word_count  selftext_word_count  \n",
       "0  barelycriminal                 8                   48  "
      ]
     },
     "execution_count": 25,
     "metadata": {},
     "output_type": "execute_result"
    }
   ],
   "source": [
    "reddit = pd.read_csv('../datasets/reddit_slimmed_no_https.csv')\n",
    "reddit.drop(columns='Unnamed: 0', inplace=True)\n",
    "reddit['subreddit_class'] = reddit['subreddit_class'].map({'ohio': 0, 'ihateohio': 1})\n",
    "reddit.head(1)"
   ]
  },
  {
   "cell_type": "code",
   "execution_count": 26,
   "metadata": {},
   "outputs": [
    {
     "data": {
      "text/html": [
       "<div>\n",
       "<style scoped>\n",
       "    .dataframe tbody tr th:only-of-type {\n",
       "        vertical-align: middle;\n",
       "    }\n",
       "\n",
       "    .dataframe tbody tr th {\n",
       "        vertical-align: top;\n",
       "    }\n",
       "\n",
       "    .dataframe thead th {\n",
       "        text-align: right;\n",
       "    }\n",
       "</style>\n",
       "<table border=\"1\" class=\"dataframe\">\n",
       "  <thead>\n",
       "    <tr style=\"text-align: right;\">\n",
       "      <th></th>\n",
       "      <th>model_used</th>\n",
       "      <th>title_train_score</th>\n",
       "      <th>title_test_score</th>\n",
       "      <th>selftext_train_score</th>\n",
       "      <th>selftext_test_score</th>\n",
       "    </tr>\n",
       "  </thead>\n",
       "  <tbody>\n",
       "    <tr>\n",
       "      <th>0</th>\n",
       "      <td>CVec Logistic Regression</td>\n",
       "      <td>0.963268</td>\n",
       "      <td>0.793413</td>\n",
       "      <td>0.898801</td>\n",
       "      <td>0.847305</td>\n",
       "    </tr>\n",
       "    <tr>\n",
       "      <th>1</th>\n",
       "      <td>TfVec Logistic Regression</td>\n",
       "      <td>0.929535</td>\n",
       "      <td>0.766467</td>\n",
       "      <td>0.870315</td>\n",
       "      <td>0.826347</td>\n",
       "    </tr>\n",
       "    <tr>\n",
       "      <th>2</th>\n",
       "      <td>CVec Mn Naive Bayes</td>\n",
       "      <td>0.943778</td>\n",
       "      <td>0.790419</td>\n",
       "      <td>0.897301</td>\n",
       "      <td>0.829341</td>\n",
       "    </tr>\n",
       "  </tbody>\n",
       "</table>\n",
       "</div>"
      ],
      "text/plain": [
       "                  model_used  title_train_score  title_test_score  \\\n",
       "0   CVec Logistic Regression           0.963268          0.793413   \n",
       "1  TfVec Logistic Regression           0.929535          0.766467   \n",
       "2        CVec Mn Naive Bayes           0.943778          0.790419   \n",
       "\n",
       "   selftext_train_score  selftext_test_score  \n",
       "0              0.898801             0.847305  \n",
       "1              0.870315             0.826347  \n",
       "2              0.897301             0.829341  "
      ]
     },
     "execution_count": 26,
     "metadata": {},
     "output_type": "execute_result"
    }
   ],
   "source": [
    "# Reading in the model trials dataframe to see which scores performed the best and which models to further test on\n",
    "\n",
    "model_trials = pd.read_csv('../datasets/model_trials_no_https.csv')\n",
    "model_trials.drop(columns='Unnamed: 0', inplace=True)\n",
    "model_trials.head(3)"
   ]
  },
  {
   "cell_type": "markdown",
   "metadata": {},
   "source": [
    "---\n",
    "\n",
    "## Top Performing Models"
   ]
  },
  {
   "cell_type": "code",
   "execution_count": 29,
   "metadata": {},
   "outputs": [
    {
     "data": {
      "text/html": [
       "<div>\n",
       "<style scoped>\n",
       "    .dataframe tbody tr th:only-of-type {\n",
       "        vertical-align: middle;\n",
       "    }\n",
       "\n",
       "    .dataframe tbody tr th {\n",
       "        vertical-align: top;\n",
       "    }\n",
       "\n",
       "    .dataframe thead th {\n",
       "        text-align: right;\n",
       "    }\n",
       "</style>\n",
       "<table border=\"1\" class=\"dataframe\">\n",
       "  <thead>\n",
       "    <tr style=\"text-align: right;\">\n",
       "      <th></th>\n",
       "      <th>model_used</th>\n",
       "      <th>selftext_test_score</th>\n",
       "      <th>vec_flag</th>\n",
       "    </tr>\n",
       "  </thead>\n",
       "  <tbody>\n",
       "    <tr>\n",
       "      <th>0</th>\n",
       "      <td>CVec Logistic Regression</td>\n",
       "      <td>0.847305</td>\n",
       "      <td>1</td>\n",
       "    </tr>\n",
       "    <tr>\n",
       "      <th>2</th>\n",
       "      <td>CVec Mn Naive Bayes</td>\n",
       "      <td>0.829341</td>\n",
       "      <td>1</td>\n",
       "    </tr>\n",
       "    <tr>\n",
       "      <th>16</th>\n",
       "      <td>CVec Gradient Boosting</td>\n",
       "      <td>0.829341</td>\n",
       "      <td>1</td>\n",
       "    </tr>\n",
       "    <tr>\n",
       "      <th>13</th>\n",
       "      <td>TfVec AdaBoosting</td>\n",
       "      <td>0.829341</td>\n",
       "      <td>0</td>\n",
       "    </tr>\n",
       "    <tr>\n",
       "      <th>12</th>\n",
       "      <td>CVec AdaBoosting</td>\n",
       "      <td>0.829341</td>\n",
       "      <td>1</td>\n",
       "    </tr>\n",
       "    <tr>\n",
       "      <th>1</th>\n",
       "      <td>TfVec Logistic Regression</td>\n",
       "      <td>0.826347</td>\n",
       "      <td>0</td>\n",
       "    </tr>\n",
       "    <tr>\n",
       "      <th>17</th>\n",
       "      <td>TfVec Gradient Boosting</td>\n",
       "      <td>0.820359</td>\n",
       "      <td>0</td>\n",
       "    </tr>\n",
       "    <tr>\n",
       "      <th>6</th>\n",
       "      <td>CVec Decision Tree</td>\n",
       "      <td>0.817365</td>\n",
       "      <td>1</td>\n",
       "    </tr>\n",
       "    <tr>\n",
       "      <th>11</th>\n",
       "      <td>TfVec Bagging</td>\n",
       "      <td>0.817365</td>\n",
       "      <td>0</td>\n",
       "    </tr>\n",
       "    <tr>\n",
       "      <th>10</th>\n",
       "      <td>CVec Bagging</td>\n",
       "      <td>0.814371</td>\n",
       "      <td>1</td>\n",
       "    </tr>\n",
       "  </tbody>\n",
       "</table>\n",
       "</div>"
      ],
      "text/plain": [
       "                   model_used  selftext_test_score  vec_flag\n",
       "0    CVec Logistic Regression             0.847305         1\n",
       "2         CVec Mn Naive Bayes             0.829341         1\n",
       "16     CVec Gradient Boosting             0.829341         1\n",
       "13          TfVec AdaBoosting             0.829341         0\n",
       "12           CVec AdaBoosting             0.829341         1\n",
       "1   TfVec Logistic Regression             0.826347         0\n",
       "17    TfVec Gradient Boosting             0.820359         0\n",
       "6          CVec Decision Tree             0.817365         1\n",
       "11              TfVec Bagging             0.817365         0\n",
       "10               CVec Bagging             0.814371         1"
      ]
     },
     "execution_count": 29,
     "metadata": {},
     "output_type": "execute_result"
    }
   ],
   "source": [
    "top_models = model_trials[['model_used', 'selftext_test_score']].sort_values(by=['selftext_test_score'], ascending=False).head(10)\n",
    "top_models['vec_flag'] = [1 if 'CVec' in s else 0 for s in top_models['model_used']]\n",
    "\n",
    "top_models"
   ]
  },
  {
   "cell_type": "code",
   "execution_count": 30,
   "metadata": {},
   "outputs": [
    {
     "data": {
      "image/png": "[encoded data removed]",
      "text/plain": [
       "<Figure size 640x480 with 1 Axes>"
      ]
     },
     "metadata": {},
     "output_type": "display_data"
    }
   ],
   "source": [
    "fig, ax = plt.subplots()\n",
    "\n",
    "colors = ['dodgerblue' if num == 1 else 'powderblue' for num in top_models['vec_flag']]\n",
    "tm = ax.barh(top_models['model_used'][::-1], width=top_models['selftext_test_score'][::-1], color=colors[::-1])\n",
    "ax.bar_label(tm, label_type='center')\n",
    "plt.show();"
   ]
  },
  {
   "cell_type": "markdown",
   "metadata": {},
   "source": [
    "We can see that four out of the five top-scoring models used CountVectorizer, but the top ten is an almost even split. In the coming model tuning, I'll be testing both vectorizers in all models (with added hyperparameter tuning) to see what performs the best.\n",
    "\n",
    "Because all of these scores came from using the selftext column (as opposed to using the title column) as X, I'll be moving forward with this as the only predictor variable. "
   ]
  },
  {
   "cell_type": "markdown",
   "metadata": {},
   "source": [
    "---\n",
    "\n",
    "## Building a Function to GridSearch Models"
   ]
  },
  {
   "cell_type": "markdown",
   "metadata": {},
   "source": [
    "Similar to the model trials function, I'll be writing another that takes a few extra arguments and will grid search over the updated pipelines. "
   ]
  },
  {
   "cell_type": "code",
   "execution_count": 62,
   "metadata": {},
   "outputs": [],
   "source": [
    "grid_search_df = pd.DataFrame(columns=['model_used', 'cross_val_score', 'train_score', 'test_score', 'misclass_rate'])"
   ]
  },
  {
   "cell_type": "code",
   "execution_count": 63,
   "metadata": {},
   "outputs": [],
   "source": [
    "def grid_search(pipe, pipe_params, model_id):\n",
    "\n",
    "    '''Setting X and y, then splitting into train and test sets'''\n",
    "    X = reddit['selftext']\n",
    "    y = reddit['subreddit_class']\n",
    "    X_train, X_test, y_train, y_test = train_test_split(X, y, test_size=0.2, stratify=y, random_state=42)\n",
    "\n",
    "    '''Instantiating GridSearchCV'''\n",
    "    gs = GridSearchCV(pipe, param_grid=pipe_params, n_jobs= -1, verbose=1, cv = 3)\n",
    "    gs.fit(X_train, y_train)\n",
    "\n",
    "    '''GridSearch-specific values'''\n",
    "    cross_val_score = gs.best_score_\n",
    "    train_score = gs.score(X_train, y_train)\n",
    "    test_score = gs.score(X_test, y_test)\n",
    "    best_params = gs.best_params_\n",
    "    best_estimator = gs.best_estimator_\n",
    "\n",
    "    '''Calculating accuracy and misclassification rates'''\n",
    "    preds = gs.predict(X_test)\n",
    "    tn, fp, fn, tp = confusion_matrix(y_test, preds).ravel()\n",
    "    acc = (tp + tn) / (tn + fp + tp + fn)\n",
    "    misclass = 1 - acc\n",
    "\n",
    "    '''Ensuring that models with more parameters can be appended to grid_search_df'''\n",
    "    for i in range(len(best_params)):\n",
    "        if f'best_param_{i+1}' not in grid_search_df.columns:\n",
    "            grid_search_df[f'best_param_{i+1}'] = '-'\n",
    "\n",
    "    '''Adding the best model scores and hyperparameters to the list of model attributes'''\n",
    "    model_list = [model_id, cross_val_score, train_score, test_score, misclass]\n",
    "    for k, v in best_params.items():\n",
    "        model_list.append((k,v))\n",
    "\n",
    "    '''Ensuring that models with less parameters can be appended to grid_search_df'''\n",
    "    if len(model_list) < len(grid_search_df.columns):\n",
    "        extra_cols = len(grid_search_df.columns) - len(model_list)\n",
    "        for i in range(extra_cols):\n",
    "            count = extra_cols\n",
    "            filler = []\n",
    "            while count > 0:\n",
    "                filler.append('-')\n",
    "                count -= 1\n",
    "        model_list.extend(filler)        \n",
    "\n",
    "    '''Appending all numbers and params to the dataframe'''\n",
    "    grid_search_df.loc[len(grid_search_df.index)] = model_list\n",
    "\n",
    "    '''Output will show me all scores to see how they compare to each other'''\n",
    "    print(f'Best Params: {best_params}  \\n')\n",
    "    print(f'Best Estimator Cross Val Score: {round(cross_val_score, 5)}')\n",
    "    print(f'{model_id} Training Score: {round(train_score, 5)}')\n",
    "    print(f'{model_id} Testing Score: {round(test_score, 5)}')\n",
    "    print(f'Misclassification Rate: {round(misclass, 5)} \\n')\n",
    "\n",
    "    '''Returning a confusion matrix'''\n",
    "    print('Best estimator confusion matrix:')\n",
    "    if test_score < 0.8:\n",
    "        return plot_confusion_matrix(best_estimator, X_test, y_test, cmap='bone', values_format='d', display_labels=['ohio', 'ihateohio']);\n",
    "    else:\n",
    "        return plot_confusion_matrix(best_estimator, X_test, y_test, cmap='coolwarm', values_format='d', display_labels=['ohio', 'ihateohio']);"
   ]
  },
  {
   "cell_type": "markdown",
   "metadata": {},
   "source": [
    "Again, I'll be defining the pipeline and hyperparameters I want to use in each model, and the function will output the best-performing model's parameters, all relevant scores, and a confusion matrix showing the distribution of predictions.\n",
    "\n",
    "I think the matrices are useful in visualizing where each model is underperforming, and can also help identify if there are patterns with some harder-to-classify posts."
   ]
  },
  {
   "cell_type": "markdown",
   "metadata": {},
   "source": [
    "---\n",
    "\n",
    "## Logistic Regression"
   ]
  },
  {
   "cell_type": "code",
   "execution_count": 64,
   "metadata": {},
   "outputs": [],
   "source": [
    "cvec_lr = Pipeline([\n",
    "        ('cvec', CountVectorizer()),\n",
    "        ('lr', LogisticRegression(max_iter= 50_000, solver='saga', random_state=42))\n",
    "])\n",
    "\n",
    "cvec_lr_params = {\n",
    "    'cvec__max_features': [1500, 2000, 3000],\n",
    "    'cvec__stop_words': [None, 'english'],\n",
    "    'cvec__min_df': [1, 2],\n",
    "    'cvec__max_df': [.7, .8],\n",
    "    'lr__C': [.1, 10],\n",
    "    'lr__penalty': ['l2', 'l1']\n",
    "\n",
    "}"
   ]
  },
  {
   "cell_type": "code",
   "execution_count": 65,
   "metadata": {},
   "outputs": [
    {
     "name": "stdout",
     "output_type": "stream",
     "text": [
      "Fitting 3 folds for each of 96 candidates, totalling 288 fits\n",
      "Best Params: {'cvec__max_df': 0.7, 'cvec__max_features': 2000, 'cvec__min_df': 1, 'cvec__stop_words': None, 'lr__C': 0.1, 'lr__penalty': 'l2'}  \n",
      "\n",
      "Best Estimator Cross Val Score: 0.84408\n",
      "CVec Logistic Regression Training Score: 0.87856\n",
      "CVec Logistic Regression Testing Score: 0.81437\n",
      "Misclassification Rate: 0.18563 \n",
      "\n",
      "Best estimator confusion matrix:\n"
     ]
    },
    {
     "data": {
      "text/plain": [
       "<sklearn.metrics._plot.confusion_matrix.ConfusionMatrixDisplay at 0x12bc16f40>"
      ]
     },
     "execution_count": 65,
     "metadata": {},
     "output_type": "execute_result"
    },
    {
     "data": {
      "image/png": "[encoded data removed]",
      "text/plain": [
       "<Figure size 640x480 with 2 Axes>"
      ]
     },
     "metadata": {},
     "output_type": "display_data"
    }
   ],
   "source": [
    "grid_search(cvec_lr, cvec_lr_params, 'CVec Logistic Regression')"
   ]
  },
  {
   "cell_type": "code",
   "execution_count": 66,
   "metadata": {},
   "outputs": [],
   "source": [
    "cvec_lr_2 = Pipeline([\n",
    "        ('cvec', CountVectorizer(stop_words=None, min_df=1)),\n",
    "        ('lr', LogisticRegression(max_iter= 50_000, solver='saga', penalty='l1', random_state=42))\n",
    "])\n",
    "\n",
    "cvec_lr_params_2 = {\n",
    "    'cvec__max_features': [1000, 1250, 1500],\n",
    "    'cvec__max_df': [.6, .65, .7],\n",
    "    'lr__C': [10, 20]}"
   ]
  },
  {
   "cell_type": "code",
   "execution_count": 67,
   "metadata": {},
   "outputs": [
    {
     "name": "stdout",
     "output_type": "stream",
     "text": [
      "Fitting 3 folds for each of 18 candidates, totalling 54 fits\n",
      "Best Params: {'cvec__max_df': 0.6, 'cvec__max_features': 1500, 'lr__C': 10}  \n",
      "\n",
      "Best Estimator Cross Val Score: 0.84033\n",
      "CVec Logistic Regression_v2 Training Score: 0.92129\n",
      "CVec Logistic Regression_v2 Testing Score: 0.82036\n",
      "Misclassification Rate: 0.17964 \n",
      "\n",
      "Best estimator confusion matrix:\n"
     ]
    },
    {
     "data": {
      "text/plain": [
       "<sklearn.metrics._plot.confusion_matrix.ConfusionMatrixDisplay at 0x12bb1db50>"
      ]
     },
     "execution_count": 67,
     "metadata": {},
     "output_type": "execute_result"
    },
    {
     "data": {
      "image/png": "[encoded data removed]",
      "text/plain": [
       "<Figure size 640x480 with 2 Axes>"
      ]
     },
     "metadata": {},
     "output_type": "display_data"
    }
   ],
   "source": [
    "grid_search(cvec_lr_2, cvec_lr_params_2, 'CVec Logistic Regression_v2')"
   ]
  },
  {
   "cell_type": "code",
   "execution_count": 68,
   "metadata": {},
   "outputs": [],
   "source": [
    "tfvec_lr = Pipeline([\n",
    "        ('tfvec', TfidfVectorizer(stop_words=None)),\n",
    "        ('lr', LogisticRegression(max_iter= 50_000, solver='saga', penalty='l1', random_state=42))\n",
    "])\n",
    "\n",
    "tfvec_lr_params = {\n",
    "    'tfvec__stop_words': [None, 'english'],\n",
    "    'tfvec__max_features': [1000, 1250, 1500],\n",
    "    'tfvec__max_df': [.6, .65, .7],\n",
    "    'tfvec__min_df': [1, 2],\n",
    "    'lr__C': [1, 10],\n",
    "\n",
    "}"
   ]
  },
  {
   "cell_type": "code",
   "execution_count": 69,
   "metadata": {},
   "outputs": [
    {
     "name": "stdout",
     "output_type": "stream",
     "text": [
      "Fitting 3 folds for each of 72 candidates, totalling 216 fits\n",
      "Best Params: {'lr__C': 10, 'tfvec__max_df': 0.6, 'tfvec__max_features': 1500, 'tfvec__min_df': 1, 'tfvec__stop_words': None}  \n",
      "\n",
      "Best Estimator Cross Val Score: 0.83883\n",
      "TfVec Logistic Regression Training Score: 0.92429\n",
      "TfVec Logistic Regression Testing Score: 0.83533\n",
      "Misclassification Rate: 0.16467 \n",
      "\n",
      "Best estimator confusion matrix:\n"
     ]
    },
    {
     "data": {
      "text/plain": [
       "<sklearn.metrics._plot.confusion_matrix.ConfusionMatrixDisplay at 0x12baccd60>"
      ]
     },
     "execution_count": 69,
     "metadata": {},
     "output_type": "execute_result"
    },
    {
     "data": {
      "image/png": "[encoded data removed]",
      "text/plain": [
       "<Figure size 640x480 with 2 Axes>"
      ]
     },
     "metadata": {},
     "output_type": "display_data"
    }
   ],
   "source": [
    "grid_search(tfvec_lr, tfvec_lr_params, 'TfVec Logistic Regression')"
   ]
  },
  {
   "cell_type": "code",
   "execution_count": 70,
   "metadata": {},
   "outputs": [],
   "source": [
    "tfvec_lr_2 = Pipeline([\n",
    "        ('tfvec', TfidfVectorizer(stop_words=None)),\n",
    "        ('lr', LogisticRegression(max_iter= 50_000, solver='saga', penalty='l1', random_state=42))\n",
    "])\n",
    "\n",
    "tfvec_lr_params_2 = {\n",
    "    'tfvec__max_features': [1250, 1500, 1600, 1700],\n",
    "    'tfvec__max_df': [.5, .55, .5],\n",
    "    'tfvec__min_df': [1, 2],\n",
    "    'lr__C': [1, 10],\n",
    "\n",
    "}"
   ]
  },
  {
   "cell_type": "code",
   "execution_count": 71,
   "metadata": {},
   "outputs": [
    {
     "name": "stdout",
     "output_type": "stream",
     "text": [
      "Fitting 3 folds for each of 48 candidates, totalling 144 fits\n",
      "Best Params: {'lr__C': 10, 'tfvec__max_df': 0.5, 'tfvec__max_features': 1600, 'tfvec__min_df': 1}  \n",
      "\n",
      "Best Estimator Cross Val Score: 0.84108\n",
      "TfVec Logistic Regression_v2 Training Score: 0.92429\n",
      "TfVec Logistic Regression_v2 Testing Score: 0.82934\n",
      "Misclassification Rate: 0.17066 \n",
      "\n",
      "Best estimator confusion matrix:\n"
     ]
    },
    {
     "data": {
      "text/plain": [
       "<sklearn.metrics._plot.confusion_matrix.ConfusionMatrixDisplay at 0x12b80ddc0>"
      ]
     },
     "execution_count": 71,
     "metadata": {},
     "output_type": "execute_result"
    },
    {
     "data": {
      "image/png": "[encoded data removed]",
      "text/plain": [
       "<Figure size 640x480 with 2 Axes>"
      ]
     },
     "metadata": {},
     "output_type": "display_data"
    }
   ],
   "source": [
    "grid_search(tfvec_lr_2, tfvec_lr_params_2, 'TfVec Logistic Regression_v2')"
   ]
  },
  {
   "cell_type": "markdown",
   "metadata": {},
   "source": [
    "### Analysis\n",
    "\n",
    "Both LogReg models above that used CountVectorizer had similar train scores as when the model ran with no hyperparameters (5% decrease), but lower test scores than in the no-param model. We are definitely overfit here as well.\n",
    "\n",
    "It seems that with tuning, Tfidf performs better than CVec on the Logistic Regression models versus the opposite pre-tuning. \n",
    "\n",
    "The lower CVec scores look like they are most coming from the IHateOhio subreddit. The models above are making a lot more false positive predictions, and about the same amount of false negative classifications."
   ]
  },
  {
   "cell_type": "markdown",
   "metadata": {},
   "source": [
    "---\n",
    "\n",
    "## Multinomial Naive Bayes"
   ]
  },
  {
   "cell_type": "code",
   "execution_count": 72,
   "metadata": {},
   "outputs": [],
   "source": [
    "cvec_mnb = Pipeline([\n",
    "        ('cvec', CountVectorizer()),\n",
    "        ('mnb', MultinomialNB())\n",
    "])\n",
    "\n",
    "cvec_mnb_params = {\n",
    "    'cvec__max_features': [1500, 2000, 3000],\n",
    "    'cvec__stop_words': [None, 'english'],\n",
    "    'cvec__min_df': [1, 2],\n",
    "    'cvec__max_df': [.7, .8],\n",
    "    'mnb__fit_prior': [True, False],\n",
    "    'mnb__alpha': [0, 0.5, 1]\n",
    "\n",
    "}"
   ]
  },
  {
   "cell_type": "code",
   "execution_count": 73,
   "metadata": {},
   "outputs": [
    {
     "name": "stdout",
     "output_type": "stream",
     "text": [
      "Fitting 3 folds for each of 144 candidates, totalling 432 fits\n"
     ]
    },
    {
     "name": "stderr",
     "output_type": "stream",
     "text": [
      "/Users/cynthiarodriguez/.pyenv/versions/3.9.6/lib/python3.9/site-packages/sklearn/naive_bayes.py:591: UserWarning: alpha too small will result in numeric errors, setting alpha = 1.0e-10\n",
      "  warnings.warn(\n",
      "/Users/cynthiarodriguez/.pyenv/versions/3.9.6/lib/python3.9/site-packages/sklearn/naive_bayes.py:591: UserWarning: alpha too small will result in numeric errors, setting alpha = 1.0e-10\n",
      "  warnings.warn(\n",
      "/Users/cynthiarodriguez/.pyenv/versions/3.9.6/lib/python3.9/site-packages/sklearn/naive_bayes.py:591: UserWarning: alpha too small will result in numeric errors, setting alpha = 1.0e-10\n",
      "  warnings.warn(\n",
      "/Users/cynthiarodriguez/.pyenv/versions/3.9.6/lib/python3.9/site-packages/sklearn/naive_bayes.py:591: UserWarning: alpha too small will result in numeric errors, setting alpha = 1.0e-10\n",
      "  warnings.warn(\n",
      "/Users/cynthiarodriguez/.pyenv/versions/3.9.6/lib/python3.9/site-packages/sklearn/naive_bayes.py:591: UserWarning: alpha too small will result in numeric errors, setting alpha = 1.0e-10\n",
      "  warnings.warn(\n",
      "/Users/cynthiarodriguez/.pyenv/versions/3.9.6/lib/python3.9/site-packages/sklearn/naive_bayes.py:591: UserWarning: alpha too small will result in numeric errors, setting alpha = 1.0e-10\n",
      "  warnings.warn(\n",
      "/Users/cynthiarodriguez/.pyenv/versions/3.9.6/lib/python3.9/site-packages/sklearn/naive_bayes.py:591: UserWarning: alpha too small will result in numeric errors, setting alpha = 1.0e-10\n",
      "  warnings.warn(\n",
      "/Users/cynthiarodriguez/.pyenv/versions/3.9.6/lib/python3.9/site-packages/sklearn/naive_bayes.py:591: UserWarning: alpha too small will result in numeric errors, setting alpha = 1.0e-10\n",
      "  warnings.warn(\n",
      "/Users/cynthiarodriguez/.pyenv/versions/3.9.6/lib/python3.9/site-packages/sklearn/naive_bayes.py:591: UserWarning: alpha too small will result in numeric errors, setting alpha = 1.0e-10\n",
      "  warnings.warn(\n",
      "/Users/cynthiarodriguez/.pyenv/versions/3.9.6/lib/python3.9/site-packages/sklearn/naive_bayes.py:591: UserWarning: alpha too small will result in numeric errors, setting alpha = 1.0e-10\n",
      "  warnings.warn(\n",
      "/Users/cynthiarodriguez/.pyenv/versions/3.9.6/lib/python3.9/site-packages/sklearn/naive_bayes.py:591: UserWarning: alpha too small will result in numeric errors, setting alpha = 1.0e-10\n",
      "  warnings.warn(\n",
      "/Users/cynthiarodriguez/.pyenv/versions/3.9.6/lib/python3.9/site-packages/sklearn/naive_bayes.py:591: UserWarning: alpha too small will result in numeric errors, setting alpha = 1.0e-10\n",
      "  warnings.warn(\n",
      "/Users/cynthiarodriguez/.pyenv/versions/3.9.6/lib/python3.9/site-packages/sklearn/naive_bayes.py:591: UserWarning: alpha too small will result in numeric errors, setting alpha = 1.0e-10\n",
      "  warnings.warn(\n",
      "/Users/cynthiarodriguez/.pyenv/versions/3.9.6/lib/python3.9/site-packages/sklearn/naive_bayes.py:591: UserWarning: alpha too small will result in numeric errors, setting alpha = 1.0e-10\n",
      "  warnings.warn(\n",
      "/Users/cynthiarodriguez/.pyenv/versions/3.9.6/lib/python3.9/site-packages/sklearn/naive_bayes.py:591: UserWarning: alpha too small will result in numeric errors, setting alpha = 1.0e-10\n",
      "  warnings.warn(\n",
      "/Users/cynthiarodriguez/.pyenv/versions/3.9.6/lib/python3.9/site-packages/sklearn/naive_bayes.py:591: UserWarning: alpha too small will result in numeric errors, setting alpha = 1.0e-10\n",
      "  warnings.warn(\n",
      "/Users/cynthiarodriguez/.pyenv/versions/3.9.6/lib/python3.9/site-packages/sklearn/naive_bayes.py:591: UserWarning: alpha too small will result in numeric errors, setting alpha = 1.0e-10\n",
      "  warnings.warn(\n",
      "/Users/cynthiarodriguez/.pyenv/versions/3.9.6/lib/python3.9/site-packages/sklearn/naive_bayes.py:591: UserWarning: alpha too small will result in numeric errors, setting alpha = 1.0e-10\n",
      "  warnings.warn(\n",
      "/Users/cynthiarodriguez/.pyenv/versions/3.9.6/lib/python3.9/site-packages/sklearn/naive_bayes.py:591: UserWarning: alpha too small will result in numeric errors, setting alpha = 1.0e-10\n",
      "  warnings.warn(\n",
      "/Users/cynthiarodriguez/.pyenv/versions/3.9.6/lib/python3.9/site-packages/sklearn/naive_bayes.py:591: UserWarning: alpha too small will result in numeric errors, setting alpha = 1.0e-10\n",
      "  warnings.warn(\n",
      "/Users/cynthiarodriguez/.pyenv/versions/3.9.6/lib/python3.9/site-packages/sklearn/naive_bayes.py:591: UserWarning: alpha too small will result in numeric errors, setting alpha = 1.0e-10\n",
      "  warnings.warn(\n",
      "/Users/cynthiarodriguez/.pyenv/versions/3.9.6/lib/python3.9/site-packages/sklearn/naive_bayes.py:591: UserWarning: alpha too small will result in numeric errors, setting alpha = 1.0e-10\n",
      "  warnings.warn(\n",
      "/Users/cynthiarodriguez/.pyenv/versions/3.9.6/lib/python3.9/site-packages/sklearn/naive_bayes.py:591: UserWarning: alpha too small will result in numeric errors, setting alpha = 1.0e-10\n",
      "  warnings.warn(\n",
      "/Users/cynthiarodriguez/.pyenv/versions/3.9.6/lib/python3.9/site-packages/sklearn/naive_bayes.py:591: UserWarning: alpha too small will result in numeric errors, setting alpha = 1.0e-10\n",
      "  warnings.warn(\n",
      "/Users/cynthiarodriguez/.pyenv/versions/3.9.6/lib/python3.9/site-packages/sklearn/naive_bayes.py:591: UserWarning: alpha too small will result in numeric errors, setting alpha = 1.0e-10\n",
      "  warnings.warn(\n",
      "/Users/cynthiarodriguez/.pyenv/versions/3.9.6/lib/python3.9/site-packages/sklearn/naive_bayes.py:591: UserWarning: alpha too small will result in numeric errors, setting alpha = 1.0e-10\n",
      "  warnings.warn(\n",
      "/Users/cynthiarodriguez/.pyenv/versions/3.9.6/lib/python3.9/site-packages/sklearn/naive_bayes.py:591: UserWarning: alpha too small will result in numeric errors, setting alpha = 1.0e-10\n",
      "  warnings.warn(\n",
      "/Users/cynthiarodriguez/.pyenv/versions/3.9.6/lib/python3.9/site-packages/sklearn/naive_bayes.py:591: UserWarning: alpha too small will result in numeric errors, setting alpha = 1.0e-10\n",
      "  warnings.warn(\n",
      "/Users/cynthiarodriguez/.pyenv/versions/3.9.6/lib/python3.9/site-packages/sklearn/naive_bayes.py:591: UserWarning: alpha too small will result in numeric errors, setting alpha = 1.0e-10\n",
      "  warnings.warn(\n",
      "/Users/cynthiarodriguez/.pyenv/versions/3.9.6/lib/python3.9/site-packages/sklearn/naive_bayes.py:591: UserWarning: alpha too small will result in numeric errors, setting alpha = 1.0e-10\n",
      "  warnings.warn(\n",
      "/Users/cynthiarodriguez/.pyenv/versions/3.9.6/lib/python3.9/site-packages/sklearn/naive_bayes.py:591: UserWarning: alpha too small will result in numeric errors, setting alpha = 1.0e-10\n",
      "  warnings.warn(\n",
      "/Users/cynthiarodriguez/.pyenv/versions/3.9.6/lib/python3.9/site-packages/sklearn/naive_bayes.py:591: UserWarning: alpha too small will result in numeric errors, setting alpha = 1.0e-10\n",
      "  warnings.warn(\n",
      "/Users/cynthiarodriguez/.pyenv/versions/3.9.6/lib/python3.9/site-packages/sklearn/naive_bayes.py:591: UserWarning: alpha too small will result in numeric errors, setting alpha = 1.0e-10\n",
      "  warnings.warn(\n",
      "/Users/cynthiarodriguez/.pyenv/versions/3.9.6/lib/python3.9/site-packages/sklearn/naive_bayes.py:591: UserWarning: alpha too small will result in numeric errors, setting alpha = 1.0e-10\n",
      "  warnings.warn(\n",
      "/Users/cynthiarodriguez/.pyenv/versions/3.9.6/lib/python3.9/site-packages/sklearn/naive_bayes.py:591: UserWarning: alpha too small will result in numeric errors, setting alpha = 1.0e-10\n",
      "  warnings.warn(\n",
      "/Users/cynthiarodriguez/.pyenv/versions/3.9.6/lib/python3.9/site-packages/sklearn/naive_bayes.py:591: UserWarning: alpha too small will result in numeric errors, setting alpha = 1.0e-10\n",
      "  warnings.warn(\n",
      "/Users/cynthiarodriguez/.pyenv/versions/3.9.6/lib/python3.9/site-packages/sklearn/naive_bayes.py:591: UserWarning: alpha too small will result in numeric errors, setting alpha = 1.0e-10\n",
      "  warnings.warn(\n",
      "/Users/cynthiarodriguez/.pyenv/versions/3.9.6/lib/python3.9/site-packages/sklearn/naive_bayes.py:591: UserWarning: alpha too small will result in numeric errors, setting alpha = 1.0e-10\n",
      "  warnings.warn(\n",
      "/Users/cynthiarodriguez/.pyenv/versions/3.9.6/lib/python3.9/site-packages/sklearn/naive_bayes.py:591: UserWarning: alpha too small will result in numeric errors, setting alpha = 1.0e-10\n",
      "  warnings.warn(\n",
      "/Users/cynthiarodriguez/.pyenv/versions/3.9.6/lib/python3.9/site-packages/sklearn/naive_bayes.py:591: UserWarning: alpha too small will result in numeric errors, setting alpha = 1.0e-10\n",
      "  warnings.warn(\n",
      "/Users/cynthiarodriguez/.pyenv/versions/3.9.6/lib/python3.9/site-packages/sklearn/naive_bayes.py:591: UserWarning: alpha too small will result in numeric errors, setting alpha = 1.0e-10\n",
      "  warnings.warn(\n",
      "/Users/cynthiarodriguez/.pyenv/versions/3.9.6/lib/python3.9/site-packages/sklearn/naive_bayes.py:591: UserWarning: alpha too small will result in numeric errors, setting alpha = 1.0e-10\n",
      "  warnings.warn(\n",
      "/Users/cynthiarodriguez/.pyenv/versions/3.9.6/lib/python3.9/site-packages/sklearn/naive_bayes.py:591: UserWarning: alpha too small will result in numeric errors, setting alpha = 1.0e-10\n",
      "  warnings.warn(\n",
      "/Users/cynthiarodriguez/.pyenv/versions/3.9.6/lib/python3.9/site-packages/sklearn/naive_bayes.py:591: UserWarning: alpha too small will result in numeric errors, setting alpha = 1.0e-10\n",
      "  warnings.warn(\n",
      "/Users/cynthiarodriguez/.pyenv/versions/3.9.6/lib/python3.9/site-packages/sklearn/naive_bayes.py:591: UserWarning: alpha too small will result in numeric errors, setting alpha = 1.0e-10\n",
      "  warnings.warn(\n",
      "/Users/cynthiarodriguez/.pyenv/versions/3.9.6/lib/python3.9/site-packages/sklearn/naive_bayes.py:591: UserWarning: alpha too small will result in numeric errors, setting alpha = 1.0e-10\n",
      "  warnings.warn(\n",
      "/Users/cynthiarodriguez/.pyenv/versions/3.9.6/lib/python3.9/site-packages/sklearn/naive_bayes.py:591: UserWarning: alpha too small will result in numeric errors, setting alpha = 1.0e-10\n",
      "  warnings.warn(\n",
      "/Users/cynthiarodriguez/.pyenv/versions/3.9.6/lib/python3.9/site-packages/sklearn/naive_bayes.py:591: UserWarning: alpha too small will result in numeric errors, setting alpha = 1.0e-10\n",
      "  warnings.warn(\n",
      "/Users/cynthiarodriguez/.pyenv/versions/3.9.6/lib/python3.9/site-packages/sklearn/naive_bayes.py:591: UserWarning: alpha too small will result in numeric errors, setting alpha = 1.0e-10\n",
      "  warnings.warn(\n",
      "/Users/cynthiarodriguez/.pyenv/versions/3.9.6/lib/python3.9/site-packages/sklearn/naive_bayes.py:591: UserWarning: alpha too small will result in numeric errors, setting alpha = 1.0e-10\n",
      "  warnings.warn(\n",
      "/Users/cynthiarodriguez/.pyenv/versions/3.9.6/lib/python3.9/site-packages/sklearn/naive_bayes.py:591: UserWarning: alpha too small will result in numeric errors, setting alpha = 1.0e-10\n",
      "  warnings.warn(\n",
      "/Users/cynthiarodriguez/.pyenv/versions/3.9.6/lib/python3.9/site-packages/sklearn/naive_bayes.py:591: UserWarning: alpha too small will result in numeric errors, setting alpha = 1.0e-10\n",
      "  warnings.warn(\n",
      "/Users/cynthiarodriguez/.pyenv/versions/3.9.6/lib/python3.9/site-packages/sklearn/naive_bayes.py:591: UserWarning: alpha too small will result in numeric errors, setting alpha = 1.0e-10\n",
      "  warnings.warn(\n",
      "/Users/cynthiarodriguez/.pyenv/versions/3.9.6/lib/python3.9/site-packages/sklearn/naive_bayes.py:591: UserWarning: alpha too small will result in numeric errors, setting alpha = 1.0e-10\n",
      "  warnings.warn(\n",
      "/Users/cynthiarodriguez/.pyenv/versions/3.9.6/lib/python3.9/site-packages/sklearn/naive_bayes.py:591: UserWarning: alpha too small will result in numeric errors, setting alpha = 1.0e-10\n",
      "  warnings.warn(\n",
      "/Users/cynthiarodriguez/.pyenv/versions/3.9.6/lib/python3.9/site-packages/sklearn/naive_bayes.py:591: UserWarning: alpha too small will result in numeric errors, setting alpha = 1.0e-10\n",
      "  warnings.warn(\n",
      "/Users/cynthiarodriguez/.pyenv/versions/3.9.6/lib/python3.9/site-packages/sklearn/naive_bayes.py:591: UserWarning: alpha too small will result in numeric errors, setting alpha = 1.0e-10\n",
      "  warnings.warn(\n",
      "/Users/cynthiarodriguez/.pyenv/versions/3.9.6/lib/python3.9/site-packages/sklearn/naive_bayes.py:591: UserWarning: alpha too small will result in numeric errors, setting alpha = 1.0e-10\n",
      "  warnings.warn(\n",
      "/Users/cynthiarodriguez/.pyenv/versions/3.9.6/lib/python3.9/site-packages/sklearn/naive_bayes.py:591: UserWarning: alpha too small will result in numeric errors, setting alpha = 1.0e-10\n",
      "  warnings.warn(\n",
      "/Users/cynthiarodriguez/.pyenv/versions/3.9.6/lib/python3.9/site-packages/sklearn/naive_bayes.py:591: UserWarning: alpha too small will result in numeric errors, setting alpha = 1.0e-10\n",
      "  warnings.warn(\n",
      "/Users/cynthiarodriguez/.pyenv/versions/3.9.6/lib/python3.9/site-packages/sklearn/naive_bayes.py:591: UserWarning: alpha too small will result in numeric errors, setting alpha = 1.0e-10\n",
      "  warnings.warn(\n",
      "/Users/cynthiarodriguez/.pyenv/versions/3.9.6/lib/python3.9/site-packages/sklearn/naive_bayes.py:591: UserWarning: alpha too small will result in numeric errors, setting alpha = 1.0e-10\n",
      "  warnings.warn(\n",
      "/Users/cynthiarodriguez/.pyenv/versions/3.9.6/lib/python3.9/site-packages/sklearn/naive_bayes.py:591: UserWarning: alpha too small will result in numeric errors, setting alpha = 1.0e-10\n",
      "  warnings.warn(\n",
      "/Users/cynthiarodriguez/.pyenv/versions/3.9.6/lib/python3.9/site-packages/sklearn/naive_bayes.py:591: UserWarning: alpha too small will result in numeric errors, setting alpha = 1.0e-10\n",
      "  warnings.warn(\n",
      "/Users/cynthiarodriguez/.pyenv/versions/3.9.6/lib/python3.9/site-packages/sklearn/naive_bayes.py:591: UserWarning: alpha too small will result in numeric errors, setting alpha = 1.0e-10\n",
      "  warnings.warn(\n",
      "/Users/cynthiarodriguez/.pyenv/versions/3.9.6/lib/python3.9/site-packages/sklearn/naive_bayes.py:591: UserWarning: alpha too small will result in numeric errors, setting alpha = 1.0e-10\n",
      "  warnings.warn(\n",
      "/Users/cynthiarodriguez/.pyenv/versions/3.9.6/lib/python3.9/site-packages/sklearn/naive_bayes.py:591: UserWarning: alpha too small will result in numeric errors, setting alpha = 1.0e-10\n",
      "  warnings.warn(\n",
      "/Users/cynthiarodriguez/.pyenv/versions/3.9.6/lib/python3.9/site-packages/sklearn/naive_bayes.py:591: UserWarning: alpha too small will result in numeric errors, setting alpha = 1.0e-10\n",
      "  warnings.warn(\n",
      "/Users/cynthiarodriguez/.pyenv/versions/3.9.6/lib/python3.9/site-packages/sklearn/naive_bayes.py:591: UserWarning: alpha too small will result in numeric errors, setting alpha = 1.0e-10\n",
      "  warnings.warn(\n",
      "/Users/cynthiarodriguez/.pyenv/versions/3.9.6/lib/python3.9/site-packages/sklearn/naive_bayes.py:591: UserWarning: alpha too small will result in numeric errors, setting alpha = 1.0e-10\n",
      "  warnings.warn(\n",
      "/Users/cynthiarodriguez/.pyenv/versions/3.9.6/lib/python3.9/site-packages/sklearn/naive_bayes.py:591: UserWarning: alpha too small will result in numeric errors, setting alpha = 1.0e-10\n",
      "  warnings.warn(\n",
      "/Users/cynthiarodriguez/.pyenv/versions/3.9.6/lib/python3.9/site-packages/sklearn/naive_bayes.py:591: UserWarning: alpha too small will result in numeric errors, setting alpha = 1.0e-10\n",
      "  warnings.warn(\n",
      "/Users/cynthiarodriguez/.pyenv/versions/3.9.6/lib/python3.9/site-packages/sklearn/naive_bayes.py:591: UserWarning: alpha too small will result in numeric errors, setting alpha = 1.0e-10\n",
      "  warnings.warn(\n",
      "/Users/cynthiarodriguez/.pyenv/versions/3.9.6/lib/python3.9/site-packages/sklearn/naive_bayes.py:591: UserWarning: alpha too small will result in numeric errors, setting alpha = 1.0e-10\n",
      "  warnings.warn(\n",
      "/Users/cynthiarodriguez/.pyenv/versions/3.9.6/lib/python3.9/site-packages/sklearn/naive_bayes.py:591: UserWarning: alpha too small will result in numeric errors, setting alpha = 1.0e-10\n",
      "  warnings.warn(\n",
      "/Users/cynthiarodriguez/.pyenv/versions/3.9.6/lib/python3.9/site-packages/sklearn/naive_bayes.py:591: UserWarning: alpha too small will result in numeric errors, setting alpha = 1.0e-10\n",
      "  warnings.warn(\n",
      "/Users/cynthiarodriguez/.pyenv/versions/3.9.6/lib/python3.9/site-packages/sklearn/naive_bayes.py:591: UserWarning: alpha too small will result in numeric errors, setting alpha = 1.0e-10\n",
      "  warnings.warn(\n",
      "/Users/cynthiarodriguez/.pyenv/versions/3.9.6/lib/python3.9/site-packages/sklearn/naive_bayes.py:591: UserWarning: alpha too small will result in numeric errors, setting alpha = 1.0e-10\n",
      "  warnings.warn(\n",
      "/Users/cynthiarodriguez/.pyenv/versions/3.9.6/lib/python3.9/site-packages/sklearn/naive_bayes.py:591: UserWarning: alpha too small will result in numeric errors, setting alpha = 1.0e-10\n",
      "  warnings.warn(\n",
      "/Users/cynthiarodriguez/.pyenv/versions/3.9.6/lib/python3.9/site-packages/sklearn/naive_bayes.py:591: UserWarning: alpha too small will result in numeric errors, setting alpha = 1.0e-10\n",
      "  warnings.warn(\n",
      "/Users/cynthiarodriguez/.pyenv/versions/3.9.6/lib/python3.9/site-packages/sklearn/naive_bayes.py:591: UserWarning: alpha too small will result in numeric errors, setting alpha = 1.0e-10\n",
      "  warnings.warn(\n",
      "/Users/cynthiarodriguez/.pyenv/versions/3.9.6/lib/python3.9/site-packages/sklearn/naive_bayes.py:591: UserWarning: alpha too small will result in numeric errors, setting alpha = 1.0e-10\n",
      "  warnings.warn(\n",
      "/Users/cynthiarodriguez/.pyenv/versions/3.9.6/lib/python3.9/site-packages/sklearn/naive_bayes.py:591: UserWarning: alpha too small will result in numeric errors, setting alpha = 1.0e-10\n",
      "  warnings.warn(\n",
      "/Users/cynthiarodriguez/.pyenv/versions/3.9.6/lib/python3.9/site-packages/sklearn/naive_bayes.py:591: UserWarning: alpha too small will result in numeric errors, setting alpha = 1.0e-10\n",
      "  warnings.warn(\n",
      "/Users/cynthiarodriguez/.pyenv/versions/3.9.6/lib/python3.9/site-packages/sklearn/naive_bayes.py:591: UserWarning: alpha too small will result in numeric errors, setting alpha = 1.0e-10\n",
      "  warnings.warn(\n",
      "/Users/cynthiarodriguez/.pyenv/versions/3.9.6/lib/python3.9/site-packages/sklearn/naive_bayes.py:591: UserWarning: alpha too small will result in numeric errors, setting alpha = 1.0e-10\n",
      "  warnings.warn(\n",
      "/Users/cynthiarodriguez/.pyenv/versions/3.9.6/lib/python3.9/site-packages/sklearn/naive_bayes.py:591: UserWarning: alpha too small will result in numeric errors, setting alpha = 1.0e-10\n",
      "  warnings.warn(\n",
      "/Users/cynthiarodriguez/.pyenv/versions/3.9.6/lib/python3.9/site-packages/sklearn/naive_bayes.py:591: UserWarning: alpha too small will result in numeric errors, setting alpha = 1.0e-10\n",
      "  warnings.warn(\n",
      "/Users/cynthiarodriguez/.pyenv/versions/3.9.6/lib/python3.9/site-packages/sklearn/naive_bayes.py:591: UserWarning: alpha too small will result in numeric errors, setting alpha = 1.0e-10\n",
      "  warnings.warn(\n",
      "/Users/cynthiarodriguez/.pyenv/versions/3.9.6/lib/python3.9/site-packages/sklearn/naive_bayes.py:591: UserWarning: alpha too small will result in numeric errors, setting alpha = 1.0e-10\n",
      "  warnings.warn(\n",
      "/Users/cynthiarodriguez/.pyenv/versions/3.9.6/lib/python3.9/site-packages/sklearn/naive_bayes.py:591: UserWarning: alpha too small will result in numeric errors, setting alpha = 1.0e-10\n",
      "  warnings.warn(\n",
      "/Users/cynthiarodriguez/.pyenv/versions/3.9.6/lib/python3.9/site-packages/sklearn/naive_bayes.py:591: UserWarning: alpha too small will result in numeric errors, setting alpha = 1.0e-10\n",
      "  warnings.warn(\n",
      "/Users/cynthiarodriguez/.pyenv/versions/3.9.6/lib/python3.9/site-packages/sklearn/naive_bayes.py:591: UserWarning: alpha too small will result in numeric errors, setting alpha = 1.0e-10\n",
      "  warnings.warn(\n",
      "/Users/cynthiarodriguez/.pyenv/versions/3.9.6/lib/python3.9/site-packages/sklearn/naive_bayes.py:591: UserWarning: alpha too small will result in numeric errors, setting alpha = 1.0e-10\n",
      "  warnings.warn(\n",
      "/Users/cynthiarodriguez/.pyenv/versions/3.9.6/lib/python3.9/site-packages/sklearn/naive_bayes.py:591: UserWarning: alpha too small will result in numeric errors, setting alpha = 1.0e-10\n",
      "  warnings.warn(\n",
      "/Users/cynthiarodriguez/.pyenv/versions/3.9.6/lib/python3.9/site-packages/sklearn/naive_bayes.py:591: UserWarning: alpha too small will result in numeric errors, setting alpha = 1.0e-10\n",
      "  warnings.warn(\n",
      "/Users/cynthiarodriguez/.pyenv/versions/3.9.6/lib/python3.9/site-packages/sklearn/naive_bayes.py:591: UserWarning: alpha too small will result in numeric errors, setting alpha = 1.0e-10\n",
      "  warnings.warn(\n",
      "/Users/cynthiarodriguez/.pyenv/versions/3.9.6/lib/python3.9/site-packages/sklearn/naive_bayes.py:591: UserWarning: alpha too small will result in numeric errors, setting alpha = 1.0e-10\n",
      "  warnings.warn(\n",
      "/Users/cynthiarodriguez/.pyenv/versions/3.9.6/lib/python3.9/site-packages/sklearn/naive_bayes.py:591: UserWarning: alpha too small will result in numeric errors, setting alpha = 1.0e-10\n",
      "  warnings.warn(\n",
      "/Users/cynthiarodriguez/.pyenv/versions/3.9.6/lib/python3.9/site-packages/sklearn/naive_bayes.py:591: UserWarning: alpha too small will result in numeric errors, setting alpha = 1.0e-10\n",
      "  warnings.warn(\n",
      "/Users/cynthiarodriguez/.pyenv/versions/3.9.6/lib/python3.9/site-packages/sklearn/naive_bayes.py:591: UserWarning: alpha too small will result in numeric errors, setting alpha = 1.0e-10\n",
      "  warnings.warn(\n",
      "/Users/cynthiarodriguez/.pyenv/versions/3.9.6/lib/python3.9/site-packages/sklearn/naive_bayes.py:591: UserWarning: alpha too small will result in numeric errors, setting alpha = 1.0e-10\n",
      "  warnings.warn(\n",
      "/Users/cynthiarodriguez/.pyenv/versions/3.9.6/lib/python3.9/site-packages/sklearn/naive_bayes.py:591: UserWarning: alpha too small will result in numeric errors, setting alpha = 1.0e-10\n",
      "  warnings.warn(\n",
      "/Users/cynthiarodriguez/.pyenv/versions/3.9.6/lib/python3.9/site-packages/sklearn/naive_bayes.py:591: UserWarning: alpha too small will result in numeric errors, setting alpha = 1.0e-10\n",
      "  warnings.warn(\n",
      "/Users/cynthiarodriguez/.pyenv/versions/3.9.6/lib/python3.9/site-packages/sklearn/naive_bayes.py:591: UserWarning: alpha too small will result in numeric errors, setting alpha = 1.0e-10\n",
      "  warnings.warn(\n",
      "/Users/cynthiarodriguez/.pyenv/versions/3.9.6/lib/python3.9/site-packages/sklearn/naive_bayes.py:591: UserWarning: alpha too small will result in numeric errors, setting alpha = 1.0e-10\n",
      "  warnings.warn(\n",
      "/Users/cynthiarodriguez/.pyenv/versions/3.9.6/lib/python3.9/site-packages/sklearn/naive_bayes.py:591: UserWarning: alpha too small will result in numeric errors, setting alpha = 1.0e-10\n",
      "  warnings.warn(\n",
      "/Users/cynthiarodriguez/.pyenv/versions/3.9.6/lib/python3.9/site-packages/sklearn/naive_bayes.py:591: UserWarning: alpha too small will result in numeric errors, setting alpha = 1.0e-10\n",
      "  warnings.warn(\n",
      "/Users/cynthiarodriguez/.pyenv/versions/3.9.6/lib/python3.9/site-packages/sklearn/naive_bayes.py:591: UserWarning: alpha too small will result in numeric errors, setting alpha = 1.0e-10\n",
      "  warnings.warn(\n",
      "/Users/cynthiarodriguez/.pyenv/versions/3.9.6/lib/python3.9/site-packages/sklearn/naive_bayes.py:591: UserWarning: alpha too small will result in numeric errors, setting alpha = 1.0e-10\n",
      "  warnings.warn(\n",
      "/Users/cynthiarodriguez/.pyenv/versions/3.9.6/lib/python3.9/site-packages/sklearn/naive_bayes.py:591: UserWarning: alpha too small will result in numeric errors, setting alpha = 1.0e-10\n",
      "  warnings.warn(\n",
      "/Users/cynthiarodriguez/.pyenv/versions/3.9.6/lib/python3.9/site-packages/sklearn/naive_bayes.py:591: UserWarning: alpha too small will result in numeric errors, setting alpha = 1.0e-10\n",
      "  warnings.warn(\n",
      "/Users/cynthiarodriguez/.pyenv/versions/3.9.6/lib/python3.9/site-packages/sklearn/naive_bayes.py:591: UserWarning: alpha too small will result in numeric errors, setting alpha = 1.0e-10\n",
      "  warnings.warn(\n",
      "/Users/cynthiarodriguez/.pyenv/versions/3.9.6/lib/python3.9/site-packages/sklearn/naive_bayes.py:591: UserWarning: alpha too small will result in numeric errors, setting alpha = 1.0e-10\n",
      "  warnings.warn(\n",
      "/Users/cynthiarodriguez/.pyenv/versions/3.9.6/lib/python3.9/site-packages/sklearn/naive_bayes.py:591: UserWarning: alpha too small will result in numeric errors, setting alpha = 1.0e-10\n",
      "  warnings.warn(\n",
      "/Users/cynthiarodriguez/.pyenv/versions/3.9.6/lib/python3.9/site-packages/sklearn/naive_bayes.py:591: UserWarning: alpha too small will result in numeric errors, setting alpha = 1.0e-10\n",
      "  warnings.warn(\n",
      "/Users/cynthiarodriguez/.pyenv/versions/3.9.6/lib/python3.9/site-packages/sklearn/naive_bayes.py:591: UserWarning: alpha too small will result in numeric errors, setting alpha = 1.0e-10\n",
      "  warnings.warn(\n",
      "/Users/cynthiarodriguez/.pyenv/versions/3.9.6/lib/python3.9/site-packages/sklearn/naive_bayes.py:591: UserWarning: alpha too small will result in numeric errors, setting alpha = 1.0e-10\n",
      "  warnings.warn(\n",
      "/Users/cynthiarodriguez/.pyenv/versions/3.9.6/lib/python3.9/site-packages/sklearn/naive_bayes.py:591: UserWarning: alpha too small will result in numeric errors, setting alpha = 1.0e-10\n",
      "  warnings.warn(\n",
      "/Users/cynthiarodriguez/.pyenv/versions/3.9.6/lib/python3.9/site-packages/sklearn/naive_bayes.py:591: UserWarning: alpha too small will result in numeric errors, setting alpha = 1.0e-10\n",
      "  warnings.warn(\n",
      "/Users/cynthiarodriguez/.pyenv/versions/3.9.6/lib/python3.9/site-packages/sklearn/naive_bayes.py:591: UserWarning: alpha too small will result in numeric errors, setting alpha = 1.0e-10\n",
      "  warnings.warn(\n",
      "/Users/cynthiarodriguez/.pyenv/versions/3.9.6/lib/python3.9/site-packages/sklearn/naive_bayes.py:591: UserWarning: alpha too small will result in numeric errors, setting alpha = 1.0e-10\n",
      "  warnings.warn(\n",
      "/Users/cynthiarodriguez/.pyenv/versions/3.9.6/lib/python3.9/site-packages/sklearn/naive_bayes.py:591: UserWarning: alpha too small will result in numeric errors, setting alpha = 1.0e-10\n",
      "  warnings.warn(\n",
      "/Users/cynthiarodriguez/.pyenv/versions/3.9.6/lib/python3.9/site-packages/sklearn/naive_bayes.py:591: UserWarning: alpha too small will result in numeric errors, setting alpha = 1.0e-10\n",
      "  warnings.warn(\n",
      "/Users/cynthiarodriguez/.pyenv/versions/3.9.6/lib/python3.9/site-packages/sklearn/naive_bayes.py:591: UserWarning: alpha too small will result in numeric errors, setting alpha = 1.0e-10\n",
      "  warnings.warn(\n",
      "/Users/cynthiarodriguez/.pyenv/versions/3.9.6/lib/python3.9/site-packages/sklearn/naive_bayes.py:591: UserWarning: alpha too small will result in numeric errors, setting alpha = 1.0e-10\n",
      "  warnings.warn(\n",
      "/Users/cynthiarodriguez/.pyenv/versions/3.9.6/lib/python3.9/site-packages/sklearn/naive_bayes.py:591: UserWarning: alpha too small will result in numeric errors, setting alpha = 1.0e-10\n",
      "  warnings.warn(\n",
      "/Users/cynthiarodriguez/.pyenv/versions/3.9.6/lib/python3.9/site-packages/sklearn/naive_bayes.py:591: UserWarning: alpha too small will result in numeric errors, setting alpha = 1.0e-10\n",
      "  warnings.warn(\n",
      "/Users/cynthiarodriguez/.pyenv/versions/3.9.6/lib/python3.9/site-packages/sklearn/naive_bayes.py:591: UserWarning: alpha too small will result in numeric errors, setting alpha = 1.0e-10\n",
      "  warnings.warn(\n",
      "/Users/cynthiarodriguez/.pyenv/versions/3.9.6/lib/python3.9/site-packages/sklearn/naive_bayes.py:591: UserWarning: alpha too small will result in numeric errors, setting alpha = 1.0e-10\n",
      "  warnings.warn(\n",
      "/Users/cynthiarodriguez/.pyenv/versions/3.9.6/lib/python3.9/site-packages/sklearn/naive_bayes.py:591: UserWarning: alpha too small will result in numeric errors, setting alpha = 1.0e-10\n",
      "  warnings.warn(\n",
      "/Users/cynthiarodriguez/.pyenv/versions/3.9.6/lib/python3.9/site-packages/sklearn/naive_bayes.py:591: UserWarning: alpha too small will result in numeric errors, setting alpha = 1.0e-10\n",
      "  warnings.warn(\n",
      "/Users/cynthiarodriguez/.pyenv/versions/3.9.6/lib/python3.9/site-packages/sklearn/naive_bayes.py:591: UserWarning: alpha too small will result in numeric errors, setting alpha = 1.0e-10\n",
      "  warnings.warn(\n",
      "/Users/cynthiarodriguez/.pyenv/versions/3.9.6/lib/python3.9/site-packages/sklearn/naive_bayes.py:591: UserWarning: alpha too small will result in numeric errors, setting alpha = 1.0e-10\n",
      "  warnings.warn(\n",
      "/Users/cynthiarodriguez/.pyenv/versions/3.9.6/lib/python3.9/site-packages/sklearn/naive_bayes.py:591: UserWarning: alpha too small will result in numeric errors, setting alpha = 1.0e-10\n",
      "  warnings.warn(\n",
      "/Users/cynthiarodriguez/.pyenv/versions/3.9.6/lib/python3.9/site-packages/sklearn/naive_bayes.py:591: UserWarning: alpha too small will result in numeric errors, setting alpha = 1.0e-10\n",
      "  warnings.warn(\n",
      "/Users/cynthiarodriguez/.pyenv/versions/3.9.6/lib/python3.9/site-packages/sklearn/naive_bayes.py:591: UserWarning: alpha too small will result in numeric errors, setting alpha = 1.0e-10\n",
      "  warnings.warn(\n",
      "/Users/cynthiarodriguez/.pyenv/versions/3.9.6/lib/python3.9/site-packages/sklearn/naive_bayes.py:591: UserWarning: alpha too small will result in numeric errors, setting alpha = 1.0e-10\n",
      "  warnings.warn(\n",
      "/Users/cynthiarodriguez/.pyenv/versions/3.9.6/lib/python3.9/site-packages/sklearn/naive_bayes.py:591: UserWarning: alpha too small will result in numeric errors, setting alpha = 1.0e-10\n",
      "  warnings.warn(\n",
      "/Users/cynthiarodriguez/.pyenv/versions/3.9.6/lib/python3.9/site-packages/sklearn/naive_bayes.py:591: UserWarning: alpha too small will result in numeric errors, setting alpha = 1.0e-10\n",
      "  warnings.warn(\n",
      "/Users/cynthiarodriguez/.pyenv/versions/3.9.6/lib/python3.9/site-packages/sklearn/naive_bayes.py:591: UserWarning: alpha too small will result in numeric errors, setting alpha = 1.0e-10\n",
      "  warnings.warn(\n",
      "/Users/cynthiarodriguez/.pyenv/versions/3.9.6/lib/python3.9/site-packages/sklearn/naive_bayes.py:591: UserWarning: alpha too small will result in numeric errors, setting alpha = 1.0e-10\n",
      "  warnings.warn(\n",
      "/Users/cynthiarodriguez/.pyenv/versions/3.9.6/lib/python3.9/site-packages/sklearn/naive_bayes.py:591: UserWarning: alpha too small will result in numeric errors, setting alpha = 1.0e-10\n",
      "  warnings.warn(\n",
      "/Users/cynthiarodriguez/.pyenv/versions/3.9.6/lib/python3.9/site-packages/sklearn/naive_bayes.py:591: UserWarning: alpha too small will result in numeric errors, setting alpha = 1.0e-10\n",
      "  warnings.warn(\n"
     ]
    },
    {
     "name": "stdout",
     "output_type": "stream",
     "text": [
      "Best Params: {'cvec__max_df': 0.7, 'cvec__max_features': 3000, 'cvec__min_df': 1, 'cvec__stop_words': None, 'mnb__alpha': 0.5, 'mnb__fit_prior': True}  \n",
      "\n",
      "Best Estimator Cross Val Score: 0.86657\n",
      "CVec MNB Training Score: 0.8958\n",
      "CVec MNB Testing Score: 0.86228\n",
      "Misclassification Rate: 0.13772 \n",
      "\n",
      "Best estimator confusion matrix:\n"
     ]
    },
    {
     "data": {
      "text/plain": [
       "<sklearn.metrics._plot.confusion_matrix.ConfusionMatrixDisplay at 0x12bacc340>"
      ]
     },
     "execution_count": 73,
     "metadata": {},
     "output_type": "execute_result"
    },
    {
     "data": {
      "image/png": "[encoded data removed]",
      "text/plain": [
       "<Figure size 640x480 with 2 Axes>"
      ]
     },
     "metadata": {},
     "output_type": "display_data"
    }
   ],
   "source": [
    "grid_search(cvec_mnb, cvec_mnb_params, 'CVec MNB')"
   ]
  },
  {
   "cell_type": "code",
   "execution_count": 74,
   "metadata": {},
   "outputs": [],
   "source": [
    "cvec_mnb_2 = Pipeline([\n",
    "        ('cvec', CountVectorizer(stop_words=None)),\n",
    "        ('mnb', MultinomialNB())\n",
    "])\n",
    "\n",
    "cvec_mnb_params_2 = {\n",
    "    'cvec__max_features': [2500, 3000, 3500, 4000],\n",
    "    'cvec__min_df': [1, 2],\n",
    "    'cvec__max_df': [.65, .7, .75],\n",
    "    'mnb__fit_prior': [True, False],\n",
    "    'mnb__alpha': [0.5, 1]\n",
    "\n",
    "}"
   ]
  },
  {
   "cell_type": "code",
   "execution_count": 75,
   "metadata": {},
   "outputs": [
    {
     "name": "stdout",
     "output_type": "stream",
     "text": [
      "Fitting 3 folds for each of 96 candidates, totalling 288 fits\n",
      "Best Params: {'cvec__max_df': 0.65, 'cvec__max_features': 3000, 'cvec__min_df': 1, 'mnb__alpha': 0.5, 'mnb__fit_prior': True}  \n",
      "\n",
      "Best Estimator Cross Val Score: 0.86657\n",
      "CVec MNB_v2 Training Score: 0.8958\n",
      "CVec MNB_v2 Testing Score: 0.86228\n",
      "Misclassification Rate: 0.13772 \n",
      "\n",
      "Best estimator confusion matrix:\n"
     ]
    },
    {
     "data": {
      "text/plain": [
       "<sklearn.metrics._plot.confusion_matrix.ConfusionMatrixDisplay at 0x106217370>"
      ]
     },
     "execution_count": 75,
     "metadata": {},
     "output_type": "execute_result"
    },
    {
     "data": {
      "image/png": "[encoded data removed]",
      "text/plain": [
       "<Figure size 640x480 with 2 Axes>"
      ]
     },
     "metadata": {},
     "output_type": "display_data"
    }
   ],
   "source": [
    "grid_search(cvec_mnb_2, cvec_mnb_params_2, 'CVec MNB_v2')"
   ]
  },
  {
   "cell_type": "code",
   "execution_count": 76,
   "metadata": {},
   "outputs": [],
   "source": [
    "tfvec_mnb = Pipeline([\n",
    "    ('tfvec', TfidfVectorizer()),\n",
    "    ('mnb', MultinomialNB())\n",
    "])\n",
    "\n",
    "tfvec_mnb_params = {\n",
    "    'tfvec__stop_words': [None, 'english'],\n",
    "    'tfvec__min_df': [1, 2],\n",
    "    'tfvec__max_df': [.7, .8],\n",
    "    'tfvec__ngram_range': [(1,1), (1,2)],\n",
    "    'mnb__fit_prior': [True, False],\n",
    "    'mnb__alpha': [0.5, 1]\n",
    "\n",
    "}"
   ]
  },
  {
   "cell_type": "code",
   "execution_count": 77,
   "metadata": {},
   "outputs": [
    {
     "name": "stdout",
     "output_type": "stream",
     "text": [
      "Fitting 3 folds for each of 64 candidates, totalling 192 fits\n",
      "Best Params: {'mnb__alpha': 0.5, 'mnb__fit_prior': True, 'tfvec__max_df': 0.7, 'tfvec__min_df': 1, 'tfvec__ngram_range': (1, 1), 'tfvec__stop_words': 'english'}  \n",
      "\n",
      "Best Estimator Cross Val Score: 0.86133\n",
      "TfVec MNB Training Score: 0.91754\n",
      "TfVec MNB Testing Score: 0.84731\n",
      "Misclassification Rate: 0.15269 \n",
      "\n",
      "Best estimator confusion matrix:\n"
     ]
    },
    {
     "data": {
      "text/plain": [
       "<sklearn.metrics._plot.confusion_matrix.ConfusionMatrixDisplay at 0x12bb37400>"
      ]
     },
     "execution_count": 77,
     "metadata": {},
     "output_type": "execute_result"
    },
    {
     "data": {
      "image/png": "[encoded data removed]",
      "text/plain": [
       "<Figure size 640x480 with 2 Axes>"
      ]
     },
     "metadata": {},
     "output_type": "display_data"
    }
   ],
   "source": [
    "grid_search(tfvec_mnb, tfvec_mnb_params, 'TfVec MNB')"
   ]
  },
  {
   "cell_type": "code",
   "execution_count": 78,
   "metadata": {},
   "outputs": [],
   "source": [
    "tfvec_mnb_2 = Pipeline([\n",
    "    ('tfvec', TfidfVectorizer()),\n",
    "    ('mnb', MultinomialNB())\n",
    "])\n",
    "\n",
    "tfvec_mnb_params_2 = {\n",
    "    'tfvec__stop_words': [None, 'english'],\n",
    "    'tfvec__min_df': [1, 2],\n",
    "    'tfvec__max_df': [.65, .7, .75],\n",
    "    'mnb__fit_prior': [True, False],\n",
    "    'mnb__alpha': [0.5, 1]\n",
    "\n",
    "}"
   ]
  },
  {
   "cell_type": "code",
   "execution_count": 80,
   "metadata": {},
   "outputs": [
    {
     "name": "stdout",
     "output_type": "stream",
     "text": [
      "Fitting 3 folds for each of 48 candidates, totalling 144 fits\n",
      "Best Params: {'mnb__alpha': 0.5, 'mnb__fit_prior': True, 'tfvec__max_df': 0.65, 'tfvec__min_df': 1, 'tfvec__stop_words': 'english'}  \n",
      "\n",
      "Best Estimator Cross Val Score: 0.86133\n",
      "TfVec MNB_v2 Training Score: 0.91754\n",
      "TfVec MNB_v2 Testing Score: 0.84731\n",
      "Misclassification Rate: 0.15269 \n",
      "\n",
      "Best estimator confusion matrix:\n"
     ]
    },
    {
     "data": {
      "text/plain": [
       "<sklearn.metrics._plot.confusion_matrix.ConfusionMatrixDisplay at 0x12bfdbfd0>"
      ]
     },
     "execution_count": 80,
     "metadata": {},
     "output_type": "execute_result"
    },
    {
     "data": {
      "image/png": "[encoded data removed]",
      "text/plain": [
       "<Figure size 640x480 with 2 Axes>"
      ]
     },
     "metadata": {},
     "output_type": "display_data"
    }
   ],
   "source": [
    "grid_search(tfvec_mnb_2, tfvec_mnb_params_2, 'TfVec MNB_v2')"
   ]
  },
  {
   "cell_type": "markdown",
   "metadata": {},
   "source": [
    "### Analysis\n",
    "\n",
    "Although we're early into the hypertuning trials, the two CVec MNB models above scored higher than all no-param models, as well as all four of the Logistic Regression models above.\n",
    "\n",
    "It does not look like the hyperparameter tuning was necessary in the second iterations of CVec and Tfidf here - they scored exactly the same as the first versions.\n",
    "\n",
    "There is still some overfitting that needs to be addressed, but overall, these are four strong models than can be further adjusted to hopefully decrease variance and improve accuracy."
   ]
  },
  {
   "cell_type": "markdown",
   "metadata": {},
   "source": [
    "---\n",
    "\n",
    "## Gradient Boosting Classifier"
   ]
  },
  {
   "cell_type": "code",
   "execution_count": 85,
   "metadata": {},
   "outputs": [],
   "source": [
    "cvec_gboost = Pipeline([\n",
    "    ('cvec', CountVectorizer(stop_words=None)),\n",
    "    ('gb', GradientBoostingClassifier(random_state=42))\n",
    "])\n",
    "\n",
    "cvec_gboost_params  = {\n",
    "    'cvec__max_features': [3000, 4000],\n",
    "    'cvec__max_df': [.65, .7, .75],\n",
    "    'gb__n_estimators': [100, 150, 200], \n",
    "    'gb__max_depth': [5, 7, 8],\n",
    "    'gb__learning_rate': [0.7, 0.8] \n",
    "}"
   ]
  },
  {
   "cell_type": "code",
   "execution_count": 86,
   "metadata": {},
   "outputs": [
    {
     "name": "stdout",
     "output_type": "stream",
     "text": [
      "Fitting 3 folds for each of 108 candidates, totalling 324 fits\n",
      "Best Params: {'cvec__max_df': 0.65, 'cvec__max_features': 3000, 'gb__learning_rate': 0.7, 'gb__max_depth': 5, 'gb__n_estimators': 200}  \n",
      "\n",
      "Best Estimator Cross Val Score: 0.85007\n",
      "CVec GBoost Training Score: 0.92504\n",
      "CVec GBoost Testing Score: 0.84132\n",
      "Misclassification Rate: 0.15868 \n",
      "\n",
      "Best estimator confusion matrix:\n"
     ]
    },
    {
     "data": {
      "text/plain": [
       "<sklearn.metrics._plot.confusion_matrix.ConfusionMatrixDisplay at 0x12c118430>"
      ]
     },
     "execution_count": 86,
     "metadata": {},
     "output_type": "execute_result"
    },
    {
     "data": {
      "image/png": "[encoded data removed]",
      "text/plain": [
       "<Figure size 640x480 with 2 Axes>"
      ]
     },
     "metadata": {},
     "output_type": "display_data"
    }
   ],
   "source": [
    "grid_search(cvec_gboost, cvec_gboost_params, 'CVec GBoost')"
   ]
  },
  {
   "cell_type": "code",
   "execution_count": 87,
   "metadata": {},
   "outputs": [],
   "source": [
    "cvec_gboost_2 = Pipeline([\n",
    "    ('cvec', CountVectorizer(stop_words=None)),\n",
    "    ('gb', GradientBoostingClassifier(random_state=42))\n",
    "])\n",
    "\n",
    "cvec_gboost_params_2  = {\n",
    "    'cvec__max_features': [2500, 3000, 3500],\n",
    "    'cvec__max_df': [.6, .65, .7],\n",
    "    'gb__n_estimators': [200, 250, 300], \n",
    "    'gb__max_depth': [4, 5, 6],\n",
    "    'gb__learning_rate': [0.7, 0.8] \n",
    "}"
   ]
  },
  {
   "cell_type": "code",
   "execution_count": 88,
   "metadata": {},
   "outputs": [
    {
     "name": "stdout",
     "output_type": "stream",
     "text": [
      "Fitting 3 folds for each of 162 candidates, totalling 486 fits\n",
      "Best Params: {'cvec__max_df': 0.6, 'cvec__max_features': 3500, 'gb__learning_rate': 0.7, 'gb__max_depth': 6, 'gb__n_estimators': 200}  \n",
      "\n",
      "Best Estimator Cross Val Score: 0.85082\n",
      "CVec GBoost_v2 Training Score: 0.92504\n",
      "CVec GBoost_v2 Testing Score: 0.84132\n",
      "Misclassification Rate: 0.15868 \n",
      "\n",
      "Best estimator confusion matrix:\n"
     ]
    },
    {
     "data": {
      "text/plain": [
       "<sklearn.metrics._plot.confusion_matrix.ConfusionMatrixDisplay at 0x12c913ac0>"
      ]
     },
     "execution_count": 88,
     "metadata": {},
     "output_type": "execute_result"
    },
    {
     "data": {
      "image/png": "[encoded data removed]",
      "text/plain": [
       "<Figure size 640x480 with 2 Axes>"
      ]
     },
     "metadata": {},
     "output_type": "display_data"
    }
   ],
   "source": [
    "grid_search(cvec_gboost_2, cvec_gboost_params_2, 'CVec GBoost_v2')"
   ]
  },
  {
   "cell_type": "code",
   "execution_count": 89,
   "metadata": {},
   "outputs": [],
   "source": [
    "tfvec_gboost = Pipeline([\n",
    "    ('tfvec', TfidfVectorizer()),\n",
    "    ('gb', GradientBoostingClassifier(random_state=42))\n",
    "])\n",
    "\n",
    "tfvec_gboost_params  = {\n",
    "    'tfvec__stop_words': [None, 'english'],\n",
    "    'gb__n_estimators': [100, 150, 200], \n",
    "    'gb__max_depth': [5, 7, 8],\n",
    "    'gb__learning_rate': [0.7, 0.8, 0.85] \n",
    "}"
   ]
  },
  {
   "cell_type": "code",
   "execution_count": 90,
   "metadata": {},
   "outputs": [
    {
     "name": "stdout",
     "output_type": "stream",
     "text": [
      "Fitting 3 folds for each of 54 candidates, totalling 162 fits\n",
      "Best Params: {'gb__learning_rate': 0.7, 'gb__max_depth': 7, 'gb__n_estimators': 200, 'tfvec__stop_words': None}  \n",
      "\n",
      "Best Estimator Cross Val Score: 0.85233\n",
      "TfVec GBoost Training Score: 0.92579\n",
      "TfVec GBoost Testing Score: 0.81737\n",
      "Misclassification Rate: 0.18263 \n",
      "\n",
      "Best estimator confusion matrix:\n"
     ]
    },
    {
     "data": {
      "text/plain": [
       "<sklearn.metrics._plot.confusion_matrix.ConfusionMatrixDisplay at 0x12c087820>"
      ]
     },
     "execution_count": 90,
     "metadata": {},
     "output_type": "execute_result"
    },
    {
     "data": {
      "image/png": "[encoded data removed]",
      "text/plain": [
       "<Figure size 640x480 with 2 Axes>"
      ]
     },
     "metadata": {},
     "output_type": "display_data"
    }
   ],
   "source": [
    "grid_search(tfvec_gboost, tfvec_gboost_params, 'TfVec GBoost')"
   ]
  },
  {
   "cell_type": "code",
   "execution_count": 91,
   "metadata": {},
   "outputs": [],
   "source": [
    "tfvec_gboost_2 = Pipeline([\n",
    "    ('tfvec', TfidfVectorizer(stop_words=None)),\n",
    "    ('gb', GradientBoostingClassifier(random_state=42))\n",
    "])\n",
    "\n",
    "tfvec_gboost_params_2  = {\n",
    "    'gb__max_depth': [6, 7, 8],\n",
    "    'gb__learning_rate': [0.7, 0.75, 0.8],\n",
    "    'gb__validation_fraction': [.05, .1],\n",
    "    'gb__n_iter_no_change': [5, 10, 20],\n",
    "    'gb__tol': [.03, .05, .1]\n",
    "}"
   ]
  },
  {
   "cell_type": "code",
   "execution_count": 92,
   "metadata": {},
   "outputs": [
    {
     "name": "stdout",
     "output_type": "stream",
     "text": [
      "Fitting 3 folds for each of 162 candidates, totalling 486 fits\n",
      "Best Params: {'gb__learning_rate': 0.7, 'gb__max_depth': 8, 'gb__n_iter_no_change': 20, 'gb__tol': 0.03, 'gb__validation_fraction': 0.1}  \n",
      "\n",
      "Best Estimator Cross Val Score: 0.84333\n",
      "TfVec GBoost_v2 Training Score: 0.91829\n",
      "TfVec GBoost_v2 Testing Score: 0.82036\n",
      "Misclassification Rate: 0.17964 \n",
      "\n",
      "Best estimator confusion matrix:\n"
     ]
    },
    {
     "data": {
      "text/plain": [
       "<sklearn.metrics._plot.confusion_matrix.ConfusionMatrixDisplay at 0x12c0c9970>"
      ]
     },
     "execution_count": 92,
     "metadata": {},
     "output_type": "execute_result"
    },
    {
     "data": {
      "image/png": "[encoded data removed]",
      "text/plain": [
       "<Figure size 640x480 with 2 Axes>"
      ]
     },
     "metadata": {},
     "output_type": "display_data"
    }
   ],
   "source": [
    "grid_search(tfvec_gboost_2, tfvec_gboost_params_2, 'TfVec GBoost_v2')"
   ]
  },
  {
   "cell_type": "markdown",
   "metadata": {},
   "source": [
    "### Analysis\n",
    "\n",
    "The GBoost models' performance above closely mirrored the scores seen on the no-param GBoost models, and scored higher than all but one no-param model overall. In the above tests, the ~0.84 CVec scores beat the original CVec value of 0.82934.\n",
    "\n",
    "My theory is that while Decision Trees are a decently-strong scoring predictor, when used as the weak learner in GBoosting and weighed according to accuracy (my target metric), the model becomes a bit more adept and outscores both Decision Tree models on their own and Random Forest.\n",
    "\n",
    "Because the Gradient Boost model has performed moderately well in all trials, I anticipate that I'll be using it in my final model."
   ]
  },
  {
   "cell_type": "markdown",
   "metadata": {},
   "source": [
    "---\n",
    "\n",
    "## AdaBoost Classifier"
   ]
  },
  {
   "cell_type": "code",
   "execution_count": 93,
   "metadata": {},
   "outputs": [],
   "source": [
    "cvec_ada = Pipeline([\n",
    "        ('cvec', CountVectorizer()),\n",
    "        ('ada', AdaBoostClassifier(random_state=42))\n",
    "])\n",
    "\n",
    "cvec_ada_params = {\n",
    "    'cvec__stop_words': [None, 'english'],\n",
    "    'ada__n_estimators': [100, 200, 300],\n",
    "    'ada__learning_rate': [0.7, 0.8, 0.9],\n",
    "}"
   ]
  },
  {
   "cell_type": "code",
   "execution_count": 94,
   "metadata": {},
   "outputs": [
    {
     "name": "stdout",
     "output_type": "stream",
     "text": [
      "Fitting 3 folds for each of 18 candidates, totalling 54 fits\n",
      "Best Params: {'ada__learning_rate': 0.8, 'ada__n_estimators': 200, 'cvec__stop_words': None}  \n",
      "\n",
      "Best Estimator Cross Val Score: 0.84483\n",
      "Cvec AdaBoost Training Score: 0.92504\n",
      "Cvec AdaBoost Testing Score: 0.82335\n",
      "Misclassification Rate: 0.17665 \n",
      "\n",
      "Best estimator confusion matrix:\n"
     ]
    },
    {
     "data": {
      "text/plain": [
       "<sklearn.metrics._plot.confusion_matrix.ConfusionMatrixDisplay at 0x12c88bfd0>"
      ]
     },
     "execution_count": 94,
     "metadata": {},
     "output_type": "execute_result"
    },
    {
     "data": {
      "image/png": "[encoded data removed]",
      "text/plain": [
       "<Figure size 640x480 with 2 Axes>"
      ]
     },
     "metadata": {},
     "output_type": "display_data"
    }
   ],
   "source": [
    "grid_search(cvec_ada, cvec_ada_params, 'Cvec AdaBoost')"
   ]
  },
  {
   "cell_type": "code",
   "execution_count": 95,
   "metadata": {},
   "outputs": [],
   "source": [
    "cvec_ada_2 = Pipeline([\n",
    "        ('cvec', CountVectorizer(stop_words=None)),\n",
    "        ('ada', AdaBoostClassifier(random_state=42))\n",
    "])\n",
    "\n",
    "cvec_ada_params_2 = {\n",
    "    'ada__n_estimators': [300, 350, 400],\n",
    "    'ada__learning_rate': [0.6, 0.65, 0.7],\n",
    "}"
   ]
  },
  {
   "cell_type": "code",
   "execution_count": 96,
   "metadata": {},
   "outputs": [
    {
     "name": "stdout",
     "output_type": "stream",
     "text": [
      "Fitting 3 folds for each of 9 candidates, totalling 27 fits\n",
      "Best Params: {'ada__learning_rate': 0.7, 'ada__n_estimators': 300}  \n",
      "\n",
      "Best Estimator Cross Val Score: 0.84182\n",
      "CVec AdaBoost_v2 Training Score: 0.92579\n",
      "CVec AdaBoost_v2 Testing Score: 0.82934\n",
      "Misclassification Rate: 0.17066 \n",
      "\n",
      "Best estimator confusion matrix:\n"
     ]
    },
    {
     "data": {
      "text/plain": [
       "<sklearn.metrics._plot.confusion_matrix.ConfusionMatrixDisplay at 0x12cb5b130>"
      ]
     },
     "execution_count": 96,
     "metadata": {},
     "output_type": "execute_result"
    },
    {
     "data": {
      "image/png": "[encoded data removed]",
      "text/plain": [
       "<Figure size 640x480 with 2 Axes>"
      ]
     },
     "metadata": {},
     "output_type": "display_data"
    }
   ],
   "source": [
    "grid_search(cvec_ada_2, cvec_ada_params_2, 'CVec AdaBoost_v2')"
   ]
  },
  {
   "cell_type": "code",
   "execution_count": 97,
   "metadata": {},
   "outputs": [],
   "source": [
    "tfvec_ada = Pipeline([\n",
    "        ('tfvec', TfidfVectorizer(stop_words=None)),\n",
    "        ('ada', AdaBoostClassifier(random_state=42))\n",
    "])\n",
    "\n",
    "tfvec_ada_params = {\n",
    "    'ada__n_estimators': [300, 350, 400],\n",
    "    'ada__learning_rate': [0.6, 0.65, 0.7],\n",
    "}"
   ]
  },
  {
   "cell_type": "code",
   "execution_count": 98,
   "metadata": {},
   "outputs": [
    {
     "name": "stdout",
     "output_type": "stream",
     "text": [
      "Fitting 3 folds for each of 9 candidates, totalling 27 fits\n",
      "Best Params: {'ada__learning_rate': 0.65, 'ada__n_estimators': 400}  \n",
      "\n",
      "Best Estimator Cross Val Score: 0.84184\n",
      "TfVec AdaBoost Training Score: 0.92579\n",
      "TfVec AdaBoost Testing Score: 0.82335\n",
      "Misclassification Rate: 0.17665 \n",
      "\n",
      "Best estimator confusion matrix:\n"
     ]
    },
    {
     "data": {
      "text/plain": [
       "<sklearn.metrics._plot.confusion_matrix.ConfusionMatrixDisplay at 0x12cb59130>"
      ]
     },
     "execution_count": 98,
     "metadata": {},
     "output_type": "execute_result"
    },
    {
     "data": {
      "image/png": "[encoded data removed]",
      "text/plain": [
       "<Figure size 640x480 with 2 Axes>"
      ]
     },
     "metadata": {},
     "output_type": "display_data"
    }
   ],
   "source": [
    "grid_search(tfvec_ada, tfvec_ada_params, 'TfVec AdaBoost')"
   ]
  },
  {
   "cell_type": "code",
   "execution_count": 99,
   "metadata": {},
   "outputs": [],
   "source": [
    "tfvec_ada_2 = Pipeline([\n",
    "        ('tfvec', TfidfVectorizer(stop_words=None)),\n",
    "        ('ada', AdaBoostClassifier(random_state=42))\n",
    "])\n",
    "\n",
    "tfvec_ada_params_2 = {\n",
    "    'ada__n_estimators': [400, 450, 500],\n",
    "    'ada__learning_rate': [0.6, 0.7, 0.8],\n",
    "}"
   ]
  },
  {
   "cell_type": "code",
   "execution_count": 100,
   "metadata": {},
   "outputs": [
    {
     "name": "stdout",
     "output_type": "stream",
     "text": [
      "Fitting 3 folds for each of 9 candidates, totalling 27 fits\n",
      "Best Params: {'ada__learning_rate': 0.6, 'ada__n_estimators': 500}  \n",
      "\n",
      "Best Estimator Cross Val Score: 0.84109\n",
      "TfVec AdaBoost_v2 Training Score: 0.92579\n",
      "TfVec AdaBoost_v2 Testing Score: 0.81737\n",
      "Misclassification Rate: 0.18263 \n",
      "\n",
      "Best estimator confusion matrix:\n"
     ]
    },
    {
     "data": {
      "text/plain": [
       "<sklearn.metrics._plot.confusion_matrix.ConfusionMatrixDisplay at 0x12c0c9940>"
      ]
     },
     "execution_count": 100,
     "metadata": {},
     "output_type": "execute_result"
    },
    {
     "data": {
      "image/png": "[encoded data removed]",
      "text/plain": [
       "<Figure size 640x480 with 2 Axes>"
      ]
     },
     "metadata": {},
     "output_type": "display_data"
    }
   ],
   "source": [
    "grid_search(tfvec_ada_2, tfvec_ada_params_2, 'TfVec AdaBoost_v2')"
   ]
  },
  {
   "cell_type": "markdown",
   "metadata": {},
   "source": [
    "### Analysis\n",
    "\n",
    "The CVec version 2 model above generated the same test score as the prior AdaBoost CVec and Tfidf models without paramaters. \n",
    "\n",
    "Because there is a trade-off between n_estimators and learning_rate, I inversely shifted the range of the two hyperparameters, and this specific model seemed to prefer the lower learning rate and higher amount of estimators (as did the TfVec model).\n",
    "\n",
    "The three other models did not perform as well as the no-param CountVectorizer or Tfidf models. \n",
    "\n",
    "Though slightly under the GradientBoost top score, AdaBoost is another great option to test on the final model."
   ]
  },
  {
   "cell_type": "markdown",
   "metadata": {},
   "source": [
    "---\n",
    "\n",
    "## Bagging Classifier"
   ]
  },
  {
   "cell_type": "code",
   "execution_count": 102,
   "metadata": {},
   "outputs": [],
   "source": [
    "cvec_bag = Pipeline([\n",
    "        ('cvec', CountVectorizer()),\n",
    "        ('bag', BaggingClassifier(random_state=42))\n",
    "])\n",
    "\n",
    "cvec_bag_params = {\n",
    "    'cvec__stop_words': [None, 'english'],\n",
    "    'bag__n_estimators': [200, 400, 600],\n",
    "    'bag__max_features': [200, 300, 400],\n",
    "}"
   ]
  },
  {
   "cell_type": "code",
   "execution_count": 103,
   "metadata": {},
   "outputs": [
    {
     "name": "stdout",
     "output_type": "stream",
     "text": [
      "Fitting 3 folds for each of 18 candidates, totalling 54 fits\n",
      "Best Params: {'bag__max_features': 400, 'bag__n_estimators': 400, 'cvec__stop_words': None}  \n",
      "\n",
      "Best Estimator Cross Val Score: 0.82759\n",
      "CVec Bagging Training Score: 0.8943\n",
      "CVec Bagging Testing Score: 0.8024\n",
      "Misclassification Rate: 0.1976 \n",
      "\n",
      "Best estimator confusion matrix:\n"
     ]
    },
    {
     "data": {
      "text/plain": [
       "<sklearn.metrics._plot.confusion_matrix.ConfusionMatrixDisplay at 0x12cd0fc40>"
      ]
     },
     "execution_count": 103,
     "metadata": {},
     "output_type": "execute_result"
    },
    {
     "data": {
      "image/png": "[encoded data removed]",
      "text/plain": [
       "<Figure size 640x480 with 2 Axes>"
      ]
     },
     "metadata": {},
     "output_type": "display_data"
    }
   ],
   "source": [
    "grid_search(cvec_bag, cvec_bag_params, 'CVec Bagging')"
   ]
  },
  {
   "cell_type": "code",
   "execution_count": 104,
   "metadata": {},
   "outputs": [],
   "source": [
    "cvec_bag_2 = Pipeline([\n",
    "        ('cvec', CountVectorizer()),\n",
    "        ('bag', BaggingClassifier(random_state=42))\n",
    "])\n",
    "\n",
    "cvec_bag_params_2 = {\n",
    "    'cvec__stop_words': [None, 'english'],\n",
    "    'bag__n_estimators': [200, 400, 600],\n",
    "    'bag__max_samples': [300, 400, 500], \n",
    "}"
   ]
  },
  {
   "cell_type": "code",
   "execution_count": 105,
   "metadata": {},
   "outputs": [
    {
     "name": "stdout",
     "output_type": "stream",
     "text": [
      "Fitting 3 folds for each of 18 candidates, totalling 54 fits\n",
      "Best Params: {'bag__max_samples': 400, 'bag__n_estimators': 200, 'cvec__stop_words': None}  \n",
      "\n",
      "Best Estimator Cross Val Score: 0.83283\n",
      "CVec Bagging_v2 Training Score: 0.86057\n",
      "CVec Bagging_v2 Testing Score: 0.82335\n",
      "Misclassification Rate: 0.17665 \n",
      "\n",
      "Best estimator confusion matrix:\n"
     ]
    },
    {
     "data": {
      "text/plain": [
       "<sklearn.metrics._plot.confusion_matrix.ConfusionMatrixDisplay at 0x12ccd8dc0>"
      ]
     },
     "execution_count": 105,
     "metadata": {},
     "output_type": "execute_result"
    },
    {
     "data": {
      "image/png": "[encoded data removed]",
      "text/plain": [
       "<Figure size 640x480 with 2 Axes>"
      ]
     },
     "metadata": {},
     "output_type": "display_data"
    }
   ],
   "source": [
    "grid_search(cvec_bag_2, cvec_bag_params_2, 'CVec Bagging_v2')"
   ]
  },
  {
   "cell_type": "code",
   "execution_count": 106,
   "metadata": {},
   "outputs": [],
   "source": [
    "tfvec_bag = Pipeline([\n",
    "        ('tfvec', TfidfVectorizer(stop_words=None)),\n",
    "        ('bag', BaggingClassifier(random_state=42))\n",
    "])\n",
    "\n",
    "tfvec_bag_params = {\n",
    "    'bag__n_estimators': [100, 150, 200],\n",
    "    'bag__max_samples': [300, 400, 500], \n",
    "}"
   ]
  },
  {
   "cell_type": "code",
   "execution_count": 107,
   "metadata": {},
   "outputs": [
    {
     "name": "stdout",
     "output_type": "stream",
     "text": [
      "Fitting 3 folds for each of 9 candidates, totalling 27 fits\n",
      "Best Params: {'bag__max_samples': 500, 'bag__n_estimators': 150}  \n",
      "\n",
      "Best Estimator Cross Val Score: 0.83283\n",
      "TfVec Bagging Training Score: 0.88306\n",
      "TfVec Bagging Testing Score: 0.81437\n",
      "Misclassification Rate: 0.18563 \n",
      "\n",
      "Best estimator confusion matrix:\n"
     ]
    },
    {
     "data": {
      "text/plain": [
       "<sklearn.metrics._plot.confusion_matrix.ConfusionMatrixDisplay at 0x129a04070>"
      ]
     },
     "execution_count": 107,
     "metadata": {},
     "output_type": "execute_result"
    },
    {
     "data": {
      "image/png": "[encoded data removed]",
      "text/plain": [
       "<Figure size 640x480 with 2 Axes>"
      ]
     },
     "metadata": {},
     "output_type": "display_data"
    }
   ],
   "source": [
    "grid_search(tfvec_bag, tfvec_bag_params, 'TfVec Bagging')"
   ]
  },
  {
   "cell_type": "markdown",
   "metadata": {},
   "source": [
    "### Analysis\n",
    "\n",
    "The best-performing model above was the second version of the CVec model. \n",
    "\n",
    "I updated the hyperparameters because max_samples pulls samples with replacement but max_features does not. Making this change looks to have decreased the false positives and increased the number of Ohio predictions.\n",
    "\n",
    "The Tfidf model scored slightly worse with hyperparameters added, dropping from a previous 0.81736 to 0.81437.\n",
    "\n",
    "Regardless, I think that bagging would be effective in a stacked model, so I'll likely use the CVec version 2 above as one of the level-one estimators."
   ]
  },
  {
   "cell_type": "markdown",
   "metadata": {},
   "source": [
    "---\n",
    "\n",
    "## Decision Tree Classifier"
   ]
  },
  {
   "cell_type": "code",
   "execution_count": 108,
   "metadata": {},
   "outputs": [],
   "source": [
    "cvec_dtree = Pipeline([\n",
    "        ('cvec', CountVectorizer()),\n",
    "        ('dt', DecisionTreeClassifier(random_state=42))\n",
    "])\n",
    "\n",
    "cvec_dtree_params = {\n",
    "        'cvec__stop_words': [None, 'english'],\n",
    "        'dt__max_depth': [2, 3, 4],\n",
    "        'dt__max_features': [1500, 2000, 3000, 'sqrt'] \n",
    "}"
   ]
  },
  {
   "cell_type": "code",
   "execution_count": 109,
   "metadata": {},
   "outputs": [
    {
     "name": "stdout",
     "output_type": "stream",
     "text": [
      "Fitting 3 folds for each of 24 candidates, totalling 72 fits\n",
      "Best Params: {'cvec__stop_words': None, 'dt__max_depth': 4, 'dt__max_features': 3000}  \n",
      "\n",
      "Best Estimator Cross Val Score: 0.82009\n",
      "CVec Decision Tree Training Score: 0.83883\n",
      "CVec Decision Tree Testing Score: 0.7994\n",
      "Misclassification Rate: 0.2006 \n",
      "\n",
      "Best estimator confusion matrix:\n"
     ]
    },
    {
     "data": {
      "text/plain": [
       "<sklearn.metrics._plot.confusion_matrix.ConfusionMatrixDisplay at 0x12caf4340>"
      ]
     },
     "execution_count": 109,
     "metadata": {},
     "output_type": "execute_result"
    },
    {
     "data": {
      "image/png": "[encoded data removed]",
      "text/plain": [
       "<Figure size 640x480 with 2 Axes>"
      ]
     },
     "metadata": {},
     "output_type": "display_data"
    }
   ],
   "source": [
    "grid_search(cvec_dtree, cvec_dtree_params, 'CVec Decision Tree')"
   ]
  },
  {
   "cell_type": "code",
   "execution_count": 110,
   "metadata": {},
   "outputs": [],
   "source": [
    "cvec_dtree_2 = Pipeline([\n",
    "        ('cvec', CountVectorizer()),\n",
    "        ('dt', DecisionTreeClassifier(random_state=42))\n",
    "])\n",
    "\n",
    "cvec_dtree_params_2 = {\n",
    "        'dt__max_depth': [4, 5, 7],\n",
    "        'dt__max_features': [2500, 3000, 3500, 4000, 5000]\n",
    "}"
   ]
  },
  {
   "cell_type": "code",
   "execution_count": 111,
   "metadata": {},
   "outputs": [
    {
     "name": "stdout",
     "output_type": "stream",
     "text": [
      "Fitting 3 folds for each of 15 candidates, totalling 45 fits\n",
      "Best Params: {'dt__max_depth': 5, 'dt__max_features': 3500}  \n",
      "\n",
      "Best Estimator Cross Val Score: 0.82684\n",
      "CVec Decision Tree_v2 Training Score: 0.85757\n",
      "CVec Decision Tree_v2 Testing Score: 0.81737\n",
      "Misclassification Rate: 0.18263 \n",
      "\n",
      "Best estimator confusion matrix:\n"
     ]
    },
    {
     "data": {
      "text/plain": [
       "<sklearn.metrics._plot.confusion_matrix.ConfusionMatrixDisplay at 0x12cca51c0>"
      ]
     },
     "execution_count": 111,
     "metadata": {},
     "output_type": "execute_result"
    },
    {
     "data": {
      "image/png": "[encoded data removed]",
      "text/plain": [
       "<Figure size 640x480 with 2 Axes>"
      ]
     },
     "metadata": {},
     "output_type": "display_data"
    }
   ],
   "source": [
    "grid_search(cvec_dtree_2, cvec_dtree_params_2, 'CVec Decision Tree_v2')"
   ]
  },
  {
   "cell_type": "code",
   "execution_count": 112,
   "metadata": {},
   "outputs": [],
   "source": [
    "tfvec_dtree = Pipeline([\n",
    "        ('tfvec', TfidfVectorizer()),\n",
    "        ('dt', DecisionTreeClassifier(random_state=42))\n",
    "])\n",
    "\n",
    "tfvec_dtree_params = {\n",
    "        'dt__max_depth': [5, 6, 7],\n",
    "        'dt__max_features': [1500, 2000, 3000, 3500, 'sqrt']\n",
    "}"
   ]
  },
  {
   "cell_type": "code",
   "execution_count": 113,
   "metadata": {},
   "outputs": [
    {
     "name": "stdout",
     "output_type": "stream",
     "text": [
      "Fitting 3 folds for each of 15 candidates, totalling 45 fits\n",
      "Best Params: {'dt__max_depth': 5, 'dt__max_features': 3500}  \n",
      "\n",
      "Best Estimator Cross Val Score: 0.82009\n",
      "TfVec Decision Tree Training Score: 0.86882\n",
      "TfVec Decision Tree Testing Score: 0.80838\n",
      "Misclassification Rate: 0.19162 \n",
      "\n",
      "Best estimator confusion matrix:\n"
     ]
    },
    {
     "data": {
      "text/plain": [
       "<sklearn.metrics._plot.confusion_matrix.ConfusionMatrixDisplay at 0x12c1f9d60>"
      ]
     },
     "execution_count": 113,
     "metadata": {},
     "output_type": "execute_result"
    },
    {
     "data": {
      "image/png": "[encoded data removed]",
      "text/plain": [
       "<Figure size 640x480 with 2 Axes>"
      ]
     },
     "metadata": {},
     "output_type": "display_data"
    }
   ],
   "source": [
    "grid_search(tfvec_dtree, tfvec_dtree_params, 'TfVec Decision Tree')"
   ]
  },
  {
   "cell_type": "code",
   "execution_count": 114,
   "metadata": {},
   "outputs": [],
   "source": [
    "tfvec_dtree_2 = Pipeline([\n",
    "        ('tfvec', TfidfVectorizer()),\n",
    "        ('dt', DecisionTreeClassifier(random_state=42))\n",
    "])\n",
    "\n",
    "tfvec_dtree_params_2 = {\n",
    "        'dt__max_depth': [4, 5, 6],\n",
    "        'dt__max_features': [2000, 3000, 4000]\n",
    "}"
   ]
  },
  {
   "cell_type": "code",
   "execution_count": 115,
   "metadata": {},
   "outputs": [
    {
     "name": "stdout",
     "output_type": "stream",
     "text": [
      "Fitting 3 folds for each of 9 candidates, totalling 27 fits\n",
      "Best Params: {'dt__max_depth': 4, 'dt__max_features': 3000}  \n",
      "\n",
      "Best Estimator Cross Val Score: 0.81934\n",
      "TfVec Decision Tree_v2 Training Score: 0.84783\n",
      "TfVec Decision Tree_v2 Testing Score: 0.81138\n",
      "Misclassification Rate: 0.18862 \n",
      "\n",
      "Best estimator confusion matrix:\n"
     ]
    },
    {
     "data": {
      "text/plain": [
       "<sklearn.metrics._plot.confusion_matrix.ConfusionMatrixDisplay at 0x12c13b8b0>"
      ]
     },
     "execution_count": 115,
     "metadata": {},
     "output_type": "execute_result"
    },
    {
     "data": {
      "image/png": "[encoded data removed]",
      "text/plain": [
       "<Figure size 640x480 with 2 Axes>"
      ]
     },
     "metadata": {},
     "output_type": "display_data"
    }
   ],
   "source": [
    "grid_search(tfvec_dtree_2, tfvec_dtree_params_2, 'TfVec Decision Tree_v2')"
   ]
  },
  {
   "cell_type": "markdown",
   "metadata": {},
   "source": [
    "### Analysis\n",
    "\n",
    "My original strategy of being conservative with the amount of features allowed in the model did not seem to pay off. \n",
    "\n",
    "After increasing the depth and feature range, the CVec model performed a lot better, and matched the score of the untuned model. The Tfidf did see a dip in the train score, but also a slight improvement in the test score compared to the first model.\n",
    "\n",
    "These scores aren't quite as high as the others, so I probably will not use Decision Tree classification in my final model."
   ]
  },
  {
   "cell_type": "markdown",
   "metadata": {},
   "source": [
    "---\n",
    "\n",
    "## Random Forest Classifier"
   ]
  },
  {
   "cell_type": "code",
   "execution_count": 117,
   "metadata": {},
   "outputs": [],
   "source": [
    "cvec_rf = Pipeline([\n",
    "        ('cvec', CountVectorizer()),\n",
    "        ('rf', RandomForestClassifier(random_state=42))\n",
    "])\n",
    "\n",
    "cvec_rf_params = {\n",
    "        'cvec__stop_words': [None, 'english'],\n",
    "        'rf__max_depth': [5, 6, 7],\n",
    "        'rf__n_estimators': [1000, 1500, 2000, 'sqrt'],\n",
    "        'rf__max_samples': [500, 1000, None]\n",
    "}"
   ]
  },
  {
   "cell_type": "code",
   "execution_count": 118,
   "metadata": {},
   "outputs": [
    {
     "name": "stdout",
     "output_type": "stream",
     "text": [
      "Fitting 3 folds for each of 72 candidates, totalling 216 fits\n",
      "Best Params: {'cvec__stop_words': None, 'rf__max_depth': 7, 'rf__max_samples': 500, 'rf__n_estimators': 1000}  \n",
      "\n",
      "Best Estimator Cross Val Score: 0.81784\n",
      "CVec Random Forest Training Score: 0.82459\n",
      "CVec Random Forest Testing Score: 0.8024\n",
      "Misclassification Rate: 0.1976 \n",
      "\n",
      "Best estimator confusion matrix:\n"
     ]
    },
    {
     "data": {
      "text/plain": [
       "<sklearn.metrics._plot.confusion_matrix.ConfusionMatrixDisplay at 0x12c7c8520>"
      ]
     },
     "execution_count": 118,
     "metadata": {},
     "output_type": "execute_result"
    },
    {
     "data": {
      "image/png": "[encoded data removed]",
      "text/plain": [
       "<Figure size 640x480 with 2 Axes>"
      ]
     },
     "metadata": {},
     "output_type": "display_data"
    }
   ],
   "source": [
    "grid_search(cvec_rf, cvec_rf_params, 'CVec Random Forest')"
   ]
  },
  {
   "cell_type": "code",
   "execution_count": 119,
   "metadata": {},
   "outputs": [],
   "source": [
    "cvec_rf_2 = Pipeline([\n",
    "        ('cvec', CountVectorizer(stop_words=None)),\n",
    "        ('rf', RandomForestClassifier(random_state=42))\n",
    "])\n",
    "\n",
    "cvec_rf_params_2 = {\n",
    "        'rf__max_depth': [6, 7, 8],\n",
    "        'rf__n_estimators': [800, 1000, 1500],\n",
    "}"
   ]
  },
  {
   "cell_type": "code",
   "execution_count": 120,
   "metadata": {},
   "outputs": [
    {
     "name": "stdout",
     "output_type": "stream",
     "text": [
      "Fitting 3 folds for each of 9 candidates, totalling 27 fits\n",
      "Best Params: {'rf__max_depth': 8, 'rf__n_estimators': 800}  \n",
      "\n",
      "Best Estimator Cross Val Score: 0.82084\n",
      "CVec Random Forest_v2 Training Score: 0.84633\n",
      "CVec Random Forest_v2 Testing Score: 0.8024\n",
      "Misclassification Rate: 0.1976 \n",
      "\n",
      "Best estimator confusion matrix:\n"
     ]
    },
    {
     "data": {
      "text/plain": [
       "<sklearn.metrics._plot.confusion_matrix.ConfusionMatrixDisplay at 0x12cf12220>"
      ]
     },
     "execution_count": 120,
     "metadata": {},
     "output_type": "execute_result"
    },
    {
     "data": {
      "image/png": "[encoded data removed]",
      "text/plain": [
       "<Figure size 640x480 with 2 Axes>"
      ]
     },
     "metadata": {},
     "output_type": "display_data"
    }
   ],
   "source": [
    "grid_search(cvec_rf_2, cvec_rf_params_2, 'CVec Random Forest_v2')"
   ]
  },
  {
   "cell_type": "code",
   "execution_count": 121,
   "metadata": {},
   "outputs": [],
   "source": [
    "tfvec_rf = Pipeline([\n",
    "        ('tfvec', TfidfVectorizer()),\n",
    "        ('rf', RandomForestClassifier(random_state=42))\n",
    "])\n",
    "\n",
    "tfvec_rf_params = {\n",
    "        'rf__max_depth': [6, 7, 8],\n",
    "        'rf__n_estimators': [800, 1000, 1500],\n",
    "}"
   ]
  },
  {
   "cell_type": "code",
   "execution_count": 122,
   "metadata": {},
   "outputs": [
    {
     "name": "stdout",
     "output_type": "stream",
     "text": [
      "Fitting 3 folds for each of 9 candidates, totalling 27 fits\n",
      "Best Params: {'rf__max_depth': 7, 'rf__n_estimators': 800}  \n",
      "\n",
      "Best Estimator Cross Val Score: 0.81709\n",
      "TfVec Random Forest Training Score: 0.84183\n",
      "TfVec Random Forest Testing Score: 0.80539\n",
      "Misclassification Rate: 0.19461 \n",
      "\n",
      "Best estimator confusion matrix:\n"
     ]
    },
    {
     "data": {
      "text/plain": [
       "<sklearn.metrics._plot.confusion_matrix.ConfusionMatrixDisplay at 0x12ce396a0>"
      ]
     },
     "execution_count": 122,
     "metadata": {},
     "output_type": "execute_result"
    },
    {
     "data": {
      "image/png": "[encoded data removed]",
      "text/plain": [
       "<Figure size 640x480 with 2 Axes>"
      ]
     },
     "metadata": {},
     "output_type": "display_data"
    }
   ],
   "source": [
    "grid_search(tfvec_rf, tfvec_rf_params, 'TfVec Random Forest')"
   ]
  },
  {
   "cell_type": "markdown",
   "metadata": {},
   "source": [
    "### Analysis\n",
    "\n",
    "I was somewhat surprised here, because the Random Forest model made almost the same prediction three times, and scored about the same on all test sets in the three trials, even with varied 'best_params.' \n",
    "\n",
    "It underperformed compared to a few of the Decision Tree models above, and also scored worse than the RF models without hyperparameters. \n",
    "\n",
    "There are other stronger models seen above, so I will not be moving forward with RF trials."
   ]
  },
  {
   "cell_type": "markdown",
   "metadata": {},
   "source": [
    "---\n",
    "\n",
    "## Model Evaluation"
   ]
  },
  {
   "cell_type": "code",
   "execution_count": 123,
   "metadata": {},
   "outputs": [
    {
     "data": {
      "text/html": [
       "<div>\n",
       "<style scoped>\n",
       "    .dataframe tbody tr th:only-of-type {\n",
       "        vertical-align: middle;\n",
       "    }\n",
       "\n",
       "    .dataframe tbody tr th {\n",
       "        vertical-align: top;\n",
       "    }\n",
       "\n",
       "    .dataframe thead th {\n",
       "        text-align: right;\n",
       "    }\n",
       "</style>\n",
       "<table border=\"1\" class=\"dataframe\">\n",
       "  <thead>\n",
       "    <tr style=\"text-align: right;\">\n",
       "      <th></th>\n",
       "      <th>model_used</th>\n",
       "      <th>cross_val_score</th>\n",
       "      <th>train_score</th>\n",
       "      <th>test_score</th>\n",
       "      <th>misclass_rate</th>\n",
       "      <th>best_param_1</th>\n",
       "      <th>best_param_2</th>\n",
       "      <th>best_param_3</th>\n",
       "      <th>best_param_4</th>\n",
       "      <th>best_param_5</th>\n",
       "      <th>best_param_6</th>\n",
       "    </tr>\n",
       "  </thead>\n",
       "  <tbody>\n",
       "    <tr>\n",
       "      <th>0</th>\n",
       "      <td>CVec Logistic Regression</td>\n",
       "      <td>0.844078</td>\n",
       "      <td>0.878561</td>\n",
       "      <td>0.814371</td>\n",
       "      <td>0.185629</td>\n",
       "      <td>(cvec__max_df, 0.7)</td>\n",
       "      <td>(cvec__max_features, 2000)</td>\n",
       "      <td>(cvec__min_df, 1)</td>\n",
       "      <td>(cvec__stop_words, None)</td>\n",
       "      <td>(lr__C, 0.1)</td>\n",
       "      <td>(lr__penalty, l2)</td>\n",
       "    </tr>\n",
       "    <tr>\n",
       "      <th>1</th>\n",
       "      <td>CVec Logistic Regression_v2</td>\n",
       "      <td>0.840328</td>\n",
       "      <td>0.921289</td>\n",
       "      <td>0.820359</td>\n",
       "      <td>0.179641</td>\n",
       "      <td>(cvec__max_df, 0.6)</td>\n",
       "      <td>(cvec__max_features, 1500)</td>\n",
       "      <td>(lr__C, 10)</td>\n",
       "      <td>-</td>\n",
       "      <td>-</td>\n",
       "      <td>-</td>\n",
       "    </tr>\n",
       "    <tr>\n",
       "      <th>2</th>\n",
       "      <td>TfVec Logistic Regression</td>\n",
       "      <td>0.838830</td>\n",
       "      <td>0.924288</td>\n",
       "      <td>0.835329</td>\n",
       "      <td>0.164671</td>\n",
       "      <td>(lr__C, 10)</td>\n",
       "      <td>(tfvec__max_df, 0.6)</td>\n",
       "      <td>(tfvec__max_features, 1500)</td>\n",
       "      <td>(tfvec__min_df, 1)</td>\n",
       "      <td>(tfvec__stop_words, None)</td>\n",
       "      <td>-</td>\n",
       "    </tr>\n",
       "    <tr>\n",
       "      <th>3</th>\n",
       "      <td>TfVec Logistic Regression_v2</td>\n",
       "      <td>0.841079</td>\n",
       "      <td>0.924288</td>\n",
       "      <td>0.829341</td>\n",
       "      <td>0.170659</td>\n",
       "      <td>(lr__C, 10)</td>\n",
       "      <td>(tfvec__max_df, 0.5)</td>\n",
       "      <td>(tfvec__max_features, 1600)</td>\n",
       "      <td>(tfvec__min_df, 1)</td>\n",
       "      <td>-</td>\n",
       "      <td>-</td>\n",
       "    </tr>\n",
       "    <tr>\n",
       "      <th>4</th>\n",
       "      <td>CVec MNB</td>\n",
       "      <td>0.866574</td>\n",
       "      <td>0.895802</td>\n",
       "      <td>0.862275</td>\n",
       "      <td>0.137725</td>\n",
       "      <td>(cvec__max_df, 0.7)</td>\n",
       "      <td>(cvec__max_features, 3000)</td>\n",
       "      <td>(cvec__min_df, 1)</td>\n",
       "      <td>(cvec__stop_words, None)</td>\n",
       "      <td>(mnb__alpha, 0.5)</td>\n",
       "      <td>(mnb__fit_prior, True)</td>\n",
       "    </tr>\n",
       "    <tr>\n",
       "      <th>5</th>\n",
       "      <td>CVec MNB_v2</td>\n",
       "      <td>0.866574</td>\n",
       "      <td>0.895802</td>\n",
       "      <td>0.862275</td>\n",
       "      <td>0.137725</td>\n",
       "      <td>(cvec__max_df, 0.65)</td>\n",
       "      <td>(cvec__max_features, 3000)</td>\n",
       "      <td>(cvec__min_df, 1)</td>\n",
       "      <td>(mnb__alpha, 0.5)</td>\n",
       "      <td>(mnb__fit_prior, True)</td>\n",
       "      <td>-</td>\n",
       "    </tr>\n",
       "    <tr>\n",
       "      <th>6</th>\n",
       "      <td>TfVec MNB</td>\n",
       "      <td>0.861325</td>\n",
       "      <td>0.917541</td>\n",
       "      <td>0.847305</td>\n",
       "      <td>0.152695</td>\n",
       "      <td>(mnb__alpha, 0.5)</td>\n",
       "      <td>(mnb__fit_prior, True)</td>\n",
       "      <td>(tfvec__max_df, 0.7)</td>\n",
       "      <td>(tfvec__min_df, 1)</td>\n",
       "      <td>(tfvec__ngram_range, (1, 1))</td>\n",
       "      <td>(tfvec__stop_words, english)</td>\n",
       "    </tr>\n",
       "    <tr>\n",
       "      <th>7</th>\n",
       "      <td>TfVec MNB_v2</td>\n",
       "      <td>0.861325</td>\n",
       "      <td>0.917541</td>\n",
       "      <td>0.847305</td>\n",
       "      <td>0.152695</td>\n",
       "      <td>(mnb__alpha, 0.5)</td>\n",
       "      <td>(mnb__fit_prior, True)</td>\n",
       "      <td>(tfvec__max_df, 0.65)</td>\n",
       "      <td>(tfvec__min_df, 1)</td>\n",
       "      <td>(tfvec__stop_words, english)</td>\n",
       "      <td>-</td>\n",
       "    </tr>\n",
       "    <tr>\n",
       "      <th>8</th>\n",
       "      <td>CVec GBoost</td>\n",
       "      <td>0.850067</td>\n",
       "      <td>0.925037</td>\n",
       "      <td>0.841317</td>\n",
       "      <td>0.158683</td>\n",
       "      <td>(cvec__max_df, 0.65)</td>\n",
       "      <td>(cvec__max_features, 3000)</td>\n",
       "      <td>(gb__learning_rate, 0.7)</td>\n",
       "      <td>(gb__max_depth, 5)</td>\n",
       "      <td>(gb__n_estimators, 200)</td>\n",
       "      <td>-</td>\n",
       "    </tr>\n",
       "    <tr>\n",
       "      <th>9</th>\n",
       "      <td>CVec GBoost_v2</td>\n",
       "      <td>0.850822</td>\n",
       "      <td>0.925037</td>\n",
       "      <td>0.841317</td>\n",
       "      <td>0.158683</td>\n",
       "      <td>(cvec__max_df, 0.6)</td>\n",
       "      <td>(cvec__max_features, 3500)</td>\n",
       "      <td>(gb__learning_rate, 0.7)</td>\n",
       "      <td>(gb__max_depth, 6)</td>\n",
       "      <td>(gb__n_estimators, 200)</td>\n",
       "      <td>-</td>\n",
       "    </tr>\n",
       "    <tr>\n",
       "      <th>10</th>\n",
       "      <td>TfVec GBoost</td>\n",
       "      <td>0.852330</td>\n",
       "      <td>0.925787</td>\n",
       "      <td>0.817365</td>\n",
       "      <td>0.182635</td>\n",
       "      <td>(gb__learning_rate, 0.7)</td>\n",
       "      <td>(gb__max_depth, 7)</td>\n",
       "      <td>(gb__n_estimators, 200)</td>\n",
       "      <td>(tfvec__stop_words, None)</td>\n",
       "      <td>-</td>\n",
       "      <td>-</td>\n",
       "    </tr>\n",
       "    <tr>\n",
       "      <th>11</th>\n",
       "      <td>TfVec GBoost_v2</td>\n",
       "      <td>0.843331</td>\n",
       "      <td>0.918291</td>\n",
       "      <td>0.820359</td>\n",
       "      <td>0.179641</td>\n",
       "      <td>(gb__learning_rate, 0.7)</td>\n",
       "      <td>(gb__max_depth, 8)</td>\n",
       "      <td>(gb__n_iter_no_change, 20)</td>\n",
       "      <td>(gb__tol, 0.03)</td>\n",
       "      <td>(gb__validation_fraction, 0.1)</td>\n",
       "      <td>-</td>\n",
       "    </tr>\n",
       "    <tr>\n",
       "      <th>12</th>\n",
       "      <td>Cvec AdaBoost</td>\n",
       "      <td>0.844829</td>\n",
       "      <td>0.925037</td>\n",
       "      <td>0.823353</td>\n",
       "      <td>0.176647</td>\n",
       "      <td>(ada__learning_rate, 0.8)</td>\n",
       "      <td>(ada__n_estimators, 200)</td>\n",
       "      <td>(cvec__stop_words, None)</td>\n",
       "      <td>-</td>\n",
       "      <td>-</td>\n",
       "      <td>-</td>\n",
       "    </tr>\n",
       "    <tr>\n",
       "      <th>13</th>\n",
       "      <td>CVec AdaBoost_v2</td>\n",
       "      <td>0.841819</td>\n",
       "      <td>0.925787</td>\n",
       "      <td>0.829341</td>\n",
       "      <td>0.170659</td>\n",
       "      <td>(ada__learning_rate, 0.7)</td>\n",
       "      <td>(ada__n_estimators, 300)</td>\n",
       "      <td>-</td>\n",
       "      <td>-</td>\n",
       "      <td>-</td>\n",
       "      <td>-</td>\n",
       "    </tr>\n",
       "    <tr>\n",
       "      <th>14</th>\n",
       "      <td>TfVec AdaBoost</td>\n",
       "      <td>0.841836</td>\n",
       "      <td>0.925787</td>\n",
       "      <td>0.823353</td>\n",
       "      <td>0.176647</td>\n",
       "      <td>(ada__learning_rate, 0.65)</td>\n",
       "      <td>(ada__n_estimators, 400)</td>\n",
       "      <td>-</td>\n",
       "      <td>-</td>\n",
       "      <td>-</td>\n",
       "      <td>-</td>\n",
       "    </tr>\n",
       "    <tr>\n",
       "      <th>15</th>\n",
       "      <td>TfVec AdaBoost_v2</td>\n",
       "      <td>0.841094</td>\n",
       "      <td>0.925787</td>\n",
       "      <td>0.817365</td>\n",
       "      <td>0.182635</td>\n",
       "      <td>(ada__learning_rate, 0.6)</td>\n",
       "      <td>(ada__n_estimators, 500)</td>\n",
       "      <td>-</td>\n",
       "      <td>-</td>\n",
       "      <td>-</td>\n",
       "      <td>-</td>\n",
       "    </tr>\n",
       "    <tr>\n",
       "      <th>16</th>\n",
       "      <td>CVec Bagging</td>\n",
       "      <td>0.827589</td>\n",
       "      <td>0.894303</td>\n",
       "      <td>0.802395</td>\n",
       "      <td>0.197605</td>\n",
       "      <td>(bag__max_features, 400)</td>\n",
       "      <td>(bag__n_estimators, 400)</td>\n",
       "      <td>(cvec__stop_words, None)</td>\n",
       "      <td>-</td>\n",
       "      <td>-</td>\n",
       "      <td>-</td>\n",
       "    </tr>\n",
       "    <tr>\n",
       "      <th>17</th>\n",
       "      <td>CVec Bagging_v2</td>\n",
       "      <td>0.832832</td>\n",
       "      <td>0.860570</td>\n",
       "      <td>0.823353</td>\n",
       "      <td>0.176647</td>\n",
       "      <td>(bag__max_samples, 400)</td>\n",
       "      <td>(bag__n_estimators, 200)</td>\n",
       "      <td>(cvec__stop_words, None)</td>\n",
       "      <td>-</td>\n",
       "      <td>-</td>\n",
       "      <td>-</td>\n",
       "    </tr>\n",
       "    <tr>\n",
       "      <th>18</th>\n",
       "      <td>TfVec Bagging</td>\n",
       "      <td>0.832834</td>\n",
       "      <td>0.883058</td>\n",
       "      <td>0.814371</td>\n",
       "      <td>0.185629</td>\n",
       "      <td>(bag__max_samples, 500)</td>\n",
       "      <td>(bag__n_estimators, 150)</td>\n",
       "      <td>-</td>\n",
       "      <td>-</td>\n",
       "      <td>-</td>\n",
       "      <td>-</td>\n",
       "    </tr>\n",
       "    <tr>\n",
       "      <th>19</th>\n",
       "      <td>CVec Decision Tree</td>\n",
       "      <td>0.820091</td>\n",
       "      <td>0.838831</td>\n",
       "      <td>0.799401</td>\n",
       "      <td>0.200599</td>\n",
       "      <td>(cvec__stop_words, None)</td>\n",
       "      <td>(dt__max_depth, 4)</td>\n",
       "      <td>(dt__max_features, 3000)</td>\n",
       "      <td>-</td>\n",
       "      <td>-</td>\n",
       "      <td>-</td>\n",
       "    </tr>\n",
       "    <tr>\n",
       "      <th>20</th>\n",
       "      <td>CVec Decision Tree_v2</td>\n",
       "      <td>0.826836</td>\n",
       "      <td>0.857571</td>\n",
       "      <td>0.817365</td>\n",
       "      <td>0.182635</td>\n",
       "      <td>(dt__max_depth, 5)</td>\n",
       "      <td>(dt__max_features, 3500)</td>\n",
       "      <td>-</td>\n",
       "      <td>-</td>\n",
       "      <td>-</td>\n",
       "      <td>-</td>\n",
       "    </tr>\n",
       "    <tr>\n",
       "      <th>21</th>\n",
       "      <td>TfVec Decision Tree</td>\n",
       "      <td>0.820086</td>\n",
       "      <td>0.868816</td>\n",
       "      <td>0.808383</td>\n",
       "      <td>0.191617</td>\n",
       "      <td>(dt__max_depth, 5)</td>\n",
       "      <td>(dt__max_features, 3500)</td>\n",
       "      <td>-</td>\n",
       "      <td>-</td>\n",
       "      <td>-</td>\n",
       "      <td>-</td>\n",
       "    </tr>\n",
       "    <tr>\n",
       "      <th>22</th>\n",
       "      <td>TfVec Decision Tree_v2</td>\n",
       "      <td>0.819339</td>\n",
       "      <td>0.847826</td>\n",
       "      <td>0.811377</td>\n",
       "      <td>0.188623</td>\n",
       "      <td>(dt__max_depth, 4)</td>\n",
       "      <td>(dt__max_features, 3000)</td>\n",
       "      <td>-</td>\n",
       "      <td>-</td>\n",
       "      <td>-</td>\n",
       "      <td>-</td>\n",
       "    </tr>\n",
       "    <tr>\n",
       "      <th>23</th>\n",
       "      <td>CVec Random Forest</td>\n",
       "      <td>0.817838</td>\n",
       "      <td>0.824588</td>\n",
       "      <td>0.802395</td>\n",
       "      <td>0.197605</td>\n",
       "      <td>(cvec__stop_words, None)</td>\n",
       "      <td>(rf__max_depth, 7)</td>\n",
       "      <td>(rf__max_samples, 500)</td>\n",
       "      <td>(rf__n_estimators, 1000)</td>\n",
       "      <td>-</td>\n",
       "      <td>-</td>\n",
       "    </tr>\n",
       "    <tr>\n",
       "      <th>24</th>\n",
       "      <td>CVec Random Forest_v2</td>\n",
       "      <td>0.820837</td>\n",
       "      <td>0.846327</td>\n",
       "      <td>0.802395</td>\n",
       "      <td>0.197605</td>\n",
       "      <td>(rf__max_depth, 8)</td>\n",
       "      <td>(rf__n_estimators, 800)</td>\n",
       "      <td>-</td>\n",
       "      <td>-</td>\n",
       "      <td>-</td>\n",
       "      <td>-</td>\n",
       "    </tr>\n",
       "    <tr>\n",
       "      <th>25</th>\n",
       "      <td>TfVec Random Forest</td>\n",
       "      <td>0.817088</td>\n",
       "      <td>0.841829</td>\n",
       "      <td>0.805389</td>\n",
       "      <td>0.194611</td>\n",
       "      <td>(rf__max_depth, 7)</td>\n",
       "      <td>(rf__n_estimators, 800)</td>\n",
       "      <td>-</td>\n",
       "      <td>-</td>\n",
       "      <td>-</td>\n",
       "      <td>-</td>\n",
       "    </tr>\n",
       "  </tbody>\n",
       "</table>\n",
       "</div>"
      ],
      "text/plain": [
       "                      model_used  cross_val_score  train_score  test_score  \\\n",
       "0       CVec Logistic Regression         0.844078     0.878561    0.814371   \n",
       "1    CVec Logistic Regression_v2         0.840328     0.921289    0.820359   \n",
       "2      TfVec Logistic Regression         0.838830     0.924288    0.835329   \n",
       "3   TfVec Logistic Regression_v2         0.841079     0.924288    0.829341   \n",
       "4                       CVec MNB         0.866574     0.895802    0.862275   \n",
       "5                    CVec MNB_v2         0.866574     0.895802    0.862275   \n",
       "6                      TfVec MNB         0.861325     0.917541    0.847305   \n",
       "7                   TfVec MNB_v2         0.861325     0.917541    0.847305   \n",
       "8                    CVec GBoost         0.850067     0.925037    0.841317   \n",
       "9                 CVec GBoost_v2         0.850822     0.925037    0.841317   \n",
       "10                  TfVec GBoost         0.852330     0.925787    0.817365   \n",
       "11               TfVec GBoost_v2         0.843331     0.918291    0.820359   \n",
       "12                 Cvec AdaBoost         0.844829     0.925037    0.823353   \n",
       "13              CVec AdaBoost_v2         0.841819     0.925787    0.829341   \n",
       "14                TfVec AdaBoost         0.841836     0.925787    0.823353   \n",
       "15             TfVec AdaBoost_v2         0.841094     0.925787    0.817365   \n",
       "16                  CVec Bagging         0.827589     0.894303    0.802395   \n",
       "17               CVec Bagging_v2         0.832832     0.860570    0.823353   \n",
       "18                 TfVec Bagging         0.832834     0.883058    0.814371   \n",
       "19            CVec Decision Tree         0.820091     0.838831    0.799401   \n",
       "20         CVec Decision Tree_v2         0.826836     0.857571    0.817365   \n",
       "21           TfVec Decision Tree         0.820086     0.868816    0.808383   \n",
       "22        TfVec Decision Tree_v2         0.819339     0.847826    0.811377   \n",
       "23            CVec Random Forest         0.817838     0.824588    0.802395   \n",
       "24         CVec Random Forest_v2         0.820837     0.846327    0.802395   \n",
       "25           TfVec Random Forest         0.817088     0.841829    0.805389   \n",
       "\n",
       "    misclass_rate                best_param_1                best_param_2  \\\n",
       "0        0.185629         (cvec__max_df, 0.7)  (cvec__max_features, 2000)   \n",
       "1        0.179641         (cvec__max_df, 0.6)  (cvec__max_features, 1500)   \n",
       "2        0.164671                 (lr__C, 10)        (tfvec__max_df, 0.6)   \n",
       "3        0.170659                 (lr__C, 10)        (tfvec__max_df, 0.5)   \n",
       "4        0.137725         (cvec__max_df, 0.7)  (cvec__max_features, 3000)   \n",
       "5        0.137725        (cvec__max_df, 0.65)  (cvec__max_features, 3000)   \n",
       "6        0.152695           (mnb__alpha, 0.5)      (mnb__fit_prior, True)   \n",
       "7        0.152695           (mnb__alpha, 0.5)      (mnb__fit_prior, True)   \n",
       "8        0.158683        (cvec__max_df, 0.65)  (cvec__max_features, 3000)   \n",
       "9        0.158683         (cvec__max_df, 0.6)  (cvec__max_features, 3500)   \n",
       "10       0.182635    (gb__learning_rate, 0.7)          (gb__max_depth, 7)   \n",
       "11       0.179641    (gb__learning_rate, 0.7)          (gb__max_depth, 8)   \n",
       "12       0.176647   (ada__learning_rate, 0.8)    (ada__n_estimators, 200)   \n",
       "13       0.170659   (ada__learning_rate, 0.7)    (ada__n_estimators, 300)   \n",
       "14       0.176647  (ada__learning_rate, 0.65)    (ada__n_estimators, 400)   \n",
       "15       0.182635   (ada__learning_rate, 0.6)    (ada__n_estimators, 500)   \n",
       "16       0.197605    (bag__max_features, 400)    (bag__n_estimators, 400)   \n",
       "17       0.176647     (bag__max_samples, 400)    (bag__n_estimators, 200)   \n",
       "18       0.185629     (bag__max_samples, 500)    (bag__n_estimators, 150)   \n",
       "19       0.200599    (cvec__stop_words, None)          (dt__max_depth, 4)   \n",
       "20       0.182635          (dt__max_depth, 5)    (dt__max_features, 3500)   \n",
       "21       0.191617          (dt__max_depth, 5)    (dt__max_features, 3500)   \n",
       "22       0.188623          (dt__max_depth, 4)    (dt__max_features, 3000)   \n",
       "23       0.197605    (cvec__stop_words, None)          (rf__max_depth, 7)   \n",
       "24       0.197605          (rf__max_depth, 8)     (rf__n_estimators, 800)   \n",
       "25       0.194611          (rf__max_depth, 7)     (rf__n_estimators, 800)   \n",
       "\n",
       "                   best_param_3               best_param_4  \\\n",
       "0             (cvec__min_df, 1)   (cvec__stop_words, None)   \n",
       "1                   (lr__C, 10)                          -   \n",
       "2   (tfvec__max_features, 1500)         (tfvec__min_df, 1)   \n",
       "3   (tfvec__max_features, 1600)         (tfvec__min_df, 1)   \n",
       "4             (cvec__min_df, 1)   (cvec__stop_words, None)   \n",
       "5             (cvec__min_df, 1)          (mnb__alpha, 0.5)   \n",
       "6          (tfvec__max_df, 0.7)         (tfvec__min_df, 1)   \n",
       "7         (tfvec__max_df, 0.65)         (tfvec__min_df, 1)   \n",
       "8      (gb__learning_rate, 0.7)         (gb__max_depth, 5)   \n",
       "9      (gb__learning_rate, 0.7)         (gb__max_depth, 6)   \n",
       "10      (gb__n_estimators, 200)  (tfvec__stop_words, None)   \n",
       "11   (gb__n_iter_no_change, 20)            (gb__tol, 0.03)   \n",
       "12     (cvec__stop_words, None)                          -   \n",
       "13                            -                          -   \n",
       "14                            -                          -   \n",
       "15                            -                          -   \n",
       "16     (cvec__stop_words, None)                          -   \n",
       "17     (cvec__stop_words, None)                          -   \n",
       "18                            -                          -   \n",
       "19     (dt__max_features, 3000)                          -   \n",
       "20                            -                          -   \n",
       "21                            -                          -   \n",
       "22                            -                          -   \n",
       "23       (rf__max_samples, 500)   (rf__n_estimators, 1000)   \n",
       "24                            -                          -   \n",
       "25                            -                          -   \n",
       "\n",
       "                      best_param_5                  best_param_6  \n",
       "0                     (lr__C, 0.1)             (lr__penalty, l2)  \n",
       "1                                -                             -  \n",
       "2        (tfvec__stop_words, None)                             -  \n",
       "3                                -                             -  \n",
       "4                (mnb__alpha, 0.5)        (mnb__fit_prior, True)  \n",
       "5           (mnb__fit_prior, True)                             -  \n",
       "6     (tfvec__ngram_range, (1, 1))  (tfvec__stop_words, english)  \n",
       "7     (tfvec__stop_words, english)                             -  \n",
       "8          (gb__n_estimators, 200)                             -  \n",
       "9          (gb__n_estimators, 200)                             -  \n",
       "10                               -                             -  \n",
       "11  (gb__validation_fraction, 0.1)                             -  \n",
       "12                               -                             -  \n",
       "13                               -                             -  \n",
       "14                               -                             -  \n",
       "15                               -                             -  \n",
       "16                               -                             -  \n",
       "17                               -                             -  \n",
       "18                               -                             -  \n",
       "19                               -                             -  \n",
       "20                               -                             -  \n",
       "21                               -                             -  \n",
       "22                               -                             -  \n",
       "23                               -                             -  \n",
       "24                               -                             -  \n",
       "25                               -                             -  "
      ]
     },
     "execution_count": 123,
     "metadata": {},
     "output_type": "execute_result"
    }
   ],
   "source": [
    "grid_search_df.to_csv('../datasets/model_tuning_no_https.csv')\n",
    "\n",
    "grid_search_df"
   ]
  },
  {
   "cell_type": "code",
   "execution_count": 124,
   "metadata": {},
   "outputs": [
    {
     "data": {
      "text/html": [
       "<div>\n",
       "<style scoped>\n",
       "    .dataframe tbody tr th:only-of-type {\n",
       "        vertical-align: middle;\n",
       "    }\n",
       "\n",
       "    .dataframe tbody tr th {\n",
       "        vertical-align: top;\n",
       "    }\n",
       "\n",
       "    .dataframe thead th {\n",
       "        text-align: right;\n",
       "    }\n",
       "</style>\n",
       "<table border=\"1\" class=\"dataframe\">\n",
       "  <thead>\n",
       "    <tr style=\"text-align: right;\">\n",
       "      <th></th>\n",
       "      <th>cross_val_score</th>\n",
       "      <th>train_score</th>\n",
       "      <th>test_score</th>\n",
       "      <th>misclass_rate</th>\n",
       "    </tr>\n",
       "  </thead>\n",
       "  <tbody>\n",
       "    <tr>\n",
       "      <th>count</th>\n",
       "      <td>26.000000</td>\n",
       "      <td>26.000000</td>\n",
       "      <td>26.000000</td>\n",
       "      <td>26.000000</td>\n",
       "    </tr>\n",
       "    <tr>\n",
       "      <th>mean</th>\n",
       "      <td>0.839293</td>\n",
       "      <td>0.893669</td>\n",
       "      <td>0.823814</td>\n",
       "      <td>0.176186</td>\n",
       "    </tr>\n",
       "    <tr>\n",
       "      <th>std</th>\n",
       "      <td>0.015197</td>\n",
       "      <td>0.034432</td>\n",
       "      <td>0.017777</td>\n",
       "      <td>0.017777</td>\n",
       "    </tr>\n",
       "    <tr>\n",
       "      <th>min</th>\n",
       "      <td>0.817088</td>\n",
       "      <td>0.824588</td>\n",
       "      <td>0.799401</td>\n",
       "      <td>0.137725</td>\n",
       "    </tr>\n",
       "    <tr>\n",
       "      <th>25%</th>\n",
       "      <td>0.827024</td>\n",
       "      <td>0.862631</td>\n",
       "      <td>0.812126</td>\n",
       "      <td>0.166168</td>\n",
       "    </tr>\n",
       "    <tr>\n",
       "      <th>50%</th>\n",
       "      <td>0.841086</td>\n",
       "      <td>0.906672</td>\n",
       "      <td>0.820359</td>\n",
       "      <td>0.179641</td>\n",
       "    </tr>\n",
       "    <tr>\n",
       "      <th>75%</th>\n",
       "      <td>0.848758</td>\n",
       "      <td>0.924850</td>\n",
       "      <td>0.833832</td>\n",
       "      <td>0.187874</td>\n",
       "    </tr>\n",
       "    <tr>\n",
       "      <th>max</th>\n",
       "      <td>0.866574</td>\n",
       "      <td>0.925787</td>\n",
       "      <td>0.862275</td>\n",
       "      <td>0.200599</td>\n",
       "    </tr>\n",
       "  </tbody>\n",
       "</table>\n",
       "</div>"
      ],
      "text/plain": [
       "       cross_val_score  train_score  test_score  misclass_rate\n",
       "count        26.000000    26.000000   26.000000      26.000000\n",
       "mean          0.839293     0.893669    0.823814       0.176186\n",
       "std           0.015197     0.034432    0.017777       0.017777\n",
       "min           0.817088     0.824588    0.799401       0.137725\n",
       "25%           0.827024     0.862631    0.812126       0.166168\n",
       "50%           0.841086     0.906672    0.820359       0.179641\n",
       "75%           0.848758     0.924850    0.833832       0.187874\n",
       "max           0.866574     0.925787    0.862275       0.200599"
      ]
     },
     "execution_count": 124,
     "metadata": {},
     "output_type": "execute_result"
    }
   ],
   "source": [
    "grid_search_df.describe()"
   ]
  },
  {
   "cell_type": "markdown",
   "metadata": {},
   "source": [
    "The average accuracy among these test scores was 0.824, a modest increase from the untuned models' average of 0.790, and would likely be even greater without the one lower score from the first CVec Decision Tree model.\n",
    "\n",
    "I do think that a few of these models are overfit, but the mean standard deviation for test and train scores are notable improvements in performance from the previous models. In theory, this means that these models are more predictable and, I'd guess, would score over 0.85 on the test set at least 10% of the time.\n",
    "\n",
    "I'm going to combine a few of the top-scoring models into a stacked final model to hopefully further increase the scores."
   ]
  },
  {
   "cell_type": "code",
   "execution_count": 125,
   "metadata": {},
   "outputs": [
    {
     "data": {
      "text/html": [
       "<div>\n",
       "<style scoped>\n",
       "    .dataframe tbody tr th:only-of-type {\n",
       "        vertical-align: middle;\n",
       "    }\n",
       "\n",
       "    .dataframe tbody tr th {\n",
       "        vertical-align: top;\n",
       "    }\n",
       "\n",
       "    .dataframe thead th {\n",
       "        text-align: right;\n",
       "    }\n",
       "</style>\n",
       "<table border=\"1\" class=\"dataframe\">\n",
       "  <thead>\n",
       "    <tr style=\"text-align: right;\">\n",
       "      <th></th>\n",
       "      <th>model_used</th>\n",
       "      <th>test_score</th>\n",
       "    </tr>\n",
       "  </thead>\n",
       "  <tbody>\n",
       "    <tr>\n",
       "      <th>4</th>\n",
       "      <td>CVec MNB</td>\n",
       "      <td>0.862275</td>\n",
       "    </tr>\n",
       "    <tr>\n",
       "      <th>5</th>\n",
       "      <td>CVec MNB_v2</td>\n",
       "      <td>0.862275</td>\n",
       "    </tr>\n",
       "    <tr>\n",
       "      <th>7</th>\n",
       "      <td>TfVec MNB_v2</td>\n",
       "      <td>0.847305</td>\n",
       "    </tr>\n",
       "    <tr>\n",
       "      <th>6</th>\n",
       "      <td>TfVec MNB</td>\n",
       "      <td>0.847305</td>\n",
       "    </tr>\n",
       "    <tr>\n",
       "      <th>9</th>\n",
       "      <td>CVec GBoost_v2</td>\n",
       "      <td>0.841317</td>\n",
       "    </tr>\n",
       "    <tr>\n",
       "      <th>8</th>\n",
       "      <td>CVec GBoost</td>\n",
       "      <td>0.841317</td>\n",
       "    </tr>\n",
       "    <tr>\n",
       "      <th>2</th>\n",
       "      <td>TfVec Logistic Regression</td>\n",
       "      <td>0.835329</td>\n",
       "    </tr>\n",
       "    <tr>\n",
       "      <th>13</th>\n",
       "      <td>CVec AdaBoost_v2</td>\n",
       "      <td>0.829341</td>\n",
       "    </tr>\n",
       "    <tr>\n",
       "      <th>3</th>\n",
       "      <td>TfVec Logistic Regression_v2</td>\n",
       "      <td>0.829341</td>\n",
       "    </tr>\n",
       "    <tr>\n",
       "      <th>12</th>\n",
       "      <td>Cvec AdaBoost</td>\n",
       "      <td>0.823353</td>\n",
       "    </tr>\n",
       "  </tbody>\n",
       "</table>\n",
       "</div>"
      ],
      "text/plain": [
       "                      model_used  test_score\n",
       "4                       CVec MNB    0.862275\n",
       "5                    CVec MNB_v2    0.862275\n",
       "7                   TfVec MNB_v2    0.847305\n",
       "6                      TfVec MNB    0.847305\n",
       "9                 CVec GBoost_v2    0.841317\n",
       "8                    CVec GBoost    0.841317\n",
       "2      TfVec Logistic Regression    0.835329\n",
       "13              CVec AdaBoost_v2    0.829341\n",
       "3   TfVec Logistic Regression_v2    0.829341\n",
       "12                 Cvec AdaBoost    0.823353"
      ]
     },
     "execution_count": 125,
     "metadata": {},
     "output_type": "execute_result"
    }
   ],
   "source": [
    "grid_search_df[['model_used', 'test_score']].sort_values(by=['test_score'], ascending=False).head(10)"
   ]
  },
  {
   "cell_type": "markdown",
   "metadata": {},
   "source": [
    "---\n",
    "\n",
    "## Interpretation"
   ]
  },
  {
   "cell_type": "markdown",
   "metadata": {},
   "source": [
    "I'll now be using the CVec Multinomial Naive Bayes model to pull out the log coefficients of the data, and answer an aspect of my problem statement: can the data be used to identify what people like or do not like about Ohio?"
   ]
  },
  {
   "cell_type": "code",
   "execution_count": 7,
   "metadata": {},
   "outputs": [],
   "source": [
    "# Reestablishing X and y\n",
    "X = reddit['selftext']\n",
    "y = reddit['subreddit_class'] # Not splitting into train/test here because I won't be scoring the model"
   ]
  },
  {
   "cell_type": "code",
   "execution_count": 8,
   "metadata": {},
   "outputs": [
    {
     "data": {
      "text/html": [
       "<style>#sk-container-id-1 {color: black;background-color: white;}#sk-container-id-1 pre{padding: 0;}#sk-container-id-1 div.sk-toggleable {background-color: white;}#sk-container-id-1 label.sk-toggleable__label {cursor: pointer;display: block;width: 100%;margin-bottom: 0;padding: 0.3em;box-sizing: border-box;text-align: center;}#sk-container-id-1 label.sk-toggleable__label-arrow:before {content: \"▸\";float: left;margin-right: 0.25em;color: #696969;}#sk-container-id-1 label.sk-toggleable__label-arrow:hover:before {color: black;}#sk-container-id-1 div.sk-estimator:hover label.sk-toggleable__label-arrow:before {color: black;}#sk-container-id-1 div.sk-toggleable__content {max-height: 0;max-width: 0;overflow: hidden;text-align: left;background-color: #f0f8ff;}#sk-container-id-1 div.sk-toggleable__content pre {margin: 0.2em;color: black;border-radius: 0.25em;background-color: #f0f8ff;}#sk-container-id-1 input.sk-toggleable__control:checked~div.sk-toggleable__content {max-height: 200px;max-width: 100%;overflow: auto;}#sk-container-id-1 input.sk-toggleable__control:checked~label.sk-toggleable__label-arrow:before {content: \"▾\";}#sk-container-id-1 div.sk-estimator input.sk-toggleable__control:checked~label.sk-toggleable__label {background-color: #d4ebff;}#sk-container-id-1 div.sk-label input.sk-toggleable__control:checked~label.sk-toggleable__label {background-color: #d4ebff;}#sk-container-id-1 input.sk-hidden--visually {border: 0;clip: rect(1px 1px 1px 1px);clip: rect(1px, 1px, 1px, 1px);height: 1px;margin: -1px;overflow: hidden;padding: 0;position: absolute;width: 1px;}#sk-container-id-1 div.sk-estimator {font-family: monospace;background-color: #f0f8ff;border: 1px dotted black;border-radius: 0.25em;box-sizing: border-box;margin-bottom: 0.5em;}#sk-container-id-1 div.sk-estimator:hover {background-color: #d4ebff;}#sk-container-id-1 div.sk-parallel-item::after {content: \"\";width: 100%;border-bottom: 1px solid gray;flex-grow: 1;}#sk-container-id-1 div.sk-label:hover label.sk-toggleable__label {background-color: #d4ebff;}#sk-container-id-1 div.sk-serial::before {content: \"\";position: absolute;border-left: 1px solid gray;box-sizing: border-box;top: 0;bottom: 0;left: 50%;z-index: 0;}#sk-container-id-1 div.sk-serial {display: flex;flex-direction: column;align-items: center;background-color: white;padding-right: 0.2em;padding-left: 0.2em;position: relative;}#sk-container-id-1 div.sk-item {position: relative;z-index: 1;}#sk-container-id-1 div.sk-parallel {display: flex;align-items: stretch;justify-content: center;background-color: white;position: relative;}#sk-container-id-1 div.sk-item::before, #sk-container-id-1 div.sk-parallel-item::before {content: \"\";position: absolute;border-left: 1px solid gray;box-sizing: border-box;top: 0;bottom: 0;left: 50%;z-index: -1;}#sk-container-id-1 div.sk-parallel-item {display: flex;flex-direction: column;z-index: 1;position: relative;background-color: white;}#sk-container-id-1 div.sk-parallel-item:first-child::after {align-self: flex-end;width: 50%;}#sk-container-id-1 div.sk-parallel-item:last-child::after {align-self: flex-start;width: 50%;}#sk-container-id-1 div.sk-parallel-item:only-child::after {width: 0;}#sk-container-id-1 div.sk-dashed-wrapped {border: 1px dashed gray;margin: 0 0.4em 0.5em 0.4em;box-sizing: border-box;padding-bottom: 0.4em;background-color: white;}#sk-container-id-1 div.sk-label label {font-family: monospace;font-weight: bold;display: inline-block;line-height: 1.2em;}#sk-container-id-1 div.sk-label-container {text-align: center;}#sk-container-id-1 div.sk-container {/* jupyter's `normalize.less` sets `[hidden] { display: none; }` but bootstrap.min.css set `[hidden] { display: none !important; }` so we also need the `!important` here to be able to override the default hidden behavior on the sphinx rendered scikit-learn.org. See: https://github.com/scikit-learn/scikit-learn/issues/21755 */display: inline-block !important;position: relative;}#sk-container-id-1 div.sk-text-repr-fallback {display: none;}</style><div id=\"sk-container-id-1\" class=\"sk-top-container\"><div class=\"sk-text-repr-fallback\"><pre>MultinomialNB(alpha=0.5)</pre><b>In a Jupyter environment, please rerun this cell to show the HTML representation or trust the notebook. <br />On GitHub, the HTML representation is unable to render, please try loading this page with nbviewer.org.</b></div><div class=\"sk-container\" hidden><div class=\"sk-item\"><div class=\"sk-estimator sk-toggleable\"><input class=\"sk-toggleable__control sk-hidden--visually\" id=\"sk-estimator-id-1\" type=\"checkbox\" checked><label for=\"sk-estimator-id-1\" class=\"sk-toggleable__label sk-toggleable__label-arrow\">MultinomialNB</label><div class=\"sk-toggleable__content\"><pre>MultinomialNB(alpha=0.5)</pre></div></div></div></div></div>"
      ],
      "text/plain": [
       "MultinomialNB(alpha=0.5)"
      ]
     },
     "execution_count": 8,
     "metadata": {},
     "output_type": "execute_result"
    }
   ],
   "source": [
    "# Setting the hyperparameters to the top-performing model's\n",
    "cvec = CountVectorizer(max_df=0.7, max_features=3000, min_df=1) \n",
    "new_feats = cvec.fit_transform(X)\n",
    "\n",
    "mnb = MultinomialNB(alpha=0.5, fit_prior=True)\n",
    "mnb.fit(new_feats, y)"
   ]
  },
  {
   "cell_type": "code",
   "execution_count": 9,
   "metadata": {},
   "outputs": [
    {
     "data": {
      "text/html": [
       "<div>\n",
       "<style scoped>\n",
       "    .dataframe tbody tr th:only-of-type {\n",
       "        vertical-align: middle;\n",
       "    }\n",
       "\n",
       "    .dataframe tbody tr th {\n",
       "        vertical-align: top;\n",
       "    }\n",
       "\n",
       "    .dataframe thead th {\n",
       "        text-align: right;\n",
       "    }\n",
       "</style>\n",
       "<table border=\"1\" class=\"dataframe\">\n",
       "  <thead>\n",
       "    <tr style=\"text-align: right;\">\n",
       "      <th></th>\n",
       "      <th>ohio_words</th>\n",
       "      <th>ohio_coefs</th>\n",
       "      <th>ihateohio_words</th>\n",
       "      <th>ihateohio_coefs</th>\n",
       "    </tr>\n",
       "  </thead>\n",
       "  <tbody>\n",
       "    <tr>\n",
       "      <th>0</th>\n",
       "      <td>to</td>\n",
       "      <td>-3.270002</td>\n",
       "      <td>the</td>\n",
       "      <td>-3.277284</td>\n",
       "    </tr>\n",
       "    <tr>\n",
       "      <th>1</th>\n",
       "      <td>the</td>\n",
       "      <td>-3.339775</td>\n",
       "      <td>ohio</td>\n",
       "      <td>-3.673221</td>\n",
       "    </tr>\n",
       "    <tr>\n",
       "      <th>2</th>\n",
       "      <td>and</td>\n",
       "      <td>-3.534959</td>\n",
       "      <td>and</td>\n",
       "      <td>-3.677607</td>\n",
       "    </tr>\n",
       "    <tr>\n",
       "      <th>3</th>\n",
       "      <td>in</td>\n",
       "      <td>-3.964086</td>\n",
       "      <td>to</td>\n",
       "      <td>-3.717972</td>\n",
       "    </tr>\n",
       "    <tr>\n",
       "      <th>4</th>\n",
       "      <td>of</td>\n",
       "      <td>-4.109014</td>\n",
       "      <td>it</td>\n",
       "      <td>-4.001847</td>\n",
       "    </tr>\n",
       "    <tr>\n",
       "      <th>5</th>\n",
       "      <td>it</td>\n",
       "      <td>-4.212371</td>\n",
       "      <td>of</td>\n",
       "      <td>-4.084172</td>\n",
       "    </tr>\n",
       "    <tr>\n",
       "      <th>6</th>\n",
       "      <td>is</td>\n",
       "      <td>-4.275149</td>\n",
       "      <td>is</td>\n",
       "      <td>-4.256641</td>\n",
       "    </tr>\n",
       "    <tr>\n",
       "      <th>7</th>\n",
       "      <td>for</td>\n",
       "      <td>-4.290614</td>\n",
       "      <td>in</td>\n",
       "      <td>-4.338319</td>\n",
       "    </tr>\n",
       "    <tr>\n",
       "      <th>8</th>\n",
       "      <td>my</td>\n",
       "      <td>-4.443755</td>\n",
       "      <td>that</td>\n",
       "      <td>-4.644613</td>\n",
       "    </tr>\n",
       "    <tr>\n",
       "      <th>9</th>\n",
       "      <td>that</td>\n",
       "      <td>-4.480758</td>\n",
       "      <td>just</td>\n",
       "      <td>-4.716500</td>\n",
       "    </tr>\n",
       "    <tr>\n",
       "      <th>10</th>\n",
       "      <td>this</td>\n",
       "      <td>-4.656608</td>\n",
       "      <td>from</td>\n",
       "      <td>-4.767467</td>\n",
       "    </tr>\n",
       "    <tr>\n",
       "      <th>11</th>\n",
       "      <td>have</td>\n",
       "      <td>-4.674241</td>\n",
       "      <td>you</td>\n",
       "      <td>-4.821171</td>\n",
       "    </tr>\n",
       "    <tr>\n",
       "      <th>12</th>\n",
       "      <td>but</td>\n",
       "      <td>-4.734469</td>\n",
       "      <td>my</td>\n",
       "      <td>-4.877924</td>\n",
       "    </tr>\n",
       "    <tr>\n",
       "      <th>13</th>\n",
       "      <td>on</td>\n",
       "      <td>-4.824798</td>\n",
       "      <td>for</td>\n",
       "      <td>-4.907556</td>\n",
       "    </tr>\n",
       "    <tr>\n",
       "      <th>14</th>\n",
       "      <td>we</td>\n",
       "      <td>-4.860892</td>\n",
       "      <td>me</td>\n",
       "      <td>-4.938092</td>\n",
       "    </tr>\n",
       "    <tr>\n",
       "      <th>15</th>\n",
       "      <td>be</td>\n",
       "      <td>-4.891999</td>\n",
       "      <td>but</td>\n",
       "      <td>-4.953718</td>\n",
       "    </tr>\n",
       "    <tr>\n",
       "      <th>16</th>\n",
       "      <td>are</td>\n",
       "      <td>-4.917600</td>\n",
       "      <td>are</td>\n",
       "      <td>-5.002114</td>\n",
       "    </tr>\n",
       "    <tr>\n",
       "      <th>17</th>\n",
       "      <td>ohio</td>\n",
       "      <td>-4.927372</td>\n",
       "      <td>here</td>\n",
       "      <td>-5.002114</td>\n",
       "    </tr>\n",
       "    <tr>\n",
       "      <th>18</th>\n",
       "      <td>you</td>\n",
       "      <td>-4.930651</td>\n",
       "      <td>have</td>\n",
       "      <td>-5.018781</td>\n",
       "    </tr>\n",
       "    <tr>\n",
       "      <th>19</th>\n",
       "      <td>if</td>\n",
       "      <td>-4.937241</td>\n",
       "      <td>so</td>\n",
       "      <td>-5.052973</td>\n",
       "    </tr>\n",
       "  </tbody>\n",
       "</table>\n",
       "</div>"
      ],
      "text/plain": [
       "   ohio_words  ohio_coefs ihateohio_words  ihateohio_coefs\n",
       "0          to   -3.270002             the        -3.277284\n",
       "1         the   -3.339775            ohio        -3.673221\n",
       "2         and   -3.534959             and        -3.677607\n",
       "3          in   -3.964086              to        -3.717972\n",
       "4          of   -4.109014              it        -4.001847\n",
       "5          it   -4.212371              of        -4.084172\n",
       "6          is   -4.275149              is        -4.256641\n",
       "7         for   -4.290614              in        -4.338319\n",
       "8          my   -4.443755            that        -4.644613\n",
       "9        that   -4.480758            just        -4.716500\n",
       "10       this   -4.656608            from        -4.767467\n",
       "11       have   -4.674241             you        -4.821171\n",
       "12        but   -4.734469              my        -4.877924\n",
       "13         on   -4.824798             for        -4.907556\n",
       "14         we   -4.860892              me        -4.938092\n",
       "15         be   -4.891999             but        -4.953718\n",
       "16        are   -4.917600             are        -5.002114\n",
       "17       ohio   -4.927372            here        -5.002114\n",
       "18        you   -4.930651            have        -5.018781\n",
       "19         if   -4.937241              so        -5.052973"
      ]
     },
     "execution_count": 9,
     "metadata": {},
     "output_type": "execute_result"
    }
   ],
   "source": [
    "words = cvec.get_feature_names_out()\n",
    "\n",
    "neg_zipped_words = list(zip(words, mnb.feature_log_prob_[0]))\n",
    "neg_sorted = sorted(neg_zipped_words, key=lambda t: t[1], reverse=True)\n",
    "neg_words = pd.DataFrame(neg_sorted, columns=['ohio_words', 'ohio_coefs'])\n",
    "\n",
    "pos_zipped_words = list(zip(words, mnb.feature_log_prob_[1]))\n",
    "pos_sorted = sorted(pos_zipped_words, key=lambda t: t[1], reverse=True)\n",
    "pos_words = pd.DataFrame(pos_sorted, columns=['ihateohio_words', 'ihateohio_coefs'])\n",
    "\n",
    "all_words = pd.concat([neg_words, pos_words], axis=1)\n",
    "all_words.head(20)"
   ]
  },
  {
   "cell_type": "markdown",
   "metadata": {},
   "source": [
    "These are the top 20 coefficients for predicting both classes (note: all numbers are negative as these are log probabilities). The table is rather uninteresting and made up almost entirely of stopwords. These were intentionally not excluded, because the MNB grid search indicated that it scored highest when stopwords were not set. \n",
    "\n",
    "Not only do the two classes share eight out of their top ten words, the coefficient values are also very similar. What we can infer here is that when the word 'ohio' is used, the probability that the post is from the IHateOhio subreddit is greater than the probability that it is from the Ohio thread.\n",
    "\n",
    "For the sake of curiosity and more inference, I'll be running the same model below with stopwords removed this time to see if this aids our ability to interpret the importance of the words in the model."
   ]
  },
  {
   "cell_type": "code",
   "execution_count": 12,
   "metadata": {},
   "outputs": [
    {
     "data": {
      "text/html": [
       "<style>#sk-container-id-3 {color: black;background-color: white;}#sk-container-id-3 pre{padding: 0;}#sk-container-id-3 div.sk-toggleable {background-color: white;}#sk-container-id-3 label.sk-toggleable__label {cursor: pointer;display: block;width: 100%;margin-bottom: 0;padding: 0.3em;box-sizing: border-box;text-align: center;}#sk-container-id-3 label.sk-toggleable__label-arrow:before {content: \"▸\";float: left;margin-right: 0.25em;color: #696969;}#sk-container-id-3 label.sk-toggleable__label-arrow:hover:before {color: black;}#sk-container-id-3 div.sk-estimator:hover label.sk-toggleable__label-arrow:before {color: black;}#sk-container-id-3 div.sk-toggleable__content {max-height: 0;max-width: 0;overflow: hidden;text-align: left;background-color: #f0f8ff;}#sk-container-id-3 div.sk-toggleable__content pre {margin: 0.2em;color: black;border-radius: 0.25em;background-color: #f0f8ff;}#sk-container-id-3 input.sk-toggleable__control:checked~div.sk-toggleable__content {max-height: 200px;max-width: 100%;overflow: auto;}#sk-container-id-3 input.sk-toggleable__control:checked~label.sk-toggleable__label-arrow:before {content: \"▾\";}#sk-container-id-3 div.sk-estimator input.sk-toggleable__control:checked~label.sk-toggleable__label {background-color: #d4ebff;}#sk-container-id-3 div.sk-label input.sk-toggleable__control:checked~label.sk-toggleable__label {background-color: #d4ebff;}#sk-container-id-3 input.sk-hidden--visually {border: 0;clip: rect(1px 1px 1px 1px);clip: rect(1px, 1px, 1px, 1px);height: 1px;margin: -1px;overflow: hidden;padding: 0;position: absolute;width: 1px;}#sk-container-id-3 div.sk-estimator {font-family: monospace;background-color: #f0f8ff;border: 1px dotted black;border-radius: 0.25em;box-sizing: border-box;margin-bottom: 0.5em;}#sk-container-id-3 div.sk-estimator:hover {background-color: #d4ebff;}#sk-container-id-3 div.sk-parallel-item::after {content: \"\";width: 100%;border-bottom: 1px solid gray;flex-grow: 1;}#sk-container-id-3 div.sk-label:hover label.sk-toggleable__label {background-color: #d4ebff;}#sk-container-id-3 div.sk-serial::before {content: \"\";position: absolute;border-left: 1px solid gray;box-sizing: border-box;top: 0;bottom: 0;left: 50%;z-index: 0;}#sk-container-id-3 div.sk-serial {display: flex;flex-direction: column;align-items: center;background-color: white;padding-right: 0.2em;padding-left: 0.2em;position: relative;}#sk-container-id-3 div.sk-item {position: relative;z-index: 1;}#sk-container-id-3 div.sk-parallel {display: flex;align-items: stretch;justify-content: center;background-color: white;position: relative;}#sk-container-id-3 div.sk-item::before, #sk-container-id-3 div.sk-parallel-item::before {content: \"\";position: absolute;border-left: 1px solid gray;box-sizing: border-box;top: 0;bottom: 0;left: 50%;z-index: -1;}#sk-container-id-3 div.sk-parallel-item {display: flex;flex-direction: column;z-index: 1;position: relative;background-color: white;}#sk-container-id-3 div.sk-parallel-item:first-child::after {align-self: flex-end;width: 50%;}#sk-container-id-3 div.sk-parallel-item:last-child::after {align-self: flex-start;width: 50%;}#sk-container-id-3 div.sk-parallel-item:only-child::after {width: 0;}#sk-container-id-3 div.sk-dashed-wrapped {border: 1px dashed gray;margin: 0 0.4em 0.5em 0.4em;box-sizing: border-box;padding-bottom: 0.4em;background-color: white;}#sk-container-id-3 div.sk-label label {font-family: monospace;font-weight: bold;display: inline-block;line-height: 1.2em;}#sk-container-id-3 div.sk-label-container {text-align: center;}#sk-container-id-3 div.sk-container {/* jupyter's `normalize.less` sets `[hidden] { display: none; }` but bootstrap.min.css set `[hidden] { display: none !important; }` so we also need the `!important` here to be able to override the default hidden behavior on the sphinx rendered scikit-learn.org. See: https://github.com/scikit-learn/scikit-learn/issues/21755 */display: inline-block !important;position: relative;}#sk-container-id-3 div.sk-text-repr-fallback {display: none;}</style><div id=\"sk-container-id-3\" class=\"sk-top-container\"><div class=\"sk-text-repr-fallback\"><pre>MultinomialNB(alpha=0.5)</pre><b>In a Jupyter environment, please rerun this cell to show the HTML representation or trust the notebook. <br />On GitHub, the HTML representation is unable to render, please try loading this page with nbviewer.org.</b></div><div class=\"sk-container\" hidden><div class=\"sk-item\"><div class=\"sk-estimator sk-toggleable\"><input class=\"sk-toggleable__control sk-hidden--visually\" id=\"sk-estimator-id-3\" type=\"checkbox\" checked><label for=\"sk-estimator-id-3\" class=\"sk-toggleable__label sk-toggleable__label-arrow\">MultinomialNB</label><div class=\"sk-toggleable__content\"><pre>MultinomialNB(alpha=0.5)</pre></div></div></div></div></div>"
      ],
      "text/plain": [
       "MultinomialNB(alpha=0.5)"
      ]
     },
     "execution_count": 12,
     "metadata": {},
     "output_type": "execute_result"
    }
   ],
   "source": [
    "cvec = CountVectorizer(max_df=0.7, max_features=3000, min_df=1, stop_words='english') \n",
    "new_feats = cvec.fit_transform(X)\n",
    "\n",
    "mnb = MultinomialNB(alpha=0.5, fit_prior=True)\n",
    "mnb.fit(new_feats, y)"
   ]
  },
  {
   "cell_type": "code",
   "execution_count": 13,
   "metadata": {},
   "outputs": [
    {
     "data": {
      "text/html": [
       "<div>\n",
       "<style scoped>\n",
       "    .dataframe tbody tr th:only-of-type {\n",
       "        vertical-align: middle;\n",
       "    }\n",
       "\n",
       "    .dataframe tbody tr th {\n",
       "        vertical-align: top;\n",
       "    }\n",
       "\n",
       "    .dataframe thead th {\n",
       "        text-align: right;\n",
       "    }\n",
       "</style>\n",
       "<table border=\"1\" class=\"dataframe\">\n",
       "  <thead>\n",
       "    <tr style=\"text-align: right;\">\n",
       "      <th></th>\n",
       "      <th>ohio_words</th>\n",
       "      <th>ohio_coefs</th>\n",
       "      <th>ihateohio_words</th>\n",
       "      <th>ihateohio_coefs</th>\n",
       "    </tr>\n",
       "  </thead>\n",
       "  <tbody>\n",
       "    <tr>\n",
       "      <th>0</th>\n",
       "      <td>ohio</td>\n",
       "      <td>-4.155399</td>\n",
       "      <td>ohio</td>\n",
       "      <td>-3.071558</td>\n",
       "    </tr>\n",
       "    <tr>\n",
       "      <th>1</th>\n",
       "      <td>just</td>\n",
       "      <td>-4.288229</td>\n",
       "      <td>just</td>\n",
       "      <td>-4.114837</td>\n",
       "    </tr>\n",
       "    <tr>\n",
       "      <th>2</th>\n",
       "      <td>know</td>\n",
       "      <td>-4.643570</td>\n",
       "      <td>state</td>\n",
       "      <td>-4.486711</td>\n",
       "    </tr>\n",
       "    <tr>\n",
       "      <th>3</th>\n",
       "      <td>like</td>\n",
       "      <td>-4.681618</td>\n",
       "      <td>people</td>\n",
       "      <td>-4.542281</td>\n",
       "    </tr>\n",
       "    <tr>\n",
       "      <th>4</th>\n",
       "      <td>people</td>\n",
       "      <td>-4.961024</td>\n",
       "      <td>like</td>\n",
       "      <td>-4.601122</td>\n",
       "    </tr>\n",
       "    <tr>\n",
       "      <th>5</th>\n",
       "      <td>don</td>\n",
       "      <td>-5.085699</td>\n",
       "      <td>fuck</td>\n",
       "      <td>-4.777401</td>\n",
       "    </tr>\n",
       "    <tr>\n",
       "      <th>6</th>\n",
       "      <td>ve</td>\n",
       "      <td>-5.110911</td>\n",
       "      <td>fucking</td>\n",
       "      <td>-4.777401</td>\n",
       "    </tr>\n",
       "    <tr>\n",
       "      <th>7</th>\n",
       "      <td>state</td>\n",
       "      <td>-5.154396</td>\n",
       "      <td>hate</td>\n",
       "      <td>-4.933562</td>\n",
       "    </tr>\n",
       "    <tr>\n",
       "      <th>8</th>\n",
       "      <td>looking</td>\n",
       "      <td>-5.218638</td>\n",
       "      <td>shit</td>\n",
       "      <td>-5.188908</td>\n",
       "    </tr>\n",
       "    <tr>\n",
       "      <th>9</th>\n",
       "      <td>time</td>\n",
       "      <td>-5.257290</td>\n",
       "      <td>place</td>\n",
       "      <td>-5.264416</td>\n",
       "    </tr>\n",
       "    <tr>\n",
       "      <th>10</th>\n",
       "      <td>want</td>\n",
       "      <td>-5.267191</td>\n",
       "      <td>ve</td>\n",
       "      <td>-5.264416</td>\n",
       "    </tr>\n",
       "    <tr>\n",
       "      <th>11</th>\n",
       "      <td>help</td>\n",
       "      <td>-5.405710</td>\n",
       "      <td>want</td>\n",
       "      <td>-5.304421</td>\n",
       "    </tr>\n",
       "    <tr>\n",
       "      <th>12</th>\n",
       "      <td>need</td>\n",
       "      <td>-5.464551</td>\n",
       "      <td>michigan</td>\n",
       "      <td>-5.346094</td>\n",
       "    </tr>\n",
       "    <tr>\n",
       "      <th>13</th>\n",
       "      <td>place</td>\n",
       "      <td>-5.580063</td>\n",
       "      <td>don</td>\n",
       "      <td>-5.389579</td>\n",
       "    </tr>\n",
       "    <tr>\n",
       "      <th>14</th>\n",
       "      <td>thanks</td>\n",
       "      <td>-5.593762</td>\n",
       "      <td>know</td>\n",
       "      <td>-5.389579</td>\n",
       "    </tr>\n",
       "    <tr>\n",
       "      <th>15</th>\n",
       "      <td>does</td>\n",
       "      <td>-5.607651</td>\n",
       "      <td>good</td>\n",
       "      <td>-5.435041</td>\n",
       "    </tr>\n",
       "    <tr>\n",
       "      <th>16</th>\n",
       "      <td>good</td>\n",
       "      <td>-5.607651</td>\n",
       "      <td>bad</td>\n",
       "      <td>-5.585324</td>\n",
       "    </tr>\n",
       "    <tr>\n",
       "      <th>17</th>\n",
       "      <td>really</td>\n",
       "      <td>-5.636022</td>\n",
       "      <td>really</td>\n",
       "      <td>-5.585324</td>\n",
       "    </tr>\n",
       "    <tr>\n",
       "      <th>18</th>\n",
       "      <td>area</td>\n",
       "      <td>-5.650515</td>\n",
       "      <td>think</td>\n",
       "      <td>-5.699734</td>\n",
       "    </tr>\n",
       "    <tr>\n",
       "      <th>19</th>\n",
       "      <td>live</td>\n",
       "      <td>-5.680147</td>\n",
       "      <td>hell</td>\n",
       "      <td>-5.762254</td>\n",
       "    </tr>\n",
       "  </tbody>\n",
       "</table>\n",
       "</div>"
      ],
      "text/plain": [
       "   ohio_words  ohio_coefs ihateohio_words  ihateohio_coefs\n",
       "0        ohio   -4.155399            ohio        -3.071558\n",
       "1        just   -4.288229            just        -4.114837\n",
       "2        know   -4.643570           state        -4.486711\n",
       "3        like   -4.681618          people        -4.542281\n",
       "4      people   -4.961024            like        -4.601122\n",
       "5         don   -5.085699            fuck        -4.777401\n",
       "6          ve   -5.110911         fucking        -4.777401\n",
       "7       state   -5.154396            hate        -4.933562\n",
       "8     looking   -5.218638            shit        -5.188908\n",
       "9        time   -5.257290           place        -5.264416\n",
       "10       want   -5.267191              ve        -5.264416\n",
       "11       help   -5.405710            want        -5.304421\n",
       "12       need   -5.464551        michigan        -5.346094\n",
       "13      place   -5.580063             don        -5.389579\n",
       "14     thanks   -5.593762            know        -5.389579\n",
       "15       does   -5.607651            good        -5.435041\n",
       "16       good   -5.607651             bad        -5.585324\n",
       "17     really   -5.636022          really        -5.585324\n",
       "18       area   -5.650515           think        -5.699734\n",
       "19       live   -5.680147            hell        -5.762254"
      ]
     },
     "execution_count": 13,
     "metadata": {},
     "output_type": "execute_result"
    }
   ],
   "source": [
    "no_stopwords = cvec.get_feature_names_out()\n",
    "\n",
    "neg_zipped_words = list(zip(no_stopwords, mnb.feature_log_prob_[0]))\n",
    "neg_sorted = sorted(neg_zipped_words, key=lambda t: t[1], reverse=True)\n",
    "neg_words = pd.DataFrame(neg_sorted, columns=['ohio_words', 'ohio_coefs'])\n",
    "\n",
    "pos_zipped_words = list(zip(no_stopwords, mnb.feature_log_prob_[1]))\n",
    "pos_sorted = sorted(pos_zipped_words, key=lambda t: t[1], reverse=True)\n",
    "pos_words = pd.DataFrame(pos_sorted, columns=['ihateohio_words', 'ihateohio_coefs'])\n",
    "\n",
    "all_non_stopwords = pd.concat([neg_words, pos_words], axis=1)\n",
    "all_non_stopwords.head(20)"
   ]
  },
  {
   "cell_type": "markdown",
   "metadata": {},
   "source": [
    "The above dataframe gives us more thought-provoking information on which words the model looks for to predict the class. Again, the word 'ohio' is a clear indicator of the IHateOhio subreddit. We do see a lot similarities between the two threads here, but the contrast also becomes more distinct with the expletives, words like \"hate\" and \"bad,\" and less obvious words like \"michigan.\"\n",
    "\n",
    "To address the original question of, can this data be used to ascertain any information about what people like or dislike about Ohio, I think the answer is no. There are very few mentions of any monuments, things to do, or attributes of the state. The data above does not give us much to go on, and by the time we get to the more interesting words, the log probs will likely be low enough that there is not a classification/probability effect worth noting."
   ]
  },
  {
   "cell_type": "markdown",
   "metadata": {},
   "source": [
    "---\n",
    "\n",
    "## Stacking Best Models"
   ]
  },
  {
   "cell_type": "code",
   "execution_count": 14,
   "metadata": {},
   "outputs": [],
   "source": [
    "X = reddit['selftext']\n",
    "y = reddit['subreddit_class']\n",
    "X_train, X_test, y_train, y_test = train_test_split(X, y, test_size=.2, stratify=y, random_state=42)"
   ]
  },
  {
   "cell_type": "markdown",
   "metadata": {},
   "source": [
    "### MNB & Gradient Boosting"
   ]
  },
  {
   "cell_type": "code",
   "execution_count": 127,
   "metadata": {},
   "outputs": [],
   "source": [
    "level1_est = [\n",
    "    ('mnb_pipe', Pipeline([\n",
    "        ('cvec', CountVectorizer(max_df=0.7, max_features=3000, min_df=1)),\n",
    "        ('mnb', MultinomialNB(alpha=0.5))\n",
    "    ])),\n",
    "    ('gb_pipe', Pipeline([\n",
    "        ('cvec', CountVectorizer(max_df=0.6, max_features=3500)),\n",
    "        ('gb', GradientBoostingClassifier(learning_rate=0.7, max_depth=6, n_estimators=200))\n",
    "    ]))\n",
    "]\n",
    "\n",
    "stacked_model = StackingClassifier(estimators=level1_est, final_estimator=LogisticRegression(solver='saga', C=10, penalty='l1'))"
   ]
  },
  {
   "cell_type": "code",
   "execution_count": 128,
   "metadata": {},
   "outputs": [
    {
     "name": "stdout",
     "output_type": "stream",
     "text": [
      "0.8687984004956212\n"
     ]
    },
    {
     "data": {
      "text/html": [
       "<style>#sk-container-id-1 {color: black;background-color: white;}#sk-container-id-1 pre{padding: 0;}#sk-container-id-1 div.sk-toggleable {background-color: white;}#sk-container-id-1 label.sk-toggleable__label {cursor: pointer;display: block;width: 100%;margin-bottom: 0;padding: 0.3em;box-sizing: border-box;text-align: center;}#sk-container-id-1 label.sk-toggleable__label-arrow:before {content: \"▸\";float: left;margin-right: 0.25em;color: #696969;}#sk-container-id-1 label.sk-toggleable__label-arrow:hover:before {color: black;}#sk-container-id-1 div.sk-estimator:hover label.sk-toggleable__label-arrow:before {color: black;}#sk-container-id-1 div.sk-toggleable__content {max-height: 0;max-width: 0;overflow: hidden;text-align: left;background-color: #f0f8ff;}#sk-container-id-1 div.sk-toggleable__content pre {margin: 0.2em;color: black;border-radius: 0.25em;background-color: #f0f8ff;}#sk-container-id-1 input.sk-toggleable__control:checked~div.sk-toggleable__content {max-height: 200px;max-width: 100%;overflow: auto;}#sk-container-id-1 input.sk-toggleable__control:checked~label.sk-toggleable__label-arrow:before {content: \"▾\";}#sk-container-id-1 div.sk-estimator input.sk-toggleable__control:checked~label.sk-toggleable__label {background-color: #d4ebff;}#sk-container-id-1 div.sk-label input.sk-toggleable__control:checked~label.sk-toggleable__label {background-color: #d4ebff;}#sk-container-id-1 input.sk-hidden--visually {border: 0;clip: rect(1px 1px 1px 1px);clip: rect(1px, 1px, 1px, 1px);height: 1px;margin: -1px;overflow: hidden;padding: 0;position: absolute;width: 1px;}#sk-container-id-1 div.sk-estimator {font-family: monospace;background-color: #f0f8ff;border: 1px dotted black;border-radius: 0.25em;box-sizing: border-box;margin-bottom: 0.5em;}#sk-container-id-1 div.sk-estimator:hover {background-color: #d4ebff;}#sk-container-id-1 div.sk-parallel-item::after {content: \"\";width: 100%;border-bottom: 1px solid gray;flex-grow: 1;}#sk-container-id-1 div.sk-label:hover label.sk-toggleable__label {background-color: #d4ebff;}#sk-container-id-1 div.sk-serial::before {content: \"\";position: absolute;border-left: 1px solid gray;box-sizing: border-box;top: 0;bottom: 0;left: 50%;z-index: 0;}#sk-container-id-1 div.sk-serial {display: flex;flex-direction: column;align-items: center;background-color: white;padding-right: 0.2em;padding-left: 0.2em;position: relative;}#sk-container-id-1 div.sk-item {position: relative;z-index: 1;}#sk-container-id-1 div.sk-parallel {display: flex;align-items: stretch;justify-content: center;background-color: white;position: relative;}#sk-container-id-1 div.sk-item::before, #sk-container-id-1 div.sk-parallel-item::before {content: \"\";position: absolute;border-left: 1px solid gray;box-sizing: border-box;top: 0;bottom: 0;left: 50%;z-index: -1;}#sk-container-id-1 div.sk-parallel-item {display: flex;flex-direction: column;z-index: 1;position: relative;background-color: white;}#sk-container-id-1 div.sk-parallel-item:first-child::after {align-self: flex-end;width: 50%;}#sk-container-id-1 div.sk-parallel-item:last-child::after {align-self: flex-start;width: 50%;}#sk-container-id-1 div.sk-parallel-item:only-child::after {width: 0;}#sk-container-id-1 div.sk-dashed-wrapped {border: 1px dashed gray;margin: 0 0.4em 0.5em 0.4em;box-sizing: border-box;padding-bottom: 0.4em;background-color: white;}#sk-container-id-1 div.sk-label label {font-family: monospace;font-weight: bold;display: inline-block;line-height: 1.2em;}#sk-container-id-1 div.sk-label-container {text-align: center;}#sk-container-id-1 div.sk-container {/* jupyter's `normalize.less` sets `[hidden] { display: none; }` but bootstrap.min.css set `[hidden] { display: none !important; }` so we also need the `!important` here to be able to override the default hidden behavior on the sphinx rendered scikit-learn.org. See: https://github.com/scikit-learn/scikit-learn/issues/21755 */display: inline-block !important;position: relative;}#sk-container-id-1 div.sk-text-repr-fallback {display: none;}</style><div id=\"sk-container-id-1\" class=\"sk-top-container\"><div class=\"sk-text-repr-fallback\"><pre>StackingClassifier(estimators=[(&#x27;mnb_pipe&#x27;,\n",
       "                                Pipeline(steps=[(&#x27;cvec&#x27;,\n",
       "                                                 CountVectorizer(max_df=0.7,\n",
       "                                                                 max_features=3000)),\n",
       "                                                (&#x27;mnb&#x27;,\n",
       "                                                 MultinomialNB(alpha=0.5))])),\n",
       "                               (&#x27;gb_pipe&#x27;,\n",
       "                                Pipeline(steps=[(&#x27;cvec&#x27;,\n",
       "                                                 CountVectorizer(max_df=0.6,\n",
       "                                                                 max_features=3500)),\n",
       "                                                (&#x27;gb&#x27;,\n",
       "                                                 GradientBoostingClassifier(learning_rate=0.7,\n",
       "                                                                            max_depth=6,\n",
       "                                                                            n_estimators=200))]))],\n",
       "                   final_estimator=LogisticRegression(C=10, penalty=&#x27;l1&#x27;,\n",
       "                                                      solver=&#x27;saga&#x27;))</pre><b>In a Jupyter environment, please rerun this cell to show the HTML representation or trust the notebook. <br />On GitHub, the HTML representation is unable to render, please try loading this page with nbviewer.org.</b></div><div class=\"sk-container\" hidden><div class=\"sk-item sk-dashed-wrapped\"><div class=\"sk-label-container\"><div class=\"sk-label sk-toggleable\"><input class=\"sk-toggleable__control sk-hidden--visually\" id=\"sk-estimator-id-1\" type=\"checkbox\" ><label for=\"sk-estimator-id-1\" class=\"sk-toggleable__label sk-toggleable__label-arrow\">StackingClassifier</label><div class=\"sk-toggleable__content\"><pre>StackingClassifier(estimators=[(&#x27;mnb_pipe&#x27;,\n",
       "                                Pipeline(steps=[(&#x27;cvec&#x27;,\n",
       "                                                 CountVectorizer(max_df=0.7,\n",
       "                                                                 max_features=3000)),\n",
       "                                                (&#x27;mnb&#x27;,\n",
       "                                                 MultinomialNB(alpha=0.5))])),\n",
       "                               (&#x27;gb_pipe&#x27;,\n",
       "                                Pipeline(steps=[(&#x27;cvec&#x27;,\n",
       "                                                 CountVectorizer(max_df=0.6,\n",
       "                                                                 max_features=3500)),\n",
       "                                                (&#x27;gb&#x27;,\n",
       "                                                 GradientBoostingClassifier(learning_rate=0.7,\n",
       "                                                                            max_depth=6,\n",
       "                                                                            n_estimators=200))]))],\n",
       "                   final_estimator=LogisticRegression(C=10, penalty=&#x27;l1&#x27;,\n",
       "                                                      solver=&#x27;saga&#x27;))</pre></div></div></div><div class=\"sk-serial\"><div class=\"sk-item\"><div class=\"sk-parallel\"><div class=\"sk-parallel-item\"><div class=\"sk-item\"><div class=\"sk-label-container\"><div class=\"sk-label sk-toggleable\"><label>mnb_pipe</label></div></div><div class=\"sk-serial\"><div class=\"sk-item\"><div class=\"sk-serial\"><div class=\"sk-item\"><div class=\"sk-estimator sk-toggleable\"><input class=\"sk-toggleable__control sk-hidden--visually\" id=\"sk-estimator-id-2\" type=\"checkbox\" ><label for=\"sk-estimator-id-2\" class=\"sk-toggleable__label sk-toggleable__label-arrow\">CountVectorizer</label><div class=\"sk-toggleable__content\"><pre>CountVectorizer(max_df=0.7, max_features=3000)</pre></div></div></div><div class=\"sk-item\"><div class=\"sk-estimator sk-toggleable\"><input class=\"sk-toggleable__control sk-hidden--visually\" id=\"sk-estimator-id-3\" type=\"checkbox\" ><label for=\"sk-estimator-id-3\" class=\"sk-toggleable__label sk-toggleable__label-arrow\">MultinomialNB</label><div class=\"sk-toggleable__content\"><pre>MultinomialNB(alpha=0.5)</pre></div></div></div></div></div></div></div></div><div class=\"sk-parallel-item\"><div class=\"sk-item\"><div class=\"sk-label-container\"><div class=\"sk-label sk-toggleable\"><label>gb_pipe</label></div></div><div class=\"sk-serial\"><div class=\"sk-item\"><div class=\"sk-serial\"><div class=\"sk-item\"><div class=\"sk-estimator sk-toggleable\"><input class=\"sk-toggleable__control sk-hidden--visually\" id=\"sk-estimator-id-4\" type=\"checkbox\" ><label for=\"sk-estimator-id-4\" class=\"sk-toggleable__label sk-toggleable__label-arrow\">CountVectorizer</label><div class=\"sk-toggleable__content\"><pre>CountVectorizer(max_df=0.6, max_features=3500)</pre></div></div></div><div class=\"sk-item\"><div class=\"sk-estimator sk-toggleable\"><input class=\"sk-toggleable__control sk-hidden--visually\" id=\"sk-estimator-id-5\" type=\"checkbox\" ><label for=\"sk-estimator-id-5\" class=\"sk-toggleable__label sk-toggleable__label-arrow\">GradientBoostingClassifier</label><div class=\"sk-toggleable__content\"><pre>GradientBoostingClassifier(learning_rate=0.7, max_depth=6, n_estimators=200)</pre></div></div></div></div></div></div></div></div></div></div><div class=\"sk-item\"><div class=\"sk-parallel\"><div class=\"sk-parallel-item\"><div class=\"sk-item\"><div class=\"sk-label-container\"><div class=\"sk-label sk-toggleable\"><label>final_estimator</label></div></div><div class=\"sk-serial\"><div class=\"sk-item\"><div class=\"sk-estimator sk-toggleable\"><input class=\"sk-toggleable__control sk-hidden--visually\" id=\"sk-estimator-id-6\" type=\"checkbox\" ><label for=\"sk-estimator-id-6\" class=\"sk-toggleable__label sk-toggleable__label-arrow\">LogisticRegression</label><div class=\"sk-toggleable__content\"><pre>LogisticRegression(C=10, penalty=&#x27;l1&#x27;, solver=&#x27;saga&#x27;)</pre></div></div></div></div></div></div></div></div></div></div></div></div>"
      ],
      "text/plain": [
       "StackingClassifier(estimators=[('mnb_pipe',\n",
       "                                Pipeline(steps=[('cvec',\n",
       "                                                 CountVectorizer(max_df=0.7,\n",
       "                                                                 max_features=3000)),\n",
       "                                                ('mnb',\n",
       "                                                 MultinomialNB(alpha=0.5))])),\n",
       "                               ('gb_pipe',\n",
       "                                Pipeline(steps=[('cvec',\n",
       "                                                 CountVectorizer(max_df=0.6,\n",
       "                                                                 max_features=3500)),\n",
       "                                                ('gb',\n",
       "                                                 GradientBoostingClassifier(learning_rate=0.7,\n",
       "                                                                            max_depth=6,\n",
       "                                                                            n_estimators=200))]))],\n",
       "                   final_estimator=LogisticRegression(C=10, penalty='l1',\n",
       "                                                      solver='saga'))"
      ]
     },
     "execution_count": 128,
     "metadata": {},
     "output_type": "execute_result"
    }
   ],
   "source": [
    "print(cross_val_score(stacked_model, X_train, y_train).mean())\n",
    "stacked_model.fit(X_train, y_train)"
   ]
  },
  {
   "cell_type": "code",
   "execution_count": 129,
   "metadata": {},
   "outputs": [
    {
     "name": "stdout",
     "output_type": "stream",
     "text": [
      "Training score: 0.9137931034482759\n",
      "Testing score: 0.8562874251497006\n"
     ]
    }
   ],
   "source": [
    "print(f'Training score: {stacked_model.score(X_train, y_train)}')\n",
    "print(f'Testing score: {stacked_model.score(X_test, y_test)}')"
   ]
  },
  {
   "cell_type": "markdown",
   "metadata": {},
   "source": [
    "These are the two highest-scoring models combined, with Logistic Regression included as the final estimator. It scored well, but just under the original MNB model score of 0.862275. "
   ]
  },
  {
   "cell_type": "markdown",
   "metadata": {},
   "source": [
    "### AdaBoosting & Bagging"
   ]
  },
  {
   "cell_type": "code",
   "execution_count": 131,
   "metadata": {},
   "outputs": [],
   "source": [
    "level1_est2 = [\n",
    "    ('ada_pipe', Pipeline([\n",
    "        ('cvec', CountVectorizer()),\n",
    "        ('ada', AdaBoostClassifier(learning_rate=0.7, n_estimators=300, random_state=42))\n",
    "    ])),\n",
    "    ('bag_pipe', Pipeline([\n",
    "        ('cvec', CountVectorizer()),\n",
    "        ('bag', BaggingClassifier(max_samples=400, n_estimators=200, random_state=42))\n",
    "    ]))\n",
    "]\n",
    "\n",
    "stacked_model_2 = StackingClassifier(estimators=level1_est2, final_estimator=LogisticRegression(solver='saga', C=10, penalty='l1', random_state=42))"
   ]
  },
  {
   "cell_type": "code",
   "execution_count": 132,
   "metadata": {},
   "outputs": [
    {
     "name": "stdout",
     "output_type": "stream",
     "text": [
      "0.8470558418518206\n"
     ]
    },
    {
     "data": {
      "text/html": [
       "<style>#sk-container-id-2 {color: black;background-color: white;}#sk-container-id-2 pre{padding: 0;}#sk-container-id-2 div.sk-toggleable {background-color: white;}#sk-container-id-2 label.sk-toggleable__label {cursor: pointer;display: block;width: 100%;margin-bottom: 0;padding: 0.3em;box-sizing: border-box;text-align: center;}#sk-container-id-2 label.sk-toggleable__label-arrow:before {content: \"▸\";float: left;margin-right: 0.25em;color: #696969;}#sk-container-id-2 label.sk-toggleable__label-arrow:hover:before {color: black;}#sk-container-id-2 div.sk-estimator:hover label.sk-toggleable__label-arrow:before {color: black;}#sk-container-id-2 div.sk-toggleable__content {max-height: 0;max-width: 0;overflow: hidden;text-align: left;background-color: #f0f8ff;}#sk-container-id-2 div.sk-toggleable__content pre {margin: 0.2em;color: black;border-radius: 0.25em;background-color: #f0f8ff;}#sk-container-id-2 input.sk-toggleable__control:checked~div.sk-toggleable__content {max-height: 200px;max-width: 100%;overflow: auto;}#sk-container-id-2 input.sk-toggleable__control:checked~label.sk-toggleable__label-arrow:before {content: \"▾\";}#sk-container-id-2 div.sk-estimator input.sk-toggleable__control:checked~label.sk-toggleable__label {background-color: #d4ebff;}#sk-container-id-2 div.sk-label input.sk-toggleable__control:checked~label.sk-toggleable__label {background-color: #d4ebff;}#sk-container-id-2 input.sk-hidden--visually {border: 0;clip: rect(1px 1px 1px 1px);clip: rect(1px, 1px, 1px, 1px);height: 1px;margin: -1px;overflow: hidden;padding: 0;position: absolute;width: 1px;}#sk-container-id-2 div.sk-estimator {font-family: monospace;background-color: #f0f8ff;border: 1px dotted black;border-radius: 0.25em;box-sizing: border-box;margin-bottom: 0.5em;}#sk-container-id-2 div.sk-estimator:hover {background-color: #d4ebff;}#sk-container-id-2 div.sk-parallel-item::after {content: \"\";width: 100%;border-bottom: 1px solid gray;flex-grow: 1;}#sk-container-id-2 div.sk-label:hover label.sk-toggleable__label {background-color: #d4ebff;}#sk-container-id-2 div.sk-serial::before {content: \"\";position: absolute;border-left: 1px solid gray;box-sizing: border-box;top: 0;bottom: 0;left: 50%;z-index: 0;}#sk-container-id-2 div.sk-serial {display: flex;flex-direction: column;align-items: center;background-color: white;padding-right: 0.2em;padding-left: 0.2em;position: relative;}#sk-container-id-2 div.sk-item {position: relative;z-index: 1;}#sk-container-id-2 div.sk-parallel {display: flex;align-items: stretch;justify-content: center;background-color: white;position: relative;}#sk-container-id-2 div.sk-item::before, #sk-container-id-2 div.sk-parallel-item::before {content: \"\";position: absolute;border-left: 1px solid gray;box-sizing: border-box;top: 0;bottom: 0;left: 50%;z-index: -1;}#sk-container-id-2 div.sk-parallel-item {display: flex;flex-direction: column;z-index: 1;position: relative;background-color: white;}#sk-container-id-2 div.sk-parallel-item:first-child::after {align-self: flex-end;width: 50%;}#sk-container-id-2 div.sk-parallel-item:last-child::after {align-self: flex-start;width: 50%;}#sk-container-id-2 div.sk-parallel-item:only-child::after {width: 0;}#sk-container-id-2 div.sk-dashed-wrapped {border: 1px dashed gray;margin: 0 0.4em 0.5em 0.4em;box-sizing: border-box;padding-bottom: 0.4em;background-color: white;}#sk-container-id-2 div.sk-label label {font-family: monospace;font-weight: bold;display: inline-block;line-height: 1.2em;}#sk-container-id-2 div.sk-label-container {text-align: center;}#sk-container-id-2 div.sk-container {/* jupyter's `normalize.less` sets `[hidden] { display: none; }` but bootstrap.min.css set `[hidden] { display: none !important; }` so we also need the `!important` here to be able to override the default hidden behavior on the sphinx rendered scikit-learn.org. See: https://github.com/scikit-learn/scikit-learn/issues/21755 */display: inline-block !important;position: relative;}#sk-container-id-2 div.sk-text-repr-fallback {display: none;}</style><div id=\"sk-container-id-2\" class=\"sk-top-container\"><div class=\"sk-text-repr-fallback\"><pre>StackingClassifier(estimators=[(&#x27;ada_pipe&#x27;,\n",
       "                                Pipeline(steps=[(&#x27;cvec&#x27;, CountVectorizer()),\n",
       "                                                (&#x27;ada&#x27;,\n",
       "                                                 AdaBoostClassifier(learning_rate=0.7,\n",
       "                                                                    n_estimators=300,\n",
       "                                                                    random_state=42))])),\n",
       "                               (&#x27;bag_pipe&#x27;,\n",
       "                                Pipeline(steps=[(&#x27;cvec&#x27;, CountVectorizer()),\n",
       "                                                (&#x27;bag&#x27;,\n",
       "                                                 BaggingClassifier(max_samples=400,\n",
       "                                                                   n_estimators=200,\n",
       "                                                                   random_state=42))]))],\n",
       "                   final_estimator=LogisticRegression(C=10, penalty=&#x27;l1&#x27;,\n",
       "                                                      random_state=42,\n",
       "                                                      solver=&#x27;saga&#x27;))</pre><b>In a Jupyter environment, please rerun this cell to show the HTML representation or trust the notebook. <br />On GitHub, the HTML representation is unable to render, please try loading this page with nbviewer.org.</b></div><div class=\"sk-container\" hidden><div class=\"sk-item sk-dashed-wrapped\"><div class=\"sk-label-container\"><div class=\"sk-label sk-toggleable\"><input class=\"sk-toggleable__control sk-hidden--visually\" id=\"sk-estimator-id-7\" type=\"checkbox\" ><label for=\"sk-estimator-id-7\" class=\"sk-toggleable__label sk-toggleable__label-arrow\">StackingClassifier</label><div class=\"sk-toggleable__content\"><pre>StackingClassifier(estimators=[(&#x27;ada_pipe&#x27;,\n",
       "                                Pipeline(steps=[(&#x27;cvec&#x27;, CountVectorizer()),\n",
       "                                                (&#x27;ada&#x27;,\n",
       "                                                 AdaBoostClassifier(learning_rate=0.7,\n",
       "                                                                    n_estimators=300,\n",
       "                                                                    random_state=42))])),\n",
       "                               (&#x27;bag_pipe&#x27;,\n",
       "                                Pipeline(steps=[(&#x27;cvec&#x27;, CountVectorizer()),\n",
       "                                                (&#x27;bag&#x27;,\n",
       "                                                 BaggingClassifier(max_samples=400,\n",
       "                                                                   n_estimators=200,\n",
       "                                                                   random_state=42))]))],\n",
       "                   final_estimator=LogisticRegression(C=10, penalty=&#x27;l1&#x27;,\n",
       "                                                      random_state=42,\n",
       "                                                      solver=&#x27;saga&#x27;))</pre></div></div></div><div class=\"sk-serial\"><div class=\"sk-item\"><div class=\"sk-parallel\"><div class=\"sk-parallel-item\"><div class=\"sk-item\"><div class=\"sk-label-container\"><div class=\"sk-label sk-toggleable\"><label>ada_pipe</label></div></div><div class=\"sk-serial\"><div class=\"sk-item\"><div class=\"sk-serial\"><div class=\"sk-item\"><div class=\"sk-estimator sk-toggleable\"><input class=\"sk-toggleable__control sk-hidden--visually\" id=\"sk-estimator-id-8\" type=\"checkbox\" ><label for=\"sk-estimator-id-8\" class=\"sk-toggleable__label sk-toggleable__label-arrow\">CountVectorizer</label><div class=\"sk-toggleable__content\"><pre>CountVectorizer()</pre></div></div></div><div class=\"sk-item\"><div class=\"sk-estimator sk-toggleable\"><input class=\"sk-toggleable__control sk-hidden--visually\" id=\"sk-estimator-id-9\" type=\"checkbox\" ><label for=\"sk-estimator-id-9\" class=\"sk-toggleable__label sk-toggleable__label-arrow\">AdaBoostClassifier</label><div class=\"sk-toggleable__content\"><pre>AdaBoostClassifier(learning_rate=0.7, n_estimators=300, random_state=42)</pre></div></div></div></div></div></div></div></div><div class=\"sk-parallel-item\"><div class=\"sk-item\"><div class=\"sk-label-container\"><div class=\"sk-label sk-toggleable\"><label>bag_pipe</label></div></div><div class=\"sk-serial\"><div class=\"sk-item\"><div class=\"sk-serial\"><div class=\"sk-item\"><div class=\"sk-estimator sk-toggleable\"><input class=\"sk-toggleable__control sk-hidden--visually\" id=\"sk-estimator-id-10\" type=\"checkbox\" ><label for=\"sk-estimator-id-10\" class=\"sk-toggleable__label sk-toggleable__label-arrow\">CountVectorizer</label><div class=\"sk-toggleable__content\"><pre>CountVectorizer()</pre></div></div></div><div class=\"sk-item\"><div class=\"sk-estimator sk-toggleable\"><input class=\"sk-toggleable__control sk-hidden--visually\" id=\"sk-estimator-id-11\" type=\"checkbox\" ><label for=\"sk-estimator-id-11\" class=\"sk-toggleable__label sk-toggleable__label-arrow\">BaggingClassifier</label><div class=\"sk-toggleable__content\"><pre>BaggingClassifier(max_samples=400, n_estimators=200, random_state=42)</pre></div></div></div></div></div></div></div></div></div></div><div class=\"sk-item\"><div class=\"sk-parallel\"><div class=\"sk-parallel-item\"><div class=\"sk-item\"><div class=\"sk-label-container\"><div class=\"sk-label sk-toggleable\"><label>final_estimator</label></div></div><div class=\"sk-serial\"><div class=\"sk-item\"><div class=\"sk-estimator sk-toggleable\"><input class=\"sk-toggleable__control sk-hidden--visually\" id=\"sk-estimator-id-12\" type=\"checkbox\" ><label for=\"sk-estimator-id-12\" class=\"sk-toggleable__label sk-toggleable__label-arrow\">LogisticRegression</label><div class=\"sk-toggleable__content\"><pre>LogisticRegression(C=10, penalty=&#x27;l1&#x27;, random_state=42, solver=&#x27;saga&#x27;)</pre></div></div></div></div></div></div></div></div></div></div></div></div>"
      ],
      "text/plain": [
       "StackingClassifier(estimators=[('ada_pipe',\n",
       "                                Pipeline(steps=[('cvec', CountVectorizer()),\n",
       "                                                ('ada',\n",
       "                                                 AdaBoostClassifier(learning_rate=0.7,\n",
       "                                                                    n_estimators=300,\n",
       "                                                                    random_state=42))])),\n",
       "                               ('bag_pipe',\n",
       "                                Pipeline(steps=[('cvec', CountVectorizer()),\n",
       "                                                ('bag',\n",
       "                                                 BaggingClassifier(max_samples=400,\n",
       "                                                                   n_estimators=200,\n",
       "                                                                   random_state=42))]))],\n",
       "                   final_estimator=LogisticRegression(C=10, penalty='l1',\n",
       "                                                      random_state=42,\n",
       "                                                      solver='saga'))"
      ]
     },
     "execution_count": 132,
     "metadata": {},
     "output_type": "execute_result"
    }
   ],
   "source": [
    "print(cross_val_score(stacked_model_2, X_train, y_train).mean())\n",
    "stacked_model_2.fit(X_train, y_train)"
   ]
  },
  {
   "cell_type": "code",
   "execution_count": 133,
   "metadata": {},
   "outputs": [
    {
     "name": "stdout",
     "output_type": "stream",
     "text": [
      "Training score: 0.9100449775112444\n",
      "Testing score: 0.8233532934131736\n"
     ]
    }
   ],
   "source": [
    "print(f'Training score: {stacked_model_2.score(X_train, y_train)}')\n",
    "print(f'Testing score: {stacked_model_2.score(X_test, y_test)}')"
   ]
  },
  {
   "cell_type": "markdown",
   "metadata": {},
   "source": [
    "My thought process here was that combining a Booster and a Bagging model would increase bias while simultaneously decreasing variance, but this model scored worse than the AdaBoost model on its own."
   ]
  },
  {
   "cell_type": "markdown",
   "metadata": {},
   "source": [
    "### MNB & Bagging"
   ]
  },
  {
   "cell_type": "code",
   "execution_count": 134,
   "metadata": {},
   "outputs": [],
   "source": [
    "level1_est3 = [\n",
    "    ('mnb_pipe', Pipeline([\n",
    "        ('cvec', CountVectorizer(max_df=0.7, max_features=3000, min_df=1)),\n",
    "        ('mnb', MultinomialNB(alpha=0.5))\n",
    "    ])),\n",
    "    ('bag_pipe', Pipeline([\n",
    "        ('cvec', CountVectorizer()),\n",
    "        ('bag', BaggingClassifier(max_samples=400, n_estimators=200, random_state=42))\n",
    "    ]))\n",
    "]\n",
    "\n",
    "stacked_model_3 = StackingClassifier(estimators=level1_est3, final_estimator=LogisticRegression(solver='saga', C=10, penalty='l1'))"
   ]
  },
  {
   "cell_type": "code",
   "execution_count": 135,
   "metadata": {},
   "outputs": [
    {
     "name": "stdout",
     "output_type": "stream",
     "text": [
      "0.8612964996761567\n"
     ]
    },
    {
     "data": {
      "text/html": [
       "<style>#sk-container-id-3 {color: black;background-color: white;}#sk-container-id-3 pre{padding: 0;}#sk-container-id-3 div.sk-toggleable {background-color: white;}#sk-container-id-3 label.sk-toggleable__label {cursor: pointer;display: block;width: 100%;margin-bottom: 0;padding: 0.3em;box-sizing: border-box;text-align: center;}#sk-container-id-3 label.sk-toggleable__label-arrow:before {content: \"▸\";float: left;margin-right: 0.25em;color: #696969;}#sk-container-id-3 label.sk-toggleable__label-arrow:hover:before {color: black;}#sk-container-id-3 div.sk-estimator:hover label.sk-toggleable__label-arrow:before {color: black;}#sk-container-id-3 div.sk-toggleable__content {max-height: 0;max-width: 0;overflow: hidden;text-align: left;background-color: #f0f8ff;}#sk-container-id-3 div.sk-toggleable__content pre {margin: 0.2em;color: black;border-radius: 0.25em;background-color: #f0f8ff;}#sk-container-id-3 input.sk-toggleable__control:checked~div.sk-toggleable__content {max-height: 200px;max-width: 100%;overflow: auto;}#sk-container-id-3 input.sk-toggleable__control:checked~label.sk-toggleable__label-arrow:before {content: \"▾\";}#sk-container-id-3 div.sk-estimator input.sk-toggleable__control:checked~label.sk-toggleable__label {background-color: #d4ebff;}#sk-container-id-3 div.sk-label input.sk-toggleable__control:checked~label.sk-toggleable__label {background-color: #d4ebff;}#sk-container-id-3 input.sk-hidden--visually {border: 0;clip: rect(1px 1px 1px 1px);clip: rect(1px, 1px, 1px, 1px);height: 1px;margin: -1px;overflow: hidden;padding: 0;position: absolute;width: 1px;}#sk-container-id-3 div.sk-estimator {font-family: monospace;background-color: #f0f8ff;border: 1px dotted black;border-radius: 0.25em;box-sizing: border-box;margin-bottom: 0.5em;}#sk-container-id-3 div.sk-estimator:hover {background-color: #d4ebff;}#sk-container-id-3 div.sk-parallel-item::after {content: \"\";width: 100%;border-bottom: 1px solid gray;flex-grow: 1;}#sk-container-id-3 div.sk-label:hover label.sk-toggleable__label {background-color: #d4ebff;}#sk-container-id-3 div.sk-serial::before {content: \"\";position: absolute;border-left: 1px solid gray;box-sizing: border-box;top: 0;bottom: 0;left: 50%;z-index: 0;}#sk-container-id-3 div.sk-serial {display: flex;flex-direction: column;align-items: center;background-color: white;padding-right: 0.2em;padding-left: 0.2em;position: relative;}#sk-container-id-3 div.sk-item {position: relative;z-index: 1;}#sk-container-id-3 div.sk-parallel {display: flex;align-items: stretch;justify-content: center;background-color: white;position: relative;}#sk-container-id-3 div.sk-item::before, #sk-container-id-3 div.sk-parallel-item::before {content: \"\";position: absolute;border-left: 1px solid gray;box-sizing: border-box;top: 0;bottom: 0;left: 50%;z-index: -1;}#sk-container-id-3 div.sk-parallel-item {display: flex;flex-direction: column;z-index: 1;position: relative;background-color: white;}#sk-container-id-3 div.sk-parallel-item:first-child::after {align-self: flex-end;width: 50%;}#sk-container-id-3 div.sk-parallel-item:last-child::after {align-self: flex-start;width: 50%;}#sk-container-id-3 div.sk-parallel-item:only-child::after {width: 0;}#sk-container-id-3 div.sk-dashed-wrapped {border: 1px dashed gray;margin: 0 0.4em 0.5em 0.4em;box-sizing: border-box;padding-bottom: 0.4em;background-color: white;}#sk-container-id-3 div.sk-label label {font-family: monospace;font-weight: bold;display: inline-block;line-height: 1.2em;}#sk-container-id-3 div.sk-label-container {text-align: center;}#sk-container-id-3 div.sk-container {/* jupyter's `normalize.less` sets `[hidden] { display: none; }` but bootstrap.min.css set `[hidden] { display: none !important; }` so we also need the `!important` here to be able to override the default hidden behavior on the sphinx rendered scikit-learn.org. See: https://github.com/scikit-learn/scikit-learn/issues/21755 */display: inline-block !important;position: relative;}#sk-container-id-3 div.sk-text-repr-fallback {display: none;}</style><div id=\"sk-container-id-3\" class=\"sk-top-container\"><div class=\"sk-text-repr-fallback\"><pre>StackingClassifier(estimators=[(&#x27;mnb_pipe&#x27;,\n",
       "                                Pipeline(steps=[(&#x27;cvec&#x27;,\n",
       "                                                 CountVectorizer(max_df=0.7,\n",
       "                                                                 max_features=3000)),\n",
       "                                                (&#x27;mnb&#x27;,\n",
       "                                                 MultinomialNB(alpha=0.5))])),\n",
       "                               (&#x27;bag_pipe&#x27;,\n",
       "                                Pipeline(steps=[(&#x27;cvec&#x27;, CountVectorizer()),\n",
       "                                                (&#x27;bag&#x27;,\n",
       "                                                 BaggingClassifier(max_samples=400,\n",
       "                                                                   n_estimators=200,\n",
       "                                                                   random_state=42))]))],\n",
       "                   final_estimator=LogisticRegression(C=10, penalty=&#x27;l1&#x27;,\n",
       "                                                      solver=&#x27;saga&#x27;))</pre><b>In a Jupyter environment, please rerun this cell to show the HTML representation or trust the notebook. <br />On GitHub, the HTML representation is unable to render, please try loading this page with nbviewer.org.</b></div><div class=\"sk-container\" hidden><div class=\"sk-item sk-dashed-wrapped\"><div class=\"sk-label-container\"><div class=\"sk-label sk-toggleable\"><input class=\"sk-toggleable__control sk-hidden--visually\" id=\"sk-estimator-id-13\" type=\"checkbox\" ><label for=\"sk-estimator-id-13\" class=\"sk-toggleable__label sk-toggleable__label-arrow\">StackingClassifier</label><div class=\"sk-toggleable__content\"><pre>StackingClassifier(estimators=[(&#x27;mnb_pipe&#x27;,\n",
       "                                Pipeline(steps=[(&#x27;cvec&#x27;,\n",
       "                                                 CountVectorizer(max_df=0.7,\n",
       "                                                                 max_features=3000)),\n",
       "                                                (&#x27;mnb&#x27;,\n",
       "                                                 MultinomialNB(alpha=0.5))])),\n",
       "                               (&#x27;bag_pipe&#x27;,\n",
       "                                Pipeline(steps=[(&#x27;cvec&#x27;, CountVectorizer()),\n",
       "                                                (&#x27;bag&#x27;,\n",
       "                                                 BaggingClassifier(max_samples=400,\n",
       "                                                                   n_estimators=200,\n",
       "                                                                   random_state=42))]))],\n",
       "                   final_estimator=LogisticRegression(C=10, penalty=&#x27;l1&#x27;,\n",
       "                                                      solver=&#x27;saga&#x27;))</pre></div></div></div><div class=\"sk-serial\"><div class=\"sk-item\"><div class=\"sk-parallel\"><div class=\"sk-parallel-item\"><div class=\"sk-item\"><div class=\"sk-label-container\"><div class=\"sk-label sk-toggleable\"><label>mnb_pipe</label></div></div><div class=\"sk-serial\"><div class=\"sk-item\"><div class=\"sk-serial\"><div class=\"sk-item\"><div class=\"sk-estimator sk-toggleable\"><input class=\"sk-toggleable__control sk-hidden--visually\" id=\"sk-estimator-id-14\" type=\"checkbox\" ><label for=\"sk-estimator-id-14\" class=\"sk-toggleable__label sk-toggleable__label-arrow\">CountVectorizer</label><div class=\"sk-toggleable__content\"><pre>CountVectorizer(max_df=0.7, max_features=3000)</pre></div></div></div><div class=\"sk-item\"><div class=\"sk-estimator sk-toggleable\"><input class=\"sk-toggleable__control sk-hidden--visually\" id=\"sk-estimator-id-15\" type=\"checkbox\" ><label for=\"sk-estimator-id-15\" class=\"sk-toggleable__label sk-toggleable__label-arrow\">MultinomialNB</label><div class=\"sk-toggleable__content\"><pre>MultinomialNB(alpha=0.5)</pre></div></div></div></div></div></div></div></div><div class=\"sk-parallel-item\"><div class=\"sk-item\"><div class=\"sk-label-container\"><div class=\"sk-label sk-toggleable\"><label>bag_pipe</label></div></div><div class=\"sk-serial\"><div class=\"sk-item\"><div class=\"sk-serial\"><div class=\"sk-item\"><div class=\"sk-estimator sk-toggleable\"><input class=\"sk-toggleable__control sk-hidden--visually\" id=\"sk-estimator-id-16\" type=\"checkbox\" ><label for=\"sk-estimator-id-16\" class=\"sk-toggleable__label sk-toggleable__label-arrow\">CountVectorizer</label><div class=\"sk-toggleable__content\"><pre>CountVectorizer()</pre></div></div></div><div class=\"sk-item\"><div class=\"sk-estimator sk-toggleable\"><input class=\"sk-toggleable__control sk-hidden--visually\" id=\"sk-estimator-id-17\" type=\"checkbox\" ><label for=\"sk-estimator-id-17\" class=\"sk-toggleable__label sk-toggleable__label-arrow\">BaggingClassifier</label><div class=\"sk-toggleable__content\"><pre>BaggingClassifier(max_samples=400, n_estimators=200, random_state=42)</pre></div></div></div></div></div></div></div></div></div></div><div class=\"sk-item\"><div class=\"sk-parallel\"><div class=\"sk-parallel-item\"><div class=\"sk-item\"><div class=\"sk-label-container\"><div class=\"sk-label sk-toggleable\"><label>final_estimator</label></div></div><div class=\"sk-serial\"><div class=\"sk-item\"><div class=\"sk-estimator sk-toggleable\"><input class=\"sk-toggleable__control sk-hidden--visually\" id=\"sk-estimator-id-18\" type=\"checkbox\" ><label for=\"sk-estimator-id-18\" class=\"sk-toggleable__label sk-toggleable__label-arrow\">LogisticRegression</label><div class=\"sk-toggleable__content\"><pre>LogisticRegression(C=10, penalty=&#x27;l1&#x27;, solver=&#x27;saga&#x27;)</pre></div></div></div></div></div></div></div></div></div></div></div></div>"
      ],
      "text/plain": [
       "StackingClassifier(estimators=[('mnb_pipe',\n",
       "                                Pipeline(steps=[('cvec',\n",
       "                                                 CountVectorizer(max_df=0.7,\n",
       "                                                                 max_features=3000)),\n",
       "                                                ('mnb',\n",
       "                                                 MultinomialNB(alpha=0.5))])),\n",
       "                               ('bag_pipe',\n",
       "                                Pipeline(steps=[('cvec', CountVectorizer()),\n",
       "                                                ('bag',\n",
       "                                                 BaggingClassifier(max_samples=400,\n",
       "                                                                   n_estimators=200,\n",
       "                                                                   random_state=42))]))],\n",
       "                   final_estimator=LogisticRegression(C=10, penalty='l1',\n",
       "                                                      solver='saga'))"
      ]
     },
     "execution_count": 135,
     "metadata": {},
     "output_type": "execute_result"
    }
   ],
   "source": [
    "print(cross_val_score(stacked_model_3, X_train, y_train).mean())\n",
    "stacked_model_3.fit(X_train, y_train)"
   ]
  },
  {
   "cell_type": "code",
   "execution_count": 136,
   "metadata": {},
   "outputs": [
    {
     "name": "stdout",
     "output_type": "stream",
     "text": [
      "Training score: 0.896551724137931\n",
      "Testing score: 0.8502994011976048\n"
     ]
    }
   ],
   "source": [
    "print(f'Training score: {stacked_model_3.score(X_train, y_train)}')\n",
    "print(f'Testing score: {stacked_model_3.score(X_test, y_test)}')"
   ]
  },
  {
   "cell_type": "markdown",
   "metadata": {},
   "source": [
    "This model has less variance than the two above, but a lower test score than the MNB/Gradient Boost model. "
   ]
  },
  {
   "cell_type": "markdown",
   "metadata": {},
   "source": [
    "---\n",
    "\n",
    "## Conclusion\n",
    "\n",
    "The stacked models performed well, but did not beat the first tuned CountVectorizer Multinomial Naive Bayes model above. This means that the final overall model to move forward with in my classification tasks for the state of Ohio is the MNB Classifier, using CountVectorizer, a max document frequency of 0.7, max features set to 3,000,  a minimum document frequency of 1, and the MNB alpha set to 0.5. \n",
    "\n",
    "MNB and Logistic Regression both consistently scored well compared to the other models, with and without hyperparameters. I think one reason why MNB edged forward after model tuning is that it is a generative model (as opposed to LogReg, which is a discriminative model). This means that in general, MNB needs less data to train versus LR, and is more biased toward feature independence.\n",
    "\n",
    "Something to note is that most of the models before and after tuning are overfit. Even with Bagging and Boosting, the average difference between the train and test scores here was about 0.07. While not dramatically different, this is still a greater gap than I'd want there to be when modeling in the real world.\n",
    "\n",
    "However, the scores with edited hyperparameters did become more consistent. The standard deviation of 0.0178 tells us that we can reasonably expect an average score of 0.8238, within a +/- 0.0178 margin.\n",
    "\n",
    "I was surprised at a few of the models that did not score as well as the no-parameter versions. I think this is probably in part due to user error - I may not be entering the most optimal values into the pipelines, and the models may be scoring as high as they can with what I'm feeding into them. I also think that very intelligent people created the models to begin with, and have programmed the default hyperparameters to be the values that work the best on most sets of data.\n",
    "\n",
    "Overall, I'm happy with the scores of the tuned models, and I have at least one that could reliably be used to classify posts correctly 85% of the time. However, I would call into question the value of the data that is being pulled. We may have working models, but this is irrelevant if we are looking for information in the wrong place. From what I've seen during EDA, model trials, inference, and just looking through many of the posts directly in the dataframe, Reddit does not appear to be a site where people go to share things that they enjoy about Ohio. There are many people who share their dislikes, but very few have to do with anything that our advertising team can fix or market to. To this end, not all of the objectives of my problem statement were attained, as I can not confidently say that we would be able to use the scraped data as guidance for our team.\n",
    "\n",
    "The next steps I would take are:\n",
    "- Pulling data out of websites like TripAdvisor or Yelp, where people are reviewing specific places or experiences in Ohio.\n",
    "- Clean and preprocess the data further e.g. include lemmatizers in the model trials and add in more custom stop words.\n",
    "- Make sure to investigate the misclassified posts. Based on what we saw with these results, I think there are sometimes patterns that can be identified and accounted for in the model.\n",
    "- Further model trials and testing; running with additional hyperparameters. Focus on decreasing variance.\n",
    "- After all of the above, implementation of the best-scoring model to pull out any notable material that is being said about Ohio on more review-based websites, then advising our marketing team to mention or not mention said points in our ads."
   ]
  }
 ],
 "metadata": {
  "kernelspec": {
   "display_name": "Python 3.9.6 64-bit ('3.9.6')",
   "language": "python",
   "name": "python3"
  },
  "language_info": {
   "codemirror_mode": {
    "name": "ipython",
    "version": 3
   },
   "file_extension": ".py",
   "mimetype": "text/x-python",
   "name": "python",
   "nbconvert_exporter": "python",
   "pygments_lexer": "ipython3",
   "version": "3.9.6"
  },
  "orig_nbformat": 4,
  "vscode": {
   "interpreter": {
    "hash": "d3fbca8c5142a5f3fc0e150e2aa7dc992112775c37c59dc77ad7b753c4c0bceb"
   }
  }
 },
 "nbformat": 4,
 "nbformat_minor": 2
}
