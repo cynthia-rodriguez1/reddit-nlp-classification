{
 "cells": [
  {
   "cell_type": "markdown",
   "metadata": {},
   "source": [
    "# Model Building"
   ]
  },
  {
   "cell_type": "markdown",
   "metadata": {},
   "source": [
    "I will now be testing the data on a comprehensive list of classifying models to determine which ones will be the most accurate in labeling the reddit posts."
   ]
  },
  {
   "cell_type": "code",
   "execution_count": 3,
   "metadata": {},
   "outputs": [],
   "source": [
    "# Imports\n",
    "\n",
    "import pandas as pd\n",
    "import matplotlib.pyplot as plt\n",
    "import numpy as np\n",
    "\n",
    "from sklearn.feature_extraction.text import CountVectorizer, TfidfVectorizer\n",
    "from sklearn.model_selection import train_test_split\n",
    "from sklearn.linear_model import LogisticRegression\n",
    "from sklearn.tree import DecisionTreeClassifier\n",
    "from sklearn.ensemble import RandomForestClassifier, GradientBoostingClassifier, AdaBoostClassifier, BaggingClassifier\n",
    "from sklearn.neighbors import KNeighborsClassifier\n",
    "from sklearn.preprocessing import StandardScaler\n",
    "from sklearn.pipeline import Pipeline\n",
    "from sklearn.naive_bayes import MultinomialNB\n",
    "from sklearn.metrics import confusion_matrix, plot_confusion_matrix\n",
    "\n",
    "import warnings\n",
    "warnings.simplefilter('ignore')\n",
    "\n",
    "pd.options.display.max_colwidth = 200"
   ]
  },
  {
   "cell_type": "code",
   "execution_count": 4,
   "metadata": {},
   "outputs": [
    {
     "data": {
      "text/html": [
       "<div>\n",
       "<style scoped>\n",
       "    .dataframe tbody tr th:only-of-type {\n",
       "        vertical-align: middle;\n",
       "    }\n",
       "\n",
       "    .dataframe tbody tr th {\n",
       "        vertical-align: top;\n",
       "    }\n",
       "\n",
       "    .dataframe thead th {\n",
       "        text-align: right;\n",
       "    }\n",
       "</style>\n",
       "<table border=\"1\" class=\"dataframe\">\n",
       "  <thead>\n",
       "    <tr style=\"text-align: right;\">\n",
       "      <th></th>\n",
       "      <th>subreddit_class</th>\n",
       "      <th>title</th>\n",
       "      <th>selftext</th>\n",
       "      <th>author</th>\n",
       "      <th>title_word_count</th>\n",
       "      <th>selftext_word_count</th>\n",
       "    </tr>\n",
       "  </thead>\n",
       "  <tbody>\n",
       "    <tr>\n",
       "      <th>0</th>\n",
       "      <td>ohio</td>\n",
       "      <td>about the donovan lewis police shooting in columbus.</td>\n",
       "      <td>donovan reacted as naturally as anyone would when strangers burst open your bedroom door. there is inherent risk when serving a warrant and going through someone’s home unwelcomed. cops need to re...</td>\n",
       "      <td>barelycriminal</td>\n",
       "      <td>8</td>\n",
       "      <td>48</td>\n",
       "    </tr>\n",
       "    <tr>\n",
       "      <th>1</th>\n",
       "      <td>ohio</td>\n",
       "      <td>the chokehold jd vance has on my youtube ads.</td>\n",
       "      <td>no matter how much you tell me about it, i’m not reading hillbilly elegy. but seriously, tim ryan needs to make an ad on there.</td>\n",
       "      <td>dreamsandboxes</td>\n",
       "      <td>9</td>\n",
       "      <td>25</td>\n",
       "    </tr>\n",
       "    <tr>\n",
       "      <th>2</th>\n",
       "      <td>ohio</td>\n",
       "      <td>need wedding photographer plzzz</td>\n",
       "      <td>hi everyone my fiancé and i booked a photographer last year for our wedding for 9/10/22 and we put a deposit down and signed a contract . the past 2 weeks we have called then emailed even txted an...</td>\n",
       "      <td>ohiowelder</td>\n",
       "      <td>4</td>\n",
       "      <td>77</td>\n",
       "    </tr>\n",
       "    <tr>\n",
       "      <th>3</th>\n",
       "      <td>ohio</td>\n",
       "      <td>ranked choice voting?</td>\n",
       "      <td>alaska seems to be doing well, when does ohio follow.</td>\n",
       "      <td>titanup1993</td>\n",
       "      <td>3</td>\n",
       "      <td>10</td>\n",
       "    </tr>\n",
       "    <tr>\n",
       "      <th>4</th>\n",
       "      <td>ohio</td>\n",
       "      <td>how long is the wait for a handgun purchased from atlantic gun &amp;amp; tackle</td>\n",
       "      <td>not sure if this is the right place to be asking. but i recently just purchased a handgun from atlantic gun &amp;amp; tackle and they said i could get approved today in the next hour or it could be up...</td>\n",
       "      <td>professional_pie4546</td>\n",
       "      <td>14</td>\n",
       "      <td>84</td>\n",
       "    </tr>\n",
       "  </tbody>\n",
       "</table>\n",
       "</div>"
      ],
      "text/plain": [
       "  subreddit_class  \\\n",
       "0            ohio   \n",
       "1            ohio   \n",
       "2            ohio   \n",
       "3            ohio   \n",
       "4            ohio   \n",
       "\n",
       "                                                                         title  \\\n",
       "0                         about the donovan lewis police shooting in columbus.   \n",
       "1                                the chokehold jd vance has on my youtube ads.   \n",
       "2                                              need wedding photographer plzzz   \n",
       "3                                                        ranked choice voting?   \n",
       "4  how long is the wait for a handgun purchased from atlantic gun &amp; tackle   \n",
       "\n",
       "                                                                                                                                                                                                  selftext  \\\n",
       "0  donovan reacted as naturally as anyone would when strangers burst open your bedroom door. there is inherent risk when serving a warrant and going through someone’s home unwelcomed. cops need to re...   \n",
       "1                                                                          no matter how much you tell me about it, i’m not reading hillbilly elegy. but seriously, tim ryan needs to make an ad on there.   \n",
       "2  hi everyone my fiancé and i booked a photographer last year for our wedding for 9/10/22 and we put a deposit down and signed a contract . the past 2 weeks we have called then emailed even txted an...   \n",
       "3                                                                                                                                                    alaska seems to be doing well, when does ohio follow.   \n",
       "4  not sure if this is the right place to be asking. but i recently just purchased a handgun from atlantic gun &amp; tackle and they said i could get approved today in the next hour or it could be up...   \n",
       "\n",
       "                 author  title_word_count  selftext_word_count  \n",
       "0        barelycriminal                 8                   48  \n",
       "1        dreamsandboxes                 9                   25  \n",
       "2            ohiowelder                 4                   77  \n",
       "3           titanup1993                 3                   10  \n",
       "4  professional_pie4546                14                   84  "
      ]
     },
     "execution_count": 4,
     "metadata": {},
     "output_type": "execute_result"
    }
   ],
   "source": [
    "# Reading in the saved CSV file\n",
    "\n",
    "reddit = pd.read_csv('../datasets/reddit_slimmed_no_https.csv')\n",
    "reddit.drop(columns='Unnamed: 0', inplace=True)\n",
    "reddit.head()"
   ]
  },
  {
   "cell_type": "markdown",
   "metadata": {},
   "source": [
    "---\n",
    "\n",
    "## Establishing the Baseline"
   ]
  },
  {
   "cell_type": "code",
   "execution_count": 5,
   "metadata": {},
   "outputs": [
    {
     "data": {
      "text/html": [
       "<div>\n",
       "<style scoped>\n",
       "    .dataframe tbody tr th:only-of-type {\n",
       "        vertical-align: middle;\n",
       "    }\n",
       "\n",
       "    .dataframe tbody tr th {\n",
       "        vertical-align: top;\n",
       "    }\n",
       "\n",
       "    .dataframe thead th {\n",
       "        text-align: right;\n",
       "    }\n",
       "</style>\n",
       "<table border=\"1\" class=\"dataframe\">\n",
       "  <thead>\n",
       "    <tr style=\"text-align: right;\">\n",
       "      <th></th>\n",
       "      <th>subreddit_class</th>\n",
       "      <th>title</th>\n",
       "      <th>selftext</th>\n",
       "      <th>author</th>\n",
       "      <th>title_word_count</th>\n",
       "      <th>selftext_word_count</th>\n",
       "    </tr>\n",
       "  </thead>\n",
       "  <tbody>\n",
       "    <tr>\n",
       "      <th>0</th>\n",
       "      <td>0</td>\n",
       "      <td>about the donovan lewis police shooting in columbus.</td>\n",
       "      <td>donovan reacted as naturally as anyone would when strangers burst open your bedroom door. there is inherent risk when serving a warrant and going through someone’s home unwelcomed. cops need to re...</td>\n",
       "      <td>barelycriminal</td>\n",
       "      <td>8</td>\n",
       "      <td>48</td>\n",
       "    </tr>\n",
       "    <tr>\n",
       "      <th>1</th>\n",
       "      <td>0</td>\n",
       "      <td>the chokehold jd vance has on my youtube ads.</td>\n",
       "      <td>no matter how much you tell me about it, i’m not reading hillbilly elegy. but seriously, tim ryan needs to make an ad on there.</td>\n",
       "      <td>dreamsandboxes</td>\n",
       "      <td>9</td>\n",
       "      <td>25</td>\n",
       "    </tr>\n",
       "    <tr>\n",
       "      <th>2</th>\n",
       "      <td>0</td>\n",
       "      <td>need wedding photographer plzzz</td>\n",
       "      <td>hi everyone my fiancé and i booked a photographer last year for our wedding for 9/10/22 and we put a deposit down and signed a contract . the past 2 weeks we have called then emailed even txted an...</td>\n",
       "      <td>ohiowelder</td>\n",
       "      <td>4</td>\n",
       "      <td>77</td>\n",
       "    </tr>\n",
       "  </tbody>\n",
       "</table>\n",
       "</div>"
      ],
      "text/plain": [
       "   subreddit_class                                                 title  \\\n",
       "0                0  about the donovan lewis police shooting in columbus.   \n",
       "1                0         the chokehold jd vance has on my youtube ads.   \n",
       "2                0                       need wedding photographer plzzz   \n",
       "\n",
       "                                                                                                                                                                                                  selftext  \\\n",
       "0  donovan reacted as naturally as anyone would when strangers burst open your bedroom door. there is inherent risk when serving a warrant and going through someone’s home unwelcomed. cops need to re...   \n",
       "1                                                                          no matter how much you tell me about it, i’m not reading hillbilly elegy. but seriously, tim ryan needs to make an ad on there.   \n",
       "2  hi everyone my fiancé and i booked a photographer last year for our wedding for 9/10/22 and we put a deposit down and signed a contract . the past 2 weeks we have called then emailed even txted an...   \n",
       "\n",
       "           author  title_word_count  selftext_word_count  \n",
       "0  barelycriminal                 8                   48  \n",
       "1  dreamsandboxes                 9                   25  \n",
       "2      ohiowelder                 4                   77  "
      ]
     },
     "execution_count": 5,
     "metadata": {},
     "output_type": "execute_result"
    }
   ],
   "source": [
    "reddit['subreddit_class'] = reddit['subreddit_class'].map({'ohio': 0, 'ihateohio': 1})\n",
    "\n",
    "reddit.head(3)"
   ]
  },
  {
   "cell_type": "code",
   "execution_count": 6,
   "metadata": {},
   "outputs": [
    {
     "data": {
      "text/plain": [
       "1    0.522182\n",
       "0    0.477818\n",
       "Name: subreddit_class, dtype: float64"
      ]
     },
     "execution_count": 6,
     "metadata": {},
     "output_type": "execute_result"
    }
   ],
   "source": [
    "X = reddit['title']\n",
    "y = reddit['subreddit_class']\n",
    "\n",
    "y.value_counts(normalize=True)"
   ]
  },
  {
   "cell_type": "markdown",
   "metadata": {},
   "source": [
    "This baseline is telling us that if we predicted that all posts were from the Ohio subreddit, we'd be correct 52.22% of the time.\n",
    "\n",
    "I'll be running all models on both the selftext and title columns with no hyperparameters. This is because I want to evaluate the scores of the models alone and choose a handful of the top-performers to begin tuning with GridSearch until one becomes the clear champion.\n",
    "\n",
    "Because sensitivity and specificity are not critically important in this case, I'll also be looking at the accuracy and misclassification rates for all models, and aiming to optimize for testing r2 scores (overall accuracy) when I begin running trials with hyperparameters included."
   ]
  },
  {
   "cell_type": "markdown",
   "metadata": {},
   "source": [
    "---\n",
    "\n",
    "## Building a Function to Expedite Model Trials"
   ]
  },
  {
   "cell_type": "markdown",
   "metadata": {},
   "source": [
    "Because I am going to be cycling through several different models in this next section, I think having a function to do most of the heavy lifting would streamline the process. "
   ]
  },
  {
   "cell_type": "code",
   "execution_count": 7,
   "metadata": {},
   "outputs": [],
   "source": [
    "model_trials_df = pd.DataFrame(columns=['model_used', 'title_train_score', 'title_test_score',\n",
    "'selftext_train_score', 'selftext_test_score'])"
   ]
  },
  {
   "cell_type": "code",
   "execution_count": 8,
   "metadata": {},
   "outputs": [],
   "source": [
    "def model_trials(pipe, model_id):\n",
    "\n",
    "    '''Setting X and y to first use the title column as the predictor'''\n",
    "    X_t = reddit['title']\n",
    "    y_t = reddit['subreddit_class']\n",
    "    X_train, X_test_t, y_train, y_test_t = train_test_split(X_t, y_t, test_size=0.2, stratify=y_t, random_state=42)\n",
    "    pipe.fit(X_train, y_train)\n",
    "    t_train_score = pipe.score(X_train, y_train)\n",
    "    t_test_score = pipe.score(X_test_t, y_test_t)\n",
    "\n",
    "    '''Calculating accuracy and misclassification rates for title'''\n",
    "    t_preds = pipe.predict(X_test_t)\n",
    "    tn, fp, fn, tp = confusion_matrix(y_test_t, t_preds).ravel()\n",
    "    t_acc = (tp + tn) / (tn + fp + tp + fn)\n",
    "    t_misclass = 1 - t_acc\n",
    "\n",
    "    '''Now redefining X and y to analyze the selftext column'''\n",
    "    X_st = reddit['selftext']\n",
    "    y_st = reddit['subreddit_class']\n",
    "    X_train, X_test_st, y_train, y_test_st = train_test_split(X_st, y_st, test_size=0.2, stratify=y_t, random_state=42)\n",
    "    pipe.fit(X_train, y_train)\n",
    "    st_train_score = pipe.score(X_train, y_train)\n",
    "    st_test_score = pipe.score(X_test_st, y_test_st)\n",
    "\n",
    "    '''Calculating accuracy and misclassification rates for selftext'''\n",
    "    st_preds = pipe.predict(X_test_st)\n",
    "    tn, fp, fn, tp = confusion_matrix(y_test_st, st_preds).ravel()\n",
    "    st_acc = (tp + tn) / (tn + fp + tp + fn)\n",
    "    st_misclass = 1 - st_acc\n",
    "\n",
    "    '''Adding the two scores for both Xs to the model_trials dataframe'''\n",
    "    model_list = [model_id, t_train_score, t_test_score, st_train_score, st_test_score]\n",
    "    model_trials_df.loc[len(model_trials_df.index)] = model_list\n",
    "\n",
    "    '''Output will show me all scores to see how they compare to each other'''\n",
    "    print(f'Title {model_id} Training Score: {round(t_train_score, 5)}')\n",
    "    print(f'Title {model_id} Testing Score: {round(t_test_score, 5)} \\n')\n",
    "    print(f'Selftext {model_id} Training Score: {round(st_train_score, 5)}')\n",
    "    print(f'Selftext {model_id} Testing Score: {round(st_test_score, 5)} \\n')\n",
    "    print(f'Title Accuracy Rate: {round(t_acc, 5)}')\n",
    "    print(f'Title Misclassification Rate: {round(t_misclass, 5)} \\n')\n",
    "    print(f'Selftext Accuracy Rate: {round(st_acc, 5)}')\n",
    "    print(f'Selftext Misclassification Rate: {round(st_misclass, 5)} \\n')\n",
    "\n",
    "    '''Returning a confusion matrix for the predictor that had the highest accuracy'''\n",
    "    print('Best accuracy rate confusion matrix:')\n",
    "    if t_acc > st_acc:\n",
    "        return plot_confusion_matrix(pipe, X_test_t, y_test_t, cmap='YlOrRd', values_format='d');\n",
    "    else: \n",
    "        return plot_confusion_matrix(pipe, X_test_st, y_test_st, cmap='YlGnBu', values_format='d');"
   ]
  },
  {
   "cell_type": "markdown",
   "metadata": {},
   "source": [
    "In each section, I'll define the pipeline I want to use, but the function should do the rest and spit out each of the training and testing scores for title and selftext. It will also append the scores to the overall dataframe that I'll be using after to decide which models to move forward with.\n",
    "\n",
    "In the EDA portion of the project, I looked at the results pre- and post- lemmatizing the target columns and found that, on average, there is a negligible difference in the words that appear most frequently. For that reason, I will not be lemmatizing in the model trials or tuning."
   ]
  },
  {
   "cell_type": "markdown",
   "metadata": {},
   "source": [
    "---\n",
    "\n",
    "## Logistic Regression"
   ]
  },
  {
   "cell_type": "code",
   "execution_count": 9,
   "metadata": {},
   "outputs": [],
   "source": [
    "cvec_lr = Pipeline([\n",
    "        ('cvec', CountVectorizer()),\n",
    "        ('lr', LogisticRegression(max_iter=200, solver='saga', random_state=42)) # Hyperparameters added here to increase model iterations/avoid error messages\n",
    "])"
   ]
  },
  {
   "cell_type": "code",
   "execution_count": 10,
   "metadata": {},
   "outputs": [
    {
     "name": "stdout",
     "output_type": "stream",
     "text": [
      "Title CVec Logistic Regression Training Score: 0.96327\n",
      "Title CVec Logistic Regression Testing Score: 0.79341 \n",
      "\n",
      "Selftext CVec Logistic Regression Training Score: 0.8988\n",
      "Selftext CVec Logistic Regression Testing Score: 0.84731 \n",
      "\n",
      "Title Accuracy Rate: 0.79341\n",
      "Title Misclassification Rate: 0.20659 \n",
      "\n",
      "Selftext Accuracy Rate: 0.84731\n",
      "Selftext Misclassification Rate: 0.15269 \n",
      "\n",
      "Best accuracy rate confusion matrix:\n"
     ]
    },
    {
     "data": {
      "text/plain": [
       "<sklearn.metrics._plot.confusion_matrix.ConfusionMatrixDisplay at 0x124808340>"
      ]
     },
     "execution_count": 10,
     "metadata": {},
     "output_type": "execute_result"
    },
    {
     "data": {
      "image/png": "[encoded data removed]",
      "text/plain": [
       "<Figure size 640x480 with 2 Axes>"
      ]
     },
     "metadata": {},
     "output_type": "display_data"
    }
   ],
   "source": [
    "model_trials(cvec_lr, 'CVec Logistic Regression')"
   ]
  },
  {
   "cell_type": "markdown",
   "metadata": {},
   "source": [
    "I'm curious to see if using the Tfidf Vectorizer would have any effect on any of the scores. Creating a new pipeline below that is exactly the same as above, with only the CountVectorizer edited. "
   ]
  },
  {
   "cell_type": "code",
   "execution_count": 11,
   "metadata": {},
   "outputs": [],
   "source": [
    "tfvec_lr = Pipeline([\n",
    "        ('tfvec', TfidfVectorizer()),\n",
    "        ('lr', LogisticRegression(max_iter=200, solver='saga', random_state=42))\n",
    "])"
   ]
  },
  {
   "cell_type": "code",
   "execution_count": 12,
   "metadata": {},
   "outputs": [
    {
     "name": "stdout",
     "output_type": "stream",
     "text": [
      "Title TfVec Logistic Regression Training Score: 0.92954\n",
      "Title TfVec Logistic Regression Testing Score: 0.76647 \n",
      "\n",
      "Selftext TfVec Logistic Regression Training Score: 0.87031\n",
      "Selftext TfVec Logistic Regression Testing Score: 0.82635 \n",
      "\n",
      "Title Accuracy Rate: 0.76647\n",
      "Title Misclassification Rate: 0.23353 \n",
      "\n",
      "Selftext Accuracy Rate: 0.82635\n",
      "Selftext Misclassification Rate: 0.17365 \n",
      "\n",
      "Best accuracy rate confusion matrix:\n"
     ]
    },
    {
     "data": {
      "text/plain": [
       "<sklearn.metrics._plot.confusion_matrix.ConfusionMatrixDisplay at 0x1321baa00>"
      ]
     },
     "execution_count": 12,
     "metadata": {},
     "output_type": "execute_result"
    },
    {
     "data": {
      "image/png": "[encoded data removed]",
      "text/plain": [
       "<Figure size 640x480 with 2 Axes>"
      ]
     },
     "metadata": {},
     "output_type": "display_data"
    }
   ],
   "source": [
    "model_trials(tfvec_lr, 'TfVec Logistic Regression')"
   ]
  },
  {
   "cell_type": "code",
   "execution_count": 13,
   "metadata": {},
   "outputs": [
    {
     "data": {
      "text/html": [
       "<div>\n",
       "<style scoped>\n",
       "    .dataframe tbody tr th:only-of-type {\n",
       "        vertical-align: middle;\n",
       "    }\n",
       "\n",
       "    .dataframe tbody tr th {\n",
       "        vertical-align: top;\n",
       "    }\n",
       "\n",
       "    .dataframe thead th {\n",
       "        text-align: right;\n",
       "    }\n",
       "</style>\n",
       "<table border=\"1\" class=\"dataframe\">\n",
       "  <thead>\n",
       "    <tr style=\"text-align: right;\">\n",
       "      <th></th>\n",
       "      <th>model_used</th>\n",
       "      <th>title_train_score</th>\n",
       "      <th>title_test_score</th>\n",
       "      <th>selftext_train_score</th>\n",
       "      <th>selftext_test_score</th>\n",
       "    </tr>\n",
       "  </thead>\n",
       "  <tbody>\n",
       "    <tr>\n",
       "      <th>0</th>\n",
       "      <td>CVec Logistic Regression</td>\n",
       "      <td>0.963268</td>\n",
       "      <td>0.793413</td>\n",
       "      <td>0.898801</td>\n",
       "      <td>0.847305</td>\n",
       "    </tr>\n",
       "    <tr>\n",
       "      <th>1</th>\n",
       "      <td>TfVec Logistic Regression</td>\n",
       "      <td>0.929535</td>\n",
       "      <td>0.766467</td>\n",
       "      <td>0.870315</td>\n",
       "      <td>0.826347</td>\n",
       "    </tr>\n",
       "  </tbody>\n",
       "</table>\n",
       "</div>"
      ],
      "text/plain": [
       "                  model_used  title_train_score  title_test_score  \\\n",
       "0   CVec Logistic Regression           0.963268          0.793413   \n",
       "1  TfVec Logistic Regression           0.929535          0.766467   \n",
       "\n",
       "   selftext_train_score  selftext_test_score  \n",
       "0              0.898801             0.847305  \n",
       "1              0.870315             0.826347  "
      ]
     },
     "execution_count": 13,
     "metadata": {},
     "output_type": "execute_result"
    }
   ],
   "source": [
    "model_trials_df"
   ]
  },
  {
   "cell_type": "markdown",
   "metadata": {},
   "source": [
    "### Analysis\n",
    "\n",
    "These are both fairly solid starting models - although the title scores have quite a bit more variance than the selftext scores.\n",
    "\n",
    "When we used Tfidf in place of CountVectorizer, both title and selftext scores decreased by a margin of 0.02 - 0.035.\n",
    "\n",
    "In both test cases, the Logisitic Regression pipeline that used selftext as the feature performed better than the models that used the title as the variable. This may be because there are more definitive (easier to classify) words in the selftext/caption area of posts.\n",
    "\n",
    "Because I believe that score differences may depend on the model/transformer combination used, I'll be running all with both CountVectorizer and TfidfVectorizer moving forward."
   ]
  },
  {
   "cell_type": "markdown",
   "metadata": {},
   "source": [
    "---\n",
    "\n",
    "## Multinomial Naive Bayes"
   ]
  },
  {
   "cell_type": "code",
   "execution_count": 14,
   "metadata": {},
   "outputs": [],
   "source": [
    "cvec_mnb = Pipeline([\n",
    "    ('cvec', CountVectorizer()),\n",
    "    ('nb', MultinomialNB())\n",
    "])"
   ]
  },
  {
   "cell_type": "code",
   "execution_count": 15,
   "metadata": {},
   "outputs": [
    {
     "name": "stdout",
     "output_type": "stream",
     "text": [
      "Title CVec Mn Naive Bayes Training Score: 0.94378\n",
      "Title CVec Mn Naive Bayes Testing Score: 0.79042 \n",
      "\n",
      "Selftext CVec Mn Naive Bayes Training Score: 0.8973\n",
      "Selftext CVec Mn Naive Bayes Testing Score: 0.82934 \n",
      "\n",
      "Title Accuracy Rate: 0.79042\n",
      "Title Misclassification Rate: 0.20958 \n",
      "\n",
      "Selftext Accuracy Rate: 0.82934\n",
      "Selftext Misclassification Rate: 0.17066 \n",
      "\n",
      "Best accuracy rate confusion matrix:\n"
     ]
    },
    {
     "data": {
      "text/plain": [
       "<sklearn.metrics._plot.confusion_matrix.ConfusionMatrixDisplay at 0x135639df0>"
      ]
     },
     "execution_count": 15,
     "metadata": {},
     "output_type": "execute_result"
    },
    {
     "data": {
      "image/png": "[encoded data removed]",
      "text/plain": [
       "<Figure size 640x480 with 2 Axes>"
      ]
     },
     "metadata": {},
     "output_type": "display_data"
    }
   ],
   "source": [
    "model_trials(cvec_mnb, 'CVec Mn Naive Bayes')"
   ]
  },
  {
   "cell_type": "code",
   "execution_count": 16,
   "metadata": {},
   "outputs": [],
   "source": [
    "tfvec_mnb = Pipeline([\n",
    "    ('tfvec', TfidfVectorizer()),\n",
    "    ('nb', MultinomialNB())\n",
    "])"
   ]
  },
  {
   "cell_type": "code",
   "execution_count": 17,
   "metadata": {},
   "outputs": [
    {
     "name": "stdout",
     "output_type": "stream",
     "text": [
      "Title TfVec Mn Naive Bayes Training Score: 0.94903\n",
      "Title TfVec Mn Naive Bayes Testing Score: 0.77545 \n",
      "\n",
      "Selftext TfVec Mn Naive Bayes Training Score: 0.85907\n",
      "Selftext TfVec Mn Naive Bayes Testing Score: 0.81138 \n",
      "\n",
      "Title Accuracy Rate: 0.77545\n",
      "Title Misclassification Rate: 0.22455 \n",
      "\n",
      "Selftext Accuracy Rate: 0.81138\n",
      "Selftext Misclassification Rate: 0.18862 \n",
      "\n",
      "Best accuracy rate confusion matrix:\n"
     ]
    },
    {
     "data": {
      "text/plain": [
       "<sklearn.metrics._plot.confusion_matrix.ConfusionMatrixDisplay at 0x1358f2400>"
      ]
     },
     "execution_count": 17,
     "metadata": {},
     "output_type": "execute_result"
    },
    {
     "data": {
      "image/png": "[encoded data removed]",
      "text/plain": [
       "<Figure size 640x480 with 2 Axes>"
      ]
     },
     "metadata": {},
     "output_type": "display_data"
    }
   ],
   "source": [
    "model_trials(tfvec_mnb, 'TfVec Mn Naive Bayes')"
   ]
  },
  {
   "cell_type": "code",
   "execution_count": 18,
   "metadata": {},
   "outputs": [
    {
     "data": {
      "text/html": [
       "<div>\n",
       "<style scoped>\n",
       "    .dataframe tbody tr th:only-of-type {\n",
       "        vertical-align: middle;\n",
       "    }\n",
       "\n",
       "    .dataframe tbody tr th {\n",
       "        vertical-align: top;\n",
       "    }\n",
       "\n",
       "    .dataframe thead th {\n",
       "        text-align: right;\n",
       "    }\n",
       "</style>\n",
       "<table border=\"1\" class=\"dataframe\">\n",
       "  <thead>\n",
       "    <tr style=\"text-align: right;\">\n",
       "      <th></th>\n",
       "      <th>model_used</th>\n",
       "      <th>title_train_score</th>\n",
       "      <th>title_test_score</th>\n",
       "      <th>selftext_train_score</th>\n",
       "      <th>selftext_test_score</th>\n",
       "    </tr>\n",
       "  </thead>\n",
       "  <tbody>\n",
       "    <tr>\n",
       "      <th>0</th>\n",
       "      <td>CVec Logistic Regression</td>\n",
       "      <td>0.963268</td>\n",
       "      <td>0.793413</td>\n",
       "      <td>0.898801</td>\n",
       "      <td>0.847305</td>\n",
       "    </tr>\n",
       "    <tr>\n",
       "      <th>1</th>\n",
       "      <td>TfVec Logistic Regression</td>\n",
       "      <td>0.929535</td>\n",
       "      <td>0.766467</td>\n",
       "      <td>0.870315</td>\n",
       "      <td>0.826347</td>\n",
       "    </tr>\n",
       "    <tr>\n",
       "      <th>2</th>\n",
       "      <td>CVec Mn Naive Bayes</td>\n",
       "      <td>0.943778</td>\n",
       "      <td>0.790419</td>\n",
       "      <td>0.897301</td>\n",
       "      <td>0.829341</td>\n",
       "    </tr>\n",
       "    <tr>\n",
       "      <th>3</th>\n",
       "      <td>TfVec Mn Naive Bayes</td>\n",
       "      <td>0.949025</td>\n",
       "      <td>0.775449</td>\n",
       "      <td>0.859070</td>\n",
       "      <td>0.811377</td>\n",
       "    </tr>\n",
       "  </tbody>\n",
       "</table>\n",
       "</div>"
      ],
      "text/plain": [
       "                  model_used  title_train_score  title_test_score  \\\n",
       "0   CVec Logistic Regression           0.963268          0.793413   \n",
       "1  TfVec Logistic Regression           0.929535          0.766467   \n",
       "2        CVec Mn Naive Bayes           0.943778          0.790419   \n",
       "3       TfVec Mn Naive Bayes           0.949025          0.775449   \n",
       "\n",
       "   selftext_train_score  selftext_test_score  \n",
       "0              0.898801             0.847305  \n",
       "1              0.870315             0.826347  \n",
       "2              0.897301             0.829341  \n",
       "3              0.859070             0.811377  "
      ]
     },
     "execution_count": 18,
     "metadata": {},
     "output_type": "execute_result"
    }
   ],
   "source": [
    "model_trials_df"
   ]
  },
  {
   "cell_type": "markdown",
   "metadata": {},
   "source": [
    "### Analysis\n",
    "\n",
    "The Multinomial Naive Bayes model performed about the same as the Logistic Regression model on all scores. \n",
    "\n",
    "Based on the confusion matrices above, we see that Tfidf misclassified ten posts that were correctly classified by CountVectorizer. This may be because Tfidf and Multinomial Naive Bayes are working under different assumptions - Tfidf places value on relative frequency of a word, while MNB assumes that the frequency of all features are independent from one another and classifies in the same way.\n",
    "\n",
    "All that said, the CountVectorizer/MNB model may be worth moving forward with in future trials."
   ]
  },
  {
   "cell_type": "markdown",
   "metadata": {},
   "source": [
    "---\n",
    "\n",
    "## KNN Classifier"
   ]
  },
  {
   "cell_type": "code",
   "execution_count": 19,
   "metadata": {},
   "outputs": [],
   "source": [
    "cvec_knn = Pipeline([\n",
    "    ('cvec', CountVectorizer()),\n",
    "    ('ss', StandardScaler(with_mean=False)),\n",
    "    ('knn', KNeighborsClassifier())\n",
    "])"
   ]
  },
  {
   "cell_type": "code",
   "execution_count": 20,
   "metadata": {},
   "outputs": [
    {
     "name": "stdout",
     "output_type": "stream",
     "text": [
      "Title CVec KNN Training Score: 0.6919\n",
      "Title CVec KNN Testing Score: 0.55689 \n",
      "\n",
      "Selftext CVec KNN Training Score: 0.62894\n",
      "Selftext CVec KNN Testing Score: 0.5479 \n",
      "\n",
      "Title Accuracy Rate: 0.55689\n",
      "Title Misclassification Rate: 0.44311 \n",
      "\n",
      "Selftext Accuracy Rate: 0.5479\n",
      "Selftext Misclassification Rate: 0.4521 \n",
      "\n",
      "Best accuracy rate confusion matrix:\n"
     ]
    },
    {
     "data": {
      "text/plain": [
       "<sklearn.metrics._plot.confusion_matrix.ConfusionMatrixDisplay at 0x135a12970>"
      ]
     },
     "execution_count": 20,
     "metadata": {},
     "output_type": "execute_result"
    },
    {
     "data": {
      "image/png": "[encoded data removed]",
      "text/plain": [
       "<Figure size 640x480 with 2 Axes>"
      ]
     },
     "metadata": {},
     "output_type": "display_data"
    }
   ],
   "source": [
    "model_trials(cvec_knn, 'CVec KNN')"
   ]
  },
  {
   "cell_type": "code",
   "execution_count": 21,
   "metadata": {},
   "outputs": [],
   "source": [
    "tfvec_knn = Pipeline([\n",
    "    ('tfvec', TfidfVectorizer()),\n",
    "    ('ss', StandardScaler(with_mean=False)),\n",
    "    ('knn', KNeighborsClassifier())\n",
    "])"
   ]
  },
  {
   "cell_type": "code",
   "execution_count": 22,
   "metadata": {},
   "outputs": [
    {
     "name": "stdout",
     "output_type": "stream",
     "text": [
      "Title TfVec KNN Training Score: 0.61469\n",
      "Title TfVec KNN Testing Score: 0.52695 \n",
      "\n",
      "Selftext TfVec KNN Training Score: 0.52549\n",
      "Selftext TfVec KNN Testing Score: 0.52096 \n",
      "\n",
      "Title Accuracy Rate: 0.52695\n",
      "Title Misclassification Rate: 0.47305 \n",
      "\n",
      "Selftext Accuracy Rate: 0.52096\n",
      "Selftext Misclassification Rate: 0.47904 \n",
      "\n",
      "Best accuracy rate confusion matrix:\n"
     ]
    },
    {
     "data": {
      "text/plain": [
       "<sklearn.metrics._plot.confusion_matrix.ConfusionMatrixDisplay at 0x135b7c250>"
      ]
     },
     "execution_count": 22,
     "metadata": {},
     "output_type": "execute_result"
    },
    {
     "data": {
      "image/png": "[encoded data removed]",
      "text/plain": [
       "<Figure size 640x480 with 2 Axes>"
      ]
     },
     "metadata": {},
     "output_type": "display_data"
    }
   ],
   "source": [
    "model_trials(tfvec_knn, 'TfVec KNN')"
   ]
  },
  {
   "cell_type": "markdown",
   "metadata": {},
   "source": [
    "### Analysis\n",
    "\n",
    "The KNN model performed about as well as the baseline score, and classified in a similar way.\n",
    "\n",
    "In the model that used CountVectorizer, all but seven posts were predicted as being from the IHateOhio subreddit. When we switched to Tfidf, the model classified all posts as being from the IHateOhio subreddit.\n",
    "\n",
    "I do think that the hyperparameters could be adjusted to likely produce a higher score, but given these scores as the baseline, KNN seems unlikely to outperform the Logistic Regression model or any others.\n",
    "\n",
    "Introducing randomness into the model is needed to decrease the variance."
   ]
  },
  {
   "cell_type": "markdown",
   "metadata": {},
   "source": [
    "---\n",
    "\n",
    "## Decision Tree Classifier"
   ]
  },
  {
   "cell_type": "code",
   "execution_count": 23,
   "metadata": {},
   "outputs": [],
   "source": [
    "cvec_dtree = Pipeline([\n",
    "        ('cvec', CountVectorizer()),\n",
    "        ('dt', DecisionTreeClassifier(random_state=42))\n",
    "])"
   ]
  },
  {
   "cell_type": "code",
   "execution_count": 24,
   "metadata": {},
   "outputs": [
    {
     "name": "stdout",
     "output_type": "stream",
     "text": [
      "Title CVec Decision Tree Training Score: 0.997\n",
      "Title CVec Decision Tree Testing Score: 0.72754 \n",
      "\n",
      "Selftext CVec Decision Tree Training Score: 0.92579\n",
      "Selftext CVec Decision Tree Testing Score: 0.81737 \n",
      "\n",
      "Title Accuracy Rate: 0.72754\n",
      "Title Misclassification Rate: 0.27246 \n",
      "\n",
      "Selftext Accuracy Rate: 0.81737\n",
      "Selftext Misclassification Rate: 0.18263 \n",
      "\n",
      "Best accuracy rate confusion matrix:\n"
     ]
    },
    {
     "data": {
      "text/plain": [
       "<sklearn.metrics._plot.confusion_matrix.ConfusionMatrixDisplay at 0x135cabd90>"
      ]
     },
     "execution_count": 24,
     "metadata": {},
     "output_type": "execute_result"
    },
    {
     "data": {
      "image/png": "[encoded data removed]",
      "text/plain": [
       "<Figure size 640x480 with 2 Axes>"
      ]
     },
     "metadata": {},
     "output_type": "display_data"
    }
   ],
   "source": [
    "model_trials(cvec_dtree, 'CVec Decision Tree')"
   ]
  },
  {
   "cell_type": "code",
   "execution_count": 25,
   "metadata": {},
   "outputs": [],
   "source": [
    "tfvec_dtree = Pipeline([\n",
    "        ('tvec', TfidfVectorizer()),\n",
    "        ('dt', DecisionTreeClassifier(random_state=42))\n",
    "])"
   ]
  },
  {
   "cell_type": "code",
   "execution_count": 26,
   "metadata": {},
   "outputs": [
    {
     "name": "stdout",
     "output_type": "stream",
     "text": [
      "Title TfVec Decision Tree Training Score: 0.997\n",
      "Title TfVec Decision Tree Testing Score: 0.71257 \n",
      "\n",
      "Selftext TfVec Decision Tree Training Score: 0.92579\n",
      "Selftext TfVec Decision Tree Testing Score: 0.81138 \n",
      "\n",
      "Title Accuracy Rate: 0.71257\n",
      "Title Misclassification Rate: 0.28743 \n",
      "\n",
      "Selftext Accuracy Rate: 0.81138\n",
      "Selftext Misclassification Rate: 0.18862 \n",
      "\n",
      "Best accuracy rate confusion matrix:\n"
     ]
    },
    {
     "data": {
      "text/plain": [
       "<sklearn.metrics._plot.confusion_matrix.ConfusionMatrixDisplay at 0x135eef220>"
      ]
     },
     "execution_count": 26,
     "metadata": {},
     "output_type": "execute_result"
    },
    {
     "data": {
      "image/png": "[encoded data removed]",
      "text/plain": [
       "<Figure size 640x480 with 2 Axes>"
      ]
     },
     "metadata": {},
     "output_type": "display_data"
    }
   ],
   "source": [
    "model_trials(tfvec_dtree, 'TfVec Decision Tree')"
   ]
  },
  {
   "cell_type": "code",
   "execution_count": 27,
   "metadata": {},
   "outputs": [
    {
     "data": {
      "text/html": [
       "<div>\n",
       "<style scoped>\n",
       "    .dataframe tbody tr th:only-of-type {\n",
       "        vertical-align: middle;\n",
       "    }\n",
       "\n",
       "    .dataframe tbody tr th {\n",
       "        vertical-align: top;\n",
       "    }\n",
       "\n",
       "    .dataframe thead th {\n",
       "        text-align: right;\n",
       "    }\n",
       "</style>\n",
       "<table border=\"1\" class=\"dataframe\">\n",
       "  <thead>\n",
       "    <tr style=\"text-align: right;\">\n",
       "      <th></th>\n",
       "      <th>model_used</th>\n",
       "      <th>title_train_score</th>\n",
       "      <th>title_test_score</th>\n",
       "      <th>selftext_train_score</th>\n",
       "      <th>selftext_test_score</th>\n",
       "    </tr>\n",
       "  </thead>\n",
       "  <tbody>\n",
       "    <tr>\n",
       "      <th>0</th>\n",
       "      <td>CVec Logistic Regression</td>\n",
       "      <td>0.963268</td>\n",
       "      <td>0.793413</td>\n",
       "      <td>0.898801</td>\n",
       "      <td>0.847305</td>\n",
       "    </tr>\n",
       "    <tr>\n",
       "      <th>1</th>\n",
       "      <td>TfVec Logistic Regression</td>\n",
       "      <td>0.929535</td>\n",
       "      <td>0.766467</td>\n",
       "      <td>0.870315</td>\n",
       "      <td>0.826347</td>\n",
       "    </tr>\n",
       "    <tr>\n",
       "      <th>2</th>\n",
       "      <td>CVec Mn Naive Bayes</td>\n",
       "      <td>0.943778</td>\n",
       "      <td>0.790419</td>\n",
       "      <td>0.897301</td>\n",
       "      <td>0.829341</td>\n",
       "    </tr>\n",
       "    <tr>\n",
       "      <th>3</th>\n",
       "      <td>TfVec Mn Naive Bayes</td>\n",
       "      <td>0.949025</td>\n",
       "      <td>0.775449</td>\n",
       "      <td>0.859070</td>\n",
       "      <td>0.811377</td>\n",
       "    </tr>\n",
       "    <tr>\n",
       "      <th>4</th>\n",
       "      <td>CVec KNN</td>\n",
       "      <td>0.691904</td>\n",
       "      <td>0.556886</td>\n",
       "      <td>0.628936</td>\n",
       "      <td>0.547904</td>\n",
       "    </tr>\n",
       "    <tr>\n",
       "      <th>5</th>\n",
       "      <td>TfVec KNN</td>\n",
       "      <td>0.614693</td>\n",
       "      <td>0.526946</td>\n",
       "      <td>0.525487</td>\n",
       "      <td>0.520958</td>\n",
       "    </tr>\n",
       "    <tr>\n",
       "      <th>6</th>\n",
       "      <td>CVec Decision Tree</td>\n",
       "      <td>0.997001</td>\n",
       "      <td>0.727545</td>\n",
       "      <td>0.925787</td>\n",
       "      <td>0.817365</td>\n",
       "    </tr>\n",
       "    <tr>\n",
       "      <th>7</th>\n",
       "      <td>TfVec Decision Tree</td>\n",
       "      <td>0.997001</td>\n",
       "      <td>0.712575</td>\n",
       "      <td>0.925787</td>\n",
       "      <td>0.811377</td>\n",
       "    </tr>\n",
       "  </tbody>\n",
       "</table>\n",
       "</div>"
      ],
      "text/plain": [
       "                  model_used  title_train_score  title_test_score  \\\n",
       "0   CVec Logistic Regression           0.963268          0.793413   \n",
       "1  TfVec Logistic Regression           0.929535          0.766467   \n",
       "2        CVec Mn Naive Bayes           0.943778          0.790419   \n",
       "3       TfVec Mn Naive Bayes           0.949025          0.775449   \n",
       "4                   CVec KNN           0.691904          0.556886   \n",
       "5                  TfVec KNN           0.614693          0.526946   \n",
       "6         CVec Decision Tree           0.997001          0.727545   \n",
       "7        TfVec Decision Tree           0.997001          0.712575   \n",
       "\n",
       "   selftext_train_score  selftext_test_score  \n",
       "0              0.898801             0.847305  \n",
       "1              0.870315             0.826347  \n",
       "2              0.897301             0.829341  \n",
       "3              0.859070             0.811377  \n",
       "4              0.628936             0.547904  \n",
       "5              0.525487             0.520958  \n",
       "6              0.925787             0.817365  \n",
       "7              0.925787             0.811377  "
      ]
     },
     "execution_count": 27,
     "metadata": {},
     "output_type": "execute_result"
    }
   ],
   "source": [
    "model_trials_df"
   ]
  },
  {
   "cell_type": "markdown",
   "metadata": {},
   "source": [
    "### Analysis\n",
    "\n",
    "For both title and selftext, the train scores remained exactly the same using CountVectorizer and TfidfVectorizer. We saw semi-parallel effects on the test scores also, with both decreasing by about .005 - .015 when using Tfidf instead of CVec. \n",
    "\n",
    "Adding a max depth and/or min samples to this model would probably reduce the variance slightly, but overall I'd expect Random Forest or a Bagging model to perform better in this context because both are adding randomness to the samples that the Decision Tree model does not.\n",
    "\n",
    "Though we are overfit on both Decision Tree (and most other model) train/test splits, the selftext scores are relatively high, making this model strong enough to move forward with and see if we can bring down the variance by adjusting the hyperparameters. "
   ]
  },
  {
   "cell_type": "markdown",
   "metadata": {},
   "source": [
    "---\n",
    "\n",
    "## Random Forest Classifier"
   ]
  },
  {
   "cell_type": "code",
   "execution_count": 28,
   "metadata": {},
   "outputs": [],
   "source": [
    "cvec_rf = Pipeline([\n",
    "        ('cvec', CountVectorizer()),\n",
    "        ('rf', RandomForestClassifier(random_state=42))\n",
    "])"
   ]
  },
  {
   "cell_type": "code",
   "execution_count": 29,
   "metadata": {},
   "outputs": [
    {
     "name": "stdout",
     "output_type": "stream",
     "text": [
      "Title CVec Random Forest Training Score: 0.997\n",
      "Title CVec Random Forest Testing Score: 0.75749 \n",
      "\n",
      "Selftext CVec Random Forest Training Score: 0.92579\n",
      "Selftext CVec Random Forest Testing Score: 0.81138 \n",
      "\n",
      "Title Accuracy Rate: 0.75749\n",
      "Title Misclassification Rate: 0.24251 \n",
      "\n",
      "Selftext Accuracy Rate: 0.81138\n",
      "Selftext Misclassification Rate: 0.18862 \n",
      "\n",
      "Best accuracy rate confusion matrix:\n"
     ]
    },
    {
     "data": {
      "text/plain": [
       "<sklearn.metrics._plot.confusion_matrix.ConfusionMatrixDisplay at 0x135747df0>"
      ]
     },
     "execution_count": 29,
     "metadata": {},
     "output_type": "execute_result"
    },
    {
     "data": {
      "image/png": "[encoded data removed]",
      "text/plain": [
       "<Figure size 640x480 with 2 Axes>"
      ]
     },
     "metadata": {},
     "output_type": "display_data"
    }
   ],
   "source": [
    "model_trials(cvec_rf, 'CVec Random Forest')"
   ]
  },
  {
   "cell_type": "code",
   "execution_count": 30,
   "metadata": {},
   "outputs": [],
   "source": [
    "tfvec_rf = Pipeline([\n",
    "        ('tfvec', TfidfVectorizer()),\n",
    "        ('rf', RandomForestClassifier(random_state=42))\n",
    "])"
   ]
  },
  {
   "cell_type": "code",
   "execution_count": 31,
   "metadata": {},
   "outputs": [
    {
     "name": "stdout",
     "output_type": "stream",
     "text": [
      "Title TfVec Random Forest Training Score: 0.997\n",
      "Title TfVec Random Forest Testing Score: 0.76048 \n",
      "\n",
      "Selftext TfVec Random Forest Training Score: 0.92579\n",
      "Selftext TfVec Random Forest Testing Score: 0.80838 \n",
      "\n",
      "Title Accuracy Rate: 0.76048\n",
      "Title Misclassification Rate: 0.23952 \n",
      "\n",
      "Selftext Accuracy Rate: 0.80838\n",
      "Selftext Misclassification Rate: 0.19162 \n",
      "\n",
      "Best accuracy rate confusion matrix:\n"
     ]
    },
    {
     "data": {
      "text/plain": [
       "<sklearn.metrics._plot.confusion_matrix.ConfusionMatrixDisplay at 0x135f11af0>"
      ]
     },
     "execution_count": 31,
     "metadata": {},
     "output_type": "execute_result"
    },
    {
     "data": {
      "image/png": "[encoded data removed]",
      "text/plain": [
       "<Figure size 640x480 with 2 Axes>"
      ]
     },
     "metadata": {},
     "output_type": "display_data"
    }
   ],
   "source": [
    "model_trials(tfvec_rf, 'TfVec Random Forest')"
   ]
  },
  {
   "cell_type": "code",
   "execution_count": 32,
   "metadata": {},
   "outputs": [
    {
     "data": {
      "text/html": [
       "<div>\n",
       "<style scoped>\n",
       "    .dataframe tbody tr th:only-of-type {\n",
       "        vertical-align: middle;\n",
       "    }\n",
       "\n",
       "    .dataframe tbody tr th {\n",
       "        vertical-align: top;\n",
       "    }\n",
       "\n",
       "    .dataframe thead th {\n",
       "        text-align: right;\n",
       "    }\n",
       "</style>\n",
       "<table border=\"1\" class=\"dataframe\">\n",
       "  <thead>\n",
       "    <tr style=\"text-align: right;\">\n",
       "      <th></th>\n",
       "      <th>model_used</th>\n",
       "      <th>title_train_score</th>\n",
       "      <th>title_test_score</th>\n",
       "      <th>selftext_train_score</th>\n",
       "      <th>selftext_test_score</th>\n",
       "    </tr>\n",
       "  </thead>\n",
       "  <tbody>\n",
       "    <tr>\n",
       "      <th>0</th>\n",
       "      <td>CVec Logistic Regression</td>\n",
       "      <td>0.963268</td>\n",
       "      <td>0.793413</td>\n",
       "      <td>0.898801</td>\n",
       "      <td>0.847305</td>\n",
       "    </tr>\n",
       "    <tr>\n",
       "      <th>1</th>\n",
       "      <td>TfVec Logistic Regression</td>\n",
       "      <td>0.929535</td>\n",
       "      <td>0.766467</td>\n",
       "      <td>0.870315</td>\n",
       "      <td>0.826347</td>\n",
       "    </tr>\n",
       "    <tr>\n",
       "      <th>2</th>\n",
       "      <td>CVec Mn Naive Bayes</td>\n",
       "      <td>0.943778</td>\n",
       "      <td>0.790419</td>\n",
       "      <td>0.897301</td>\n",
       "      <td>0.829341</td>\n",
       "    </tr>\n",
       "    <tr>\n",
       "      <th>3</th>\n",
       "      <td>TfVec Mn Naive Bayes</td>\n",
       "      <td>0.949025</td>\n",
       "      <td>0.775449</td>\n",
       "      <td>0.859070</td>\n",
       "      <td>0.811377</td>\n",
       "    </tr>\n",
       "    <tr>\n",
       "      <th>4</th>\n",
       "      <td>CVec KNN</td>\n",
       "      <td>0.691904</td>\n",
       "      <td>0.556886</td>\n",
       "      <td>0.628936</td>\n",
       "      <td>0.547904</td>\n",
       "    </tr>\n",
       "    <tr>\n",
       "      <th>5</th>\n",
       "      <td>TfVec KNN</td>\n",
       "      <td>0.614693</td>\n",
       "      <td>0.526946</td>\n",
       "      <td>0.525487</td>\n",
       "      <td>0.520958</td>\n",
       "    </tr>\n",
       "    <tr>\n",
       "      <th>6</th>\n",
       "      <td>CVec Decision Tree</td>\n",
       "      <td>0.997001</td>\n",
       "      <td>0.727545</td>\n",
       "      <td>0.925787</td>\n",
       "      <td>0.817365</td>\n",
       "    </tr>\n",
       "    <tr>\n",
       "      <th>7</th>\n",
       "      <td>TfVec Decision Tree</td>\n",
       "      <td>0.997001</td>\n",
       "      <td>0.712575</td>\n",
       "      <td>0.925787</td>\n",
       "      <td>0.811377</td>\n",
       "    </tr>\n",
       "    <tr>\n",
       "      <th>8</th>\n",
       "      <td>CVec Random Forest</td>\n",
       "      <td>0.997001</td>\n",
       "      <td>0.757485</td>\n",
       "      <td>0.925787</td>\n",
       "      <td>0.811377</td>\n",
       "    </tr>\n",
       "    <tr>\n",
       "      <th>9</th>\n",
       "      <td>TfVec Random Forest</td>\n",
       "      <td>0.997001</td>\n",
       "      <td>0.760479</td>\n",
       "      <td>0.925787</td>\n",
       "      <td>0.808383</td>\n",
       "    </tr>\n",
       "  </tbody>\n",
       "</table>\n",
       "</div>"
      ],
      "text/plain": [
       "                  model_used  title_train_score  title_test_score  \\\n",
       "0   CVec Logistic Regression           0.963268          0.793413   \n",
       "1  TfVec Logistic Regression           0.929535          0.766467   \n",
       "2        CVec Mn Naive Bayes           0.943778          0.790419   \n",
       "3       TfVec Mn Naive Bayes           0.949025          0.775449   \n",
       "4                   CVec KNN           0.691904          0.556886   \n",
       "5                  TfVec KNN           0.614693          0.526946   \n",
       "6         CVec Decision Tree           0.997001          0.727545   \n",
       "7        TfVec Decision Tree           0.997001          0.712575   \n",
       "8         CVec Random Forest           0.997001          0.757485   \n",
       "9        TfVec Random Forest           0.997001          0.760479   \n",
       "\n",
       "   selftext_train_score  selftext_test_score  \n",
       "0              0.898801             0.847305  \n",
       "1              0.870315             0.826347  \n",
       "2              0.897301             0.829341  \n",
       "3              0.859070             0.811377  \n",
       "4              0.628936             0.547904  \n",
       "5              0.525487             0.520958  \n",
       "6              0.925787             0.817365  \n",
       "7              0.925787             0.811377  \n",
       "8              0.925787             0.811377  \n",
       "9              0.925787             0.808383  "
      ]
     },
     "execution_count": 32,
     "metadata": {},
     "output_type": "execute_result"
    }
   ],
   "source": [
    "model_trials_df"
   ]
  },
  {
   "cell_type": "markdown",
   "metadata": {},
   "source": [
    "### Analysis\n",
    "\n",
    "Using Tfidf looks to have reclassified one of the true positives as a false negative. Otherwise, both models performed well and had .8+ accuracy rates.\n",
    "\n",
    "What's more interesting is that the title and selftext train scores for the Decision Tree model (0.997001 and 0.925787, respectively) are exactly the same as the scores seen in the Random Forest model. Switching from Count Vectorizer to Tfidf did not seem to have any effect, either.\n",
    "\n",
    "Looking at the confusion matrices for these four models, which were generated from the X variable that produced the greatest test score (selftext, in all cases here), we can see that the performance is somewhat homogenous, with the Tfidf Decision Tree and CVec Random Forest models scoring the same on the test set despite making different predictions. \n",
    "\n",
    "Both Decision Tree models made more classifications--59%, on average--in the IHateOhio subreddit, leading to more true and false positives. This could mean that this is a better model, or that it performed well in part because it made more predictions of the majority class.\n",
    "\n",
    "Conversely, the Random Forest models had similar misclassification rates, but leaned a bit more heavily toward Ohio subreddit predictions. In all, the top test-scoring model of the four was the CountVectorizer Decision Tree.\n",
    "\n",
    "Except for the KNN model, all other confusion matrices have a similar pattern and there seem to be roughly 60-65 posts that are difficult for most models to classify. This is something I'll want to look into as it may be an indication of something I missed during EDA."
   ]
  },
  {
   "cell_type": "markdown",
   "metadata": {},
   "source": [
    "---\n",
    "\n",
    "## Bagging Classifier"
   ]
  },
  {
   "cell_type": "code",
   "execution_count": 33,
   "metadata": {},
   "outputs": [],
   "source": [
    "cvec_bag_pipe = Pipeline([\n",
    "    ('cvec', CountVectorizer()),\n",
    "    ('bag', BaggingClassifier(random_state=42))\n",
    "])"
   ]
  },
  {
   "cell_type": "code",
   "execution_count": 34,
   "metadata": {},
   "outputs": [
    {
     "name": "stdout",
     "output_type": "stream",
     "text": [
      "Title CVec Bagging Training Score: 0.98351\n",
      "Title CVec Bagging Testing Score: 0.73054 \n",
      "\n",
      "Selftext CVec Bagging Training Score: 0.91754\n",
      "Selftext CVec Bagging Testing Score: 0.81437 \n",
      "\n",
      "Title Accuracy Rate: 0.73054\n",
      "Title Misclassification Rate: 0.26946 \n",
      "\n",
      "Selftext Accuracy Rate: 0.81437\n",
      "Selftext Misclassification Rate: 0.18563 \n",
      "\n",
      "Best accuracy rate confusion matrix:\n"
     ]
    },
    {
     "data": {
      "text/plain": [
       "<sklearn.metrics._plot.confusion_matrix.ConfusionMatrixDisplay at 0x1360174f0>"
      ]
     },
     "execution_count": 34,
     "metadata": {},
     "output_type": "execute_result"
    },
    {
     "data": {
      "image/png": "[encoded data removed]",
      "text/plain": [
       "<Figure size 640x480 with 2 Axes>"
      ]
     },
     "metadata": {},
     "output_type": "display_data"
    }
   ],
   "source": [
    "model_trials(cvec_bag_pipe, 'CVec Bagging')"
   ]
  },
  {
   "cell_type": "code",
   "execution_count": 35,
   "metadata": {},
   "outputs": [],
   "source": [
    "tfvec_bag_pipe = Pipeline([\n",
    "    ('tfvec', TfidfVectorizer()),\n",
    "    ('bag', BaggingClassifier(random_state=42))\n",
    "])"
   ]
  },
  {
   "cell_type": "code",
   "execution_count": 36,
   "metadata": {},
   "outputs": [
    {
     "name": "stdout",
     "output_type": "stream",
     "text": [
      "Title TfVec Bagging Training Score: 0.97901\n",
      "Title TfVec Bagging Testing Score: 0.69461 \n",
      "\n",
      "Selftext TfVec Bagging Training Score: 0.91754\n",
      "Selftext TfVec Bagging Testing Score: 0.81737 \n",
      "\n",
      "Title Accuracy Rate: 0.69461\n",
      "Title Misclassification Rate: 0.30539 \n",
      "\n",
      "Selftext Accuracy Rate: 0.81737\n",
      "Selftext Misclassification Rate: 0.18263 \n",
      "\n",
      "Best accuracy rate confusion matrix:\n"
     ]
    },
    {
     "data": {
      "text/plain": [
       "<sklearn.metrics._plot.confusion_matrix.ConfusionMatrixDisplay at 0x135cb17c0>"
      ]
     },
     "execution_count": 36,
     "metadata": {},
     "output_type": "execute_result"
    },
    {
     "data": {
      "image/png": "[encoded data removed]",
      "text/plain": [
       "<Figure size 640x480 with 2 Axes>"
      ]
     },
     "metadata": {},
     "output_type": "display_data"
    }
   ],
   "source": [
    "model_trials(tfvec_bag_pipe, 'TfVec Bagging')"
   ]
  },
  {
   "cell_type": "markdown",
   "metadata": {},
   "source": [
    "### Analysis\n",
    "\n",
    "Again, using Tfidf led to minimal shifts in classifications, this time with one false positive post being reclassified as a true negative. \n",
    "\n",
    "The CountVectorizer Bagging and Decision Tree models made almost identical predictions, meaning my earlier hypothesis that the bagged tree trial would outperform the Decision Tree trial by a wide margin. We can see below that the averaged scores (CVec and Tfidf) for the two are very close.\n",
    "\n",
    "The Bagging model performed slightly better on the selftext test scores, but worse on most other scores than the previous tree-based models. They do appear to have a tad less variance because the trees are being exposed to different samples of the training set. "
   ]
  },
  {
   "cell_type": "code",
   "execution_count": 37,
   "metadata": {},
   "outputs": [
    {
     "name": "stdout",
     "output_type": "stream",
     "text": [
      "Decision Tree Selftext Test Avg: 0.8143712574850299\n",
      "Bagging Selftext Test Avg: 0.8158682634730539\n"
     ]
    }
   ],
   "source": [
    "dtree_selftext_test_avg = (model_trials_df['selftext_test_score'][6] + model_trials_df['selftext_test_score'][7]) / 2\n",
    "\n",
    "bagging_selftext_test_avg = (model_trials_df['selftext_test_score'][10] + model_trials_df['selftext_test_score'][11]) / 2\n",
    "\n",
    "print(f'Decision Tree Selftext Test Avg: {dtree_selftext_test_avg}')\n",
    "print(f'Bagging Selftext Test Avg: {bagging_selftext_test_avg}')"
   ]
  },
  {
   "cell_type": "code",
   "execution_count": 38,
   "metadata": {},
   "outputs": [
    {
     "data": {
      "text/html": [
       "<div>\n",
       "<style scoped>\n",
       "    .dataframe tbody tr th:only-of-type {\n",
       "        vertical-align: middle;\n",
       "    }\n",
       "\n",
       "    .dataframe tbody tr th {\n",
       "        vertical-align: top;\n",
       "    }\n",
       "\n",
       "    .dataframe thead th {\n",
       "        text-align: right;\n",
       "    }\n",
       "</style>\n",
       "<table border=\"1\" class=\"dataframe\">\n",
       "  <thead>\n",
       "    <tr style=\"text-align: right;\">\n",
       "      <th></th>\n",
       "      <th>model_used</th>\n",
       "      <th>title_train_score</th>\n",
       "      <th>title_test_score</th>\n",
       "      <th>selftext_train_score</th>\n",
       "      <th>selftext_test_score</th>\n",
       "    </tr>\n",
       "  </thead>\n",
       "  <tbody>\n",
       "    <tr>\n",
       "      <th>0</th>\n",
       "      <td>CVec Logistic Regression</td>\n",
       "      <td>0.963268</td>\n",
       "      <td>0.793413</td>\n",
       "      <td>0.898801</td>\n",
       "      <td>0.847305</td>\n",
       "    </tr>\n",
       "    <tr>\n",
       "      <th>1</th>\n",
       "      <td>TfVec Logistic Regression</td>\n",
       "      <td>0.929535</td>\n",
       "      <td>0.766467</td>\n",
       "      <td>0.870315</td>\n",
       "      <td>0.826347</td>\n",
       "    </tr>\n",
       "    <tr>\n",
       "      <th>2</th>\n",
       "      <td>CVec Mn Naive Bayes</td>\n",
       "      <td>0.943778</td>\n",
       "      <td>0.790419</td>\n",
       "      <td>0.897301</td>\n",
       "      <td>0.829341</td>\n",
       "    </tr>\n",
       "    <tr>\n",
       "      <th>3</th>\n",
       "      <td>TfVec Mn Naive Bayes</td>\n",
       "      <td>0.949025</td>\n",
       "      <td>0.775449</td>\n",
       "      <td>0.859070</td>\n",
       "      <td>0.811377</td>\n",
       "    </tr>\n",
       "    <tr>\n",
       "      <th>4</th>\n",
       "      <td>CVec KNN</td>\n",
       "      <td>0.691904</td>\n",
       "      <td>0.556886</td>\n",
       "      <td>0.628936</td>\n",
       "      <td>0.547904</td>\n",
       "    </tr>\n",
       "    <tr>\n",
       "      <th>5</th>\n",
       "      <td>TfVec KNN</td>\n",
       "      <td>0.614693</td>\n",
       "      <td>0.526946</td>\n",
       "      <td>0.525487</td>\n",
       "      <td>0.520958</td>\n",
       "    </tr>\n",
       "    <tr>\n",
       "      <th>6</th>\n",
       "      <td>CVec Decision Tree</td>\n",
       "      <td>0.997001</td>\n",
       "      <td>0.727545</td>\n",
       "      <td>0.925787</td>\n",
       "      <td>0.817365</td>\n",
       "    </tr>\n",
       "    <tr>\n",
       "      <th>7</th>\n",
       "      <td>TfVec Decision Tree</td>\n",
       "      <td>0.997001</td>\n",
       "      <td>0.712575</td>\n",
       "      <td>0.925787</td>\n",
       "      <td>0.811377</td>\n",
       "    </tr>\n",
       "    <tr>\n",
       "      <th>8</th>\n",
       "      <td>CVec Random Forest</td>\n",
       "      <td>0.997001</td>\n",
       "      <td>0.757485</td>\n",
       "      <td>0.925787</td>\n",
       "      <td>0.811377</td>\n",
       "    </tr>\n",
       "    <tr>\n",
       "      <th>9</th>\n",
       "      <td>TfVec Random Forest</td>\n",
       "      <td>0.997001</td>\n",
       "      <td>0.760479</td>\n",
       "      <td>0.925787</td>\n",
       "      <td>0.808383</td>\n",
       "    </tr>\n",
       "    <tr>\n",
       "      <th>10</th>\n",
       "      <td>CVec Bagging</td>\n",
       "      <td>0.983508</td>\n",
       "      <td>0.730539</td>\n",
       "      <td>0.917541</td>\n",
       "      <td>0.814371</td>\n",
       "    </tr>\n",
       "    <tr>\n",
       "      <th>11</th>\n",
       "      <td>TfVec Bagging</td>\n",
       "      <td>0.979010</td>\n",
       "      <td>0.694611</td>\n",
       "      <td>0.917541</td>\n",
       "      <td>0.817365</td>\n",
       "    </tr>\n",
       "  </tbody>\n",
       "</table>\n",
       "</div>"
      ],
      "text/plain": [
       "                   model_used  title_train_score  title_test_score  \\\n",
       "0    CVec Logistic Regression           0.963268          0.793413   \n",
       "1   TfVec Logistic Regression           0.929535          0.766467   \n",
       "2         CVec Mn Naive Bayes           0.943778          0.790419   \n",
       "3        TfVec Mn Naive Bayes           0.949025          0.775449   \n",
       "4                    CVec KNN           0.691904          0.556886   \n",
       "5                   TfVec KNN           0.614693          0.526946   \n",
       "6          CVec Decision Tree           0.997001          0.727545   \n",
       "7         TfVec Decision Tree           0.997001          0.712575   \n",
       "8          CVec Random Forest           0.997001          0.757485   \n",
       "9         TfVec Random Forest           0.997001          0.760479   \n",
       "10               CVec Bagging           0.983508          0.730539   \n",
       "11              TfVec Bagging           0.979010          0.694611   \n",
       "\n",
       "    selftext_train_score  selftext_test_score  \n",
       "0               0.898801             0.847305  \n",
       "1               0.870315             0.826347  \n",
       "2               0.897301             0.829341  \n",
       "3               0.859070             0.811377  \n",
       "4               0.628936             0.547904  \n",
       "5               0.525487             0.520958  \n",
       "6               0.925787             0.817365  \n",
       "7               0.925787             0.811377  \n",
       "8               0.925787             0.811377  \n",
       "9               0.925787             0.808383  \n",
       "10              0.917541             0.814371  \n",
       "11              0.917541             0.817365  "
      ]
     },
     "execution_count": 38,
     "metadata": {},
     "output_type": "execute_result"
    }
   ],
   "source": [
    "model_trials_df"
   ]
  },
  {
   "cell_type": "markdown",
   "metadata": {},
   "source": [
    "---\n",
    "\n",
    "## AdaBoost Classifier"
   ]
  },
  {
   "cell_type": "code",
   "execution_count": 39,
   "metadata": {},
   "outputs": [],
   "source": [
    "cvec_ada = Pipeline([\n",
    "    ('cvec', CountVectorizer()),\n",
    "    ('ada', AdaBoostClassifier(random_state=42))\n",
    "])"
   ]
  },
  {
   "cell_type": "code",
   "execution_count": 40,
   "metadata": {},
   "outputs": [
    {
     "name": "stdout",
     "output_type": "stream",
     "text": [
      "Title CVec AdaBoosting Training Score: 0.75637\n",
      "Title CVec AdaBoosting Testing Score: 0.7006 \n",
      "\n",
      "Selftext CVec AdaBoosting Training Score: 0.88156\n",
      "Selftext CVec AdaBoosting Testing Score: 0.82934 \n",
      "\n",
      "Title Accuracy Rate: 0.7006\n",
      "Title Misclassification Rate: 0.2994 \n",
      "\n",
      "Selftext Accuracy Rate: 0.82934\n",
      "Selftext Misclassification Rate: 0.17066 \n",
      "\n",
      "Best accuracy rate confusion matrix:\n"
     ]
    },
    {
     "data": {
      "text/plain": [
       "<sklearn.metrics._plot.confusion_matrix.ConfusionMatrixDisplay at 0x13605f7c0>"
      ]
     },
     "execution_count": 40,
     "metadata": {},
     "output_type": "execute_result"
    },
    {
     "data": {
      "image/png": "[encoded data removed]",
      "text/plain": [
       "<Figure size 640x480 with 2 Axes>"
      ]
     },
     "metadata": {},
     "output_type": "display_data"
    }
   ],
   "source": [
    "model_trials(cvec_ada, 'CVec AdaBoosting')"
   ]
  },
  {
   "cell_type": "code",
   "execution_count": 41,
   "metadata": {},
   "outputs": [],
   "source": [
    "tfvec_ada = Pipeline([\n",
    "    ('tfvec', TfidfVectorizer()),\n",
    "    ('ada', AdaBoostClassifier(random_state=42))\n",
    "])"
   ]
  },
  {
   "cell_type": "code",
   "execution_count": 42,
   "metadata": {},
   "outputs": [
    {
     "name": "stdout",
     "output_type": "stream",
     "text": [
      "Title TfVec AdaBoosting Training Score: 0.77661\n",
      "Title TfVec AdaBoosting Testing Score: 0.71856 \n",
      "\n",
      "Selftext TfVec AdaBoosting Training Score: 0.8973\n",
      "Selftext TfVec AdaBoosting Testing Score: 0.82934 \n",
      "\n",
      "Title Accuracy Rate: 0.71856\n",
      "Title Misclassification Rate: 0.28144 \n",
      "\n",
      "Selftext Accuracy Rate: 0.82934\n",
      "Selftext Misclassification Rate: 0.17066 \n",
      "\n",
      "Best accuracy rate confusion matrix:\n"
     ]
    },
    {
     "data": {
      "text/plain": [
       "<sklearn.metrics._plot.confusion_matrix.ConfusionMatrixDisplay at 0x136507880>"
      ]
     },
     "execution_count": 42,
     "metadata": {},
     "output_type": "execute_result"
    },
    {
     "data": {
      "image/png": "[encoded data removed]",
      "text/plain": [
       "<Figure size 640x480 with 2 Axes>"
      ]
     },
     "metadata": {},
     "output_type": "display_data"
    }
   ],
   "source": [
    "model_trials(tfvec_ada, 'TfVec AdaBoosting')"
   ]
  },
  {
   "cell_type": "markdown",
   "metadata": {},
   "source": [
    "### Analysis\n",
    "\n",
    "In terms of the test scores, AdaBoosting appears to be more effective in this dataset than Bagging. \n",
    "\n",
    "Using TfVec in the AdaBoost model increased both title scores and the selftext train score, and kept the selftext test score exactly the same. It looks like four posts were reclassified, two correctly and two incorrectly. \n",
    "\n",
    "These are now two of the best-scoring models, and there does seem to be significantly less variance in the title and selftext scores than most of the other models. I'm going to try using this same model, but with Logistic Regression as the base estimator because LogReg is one of the other better-performing models we've seen so far."
   ]
  },
  {
   "cell_type": "markdown",
   "metadata": {},
   "source": [
    "---\n",
    "\n",
    "## AdaBoost Classifier with Logistic Regression"
   ]
  },
  {
   "cell_type": "code",
   "execution_count": 43,
   "metadata": {},
   "outputs": [],
   "source": [
    "cvec_ada_logreg = Pipeline([\n",
    "    ('cvec', CountVectorizer()),\n",
    "    ('ada', AdaBoostClassifier(base_estimator=LogisticRegression(), random_state=42))\n",
    "])"
   ]
  },
  {
   "cell_type": "code",
   "execution_count": 44,
   "metadata": {},
   "outputs": [
    {
     "name": "stdout",
     "output_type": "stream",
     "text": [
      "Title CVec AdaBoosting w/ LogReg Training Score: 0.75187\n",
      "Title CVec AdaBoosting w/ LogReg Testing Score: 0.69461 \n",
      "\n",
      "Selftext CVec AdaBoosting w/ LogReg Training Score: 0.86732\n",
      "Selftext CVec AdaBoosting w/ LogReg Testing Score: 0.81138 \n",
      "\n",
      "Title Accuracy Rate: 0.69461\n",
      "Title Misclassification Rate: 0.30539 \n",
      "\n",
      "Selftext Accuracy Rate: 0.81138\n",
      "Selftext Misclassification Rate: 0.18862 \n",
      "\n",
      "Best accuracy rate confusion matrix:\n"
     ]
    },
    {
     "data": {
      "text/plain": [
       "<sklearn.metrics._plot.confusion_matrix.ConfusionMatrixDisplay at 0x13549ed30>"
      ]
     },
     "execution_count": 44,
     "metadata": {},
     "output_type": "execute_result"
    },
    {
     "data": {
      "image/png": "[encoded data removed]",
      "text/plain": [
       "<Figure size 640x480 with 2 Axes>"
      ]
     },
     "metadata": {},
     "output_type": "display_data"
    }
   ],
   "source": [
    "model_trials(cvec_ada_logreg, 'CVec AdaBoosting w/ LogReg')"
   ]
  },
  {
   "cell_type": "code",
   "execution_count": 45,
   "metadata": {},
   "outputs": [],
   "source": [
    "tfvec_ada_logreg = Pipeline([\n",
    "    ('tfvec', TfidfVectorizer()),\n",
    "    ('ada', AdaBoostClassifier(base_estimator=LogisticRegression(), random_state=42))\n",
    "])"
   ]
  },
  {
   "cell_type": "code",
   "execution_count": 46,
   "metadata": {},
   "outputs": [
    {
     "name": "stdout",
     "output_type": "stream",
     "text": [
      "Title TfVec AdaBoosting w/ LogReg Training Score: 0.6934\n",
      "Title TfVec AdaBoosting w/ LogReg Testing Score: 0.65868 \n",
      "\n",
      "Selftext TfVec AdaBoosting w/ LogReg Training Score: 0.81484\n",
      "Selftext TfVec AdaBoosting w/ LogReg Testing Score: 0.79341 \n",
      "\n",
      "Title Accuracy Rate: 0.65868\n",
      "Title Misclassification Rate: 0.34132 \n",
      "\n",
      "Selftext Accuracy Rate: 0.79341\n",
      "Selftext Misclassification Rate: 0.20659 \n",
      "\n",
      "Best accuracy rate confusion matrix:\n"
     ]
    },
    {
     "data": {
      "text/plain": [
       "<sklearn.metrics._plot.confusion_matrix.ConfusionMatrixDisplay at 0x136712370>"
      ]
     },
     "execution_count": 46,
     "metadata": {},
     "output_type": "execute_result"
    },
    {
     "data": {
      "image/png": "[encoded data removed]",
      "text/plain": [
       "<Figure size 640x480 with 2 Axes>"
      ]
     },
     "metadata": {},
     "output_type": "display_data"
    }
   ],
   "source": [
    "model_trials(tfvec_ada_logreg, 'TfVec AdaBoosting w/ LogReg')"
   ]
  },
  {
   "cell_type": "markdown",
   "metadata": {},
   "source": [
    "### Analysis\n",
    "\n",
    "Here we see again the differences between the CountVectorizer and Tfidf interpretations of the text. In this case, CountVectorizer made more predictions for the IHateOhio class and Tfidf incorrectly reclassified seven true positives as false negatives. \n",
    "\n",
    "Contrary to my prior hypothesis, using Logistic Regression in conjunction with AdaBoost did not improve the test scores for title or selftext. That being said, these models did still perform relatively well and may be worth exploring further, with hyperparameter tuning."
   ]
  },
  {
   "cell_type": "markdown",
   "metadata": {},
   "source": [
    "---\n",
    "\n",
    "## Gradient Boosting Classifier"
   ]
  },
  {
   "cell_type": "code",
   "execution_count": 47,
   "metadata": {},
   "outputs": [],
   "source": [
    "cvec_gboost = Pipeline([\n",
    "    ('cvec', CountVectorizer()),\n",
    "    ('gb', GradientBoostingClassifier(random_state=42))\n",
    "])"
   ]
  },
  {
   "cell_type": "code",
   "execution_count": 48,
   "metadata": {},
   "outputs": [
    {
     "name": "stdout",
     "output_type": "stream",
     "text": [
      "Title CVec Gradient Boosting Training Score: 0.80885\n",
      "Title CVec Gradient Boosting Testing Score: 0.72156 \n",
      "\n",
      "Selftext CVec Gradient Boosting Training Score: 0.88831\n",
      "Selftext CVec Gradient Boosting Testing Score: 0.82934 \n",
      "\n",
      "Title Accuracy Rate: 0.72156\n",
      "Title Misclassification Rate: 0.27844 \n",
      "\n",
      "Selftext Accuracy Rate: 0.82934\n",
      "Selftext Misclassification Rate: 0.17066 \n",
      "\n",
      "Best accuracy rate confusion matrix:\n"
     ]
    },
    {
     "data": {
      "text/plain": [
       "<sklearn.metrics._plot.confusion_matrix.ConfusionMatrixDisplay at 0x13687b250>"
      ]
     },
     "execution_count": 48,
     "metadata": {},
     "output_type": "execute_result"
    },
    {
     "data": {
      "image/png": "[encoded data removed]",
      "text/plain": [
       "<Figure size 640x480 with 2 Axes>"
      ]
     },
     "metadata": {},
     "output_type": "display_data"
    }
   ],
   "source": [
    "model_trials(cvec_gboost, 'CVec Gradient Boosting')"
   ]
  },
  {
   "cell_type": "code",
   "execution_count": 49,
   "metadata": {},
   "outputs": [],
   "source": [
    "tfvec_gboost = Pipeline([\n",
    "    ('tfvec', TfidfVectorizer()),\n",
    "    ('gb', GradientBoostingClassifier(random_state=42))\n",
    "])"
   ]
  },
  {
   "cell_type": "code",
   "execution_count": 50,
   "metadata": {},
   "outputs": [
    {
     "name": "stdout",
     "output_type": "stream",
     "text": [
      "Title TfVec Gradient Boosting Training Score: 0.83058\n",
      "Title TfVec Gradient Boosting Testing Score: 0.73653 \n",
      "\n",
      "Selftext TfVec Gradient Boosting Training Score: 0.90255\n",
      "Selftext TfVec Gradient Boosting Testing Score: 0.82036 \n",
      "\n",
      "Title Accuracy Rate: 0.73653\n",
      "Title Misclassification Rate: 0.26347 \n",
      "\n",
      "Selftext Accuracy Rate: 0.82036\n",
      "Selftext Misclassification Rate: 0.17964 \n",
      "\n",
      "Best accuracy rate confusion matrix:\n"
     ]
    },
    {
     "data": {
      "text/plain": [
       "<sklearn.metrics._plot.confusion_matrix.ConfusionMatrixDisplay at 0x13683a550>"
      ]
     },
     "execution_count": 50,
     "metadata": {},
     "output_type": "execute_result"
    },
    {
     "data": {
      "image/png": "[encoded data removed]",
      "text/plain": [
       "<Figure size 640x480 with 2 Axes>"
      ]
     },
     "metadata": {},
     "output_type": "display_data"
    }
   ],
   "source": [
    "model_trials(tfvec_gboost, 'TfVec Gradient Boosting')"
   ]
  },
  {
   "cell_type": "markdown",
   "metadata": {},
   "source": [
    "### Analysis\n",
    "\n",
    "GradientBoosting is another one of the best performing models in terms of average selftext test score, and to my surprise, scored the same as AdaBoost on the CVec trial. Though GBoost did have a handful more false positives than a few other models, it also had some of the lowest false negative predictions. Using Tfidf here looks to have reclassified three true positives as false negatives while all else stayed the same. \n",
    "\n",
    "This model scored slightly worse than Bagging on most of the title train and test scores, and the selftext train score. However, the selftext test score jumped by about .015, making GBoost a strong contender for the next level of model trials and adaptations."
   ]
  },
  {
   "cell_type": "markdown",
   "metadata": {},
   "source": [
    "---\n",
    "\n",
    "## Which posts are continuously being misclassified?"
   ]
  },
  {
   "cell_type": "markdown",
   "metadata": {},
   "source": [
    "In the above matrices, we see a lot of similar patterns, which I think could mean that there is a specific subset of post selftexts that most models are unable to accurately classify.\n",
    "\n",
    "I'll select a few of the most similar distributions to check for repeated misclassifications."
   ]
  },
  {
   "cell_type": "code",
   "execution_count": 51,
   "metadata": {},
   "outputs": [],
   "source": [
    "misclassify_df = pd.DataFrame()"
   ]
  },
  {
   "cell_type": "code",
   "execution_count": 52,
   "metadata": {},
   "outputs": [],
   "source": [
    "def misclassify(model):\n",
    "    X = reddit['selftext']\n",
    "    y = reddit['subreddit_class']\n",
    "    X_train, X_test, y_train, y_test = train_test_split(X, y, test_size=.2, stratify=y, random_state=42)\n",
    "\n",
    "    model.fit(X_train, y_train)\n",
    "\n",
    "    preds = model.predict(X_test)\n",
    "    true = y_test\n",
    "\n",
    "    sub_df = pd.DataFrame()\n",
    "    sub_df['post_text'] = X_test\n",
    "    sub_df['preds'] = preds\n",
    "    sub_df['true'] = true\n",
    "\n",
    "    sub_df = sub_df[sub_df['preds'] != sub_df['true']]\n",
    "\n",
    "    new_df = pd.concat([misclassify_df, sub_df])\n",
    "\n",
    "    print(f'This model had {len(sub_df)} misclassifications.')\n",
    "    return new_df"
   ]
  },
  {
   "cell_type": "code",
   "execution_count": 53,
   "metadata": {},
   "outputs": [
    {
     "name": "stdout",
     "output_type": "stream",
     "text": [
      "This model had 63 misclassifications.\n"
     ]
    },
    {
     "data": {
      "text/html": [
       "<div>\n",
       "<style scoped>\n",
       "    .dataframe tbody tr th:only-of-type {\n",
       "        vertical-align: middle;\n",
       "    }\n",
       "\n",
       "    .dataframe tbody tr th {\n",
       "        vertical-align: top;\n",
       "    }\n",
       "\n",
       "    .dataframe thead th {\n",
       "        text-align: right;\n",
       "    }\n",
       "</style>\n",
       "<table border=\"1\" class=\"dataframe\">\n",
       "  <thead>\n",
       "    <tr style=\"text-align: right;\">\n",
       "      <th></th>\n",
       "      <th>post_text</th>\n",
       "      <th>preds</th>\n",
       "      <th>true</th>\n",
       "    </tr>\n",
       "  </thead>\n",
       "  <tbody>\n",
       "    <tr>\n",
       "      <th>914</th>\n",
       "      <td>i’m from michigan. i live about an hour away from ohio and hate it. as do most people from michigan.\\n\\nthe reason why i think ohio sucks is firstly for michigan pride. our states are like rivals ...</td>\n",
       "      <td>0</td>\n",
       "      <td>1</td>\n",
       "    </tr>\n",
       "    <tr>\n",
       "      <th>863</th>\n",
       "      <td>my wife is from ohio, i'm from eastern pa. multiple times a year i have to drive into that hell hole and pretend that terrible pizza is good pizza. fuck ohio pizza, fuck ohio.</td>\n",
       "      <td>0</td>\n",
       "      <td>1</td>\n",
       "    </tr>\n",
       "    <tr>\n",
       "      <th>969</th>\n",
       "      <td>the thought of how i once moved there and almost wasn’t able to find a way to leave has literally changed me forever ...i have nightmares where i’m back there and have to stay for my whole life</td>\n",
       "      <td>0</td>\n",
       "      <td>1</td>\n",
       "    </tr>\n",
       "    <tr>\n",
       "      <th>874</th>\n",
       "      <td>is ohio real? i’ve never been there so ohio is fake</td>\n",
       "      <td>0</td>\n",
       "      <td>1</td>\n",
       "    </tr>\n",
       "    <tr>\n",
       "      <th>804</th>\n",
       "      <td>coming from a 24 ur old female so. cal resident\\n\\nthe stories i hear that is unbelievable or utterly disturbing/disgusting. they just keep coming. what the fuck is wrong with ohio? \\n\\nfrom a spi...</td>\n",
       "      <td>0</td>\n",
       "      <td>1</td>\n",
       "    </tr>\n",
       "    <tr>\n",
       "      <th>...</th>\n",
       "      <td>...</td>\n",
       "      <td>...</td>\n",
       "      <td>...</td>\n",
       "    </tr>\n",
       "    <tr>\n",
       "      <th>909</th>\n",
       "      <td>just had to move to ohio from west virginia and how is there even less to do here than there is at home? the people are so rude over here it’s like they live to piss you off or they can sense i’m ...</td>\n",
       "      <td>0</td>\n",
       "      <td>1</td>\n",
       "    </tr>\n",
       "    <tr>\n",
       "      <th>836</th>\n",
       "      <td>i have done a good job getting out of toledo and staying away. but an uncle is sick now and i have to go back.\\n\\nwhere to go afternoons in toledo when i'm not at the hospital?</td>\n",
       "      <td>0</td>\n",
       "      <td>1</td>\n",
       "    </tr>\n",
       "    <tr>\n",
       "      <th>27</th>\n",
       "      <td></td>\n",
       "      <td>1</td>\n",
       "      <td>0</td>\n",
       "    </tr>\n",
       "    <tr>\n",
       "      <th>922</th>\n",
       "      <td>how do you hate ohio? it doesn't even exist</td>\n",
       "      <td>0</td>\n",
       "      <td>1</td>\n",
       "    </tr>\n",
       "    <tr>\n",
       "      <th>504</th>\n",
       "      <td></td>\n",
       "      <td>1</td>\n",
       "      <td>0</td>\n",
       "    </tr>\n",
       "  </tbody>\n",
       "</table>\n",
       "<p>63 rows × 3 columns</p>\n",
       "</div>"
      ],
      "text/plain": [
       "                                                                                                                                                                                                   post_text  \\\n",
       "914  i’m from michigan. i live about an hour away from ohio and hate it. as do most people from michigan.\\n\\nthe reason why i think ohio sucks is firstly for michigan pride. our states are like rivals ...   \n",
       "863                          my wife is from ohio, i'm from eastern pa. multiple times a year i have to drive into that hell hole and pretend that terrible pizza is good pizza. fuck ohio pizza, fuck ohio.   \n",
       "969        the thought of how i once moved there and almost wasn’t able to find a way to leave has literally changed me forever ...i have nightmares where i’m back there and have to stay for my whole life   \n",
       "874                                                                                                                                                      is ohio real? i’ve never been there so ohio is fake   \n",
       "804  coming from a 24 ur old female so. cal resident\\n\\nthe stories i hear that is unbelievable or utterly disturbing/disgusting. they just keep coming. what the fuck is wrong with ohio? \\n\\nfrom a spi...   \n",
       "..                                                                                                                                                                                                       ...   \n",
       "909  just had to move to ohio from west virginia and how is there even less to do here than there is at home? the people are so rude over here it’s like they live to piss you off or they can sense i’m ...   \n",
       "836                         i have done a good job getting out of toledo and staying away. but an uncle is sick now and i have to go back.\\n\\nwhere to go afternoons in toledo when i'm not at the hospital?   \n",
       "27                                                                                                                                                                                                             \n",
       "922                                                                                                                                                              how do you hate ohio? it doesn't even exist   \n",
       "504                                                                                                                                                                                                            \n",
       "\n",
       "     preds  true  \n",
       "914      0     1  \n",
       "863      0     1  \n",
       "969      0     1  \n",
       "874      0     1  \n",
       "804      0     1  \n",
       "..     ...   ...  \n",
       "909      0     1  \n",
       "836      0     1  \n",
       "27       1     0  \n",
       "922      0     1  \n",
       "504      1     0  \n",
       "\n",
       "[63 rows x 3 columns]"
      ]
     },
     "execution_count": 53,
     "metadata": {},
     "output_type": "execute_result"
    }
   ],
   "source": [
    "misclassify(tfvec_mnb)"
   ]
  },
  {
   "cell_type": "code",
   "execution_count": 54,
   "metadata": {},
   "outputs": [
    {
     "name": "stdout",
     "output_type": "stream",
     "text": [
      "This model had 63 misclassifications.\n",
      "This model had 63 misclassifications.\n",
      "This model had 63 misclassifications.\n",
      "This model had 62 misclassifications.\n",
      "This model had 63 misclassifications.\n"
     ]
    },
    {
     "data": {
      "text/plain": [
       "(314, 3)"
      ]
     },
     "execution_count": 54,
     "metadata": {},
     "output_type": "execute_result"
    }
   ],
   "source": [
    "misclassify_df = pd.concat([misclassify(tfvec_mnb), misclassify(tfvec_dtree), misclassify(cvec_rf), misclassify(cvec_bag_pipe), misclassify(cvec_ada_logreg)])\n",
    "misclassify_df.shape"
   ]
  },
  {
   "cell_type": "code",
   "execution_count": 58,
   "metadata": {},
   "outputs": [],
   "source": [
    "misclassify_df['count'] = misclassify_df.index.value_counts()"
   ]
  },
  {
   "cell_type": "code",
   "execution_count": 59,
   "metadata": {},
   "outputs": [
    {
     "data": {
      "text/html": [
       "<div>\n",
       "<style scoped>\n",
       "    .dataframe tbody tr th:only-of-type {\n",
       "        vertical-align: middle;\n",
       "    }\n",
       "\n",
       "    .dataframe tbody tr th {\n",
       "        vertical-align: top;\n",
       "    }\n",
       "\n",
       "    .dataframe thead th {\n",
       "        text-align: right;\n",
       "    }\n",
       "</style>\n",
       "<table border=\"1\" class=\"dataframe\">\n",
       "  <thead>\n",
       "    <tr style=\"text-align: right;\">\n",
       "      <th></th>\n",
       "      <th>post_text</th>\n",
       "      <th>preds</th>\n",
       "      <th>true</th>\n",
       "      <th>count</th>\n",
       "    </tr>\n",
       "  </thead>\n",
       "  <tbody>\n",
       "    <tr>\n",
       "      <th>863</th>\n",
       "      <td>my wife is from ohio, i'm from eastern pa. multiple times a year i have to drive into that hell hole and pretend that terrible pizza is good pizza. fuck ohio pizza, fuck ohio.</td>\n",
       "      <td>0</td>\n",
       "      <td>1</td>\n",
       "      <td>3</td>\n",
       "    </tr>\n",
       "    <tr>\n",
       "      <th>969</th>\n",
       "      <td>the thought of how i once moved there and almost wasn’t able to find a way to leave has literally changed me forever ...i have nightmares where i’m back there and have to stay for my whole life</td>\n",
       "      <td>0</td>\n",
       "      <td>1</td>\n",
       "      <td>5</td>\n",
       "    </tr>\n",
       "    <tr>\n",
       "      <th>804</th>\n",
       "      <td>coming from a 24 ur old female so. cal resident\\n\\nthe stories i hear that is unbelievable or utterly disturbing/disgusting. they just keep coming. what the fuck is wrong with ohio? \\n\\nfrom a spi...</td>\n",
       "      <td>0</td>\n",
       "      <td>1</td>\n",
       "      <td>5</td>\n",
       "    </tr>\n",
       "    <tr>\n",
       "      <th>677</th>\n",
       "      <td></td>\n",
       "      <td>1</td>\n",
       "      <td>0</td>\n",
       "      <td>5</td>\n",
       "    </tr>\n",
       "    <tr>\n",
       "      <th>1012</th>\n",
       "      <td>for the love of god someone save me the allergens are killing me and it was snowy until april</td>\n",
       "      <td>0</td>\n",
       "      <td>1</td>\n",
       "      <td>5</td>\n",
       "    </tr>\n",
       "  </tbody>\n",
       "</table>\n",
       "</div>"
      ],
      "text/plain": [
       "                                                                                                                                                                                                    post_text  \\\n",
       "863                           my wife is from ohio, i'm from eastern pa. multiple times a year i have to drive into that hell hole and pretend that terrible pizza is good pizza. fuck ohio pizza, fuck ohio.   \n",
       "969         the thought of how i once moved there and almost wasn’t able to find a way to leave has literally changed me forever ...i have nightmares where i’m back there and have to stay for my whole life   \n",
       "804   coming from a 24 ur old female so. cal resident\\n\\nthe stories i hear that is unbelievable or utterly disturbing/disgusting. they just keep coming. what the fuck is wrong with ohio? \\n\\nfrom a spi...   \n",
       "677                                                                                                                                                                                                             \n",
       "1012                                                                                                            for the love of god someone save me the allergens are killing me and it was snowy until april   \n",
       "\n",
       "      preds  true  count  \n",
       "863       0     1      3  \n",
       "969       0     1      5  \n",
       "804       0     1      5  \n",
       "677       1     0      5  \n",
       "1012      0     1      5  "
      ]
     },
     "execution_count": 59,
     "metadata": {},
     "output_type": "execute_result"
    }
   ],
   "source": [
    "three_plus_times = misclassify_df[misclassify_df['count'] > 2]\n",
    "three_plus_times.drop_duplicates(subset='post_text', inplace=True)"
   ]
  },
  {
   "cell_type": "code",
   "execution_count": 60,
   "metadata": {},
   "outputs": [
    {
     "data": {
      "text/html": [
       "<div>\n",
       "<style scoped>\n",
       "    .dataframe tbody tr th:only-of-type {\n",
       "        vertical-align: middle;\n",
       "    }\n",
       "\n",
       "    .dataframe tbody tr th {\n",
       "        vertical-align: top;\n",
       "    }\n",
       "\n",
       "    .dataframe thead th {\n",
       "        text-align: right;\n",
       "    }\n",
       "</style>\n",
       "<table border=\"1\" class=\"dataframe\">\n",
       "  <thead>\n",
       "    <tr style=\"text-align: right;\">\n",
       "      <th></th>\n",
       "      <th>post_text</th>\n",
       "      <th>preds</th>\n",
       "      <th>true</th>\n",
       "      <th>count</th>\n",
       "    </tr>\n",
       "  </thead>\n",
       "  <tbody>\n",
       "    <tr>\n",
       "      <th>863</th>\n",
       "      <td>my wife is from ohio, i'm from eastern pa. multiple times a year i have to drive into that hell hole and pretend that terrible pizza is good pizza. fuck ohio pizza, fuck ohio.</td>\n",
       "      <td>0</td>\n",
       "      <td>1</td>\n",
       "      <td>3</td>\n",
       "    </tr>\n",
       "    <tr>\n",
       "      <th>969</th>\n",
       "      <td>the thought of how i once moved there and almost wasn’t able to find a way to leave has literally changed me forever ...i have nightmares where i’m back there and have to stay for my whole life</td>\n",
       "      <td>0</td>\n",
       "      <td>1</td>\n",
       "      <td>5</td>\n",
       "    </tr>\n",
       "    <tr>\n",
       "      <th>804</th>\n",
       "      <td>coming from a 24 ur old female so. cal resident\\n\\nthe stories i hear that is unbelievable or utterly disturbing/disgusting. they just keep coming. what the fuck is wrong with ohio? \\n\\nfrom a spi...</td>\n",
       "      <td>0</td>\n",
       "      <td>1</td>\n",
       "      <td>5</td>\n",
       "    </tr>\n",
       "    <tr>\n",
       "      <th>677</th>\n",
       "      <td></td>\n",
       "      <td>1</td>\n",
       "      <td>0</td>\n",
       "      <td>5</td>\n",
       "    </tr>\n",
       "    <tr>\n",
       "      <th>1012</th>\n",
       "      <td>for the love of god someone save me the allergens are killing me and it was snowy until april</td>\n",
       "      <td>0</td>\n",
       "      <td>1</td>\n",
       "      <td>5</td>\n",
       "    </tr>\n",
       "    <tr>\n",
       "      <th>802</th>\n",
       "      <td>i went to ohio for a few weeks once. don’t know if that counts me as an ohioan, but i am definitely recovering.</td>\n",
       "      <td>0</td>\n",
       "      <td>1</td>\n",
       "      <td>4</td>\n",
       "    </tr>\n",
       "    <tr>\n",
       "      <th>1045</th>\n",
       "      <td>who the hell names themselves after a poisonous nut that is also useless in every other way?</td>\n",
       "      <td>0</td>\n",
       "      <td>1</td>\n",
       "      <td>4</td>\n",
       "    </tr>\n",
       "    <tr>\n",
       "      <th>647</th>\n",
       "      <td>realize i live near a field of stone corn</td>\n",
       "      <td>1</td>\n",
       "      <td>0</td>\n",
       "      <td>4</td>\n",
       "    </tr>\n",
       "    <tr>\n",
       "      <th>1027</th>\n",
       "      <td>i just moved to cincinnati from austin tx and what the fuck does anyone do here i absolutely despise ohio someone please nuke us</td>\n",
       "      <td>0</td>\n",
       "      <td>1</td>\n",
       "      <td>3</td>\n",
       "    </tr>\n",
       "    <tr>\n",
       "      <th>844</th>\n",
       "      <td>only 2 or 3 things to do here. gets boring very fast.</td>\n",
       "      <td>0</td>\n",
       "      <td>1</td>\n",
       "      <td>4</td>\n",
       "    </tr>\n",
       "    <tr>\n",
       "      <th>988</th>\n",
       "      <td>why doesn’t one restaurant/pub near my campus sell turkey burgers!???? what tf ohio\\n</td>\n",
       "      <td>0</td>\n",
       "      <td>1</td>\n",
       "      <td>4</td>\n",
       "    </tr>\n",
       "    <tr>\n",
       "      <th>803</th>\n",
       "      <td>i moved here from nyc 2 years ago (tho i grew up here, it's been awhile).\\n\\ni was playing basketball and the guys on the court kept talking about a girl playing ping pong.  so i stopped and check...</td>\n",
       "      <td>0</td>\n",
       "      <td>1</td>\n",
       "      <td>4</td>\n",
       "    </tr>\n",
       "    <tr>\n",
       "      <th>160</th>\n",
       "      <td>おはよう</td>\n",
       "      <td>1</td>\n",
       "      <td>0</td>\n",
       "      <td>5</td>\n",
       "    </tr>\n",
       "    <tr>\n",
       "      <th>392</th>\n",
       "      <td>&amp;amp;#x200b;\\n\\n*processing img 0brig9rzxa071...*</td>\n",
       "      <td>1</td>\n",
       "      <td>0</td>\n",
       "      <td>5</td>\n",
       "    </tr>\n",
       "    <tr>\n",
       "      <th>1019</th>\n",
       "      <td>i work a valet job in savannah, ga. \\nwe have a lot of folks from the north stop in on their way to florida. \\nnone are worse than ohioans. \\n\\nthe stereotypical ohioan is a family of 4, \\noverwei...</td>\n",
       "      <td>0</td>\n",
       "      <td>1</td>\n",
       "      <td>3</td>\n",
       "    </tr>\n",
       "    <tr>\n",
       "      <th>797</th>\n",
       "      <td>just today i had one egomaniac try to put me down and shame me in front of the entire shop. all he did was piss me off and prove my theory that no one on that shift can be trusted. on the bike rid...</td>\n",
       "      <td>0</td>\n",
       "      <td>1</td>\n",
       "      <td>4</td>\n",
       "    </tr>\n",
       "    <tr>\n",
       "      <th>799</th>\n",
       "      <td>i've lived in 7 states. 2 of those were florida and texas.\\n\\nohio is the most soul-sucking misery fest i've ever encountered.\\n\\nit's like its inhabitants don't realize just how miserable they ar...</td>\n",
       "      <td>0</td>\n",
       "      <td>1</td>\n",
       "      <td>4</td>\n",
       "    </tr>\n",
       "    <tr>\n",
       "      <th>857</th>\n",
       "      <td>i absolutely cannot stand this place. the toxic and obnoxious osu fan base which reeks of narcissism and insecurities, the absolutely ordinary no-style generic fucking dining culture, the  gay hip...</td>\n",
       "      <td>0</td>\n",
       "      <td>1</td>\n",
       "      <td>4</td>\n",
       "    </tr>\n",
       "    <tr>\n",
       "      <th>842</th>\n",
       "      <td>i've survived here almost my entire life. i went to sd for a year and it was better. i came back because i was bored. i regret that all the time. i'd rather be bored than miserable. the people her...</td>\n",
       "      <td>0</td>\n",
       "      <td>1</td>\n",
       "      <td>3</td>\n",
       "    </tr>\n",
       "    <tr>\n",
       "      <th>882</th>\n",
       "      <td>hey i’m born and raised in ohio its fucking awful here we have nothing but corn and cleveland</td>\n",
       "      <td>0</td>\n",
       "      <td>1</td>\n",
       "      <td>4</td>\n",
       "    </tr>\n",
       "    <tr>\n",
       "      <th>800</th>\n",
       "      <td>clevelanders will swear by their team pride. up and down, they insist they love it just as much as they love cleveland.\\n\\nbut my dude, you're colors are burnt orange and shit brown. you sure you'...</td>\n",
       "      <td>0</td>\n",
       "      <td>1</td>\n",
       "      <td>4</td>\n",
       "    </tr>\n",
       "    <tr>\n",
       "      <th>889</th>\n",
       "      <td>the browns suck. go away</td>\n",
       "      <td>0</td>\n",
       "      <td>1</td>\n",
       "      <td>3</td>\n",
       "    </tr>\n",
       "    <tr>\n",
       "      <th>905</th>\n",
       "      <td>fucking hell, i absolutely hate ohio. that stupid state. it's shaped like a fucking deformed square, doesn't even have anything special about it compared to chad states like texas, and is just ov...</td>\n",
       "      <td>0</td>\n",
       "      <td>1</td>\n",
       "      <td>3</td>\n",
       "    </tr>\n",
       "    <tr>\n",
       "      <th>1021</th>\n",
       "      <td>i apologize for the length of this post. \\n\\nguys, i gotta vent. so i donate blood fairly regularly through the red cross. i have a fairly useful blood type and i like the chance to burn 600 calor...</td>\n",
       "      <td>0</td>\n",
       "      <td>1</td>\n",
       "      <td>5</td>\n",
       "    </tr>\n",
       "    <tr>\n",
       "      <th>1010</th>\n",
       "      <td>i’m looking for a good sub picture and banner because the one i have right now was just some random photo on my desktop. i’ll pick the best one, just comment an image link in the comments!</td>\n",
       "      <td>0</td>\n",
       "      <td>1</td>\n",
       "      <td>5</td>\n",
       "    </tr>\n",
       "    <tr>\n",
       "      <th>936</th>\n",
       "      <td>literally the worst place i've ever been.\\n\\ni have never met so many people in one place who literally have no human value.</td>\n",
       "      <td>0</td>\n",
       "      <td>1</td>\n",
       "      <td>4</td>\n",
       "    </tr>\n",
       "    <tr>\n",
       "      <th>1029</th>\n",
       "      <td>i was on the outside of ohio stadium last year for “the game” ,which i don’t want to talk about ,😂 and was in all my michigan gear in full maize and blue. my son and i are hanging around the outsi...</td>\n",
       "      <td>0</td>\n",
       "      <td>1</td>\n",
       "      <td>4</td>\n",
       "    </tr>\n",
       "    <tr>\n",
       "      <th>909</th>\n",
       "      <td>just had to move to ohio from west virginia and how is there even less to do here than there is at home? the people are so rude over here it’s like they live to piss you off or they can sense i’m ...</td>\n",
       "      <td>0</td>\n",
       "      <td>1</td>\n",
       "      <td>5</td>\n",
       "    </tr>\n",
       "    <tr>\n",
       "      <th>836</th>\n",
       "      <td>i have done a good job getting out of toledo and staying away. but an uncle is sick now and i have to go back.\\n\\nwhere to go afternoons in toledo when i'm not at the hospital?</td>\n",
       "      <td>0</td>\n",
       "      <td>1</td>\n",
       "      <td>5</td>\n",
       "    </tr>\n",
       "    <tr>\n",
       "      <th>21</th>\n",
       "      <td>water is just heated up ice :\\]</td>\n",
       "      <td>1</td>\n",
       "      <td>0</td>\n",
       "      <td>4</td>\n",
       "    </tr>\n",
       "    <tr>\n",
       "      <th>201</th>\n",
       "      <td>seriously….anybody</td>\n",
       "      <td>1</td>\n",
       "      <td>0</td>\n",
       "      <td>4</td>\n",
       "    </tr>\n",
       "    <tr>\n",
       "      <th>406</th>\n",
       "      <td>not expecting to get it fixed until tomorrow night.</td>\n",
       "      <td>1</td>\n",
       "      <td>0</td>\n",
       "      <td>3</td>\n",
       "    </tr>\n",
       "    <tr>\n",
       "      <th>775</th>\n",
       "      <td>i tried going today but it's closed until march</td>\n",
       "      <td>1</td>\n",
       "      <td>0</td>\n",
       "      <td>4</td>\n",
       "    </tr>\n",
       "    <tr>\n",
       "      <th>540</th>\n",
       "      <td>me pusieron 56 semanas de penalidad ya he servido 32 el dinero del overpayment se pago en 2019 tengo entendido que las personas que están sirviendo semanas de penalidad son elegibles para el pua p...</td>\n",
       "      <td>1</td>\n",
       "      <td>0</td>\n",
       "      <td>4</td>\n",
       "    </tr>\n",
       "    <tr>\n",
       "      <th>214</th>\n",
       "      <td>if so please reply. i have a question.</td>\n",
       "      <td>1</td>\n",
       "      <td>0</td>\n",
       "      <td>3</td>\n",
       "    </tr>\n",
       "    <tr>\n",
       "      <th>276</th>\n",
       "      <td>lets make it</td>\n",
       "      <td>1</td>\n",
       "      <td>0</td>\n",
       "      <td>4</td>\n",
       "    </tr>\n",
       "  </tbody>\n",
       "</table>\n",
       "</div>"
      ],
      "text/plain": [
       "                                                                                                                                                                                                    post_text  \\\n",
       "863                           my wife is from ohio, i'm from eastern pa. multiple times a year i have to drive into that hell hole and pretend that terrible pizza is good pizza. fuck ohio pizza, fuck ohio.   \n",
       "969         the thought of how i once moved there and almost wasn’t able to find a way to leave has literally changed me forever ...i have nightmares where i’m back there and have to stay for my whole life   \n",
       "804   coming from a 24 ur old female so. cal resident\\n\\nthe stories i hear that is unbelievable or utterly disturbing/disgusting. they just keep coming. what the fuck is wrong with ohio? \\n\\nfrom a spi...   \n",
       "677                                                                                                                                                                                                             \n",
       "1012                                                                                                            for the love of god someone save me the allergens are killing me and it was snowy until april   \n",
       "802                                                                                           i went to ohio for a few weeks once. don’t know if that counts me as an ohioan, but i am definitely recovering.   \n",
       "1045                                                                                                             who the hell names themselves after a poisonous nut that is also useless in every other way?   \n",
       "647                                                                                                                                                                 realize i live near a field of stone corn   \n",
       "1027                                                                         i just moved to cincinnati from austin tx and what the fuck does anyone do here i absolutely despise ohio someone please nuke us   \n",
       "844                                                                                                                                                     only 2 or 3 things to do here. gets boring very fast.   \n",
       "988                                                                                                                     why doesn’t one restaurant/pub near my campus sell turkey burgers!???? what tf ohio\\n   \n",
       "803   i moved here from nyc 2 years ago (tho i grew up here, it's been awhile).\\n\\ni was playing basketball and the guys on the court kept talking about a girl playing ping pong.  so i stopped and check...   \n",
       "160                                                                                                                                                                                                      おはよう   \n",
       "392                                                                                                                                                         &amp;#x200b;\\n\\n*processing img 0brig9rzxa071...*   \n",
       "1019  i work a valet job in savannah, ga. \\nwe have a lot of folks from the north stop in on their way to florida. \\nnone are worse than ohioans. \\n\\nthe stereotypical ohioan is a family of 4, \\noverwei...   \n",
       "797   just today i had one egomaniac try to put me down and shame me in front of the entire shop. all he did was piss me off and prove my theory that no one on that shift can be trusted. on the bike rid...   \n",
       "799   i've lived in 7 states. 2 of those were florida and texas.\\n\\nohio is the most soul-sucking misery fest i've ever encountered.\\n\\nit's like its inhabitants don't realize just how miserable they ar...   \n",
       "857   i absolutely cannot stand this place. the toxic and obnoxious osu fan base which reeks of narcissism and insecurities, the absolutely ordinary no-style generic fucking dining culture, the  gay hip...   \n",
       "842   i've survived here almost my entire life. i went to sd for a year and it was better. i came back because i was bored. i regret that all the time. i'd rather be bored than miserable. the people her...   \n",
       "882                                                                                                             hey i’m born and raised in ohio its fucking awful here we have nothing but corn and cleveland   \n",
       "800   clevelanders will swear by their team pride. up and down, they insist they love it just as much as they love cleveland.\\n\\nbut my dude, you're colors are burnt orange and shit brown. you sure you'...   \n",
       "889                                                                                                                                                                                  the browns suck. go away   \n",
       "905    fucking hell, i absolutely hate ohio. that stupid state. it's shaped like a fucking deformed square, doesn't even have anything special about it compared to chad states like texas, and is just ov...   \n",
       "1021  i apologize for the length of this post. \\n\\nguys, i gotta vent. so i donate blood fairly regularly through the red cross. i have a fairly useful blood type and i like the chance to burn 600 calor...   \n",
       "1010             i’m looking for a good sub picture and banner because the one i have right now was just some random photo on my desktop. i’ll pick the best one, just comment an image link in the comments!   \n",
       "936                                                                              literally the worst place i've ever been.\\n\\ni have never met so many people in one place who literally have no human value.   \n",
       "1029  i was on the outside of ohio stadium last year for “the game” ,which i don’t want to talk about ,😂 and was in all my michigan gear in full maize and blue. my son and i are hanging around the outsi...   \n",
       "909   just had to move to ohio from west virginia and how is there even less to do here than there is at home? the people are so rude over here it’s like they live to piss you off or they can sense i’m ...   \n",
       "836                          i have done a good job getting out of toledo and staying away. but an uncle is sick now and i have to go back.\\n\\nwhere to go afternoons in toledo when i'm not at the hospital?   \n",
       "21                                                                                                                                                                            water is just heated up ice :\\]   \n",
       "201                                                                                                                                                                                        seriously….anybody   \n",
       "406                                                                                                                                                       not expecting to get it fixed until tomorrow night.   \n",
       "775                                                                                                                                                           i tried going today but it's closed until march   \n",
       "540   me pusieron 56 semanas de penalidad ya he servido 32 el dinero del overpayment se pago en 2019 tengo entendido que las personas que están sirviendo semanas de penalidad son elegibles para el pua p...   \n",
       "214                                                                                                                                                                    if so please reply. i have a question.   \n",
       "276                                                                                                                                                                                              lets make it   \n",
       "\n",
       "      preds  true  count  \n",
       "863       0     1      3  \n",
       "969       0     1      5  \n",
       "804       0     1      5  \n",
       "677       1     0      5  \n",
       "1012      0     1      5  \n",
       "802       0     1      4  \n",
       "1045      0     1      4  \n",
       "647       1     0      4  \n",
       "1027      0     1      3  \n",
       "844       0     1      4  \n",
       "988       0     1      4  \n",
       "803       0     1      4  \n",
       "160       1     0      5  \n",
       "392       1     0      5  \n",
       "1019      0     1      3  \n",
       "797       0     1      4  \n",
       "799       0     1      4  \n",
       "857       0     1      4  \n",
       "842       0     1      3  \n",
       "882       0     1      4  \n",
       "800       0     1      4  \n",
       "889       0     1      3  \n",
       "905       0     1      3  \n",
       "1021      0     1      5  \n",
       "1010      0     1      5  \n",
       "936       0     1      4  \n",
       "1029      0     1      4  \n",
       "909       0     1      5  \n",
       "836       0     1      5  \n",
       "21        1     0      4  \n",
       "201       1     0      4  \n",
       "406       1     0      3  \n",
       "775       1     0      4  \n",
       "540       1     0      4  \n",
       "214       1     0      3  \n",
       "276       1     0      4  "
      ]
     },
     "execution_count": 60,
     "metadata": {},
     "output_type": "execute_result"
    }
   ],
   "source": [
    "three_plus_times"
   ]
  },
  {
   "cell_type": "code",
   "execution_count": 65,
   "metadata": {},
   "outputs": [
    {
     "name": "stdout",
     "output_type": "stream",
     "text": [
      "1    196\n",
      "0    118\n",
      "Name: preds, dtype: int64\n",
      "0    196\n",
      "1    118\n",
      "Name: true, dtype: int64\n"
     ]
    }
   ],
   "source": [
    "print(misclassify_df['preds'].value_counts())\n",
    "print(misclassify_df['true'].value_counts())"
   ]
  },
  {
   "cell_type": "markdown",
   "metadata": {},
   "source": [
    "There does not seem to be one common thread that ties all of the misclassifications that we see above together. Based on the pred and true counts, we can see that most errors made by the models are incorrect IHateOhio predictions, which should actually be Ohio classifications.\n",
    "\n",
    "The most obvious observations here are the empty strings and anything written in a different language.  This makes sense in that these are vague for a machine - any nulls or captions written in a language that the model is not looking for are relatively neutral expressions, which explains why the models continuously have a hard time with these and resort to simply (and incorrectly) predicting the majority class. \n",
    "\n",
    "The posts that do not have either of the two features mentioned above seem like they should be easier for models to correctly guess the classifications for, but the language in a few is also confusing for a computer. For instance, the post \"for the love of god someone save me the allergens are killing me and it was snowy until april\" is pretty clear to a human (who speaks English) reading it that this person is not fond of Ohio. However, the post was misclassified in all five of the models tested, and likely in more models above. I think that \"love\" in this sentence is throwing the models off because they are not interpreting the context of the sentence as a whole.\n",
    "\n",
    "Another issue in the model is locations. I'm theorizing that mentions of state names or Ohio city names are more common in the Ohio subreddit. This results in a high likelihood of misclassification when these appear in the IHateOhio subreddit. In the three_plus_times dataframe above, we see that all posts that include any substrings like \"cincinatti,\" \"toledo,\" \"cleveland,\" \"texas,\" \"nyc,\" etc. were predicted to be from the Ohio thread but were actually all from the IHateOhio sub.\n",
    "\n",
    "In future models, I would try to account for these issues in the model by:\n",
    "1. Removing blanks, emojis, other languages, and any other posts that are not relevant to the problem statement.\n",
    "2. Add my own stop words to give the models a better understanding of what to look for and what to ignore.\n",
    "3. Instead of splitting the title and selftext sections and scoring separately, I'd be curious to see if combining the two would lead to a more cohesive message for the model and therefore, higher scores."
   ]
  },
  {
   "cell_type": "markdown",
   "metadata": {},
   "source": [
    "---\n",
    "\n",
    "## Model Evaluation"
   ]
  },
  {
   "cell_type": "code",
   "execution_count": 62,
   "metadata": {},
   "outputs": [
    {
     "data": {
      "text/html": [
       "<div>\n",
       "<style scoped>\n",
       "    .dataframe tbody tr th:only-of-type {\n",
       "        vertical-align: middle;\n",
       "    }\n",
       "\n",
       "    .dataframe tbody tr th {\n",
       "        vertical-align: top;\n",
       "    }\n",
       "\n",
       "    .dataframe thead th {\n",
       "        text-align: right;\n",
       "    }\n",
       "</style>\n",
       "<table border=\"1\" class=\"dataframe\">\n",
       "  <thead>\n",
       "    <tr style=\"text-align: right;\">\n",
       "      <th></th>\n",
       "      <th>model_used</th>\n",
       "      <th>title_train_score</th>\n",
       "      <th>title_test_score</th>\n",
       "      <th>selftext_train_score</th>\n",
       "      <th>selftext_test_score</th>\n",
       "    </tr>\n",
       "  </thead>\n",
       "  <tbody>\n",
       "    <tr>\n",
       "      <th>0</th>\n",
       "      <td>CVec Logistic Regression</td>\n",
       "      <td>0.963268</td>\n",
       "      <td>0.793413</td>\n",
       "      <td>0.898801</td>\n",
       "      <td>0.847305</td>\n",
       "    </tr>\n",
       "    <tr>\n",
       "      <th>1</th>\n",
       "      <td>TfVec Logistic Regression</td>\n",
       "      <td>0.929535</td>\n",
       "      <td>0.766467</td>\n",
       "      <td>0.870315</td>\n",
       "      <td>0.826347</td>\n",
       "    </tr>\n",
       "    <tr>\n",
       "      <th>2</th>\n",
       "      <td>CVec Mn Naive Bayes</td>\n",
       "      <td>0.943778</td>\n",
       "      <td>0.790419</td>\n",
       "      <td>0.897301</td>\n",
       "      <td>0.829341</td>\n",
       "    </tr>\n",
       "    <tr>\n",
       "      <th>3</th>\n",
       "      <td>TfVec Mn Naive Bayes</td>\n",
       "      <td>0.949025</td>\n",
       "      <td>0.775449</td>\n",
       "      <td>0.859070</td>\n",
       "      <td>0.811377</td>\n",
       "    </tr>\n",
       "    <tr>\n",
       "      <th>4</th>\n",
       "      <td>CVec KNN</td>\n",
       "      <td>0.691904</td>\n",
       "      <td>0.556886</td>\n",
       "      <td>0.628936</td>\n",
       "      <td>0.547904</td>\n",
       "    </tr>\n",
       "    <tr>\n",
       "      <th>5</th>\n",
       "      <td>TfVec KNN</td>\n",
       "      <td>0.614693</td>\n",
       "      <td>0.526946</td>\n",
       "      <td>0.525487</td>\n",
       "      <td>0.520958</td>\n",
       "    </tr>\n",
       "    <tr>\n",
       "      <th>6</th>\n",
       "      <td>CVec Decision Tree</td>\n",
       "      <td>0.997001</td>\n",
       "      <td>0.727545</td>\n",
       "      <td>0.925787</td>\n",
       "      <td>0.817365</td>\n",
       "    </tr>\n",
       "    <tr>\n",
       "      <th>7</th>\n",
       "      <td>TfVec Decision Tree</td>\n",
       "      <td>0.997001</td>\n",
       "      <td>0.712575</td>\n",
       "      <td>0.925787</td>\n",
       "      <td>0.811377</td>\n",
       "    </tr>\n",
       "    <tr>\n",
       "      <th>8</th>\n",
       "      <td>CVec Random Forest</td>\n",
       "      <td>0.997001</td>\n",
       "      <td>0.757485</td>\n",
       "      <td>0.925787</td>\n",
       "      <td>0.811377</td>\n",
       "    </tr>\n",
       "    <tr>\n",
       "      <th>9</th>\n",
       "      <td>TfVec Random Forest</td>\n",
       "      <td>0.997001</td>\n",
       "      <td>0.760479</td>\n",
       "      <td>0.925787</td>\n",
       "      <td>0.808383</td>\n",
       "    </tr>\n",
       "    <tr>\n",
       "      <th>10</th>\n",
       "      <td>CVec Bagging</td>\n",
       "      <td>0.983508</td>\n",
       "      <td>0.730539</td>\n",
       "      <td>0.917541</td>\n",
       "      <td>0.814371</td>\n",
       "    </tr>\n",
       "    <tr>\n",
       "      <th>11</th>\n",
       "      <td>TfVec Bagging</td>\n",
       "      <td>0.979010</td>\n",
       "      <td>0.694611</td>\n",
       "      <td>0.917541</td>\n",
       "      <td>0.817365</td>\n",
       "    </tr>\n",
       "    <tr>\n",
       "      <th>12</th>\n",
       "      <td>CVec AdaBoosting</td>\n",
       "      <td>0.756372</td>\n",
       "      <td>0.700599</td>\n",
       "      <td>0.881559</td>\n",
       "      <td>0.829341</td>\n",
       "    </tr>\n",
       "    <tr>\n",
       "      <th>13</th>\n",
       "      <td>TfVec AdaBoosting</td>\n",
       "      <td>0.776612</td>\n",
       "      <td>0.718563</td>\n",
       "      <td>0.897301</td>\n",
       "      <td>0.829341</td>\n",
       "    </tr>\n",
       "    <tr>\n",
       "      <th>14</th>\n",
       "      <td>CVec AdaBoosting w/ LogReg</td>\n",
       "      <td>0.751874</td>\n",
       "      <td>0.694611</td>\n",
       "      <td>0.867316</td>\n",
       "      <td>0.811377</td>\n",
       "    </tr>\n",
       "    <tr>\n",
       "      <th>15</th>\n",
       "      <td>TfVec AdaBoosting w/ LogReg</td>\n",
       "      <td>0.693403</td>\n",
       "      <td>0.658683</td>\n",
       "      <td>0.814843</td>\n",
       "      <td>0.793413</td>\n",
       "    </tr>\n",
       "    <tr>\n",
       "      <th>16</th>\n",
       "      <td>CVec Gradient Boosting</td>\n",
       "      <td>0.808846</td>\n",
       "      <td>0.721557</td>\n",
       "      <td>0.888306</td>\n",
       "      <td>0.829341</td>\n",
       "    </tr>\n",
       "    <tr>\n",
       "      <th>17</th>\n",
       "      <td>TfVec Gradient Boosting</td>\n",
       "      <td>0.830585</td>\n",
       "      <td>0.736527</td>\n",
       "      <td>0.902549</td>\n",
       "      <td>0.820359</td>\n",
       "    </tr>\n",
       "  </tbody>\n",
       "</table>\n",
       "</div>"
      ],
      "text/plain": [
       "                     model_used  title_train_score  title_test_score  \\\n",
       "0      CVec Logistic Regression           0.963268          0.793413   \n",
       "1     TfVec Logistic Regression           0.929535          0.766467   \n",
       "2           CVec Mn Naive Bayes           0.943778          0.790419   \n",
       "3          TfVec Mn Naive Bayes           0.949025          0.775449   \n",
       "4                      CVec KNN           0.691904          0.556886   \n",
       "5                     TfVec KNN           0.614693          0.526946   \n",
       "6            CVec Decision Tree           0.997001          0.727545   \n",
       "7           TfVec Decision Tree           0.997001          0.712575   \n",
       "8            CVec Random Forest           0.997001          0.757485   \n",
       "9           TfVec Random Forest           0.997001          0.760479   \n",
       "10                 CVec Bagging           0.983508          0.730539   \n",
       "11                TfVec Bagging           0.979010          0.694611   \n",
       "12             CVec AdaBoosting           0.756372          0.700599   \n",
       "13            TfVec AdaBoosting           0.776612          0.718563   \n",
       "14   CVec AdaBoosting w/ LogReg           0.751874          0.694611   \n",
       "15  TfVec AdaBoosting w/ LogReg           0.693403          0.658683   \n",
       "16       CVec Gradient Boosting           0.808846          0.721557   \n",
       "17      TfVec Gradient Boosting           0.830585          0.736527   \n",
       "\n",
       "    selftext_train_score  selftext_test_score  \n",
       "0               0.898801             0.847305  \n",
       "1               0.870315             0.826347  \n",
       "2               0.897301             0.829341  \n",
       "3               0.859070             0.811377  \n",
       "4               0.628936             0.547904  \n",
       "5               0.525487             0.520958  \n",
       "6               0.925787             0.817365  \n",
       "7               0.925787             0.811377  \n",
       "8               0.925787             0.811377  \n",
       "9               0.925787             0.808383  \n",
       "10              0.917541             0.814371  \n",
       "11              0.917541             0.817365  \n",
       "12              0.881559             0.829341  \n",
       "13              0.897301             0.829341  \n",
       "14              0.867316             0.811377  \n",
       "15              0.814843             0.793413  \n",
       "16              0.888306             0.829341  \n",
       "17              0.902549             0.820359  "
      ]
     },
     "execution_count": 62,
     "metadata": {},
     "output_type": "execute_result"
    }
   ],
   "source": [
    "model_trials_df.to_csv('../datasets/model_trials_no_https.csv')\n",
    "\n",
    "model_trials_df"
   ]
  },
  {
   "cell_type": "code",
   "execution_count": 63,
   "metadata": {},
   "outputs": [
    {
     "data": {
      "text/html": [
       "<div>\n",
       "<style scoped>\n",
       "    .dataframe tbody tr th:only-of-type {\n",
       "        vertical-align: middle;\n",
       "    }\n",
       "\n",
       "    .dataframe tbody tr th {\n",
       "        vertical-align: top;\n",
       "    }\n",
       "\n",
       "    .dataframe thead th {\n",
       "        text-align: right;\n",
       "    }\n",
       "</style>\n",
       "<table border=\"1\" class=\"dataframe\">\n",
       "  <thead>\n",
       "    <tr style=\"text-align: right;\">\n",
       "      <th></th>\n",
       "      <th>title_train_score</th>\n",
       "      <th>title_test_score</th>\n",
       "      <th>selftext_train_score</th>\n",
       "      <th>selftext_test_score</th>\n",
       "    </tr>\n",
       "  </thead>\n",
       "  <tbody>\n",
       "    <tr>\n",
       "      <th>count</th>\n",
       "      <td>18.000000</td>\n",
       "      <td>18.000000</td>\n",
       "      <td>18.000000</td>\n",
       "      <td>18.000000</td>\n",
       "    </tr>\n",
       "    <tr>\n",
       "      <th>mean</th>\n",
       "      <td>0.870023</td>\n",
       "      <td>0.712409</td>\n",
       "      <td>0.859445</td>\n",
       "      <td>0.787591</td>\n",
       "    </tr>\n",
       "    <tr>\n",
       "      <th>std</th>\n",
       "      <td>0.128837</td>\n",
       "      <td>0.071698</td>\n",
       "      <td>0.108135</td>\n",
       "      <td>0.092950</td>\n",
       "    </tr>\n",
       "    <tr>\n",
       "      <th>min</th>\n",
       "      <td>0.614693</td>\n",
       "      <td>0.526946</td>\n",
       "      <td>0.525487</td>\n",
       "      <td>0.520958</td>\n",
       "    </tr>\n",
       "    <tr>\n",
       "      <th>25%</th>\n",
       "      <td>0.761432</td>\n",
       "      <td>0.696108</td>\n",
       "      <td>0.868066</td>\n",
       "      <td>0.811377</td>\n",
       "    </tr>\n",
       "    <tr>\n",
       "      <th>50%</th>\n",
       "      <td>0.936657</td>\n",
       "      <td>0.724551</td>\n",
       "      <td>0.897301</td>\n",
       "      <td>0.815868</td>\n",
       "    </tr>\n",
       "    <tr>\n",
       "      <th>75%</th>\n",
       "      <td>0.982384</td>\n",
       "      <td>0.759731</td>\n",
       "      <td>0.917541</td>\n",
       "      <td>0.828593</td>\n",
       "    </tr>\n",
       "    <tr>\n",
       "      <th>max</th>\n",
       "      <td>0.997001</td>\n",
       "      <td>0.793413</td>\n",
       "      <td>0.925787</td>\n",
       "      <td>0.847305</td>\n",
       "    </tr>\n",
       "  </tbody>\n",
       "</table>\n",
       "</div>"
      ],
      "text/plain": [
       "       title_train_score  title_test_score  selftext_train_score  \\\n",
       "count          18.000000         18.000000             18.000000   \n",
       "mean            0.870023          0.712409              0.859445   \n",
       "std             0.128837          0.071698              0.108135   \n",
       "min             0.614693          0.526946              0.525487   \n",
       "25%             0.761432          0.696108              0.868066   \n",
       "50%             0.936657          0.724551              0.897301   \n",
       "75%             0.982384          0.759731              0.917541   \n",
       "max             0.997001          0.793413              0.925787   \n",
       "\n",
       "       selftext_test_score  \n",
       "count            18.000000  \n",
       "mean              0.787591  \n",
       "std               0.092950  \n",
       "min               0.520958  \n",
       "25%               0.811377  \n",
       "50%               0.815868  \n",
       "75%               0.828593  \n",
       "max               0.847305  "
      ]
     },
     "execution_count": 63,
     "metadata": {},
     "output_type": "execute_result"
    }
   ],
   "source": [
    "model_trials_df.describe()"
   ]
  },
  {
   "cell_type": "markdown",
   "metadata": {},
   "source": [
    "The average accuracy among the test scores was 0.75, which is not as high as I'd like and indicates that there are misclassifications that can be tuned and, ideally, reclassified correctly.\n",
    "\n",
    "The highest mean score as well as the maximum score were both seen in the title train score, which I think is mostly due to overfitting. The second highest mean score was seen in the selftext train scores, but this column also had the second-greatest standard devation. The title test score had the lowest mean of the four, but also had the least deviation from the mean.\n",
    "\n",
    "The only model that performed better using the title column as X instead of selftext, as shown in the dataframe above and also in the colors of their confusion matrices, was KNN. All other models either moderately or strongly preferred the selftext as X.\n",
    "\n",
    "Further, the test scores are, in my opinion, the most important when deciding which models to proceed with. As the selftext column had the highest average test score, this is how I'll be choosing which models to keep using with varied hyperparameters."
   ]
  },
  {
   "cell_type": "code",
   "execution_count": 64,
   "metadata": {},
   "outputs": [
    {
     "data": {
      "text/html": [
       "<div>\n",
       "<style scoped>\n",
       "    .dataframe tbody tr th:only-of-type {\n",
       "        vertical-align: middle;\n",
       "    }\n",
       "\n",
       "    .dataframe tbody tr th {\n",
       "        vertical-align: top;\n",
       "    }\n",
       "\n",
       "    .dataframe thead th {\n",
       "        text-align: right;\n",
       "    }\n",
       "</style>\n",
       "<table border=\"1\" class=\"dataframe\">\n",
       "  <thead>\n",
       "    <tr style=\"text-align: right;\">\n",
       "      <th></th>\n",
       "      <th>model_used</th>\n",
       "      <th>selftext_test_score</th>\n",
       "    </tr>\n",
       "  </thead>\n",
       "  <tbody>\n",
       "    <tr>\n",
       "      <th>0</th>\n",
       "      <td>CVec Logistic Regression</td>\n",
       "      <td>0.847305</td>\n",
       "    </tr>\n",
       "    <tr>\n",
       "      <th>2</th>\n",
       "      <td>CVec Mn Naive Bayes</td>\n",
       "      <td>0.829341</td>\n",
       "    </tr>\n",
       "    <tr>\n",
       "      <th>16</th>\n",
       "      <td>CVec Gradient Boosting</td>\n",
       "      <td>0.829341</td>\n",
       "    </tr>\n",
       "    <tr>\n",
       "      <th>13</th>\n",
       "      <td>TfVec AdaBoosting</td>\n",
       "      <td>0.829341</td>\n",
       "    </tr>\n",
       "    <tr>\n",
       "      <th>12</th>\n",
       "      <td>CVec AdaBoosting</td>\n",
       "      <td>0.829341</td>\n",
       "    </tr>\n",
       "    <tr>\n",
       "      <th>1</th>\n",
       "      <td>TfVec Logistic Regression</td>\n",
       "      <td>0.826347</td>\n",
       "    </tr>\n",
       "    <tr>\n",
       "      <th>17</th>\n",
       "      <td>TfVec Gradient Boosting</td>\n",
       "      <td>0.820359</td>\n",
       "    </tr>\n",
       "    <tr>\n",
       "      <th>6</th>\n",
       "      <td>CVec Decision Tree</td>\n",
       "      <td>0.817365</td>\n",
       "    </tr>\n",
       "    <tr>\n",
       "      <th>11</th>\n",
       "      <td>TfVec Bagging</td>\n",
       "      <td>0.817365</td>\n",
       "    </tr>\n",
       "    <tr>\n",
       "      <th>10</th>\n",
       "      <td>CVec Bagging</td>\n",
       "      <td>0.814371</td>\n",
       "    </tr>\n",
       "  </tbody>\n",
       "</table>\n",
       "</div>"
      ],
      "text/plain": [
       "                   model_used  selftext_test_score\n",
       "0    CVec Logistic Regression             0.847305\n",
       "2         CVec Mn Naive Bayes             0.829341\n",
       "16     CVec Gradient Boosting             0.829341\n",
       "13          TfVec AdaBoosting             0.829341\n",
       "12           CVec AdaBoosting             0.829341\n",
       "1   TfVec Logistic Regression             0.826347\n",
       "17    TfVec Gradient Boosting             0.820359\n",
       "6          CVec Decision Tree             0.817365\n",
       "11              TfVec Bagging             0.817365\n",
       "10               CVec Bagging             0.814371"
      ]
     },
     "execution_count": 64,
     "metadata": {},
     "output_type": "execute_result"
    }
   ],
   "source": [
    "model_trials_df[['model_used', 'selftext_test_score']].sort_values(by=['selftext_test_score'], ascending=False).head(10)"
   ]
  },
  {
   "cell_type": "markdown",
   "metadata": {},
   "source": [
    "Above are the top ten highest selftext test scores. We see an almost even split between CountVectorizer and Tfidf, which probably has less to do with the vectorizers themselves and more to do with the models that were using them.\n",
    "\n",
    "We also see quite a few repeats in here - Logistic Regression, Gradient Boosting, Bagging, and Ada Boosting (sans Logistic Regression) - meaning the same model showing up twice, once for each vectorizer. The Boosting models outperformed the Bagging models in all trials, indicating that the method of random sampling and adjusting the observation weight based on the previous classification is more effective on this dataset than simple random sampling with replacement.\n",
    "\n",
    "Moving into the model tuning, I'll be employing GridSearch to find the optimal hyperparameters and the highest-scoring model overall.\n",
    "\n",
    "I was incorrect in my earlier prediction that using the title as X would lead to better results. Despite the sentiment scores and missing values, selftext out-scored title by a wide margin in all but two models. \n",
    "\n",
    "Based on the scores above, I do still believe that I'll be able to meet my problem statement goal building a final model that classifies with at least 85% accuracy."
   ]
  }
 ],
 "metadata": {
  "kernelspec": {
   "display_name": "Python 3.9.6 64-bit ('3.9.6')",
   "language": "python",
   "name": "python3"
  },
  "language_info": {
   "codemirror_mode": {
    "name": "ipython",
    "version": 3
   },
   "file_extension": ".py",
   "mimetype": "text/x-python",
   "name": "python",
   "nbconvert_exporter": "python",
   "pygments_lexer": "ipython3",
   "version": "3.9.6"
  },
  "orig_nbformat": 4,
  "vscode": {
   "interpreter": {
    "hash": "d3fbca8c5142a5f3fc0e150e2aa7dc992112775c37c59dc77ad7b753c4c0bceb"
   }
  }
 },
 "nbformat": 4,
 "nbformat_minor": 2
}
