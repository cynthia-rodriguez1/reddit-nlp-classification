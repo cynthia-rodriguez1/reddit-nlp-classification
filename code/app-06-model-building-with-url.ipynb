{
 "cells": [
  {
   "cell_type": "markdown",
   "metadata": {},
   "source": [
    "# Model Building"
   ]
  },
  {
   "cell_type": "markdown",
   "metadata": {},
   "source": [
    "I will now be testing the data on a comprehensive list of classifying models to determine which ones will be the most accurate in labeling the reddit posts."
   ]
  },
  {
   "cell_type": "code",
   "execution_count": 1,
   "metadata": {},
   "outputs": [],
   "source": [
    "# Imports\n",
    "\n",
    "import pandas as pd\n",
    "import matplotlib.pyplot as plt\n",
    "import matplotlib.patches as mpatches\n",
    "import numpy as np\n",
    "import seaborn as sns\n",
    "\n",
    "from sklearn.feature_extraction.text import CountVectorizer, TfidfVectorizer\n",
    "from sklearn.model_selection import train_test_split, cross_val_score, GridSearchCV\n",
    "from sklearn.linear_model import LogisticRegression\n",
    "from sklearn.tree import DecisionTreeClassifier\n",
    "from sklearn.ensemble import RandomForestClassifier, ExtraTreesClassifier, GradientBoostingClassifier, AdaBoostClassifier, BaggingClassifier\n",
    "from sklearn.neighbors import KNeighborsClassifier\n",
    "from sklearn.preprocessing import StandardScaler\n",
    "from sklearn.pipeline import Pipeline, FeatureUnion\n",
    "from sklearn.naive_bayes import MultinomialNB\n",
    "from sklearn.metrics import confusion_matrix, plot_confusion_matrix\n",
    "\n",
    "import warnings\n",
    "warnings.simplefilter('ignore')\n",
    "\n",
    "pd.options.display.max_colwidth = 200"
   ]
  },
  {
   "cell_type": "code",
   "execution_count": 2,
   "metadata": {},
   "outputs": [
    {
     "data": {
      "text/html": [
       "<div>\n",
       "<style scoped>\n",
       "    .dataframe tbody tr th:only-of-type {\n",
       "        vertical-align: middle;\n",
       "    }\n",
       "\n",
       "    .dataframe tbody tr th {\n",
       "        vertical-align: top;\n",
       "    }\n",
       "\n",
       "    .dataframe thead th {\n",
       "        text-align: right;\n",
       "    }\n",
       "</style>\n",
       "<table border=\"1\" class=\"dataframe\">\n",
       "  <thead>\n",
       "    <tr style=\"text-align: right;\">\n",
       "      <th></th>\n",
       "      <th>subreddit_class</th>\n",
       "      <th>title</th>\n",
       "      <th>selftext</th>\n",
       "      <th>author</th>\n",
       "      <th>title_word_count</th>\n",
       "      <th>selftext_word_count</th>\n",
       "    </tr>\n",
       "  </thead>\n",
       "  <tbody>\n",
       "    <tr>\n",
       "      <th>0</th>\n",
       "      <td>ohio</td>\n",
       "      <td>about the donovan lewis police shooting in columbus.</td>\n",
       "      <td>donovan reacted as naturally as anyone would when strangers burst open your bedroom door. there is inherent risk when serving a warrant and going through someone’s home unwelcomed. cops need to re...</td>\n",
       "      <td>barelycriminal</td>\n",
       "      <td>8</td>\n",
       "      <td>48</td>\n",
       "    </tr>\n",
       "    <tr>\n",
       "      <th>1</th>\n",
       "      <td>ohio</td>\n",
       "      <td>the chokehold jd vance has on my youtube ads.</td>\n",
       "      <td>no matter how much you tell me about it, i’m not reading hillbilly elegy. but seriously, tim ryan needs to make an ad on there.</td>\n",
       "      <td>dreamsandboxes</td>\n",
       "      <td>9</td>\n",
       "      <td>25</td>\n",
       "    </tr>\n",
       "    <tr>\n",
       "      <th>2</th>\n",
       "      <td>ohio</td>\n",
       "      <td>need wedding photographer plzzz</td>\n",
       "      <td>hi everyone my fiancé and i booked a photographer last year for our wedding for 9/10/22 and we put a deposit down and signed a contract . the past 2 weeks we have called then emailed even txted an...</td>\n",
       "      <td>ohiowelder</td>\n",
       "      <td>4</td>\n",
       "      <td>77</td>\n",
       "    </tr>\n",
       "    <tr>\n",
       "      <th>3</th>\n",
       "      <td>ohio</td>\n",
       "      <td>ranked choice voting?</td>\n",
       "      <td>alaska seems to be doing well, when does ohio follow.</td>\n",
       "      <td>titanup1993</td>\n",
       "      <td>3</td>\n",
       "      <td>10</td>\n",
       "    </tr>\n",
       "    <tr>\n",
       "      <th>4</th>\n",
       "      <td>ohio</td>\n",
       "      <td>how long is the wait for a handgun purchased from atlantic gun &amp;amp; tackle</td>\n",
       "      <td>not sure if this is the right place to be asking. but i recently just purchased a handgun from atlantic gun &amp;amp; tackle and they said i could get approved today in the next hour or it could be up...</td>\n",
       "      <td>professional_pie4546</td>\n",
       "      <td>14</td>\n",
       "      <td>84</td>\n",
       "    </tr>\n",
       "  </tbody>\n",
       "</table>\n",
       "</div>"
      ],
      "text/plain": [
       "  subreddit_class  \\\n",
       "0            ohio   \n",
       "1            ohio   \n",
       "2            ohio   \n",
       "3            ohio   \n",
       "4            ohio   \n",
       "\n",
       "                                                                         title  \\\n",
       "0                         about the donovan lewis police shooting in columbus.   \n",
       "1                                the chokehold jd vance has on my youtube ads.   \n",
       "2                                              need wedding photographer plzzz   \n",
       "3                                                        ranked choice voting?   \n",
       "4  how long is the wait for a handgun purchased from atlantic gun &amp; tackle   \n",
       "\n",
       "                                                                                                                                                                                                  selftext  \\\n",
       "0  donovan reacted as naturally as anyone would when strangers burst open your bedroom door. there is inherent risk when serving a warrant and going through someone’s home unwelcomed. cops need to re...   \n",
       "1                                                                          no matter how much you tell me about it, i’m not reading hillbilly elegy. but seriously, tim ryan needs to make an ad on there.   \n",
       "2  hi everyone my fiancé and i booked a photographer last year for our wedding for 9/10/22 and we put a deposit down and signed a contract . the past 2 weeks we have called then emailed even txted an...   \n",
       "3                                                                                                                                                    alaska seems to be doing well, when does ohio follow.   \n",
       "4  not sure if this is the right place to be asking. but i recently just purchased a handgun from atlantic gun &amp; tackle and they said i could get approved today in the next hour or it could be up...   \n",
       "\n",
       "                 author  title_word_count  selftext_word_count  \n",
       "0        barelycriminal                 8                   48  \n",
       "1        dreamsandboxes                 9                   25  \n",
       "2            ohiowelder                 4                   77  \n",
       "3           titanup1993                 3                   10  \n",
       "4  professional_pie4546                14                   84  "
      ]
     },
     "execution_count": 2,
     "metadata": {},
     "output_type": "execute_result"
    }
   ],
   "source": [
    "# Reading in the saved CSV file\n",
    "\n",
    "reddit = pd.read_csv('../datasets/reddit_slimmed.csv')\n",
    "reddit.drop(columns='Unnamed: 0', inplace=True)\n",
    "reddit.head()"
   ]
  },
  {
   "cell_type": "markdown",
   "metadata": {},
   "source": [
    "---\n",
    "\n",
    "## Establishing the Baseline"
   ]
  },
  {
   "cell_type": "code",
   "execution_count": 3,
   "metadata": {},
   "outputs": [
    {
     "data": {
      "text/html": [
       "<div>\n",
       "<style scoped>\n",
       "    .dataframe tbody tr th:only-of-type {\n",
       "        vertical-align: middle;\n",
       "    }\n",
       "\n",
       "    .dataframe tbody tr th {\n",
       "        vertical-align: top;\n",
       "    }\n",
       "\n",
       "    .dataframe thead th {\n",
       "        text-align: right;\n",
       "    }\n",
       "</style>\n",
       "<table border=\"1\" class=\"dataframe\">\n",
       "  <thead>\n",
       "    <tr style=\"text-align: right;\">\n",
       "      <th></th>\n",
       "      <th>subreddit_class</th>\n",
       "      <th>title</th>\n",
       "      <th>selftext</th>\n",
       "      <th>author</th>\n",
       "      <th>title_word_count</th>\n",
       "      <th>selftext_word_count</th>\n",
       "    </tr>\n",
       "  </thead>\n",
       "  <tbody>\n",
       "    <tr>\n",
       "      <th>0</th>\n",
       "      <td>0</td>\n",
       "      <td>about the donovan lewis police shooting in columbus.</td>\n",
       "      <td>donovan reacted as naturally as anyone would when strangers burst open your bedroom door. there is inherent risk when serving a warrant and going through someone’s home unwelcomed. cops need to re...</td>\n",
       "      <td>barelycriminal</td>\n",
       "      <td>8</td>\n",
       "      <td>48</td>\n",
       "    </tr>\n",
       "    <tr>\n",
       "      <th>1</th>\n",
       "      <td>0</td>\n",
       "      <td>the chokehold jd vance has on my youtube ads.</td>\n",
       "      <td>no matter how much you tell me about it, i’m not reading hillbilly elegy. but seriously, tim ryan needs to make an ad on there.</td>\n",
       "      <td>dreamsandboxes</td>\n",
       "      <td>9</td>\n",
       "      <td>25</td>\n",
       "    </tr>\n",
       "    <tr>\n",
       "      <th>2</th>\n",
       "      <td>0</td>\n",
       "      <td>need wedding photographer plzzz</td>\n",
       "      <td>hi everyone my fiancé and i booked a photographer last year for our wedding for 9/10/22 and we put a deposit down and signed a contract . the past 2 weeks we have called then emailed even txted an...</td>\n",
       "      <td>ohiowelder</td>\n",
       "      <td>4</td>\n",
       "      <td>77</td>\n",
       "    </tr>\n",
       "  </tbody>\n",
       "</table>\n",
       "</div>"
      ],
      "text/plain": [
       "   subreddit_class                                                 title  \\\n",
       "0                0  about the donovan lewis police shooting in columbus.   \n",
       "1                0         the chokehold jd vance has on my youtube ads.   \n",
       "2                0                       need wedding photographer plzzz   \n",
       "\n",
       "                                                                                                                                                                                                  selftext  \\\n",
       "0  donovan reacted as naturally as anyone would when strangers burst open your bedroom door. there is inherent risk when serving a warrant and going through someone’s home unwelcomed. cops need to re...   \n",
       "1                                                                          no matter how much you tell me about it, i’m not reading hillbilly elegy. but seriously, tim ryan needs to make an ad on there.   \n",
       "2  hi everyone my fiancé and i booked a photographer last year for our wedding for 9/10/22 and we put a deposit down and signed a contract . the past 2 weeks we have called then emailed even txted an...   \n",
       "\n",
       "           author  title_word_count  selftext_word_count  \n",
       "0  barelycriminal                 8                   48  \n",
       "1  dreamsandboxes                 9                   25  \n",
       "2      ohiowelder                 4                   77  "
      ]
     },
     "execution_count": 3,
     "metadata": {},
     "output_type": "execute_result"
    }
   ],
   "source": [
    "reddit['subreddit_class'] = reddit['subreddit_class'].map({'ohio': 0, 'ihateohio': 1})\n",
    "\n",
    "reddit.head(3)"
   ]
  },
  {
   "cell_type": "code",
   "execution_count": 4,
   "metadata": {},
   "outputs": [
    {
     "data": {
      "text/plain": [
       "0    0.515508\n",
       "1    0.484492\n",
       "Name: subreddit_class, dtype: float64"
      ]
     },
     "execution_count": 4,
     "metadata": {},
     "output_type": "execute_result"
    }
   ],
   "source": [
    "X = reddit['title']\n",
    "y = reddit['subreddit_class']\n",
    "\n",
    "y.value_counts(normalize=True)"
   ]
  },
  {
   "cell_type": "markdown",
   "metadata": {},
   "source": [
    "This baseline is telling us that if we predicted that all posts were from the Ohio subreddit, we'd be correct 51.55% of the time.\n",
    "\n",
    "I'll be running all models on both the selftext and title columns with minimal hyperparameters. This is because I want to evaluate the scores of the models alone and choose a handful of the top-performers to begin tuning with GridSearch until one becomes the clear champion.\n",
    "\n",
    "Because sensitivity and specificity are not critically important in this case, I'll also be looking at the accuracy and misclassification rates for all models, and aiming to optimize for testing r2 scores (overall accuracy) when I begin running trials with hyperparameters included."
   ]
  },
  {
   "cell_type": "markdown",
   "metadata": {},
   "source": [
    "---\n",
    "\n",
    "## Building a Function to Expedite Model Trials"
   ]
  },
  {
   "cell_type": "markdown",
   "metadata": {},
   "source": [
    "Because I am going to be cycling through several different models in this next section, I think having a function to do most of the heavy lifting would streamline the process."
   ]
  },
  {
   "cell_type": "code",
   "execution_count": 5,
   "metadata": {},
   "outputs": [],
   "source": [
    "model_trials_df = pd.DataFrame(columns=['model_used', 'title_train_score', 'title_test_score',\n",
    "'selftext_train_score', 'selftext_test_score'])"
   ]
  },
  {
   "cell_type": "code",
   "execution_count": 6,
   "metadata": {},
   "outputs": [],
   "source": [
    "def model_trials(pipe, model_id):\n",
    "\n",
    "    '''Setting X and y to first use the title column as the predictor'''\n",
    "    X_t = reddit['title']\n",
    "    y_t = reddit['subreddit_class']\n",
    "    X_train, X_test_t, y_train, y_test_t = train_test_split(X_t, y_t, test_size=0.2, stratify=y_t, random_state=42)\n",
    "    pipe.fit(X_train, y_train)\n",
    "    t_train_score = pipe.score(X_train, y_train)\n",
    "    t_test_score = pipe.score(X_test_t, y_test_t)\n",
    "\n",
    "    '''Calculating accuracy and misclassification rates for title'''\n",
    "    t_preds = pipe.predict(X_test_t)\n",
    "    tn, fp, fn, tp = confusion_matrix(y_test_t, t_preds).ravel()\n",
    "    t_acc = (tp + tn) / (tn + fp + tp + fn)\n",
    "    t_misclass = 1 - t_acc\n",
    "\n",
    "    '''Now redefining X and y to analyze the selftext column'''\n",
    "    X_st = reddit['selftext']\n",
    "    y_st = reddit['subreddit_class']\n",
    "    X_train, X_test_st, y_train, y_test_st = train_test_split(X_st, y_st, test_size=0.2, stratify=y_t, random_state=42)\n",
    "    pipe.fit(X_train, y_train)\n",
    "    st_train_score = pipe.score(X_train, y_train)\n",
    "    st_test_score = pipe.score(X_test_st, y_test_st)\n",
    "\n",
    "    '''Calculating accuracy and misclassification rates for selftext'''\n",
    "    st_preds = pipe.predict(X_test_st)\n",
    "    tn, fp, fn, tp = confusion_matrix(y_test_st, st_preds).ravel()\n",
    "    st_acc = (tp + tn) / (tn + fp + tp + fn)\n",
    "    st_misclass = 1 - st_acc\n",
    "\n",
    "    '''Adding the two scores for both Xs to the model_trials dataframe'''\n",
    "    model_list = [model_id, t_train_score, t_test_score, st_train_score, st_test_score]\n",
    "    model_trials_df.loc[len(model_trials_df.index)] = model_list\n",
    "\n",
    "    '''Output will show me all scores to see how they compare to each other'''\n",
    "    print(f'Title {model_id} Training Score: {round(t_train_score, 5)}')\n",
    "    print(f'Title {model_id} Testing Score: {round(t_test_score, 5)} \\n')\n",
    "    print(f'Selftext {model_id} Training Score: {round(st_train_score, 5)}')\n",
    "    print(f'Selftext {model_id} Testing Score: {round(st_test_score, 5)} \\n')\n",
    "    print(f'Title Accuracy Rate: {round(t_acc, 5)}')\n",
    "    print(f'Title Misclassification Rate: {round(t_misclass, 5)} \\n')\n",
    "    print(f'Selftext Accuracy Rate: {round(st_acc, 5)}')\n",
    "    print(f'Selftext Misclassification Rate: {round(st_misclass, 5)} \\n')\n",
    "\n",
    "    '''Returning a confusion matrix for the predictor that had the highest accuracy'''\n",
    "    print('Best accuracy rate confusion matrix:')\n",
    "    if t_acc > st_acc:\n",
    "        return plot_confusion_matrix(pipe, X_test_t, y_test_t, cmap='YlOrRd', values_format='d');\n",
    "    else: \n",
    "        return plot_confusion_matrix(pipe, X_test_st, y_test_st, cmap='YlGnBu', values_format='d');"
   ]
  },
  {
   "cell_type": "markdown",
   "metadata": {},
   "source": [
    "In each section, I'll define the pipeline I want to use, but the function should do the rest and spit out each of the training and testing scores for title and selftext. It will also append the scores to the overall dataframe that I'll be using after to decide which models to move forward with."
   ]
  },
  {
   "cell_type": "markdown",
   "metadata": {},
   "source": [
    "---\n",
    "\n",
    "## Logistic Regression"
   ]
  },
  {
   "cell_type": "code",
   "execution_count": 7,
   "metadata": {},
   "outputs": [],
   "source": [
    "cvec_lr = Pipeline([\n",
    "        ('cvec', CountVectorizer()),\n",
    "        ('lr', LogisticRegression(max_iter=200, solver='saga', random_state=42))\n",
    "])"
   ]
  },
  {
   "cell_type": "code",
   "execution_count": 8,
   "metadata": {},
   "outputs": [
    {
     "name": "stdout",
     "output_type": "stream",
     "text": [
      "Title CVec Logistic Regression Training Score: 0.95655\n",
      "Title CVec Logistic Regression Testing Score: 0.75668 \n",
      "\n",
      "Selftext CVec Logistic Regression Training Score: 0.85495\n",
      "Selftext CVec Logistic Regression Testing Score: 0.86364 \n",
      "\n",
      "Title Accuracy Rate: 0.75668\n",
      "Title Misclassification Rate: 0.24332 \n",
      "\n",
      "Selftext Accuracy Rate: 0.86364\n",
      "Selftext Misclassification Rate: 0.13636 \n",
      "\n",
      "Best accuracy rate confusion matrix:\n"
     ]
    },
    {
     "data": {
      "text/plain": [
       "<sklearn.metrics._plot.confusion_matrix.ConfusionMatrixDisplay at 0x11013be20>"
      ]
     },
     "execution_count": 8,
     "metadata": {},
     "output_type": "execute_result"
    },
    {
     "data": {
      "image/png": "[encoded data removed]",
      "text/plain": [
       "<Figure size 640x480 with 2 Axes>"
      ]
     },
     "metadata": {},
     "output_type": "display_data"
    }
   ],
   "source": [
    "model_trials(cvec_lr, 'CVec Logistic Regression')"
   ]
  },
  {
   "cell_type": "markdown",
   "metadata": {},
   "source": [
    "I'm curious to see if using the Tfidf Vectorizer would have any effect on any of the scores. Creating a new pipeline below that is exactly the same as above, with only the CountVectorizer edited. "
   ]
  },
  {
   "cell_type": "code",
   "execution_count": 9,
   "metadata": {},
   "outputs": [],
   "source": [
    "tfvec_lr = Pipeline([\n",
    "        ('tfvec', TfidfVectorizer()),\n",
    "        ('lr', LogisticRegression(max_iter=200, solver='saga', random_state=42))\n",
    "])"
   ]
  },
  {
   "cell_type": "code",
   "execution_count": 10,
   "metadata": {},
   "outputs": [
    {
     "name": "stdout",
     "output_type": "stream",
     "text": [
      "Title TfVec Logistic Regression Training Score: 0.92045\n",
      "Title TfVec Logistic Regression Testing Score: 0.73262 \n",
      "\n",
      "Selftext TfVec Logistic Regression Training Score: 0.87166\n",
      "Selftext TfVec Logistic Regression Testing Score: 0.84759 \n",
      "\n",
      "Title Accuracy Rate: 0.73262\n",
      "Title Misclassification Rate: 0.26738 \n",
      "\n",
      "Selftext Accuracy Rate: 0.84759\n",
      "Selftext Misclassification Rate: 0.15241 \n",
      "\n",
      "Best accuracy rate confusion matrix:\n"
     ]
    },
    {
     "data": {
      "text/plain": [
       "<sklearn.metrics._plot.confusion_matrix.ConfusionMatrixDisplay at 0x110385fd0>"
      ]
     },
     "execution_count": 10,
     "metadata": {},
     "output_type": "execute_result"
    },
    {
     "data": {
      "image/png": "[encoded data removed]",
      "text/plain": [
       "<Figure size 640x480 with 2 Axes>"
      ]
     },
     "metadata": {},
     "output_type": "display_data"
    }
   ],
   "source": [
    "model_trials(tfvec_lr, 'TfVec Logistic Regression')"
   ]
  },
  {
   "cell_type": "code",
   "execution_count": 11,
   "metadata": {},
   "outputs": [
    {
     "data": {
      "text/html": [
       "<div>\n",
       "<style scoped>\n",
       "    .dataframe tbody tr th:only-of-type {\n",
       "        vertical-align: middle;\n",
       "    }\n",
       "\n",
       "    .dataframe tbody tr th {\n",
       "        vertical-align: top;\n",
       "    }\n",
       "\n",
       "    .dataframe thead th {\n",
       "        text-align: right;\n",
       "    }\n",
       "</style>\n",
       "<table border=\"1\" class=\"dataframe\">\n",
       "  <thead>\n",
       "    <tr style=\"text-align: right;\">\n",
       "      <th></th>\n",
       "      <th>model_used</th>\n",
       "      <th>title_train_score</th>\n",
       "      <th>title_test_score</th>\n",
       "      <th>selftext_train_score</th>\n",
       "      <th>selftext_test_score</th>\n",
       "    </tr>\n",
       "  </thead>\n",
       "  <tbody>\n",
       "    <tr>\n",
       "      <th>0</th>\n",
       "      <td>CVec Logistic Regression</td>\n",
       "      <td>0.956551</td>\n",
       "      <td>0.756684</td>\n",
       "      <td>0.854947</td>\n",
       "      <td>0.863636</td>\n",
       "    </tr>\n",
       "    <tr>\n",
       "      <th>1</th>\n",
       "      <td>TfVec Logistic Regression</td>\n",
       "      <td>0.920455</td>\n",
       "      <td>0.732620</td>\n",
       "      <td>0.871658</td>\n",
       "      <td>0.847594</td>\n",
       "    </tr>\n",
       "  </tbody>\n",
       "</table>\n",
       "</div>"
      ],
      "text/plain": [
       "                  model_used  title_train_score  title_test_score  \\\n",
       "0   CVec Logistic Regression           0.956551          0.756684   \n",
       "1  TfVec Logistic Regression           0.920455          0.732620   \n",
       "\n",
       "   selftext_train_score  selftext_test_score  \n",
       "0              0.854947             0.863636  \n",
       "1              0.871658             0.847594  "
      ]
     },
     "execution_count": 11,
     "metadata": {},
     "output_type": "execute_result"
    }
   ],
   "source": [
    "model_trials_df"
   ]
  },
  {
   "cell_type": "markdown",
   "metadata": {},
   "source": [
    "### Analysis\n",
    "\n",
    "These are both fairly solid starting models - although the title scores have quite a bit more variance than the selftext scores.\n",
    "\n",
    "When we used Tfidf in place of CountVectorizer, both title scores decreased as well as the selftext test score. The only improvement seen was in the selftext train score.\n",
    "\n",
    "In both test cases, the Logisitic Regression pipeline that used selftext as the feature performed better than the models that used the title as their independent variable. This may be because there are more definitive (easier to classify) words in the selftext/caption area of posts.\n",
    "\n",
    "Because I believe that score differences may depend on the model/transformer combination used, I'll be running all with both CountVectorizer and TfidfVectorizer moving forward."
   ]
  },
  {
   "cell_type": "markdown",
   "metadata": {},
   "source": [
    "---\n",
    "\n",
    "## Multinomial Naive Bayes"
   ]
  },
  {
   "cell_type": "code",
   "execution_count": 12,
   "metadata": {},
   "outputs": [],
   "source": [
    "cvec_mnb = Pipeline([\n",
    "    ('cvec', CountVectorizer()),\n",
    "    ('nb', MultinomialNB())\n",
    "])"
   ]
  },
  {
   "cell_type": "code",
   "execution_count": 13,
   "metadata": {},
   "outputs": [
    {
     "name": "stdout",
     "output_type": "stream",
     "text": [
      "Title CVec Mn Naive Bayes Training Score: 0.94786\n",
      "Title CVec Mn Naive Bayes Testing Score: 0.74332 \n",
      "\n",
      "Selftext CVec Mn Naive Bayes Training Score: 0.59626\n",
      "Selftext CVec Mn Naive Bayes Testing Score: 0.52674 \n",
      "\n",
      "Title Accuracy Rate: 0.74332\n",
      "Title Misclassification Rate: 0.25668 \n",
      "\n",
      "Selftext Accuracy Rate: 0.52674\n",
      "Selftext Misclassification Rate: 0.47326 \n",
      "\n",
      "Best accuracy rate confusion matrix:\n"
     ]
    },
    {
     "data": {
      "text/plain": [
       "<sklearn.metrics._plot.confusion_matrix.ConfusionMatrixDisplay at 0x12fbe9220>"
      ]
     },
     "execution_count": 13,
     "metadata": {},
     "output_type": "execute_result"
    },
    {
     "data": {
      "image/png": "[encoded data removed]",
      "text/plain": [
       "<Figure size 640x480 with 2 Axes>"
      ]
     },
     "metadata": {},
     "output_type": "display_data"
    }
   ],
   "source": [
    "model_trials(cvec_mnb, 'CVec Mn Naive Bayes')"
   ]
  },
  {
   "cell_type": "code",
   "execution_count": 14,
   "metadata": {},
   "outputs": [],
   "source": [
    "tfvec_mnb = Pipeline([\n",
    "    ('tfvec', TfidfVectorizer()),\n",
    "    ('nb', MultinomialNB())\n",
    "])"
   ]
  },
  {
   "cell_type": "code",
   "execution_count": 15,
   "metadata": {},
   "outputs": [
    {
     "name": "stdout",
     "output_type": "stream",
     "text": [
      "Title TfVec Mn Naive Bayes Training Score: 0.9492\n",
      "Title TfVec Mn Naive Bayes Testing Score: 0.74064 \n",
      "\n",
      "Selftext TfVec Mn Naive Bayes Training Score: 0.55882\n",
      "Selftext TfVec Mn Naive Bayes Testing Score: 0.52941 \n",
      "\n",
      "Title Accuracy Rate: 0.74064\n",
      "Title Misclassification Rate: 0.25936 \n",
      "\n",
      "Selftext Accuracy Rate: 0.52941\n",
      "Selftext Misclassification Rate: 0.47059 \n",
      "\n",
      "Best accuracy rate confusion matrix:\n"
     ]
    },
    {
     "data": {
      "text/plain": [
       "<sklearn.metrics._plot.confusion_matrix.ConfusionMatrixDisplay at 0x12fbe9340>"
      ]
     },
     "execution_count": 15,
     "metadata": {},
     "output_type": "execute_result"
    },
    {
     "data": {
      "image/png": "[encoded data removed]",
      "text/plain": [
       "<Figure size 640x480 with 2 Axes>"
      ]
     },
     "metadata": {},
     "output_type": "display_data"
    }
   ],
   "source": [
    "model_trials(tfvec_mnb, 'TfVec Mn Naive Bayes')"
   ]
  },
  {
   "cell_type": "code",
   "execution_count": 16,
   "metadata": {},
   "outputs": [
    {
     "data": {
      "text/html": [
       "<div>\n",
       "<style scoped>\n",
       "    .dataframe tbody tr th:only-of-type {\n",
       "        vertical-align: middle;\n",
       "    }\n",
       "\n",
       "    .dataframe tbody tr th {\n",
       "        vertical-align: top;\n",
       "    }\n",
       "\n",
       "    .dataframe thead th {\n",
       "        text-align: right;\n",
       "    }\n",
       "</style>\n",
       "<table border=\"1\" class=\"dataframe\">\n",
       "  <thead>\n",
       "    <tr style=\"text-align: right;\">\n",
       "      <th></th>\n",
       "      <th>model_used</th>\n",
       "      <th>title_train_score</th>\n",
       "      <th>title_test_score</th>\n",
       "      <th>selftext_train_score</th>\n",
       "      <th>selftext_test_score</th>\n",
       "    </tr>\n",
       "  </thead>\n",
       "  <tbody>\n",
       "    <tr>\n",
       "      <th>0</th>\n",
       "      <td>CVec Logistic Regression</td>\n",
       "      <td>0.956551</td>\n",
       "      <td>0.756684</td>\n",
       "      <td>0.854947</td>\n",
       "      <td>0.863636</td>\n",
       "    </tr>\n",
       "    <tr>\n",
       "      <th>1</th>\n",
       "      <td>TfVec Logistic Regression</td>\n",
       "      <td>0.920455</td>\n",
       "      <td>0.732620</td>\n",
       "      <td>0.871658</td>\n",
       "      <td>0.847594</td>\n",
       "    </tr>\n",
       "    <tr>\n",
       "      <th>2</th>\n",
       "      <td>CVec Mn Naive Bayes</td>\n",
       "      <td>0.947861</td>\n",
       "      <td>0.743316</td>\n",
       "      <td>0.596257</td>\n",
       "      <td>0.526738</td>\n",
       "    </tr>\n",
       "    <tr>\n",
       "      <th>3</th>\n",
       "      <td>TfVec Mn Naive Bayes</td>\n",
       "      <td>0.949198</td>\n",
       "      <td>0.740642</td>\n",
       "      <td>0.558824</td>\n",
       "      <td>0.529412</td>\n",
       "    </tr>\n",
       "  </tbody>\n",
       "</table>\n",
       "</div>"
      ],
      "text/plain": [
       "                  model_used  title_train_score  title_test_score  \\\n",
       "0   CVec Logistic Regression           0.956551          0.756684   \n",
       "1  TfVec Logistic Regression           0.920455          0.732620   \n",
       "2        CVec Mn Naive Bayes           0.947861          0.743316   \n",
       "3       TfVec Mn Naive Bayes           0.949198          0.740642   \n",
       "\n",
       "   selftext_train_score  selftext_test_score  \n",
       "0              0.854947             0.863636  \n",
       "1              0.871658             0.847594  \n",
       "2              0.596257             0.526738  \n",
       "3              0.558824             0.529412  "
      ]
     },
     "execution_count": 16,
     "metadata": {},
     "output_type": "execute_result"
    }
   ],
   "source": [
    "model_trials_df"
   ]
  },
  {
   "cell_type": "markdown",
   "metadata": {},
   "source": [
    "### Analysis\n",
    "\n",
    "The Multinomial Naive Bayes model performed significantly worse than the Logistic Regression model on the selftext feature, and about the same on the title feature. \n",
    "\n",
    "Based on the confusion matrix above, we see a large majority of true negatives and false negatives (both of these metrics increased when using Tdidf), meaning that the model classified most posts as being from the 'Ohio' subreddit, and very few as being from 'IHateOhio'. \n",
    "\n",
    "I'm guessing it could be related to the zero observation problem; according to [this site](https://www.baeldung.com/cs/naive-bayes-classification-performance), if the model 'comes across a feature that isn't present in the training set, the probability of 0 is automatically assigned.' Given this, it may explain why we see a much heavier '0' predicted label, and/or a lot of the content between the two subreddits is more similar than different."
   ]
  },
  {
   "cell_type": "markdown",
   "metadata": {},
   "source": [
    "---\n",
    "\n",
    "## KNN Classifier"
   ]
  },
  {
   "cell_type": "code",
   "execution_count": 17,
   "metadata": {},
   "outputs": [],
   "source": [
    "cvec_knn = Pipeline([\n",
    "    ('cvec', CountVectorizer()),\n",
    "    ('ss', StandardScaler(with_mean=False)),\n",
    "    ('knn', KNeighborsClassifier())\n",
    "])"
   ]
  },
  {
   "cell_type": "code",
   "execution_count": 18,
   "metadata": {},
   "outputs": [
    {
     "name": "stdout",
     "output_type": "stream",
     "text": [
      "Title CVec KNN Training Score: 0.64505\n",
      "Title CVec KNN Testing Score: 0.53743 \n",
      "\n",
      "Selftext CVec KNN Training Score: 0.54278\n",
      "Selftext CVec KNN Testing Score: 0.51337 \n",
      "\n",
      "Title Accuracy Rate: 0.53743\n",
      "Title Misclassification Rate: 0.46257 \n",
      "\n",
      "Selftext Accuracy Rate: 0.51337\n",
      "Selftext Misclassification Rate: 0.48663 \n",
      "\n",
      "Best accuracy rate confusion matrix:\n"
     ]
    },
    {
     "data": {
      "text/plain": [
       "<sklearn.metrics._plot.confusion_matrix.ConfusionMatrixDisplay at 0x12fbe9fd0>"
      ]
     },
     "execution_count": 18,
     "metadata": {},
     "output_type": "execute_result"
    },
    {
     "data": {
      "image/png": "[encoded data removed]",
      "text/plain": [
       "<Figure size 640x480 with 2 Axes>"
      ]
     },
     "metadata": {},
     "output_type": "display_data"
    }
   ],
   "source": [
    "model_trials(cvec_knn, 'CVec KNN')"
   ]
  },
  {
   "cell_type": "code",
   "execution_count": 19,
   "metadata": {},
   "outputs": [],
   "source": [
    "tfvec_knn = Pipeline([\n",
    "    ('tfvec', TfidfVectorizer()),\n",
    "    ('ss', StandardScaler(with_mean=False)),\n",
    "    ('knn', KNeighborsClassifier())\n",
    "])"
   ]
  },
  {
   "cell_type": "code",
   "execution_count": 20,
   "metadata": {},
   "outputs": [
    {
     "name": "stdout",
     "output_type": "stream",
     "text": [
      "Title TfVec KNN Training Score: 0.63302\n",
      "Title TfVec KNN Testing Score: 0.54545 \n",
      "\n",
      "Selftext TfVec KNN Training Score: 0.49198\n",
      "Selftext TfVec KNN Testing Score: 0.48396 \n",
      "\n",
      "Title Accuracy Rate: 0.54545\n",
      "Title Misclassification Rate: 0.45455 \n",
      "\n",
      "Selftext Accuracy Rate: 0.48396\n",
      "Selftext Misclassification Rate: 0.51604 \n",
      "\n",
      "Best accuracy rate confusion matrix:\n"
     ]
    },
    {
     "data": {
      "text/plain": [
       "<sklearn.metrics._plot.confusion_matrix.ConfusionMatrixDisplay at 0x130238f10>"
      ]
     },
     "execution_count": 20,
     "metadata": {},
     "output_type": "execute_result"
    },
    {
     "data": {
      "image/png": "[encoded data removed]",
      "text/plain": [
       "<Figure size 640x480 with 2 Axes>"
      ]
     },
     "metadata": {},
     "output_type": "display_data"
    }
   ],
   "source": [
    "model_trials(tfvec_knn, 'TfVec KNN')"
   ]
  },
  {
   "cell_type": "markdown",
   "metadata": {},
   "source": [
    "### Analysis\n",
    "\n",
    "The KNN model performed about as well as the baseline score, and classified in a similar way.\n",
    "\n",
    "In the model that used CountVectorizer, all but one post were predicted as being from the IHateOhio subreddit. When we switched to Tfidf, the model classified all posts as being from the IHateOhio subreddit.\n",
    "\n",
    "I do think that the hyperparameters could be adjusted to likely produce a higher score, but given these scores as the baseline, KNN seems unlikely to outperform the Logistic Regression model or any others.\n",
    "\n",
    "Introducing randomness into the model is needed to decrease the variance."
   ]
  },
  {
   "cell_type": "markdown",
   "metadata": {},
   "source": [
    "---\n",
    "\n",
    "## Decision Tree Classifier"
   ]
  },
  {
   "cell_type": "code",
   "execution_count": 21,
   "metadata": {},
   "outputs": [],
   "source": [
    "cvec_dtree = Pipeline([\n",
    "        ('cvec', CountVectorizer()),\n",
    "        ('dt', DecisionTreeClassifier(random_state=42))\n",
    "])"
   ]
  },
  {
   "cell_type": "code",
   "execution_count": 22,
   "metadata": {},
   "outputs": [
    {
     "name": "stdout",
     "output_type": "stream",
     "text": [
      "Title CVec Decision Tree Training Score: 0.99599\n",
      "Title CVec Decision Tree Testing Score: 0.68449 \n",
      "\n",
      "Selftext CVec Decision Tree Training Score: 0.92848\n",
      "Selftext CVec Decision Tree Testing Score: 0.85027 \n",
      "\n",
      "Title Accuracy Rate: 0.68449\n",
      "Title Misclassification Rate: 0.31551 \n",
      "\n",
      "Selftext Accuracy Rate: 0.85027\n",
      "Selftext Misclassification Rate: 0.14973 \n",
      "\n",
      "Best accuracy rate confusion matrix:\n"
     ]
    },
    {
     "data": {
      "text/plain": [
       "<sklearn.metrics._plot.confusion_matrix.ConfusionMatrixDisplay at 0x12fede2b0>"
      ]
     },
     "execution_count": 22,
     "metadata": {},
     "output_type": "execute_result"
    },
    {
     "data": {
      "image/png": "[encoded data removed]",
      "text/plain": [
       "<Figure size 640x480 with 2 Axes>"
      ]
     },
     "metadata": {},
     "output_type": "display_data"
    }
   ],
   "source": [
    "model_trials(cvec_dtree, 'CVec Decision Tree')"
   ]
  },
  {
   "cell_type": "code",
   "execution_count": 23,
   "metadata": {},
   "outputs": [],
   "source": [
    "tvec_dtree = Pipeline([\n",
    "        ('tvec', TfidfVectorizer()),\n",
    "        ('dt', DecisionTreeClassifier(random_state=42))\n",
    "])"
   ]
  },
  {
   "cell_type": "code",
   "execution_count": 24,
   "metadata": {},
   "outputs": [
    {
     "name": "stdout",
     "output_type": "stream",
     "text": [
      "Title TfVec Decision Tree Training Score: 0.99599\n",
      "Title TfVec Decision Tree Testing Score: 0.64439 \n",
      "\n",
      "Selftext TfVec Decision Tree Training Score: 0.92848\n",
      "Selftext TfVec Decision Tree Testing Score: 0.81283 \n",
      "\n",
      "Title Accuracy Rate: 0.64439\n",
      "Title Misclassification Rate: 0.35561 \n",
      "\n",
      "Selftext Accuracy Rate: 0.81283\n",
      "Selftext Misclassification Rate: 0.18717 \n",
      "\n",
      "Best accuracy rate confusion matrix:\n"
     ]
    },
    {
     "data": {
      "text/plain": [
       "<sklearn.metrics._plot.confusion_matrix.ConfusionMatrixDisplay at 0x1303add60>"
      ]
     },
     "execution_count": 24,
     "metadata": {},
     "output_type": "execute_result"
    },
    {
     "data": {
      "image/png": "[encoded data removed]",
      "text/plain": [
       "<Figure size 640x480 with 2 Axes>"
      ]
     },
     "metadata": {},
     "output_type": "display_data"
    }
   ],
   "source": [
    "model_trials(tvec_dtree, 'TfVec Decision Tree')"
   ]
  },
  {
   "cell_type": "code",
   "execution_count": 25,
   "metadata": {},
   "outputs": [
    {
     "data": {
      "text/html": [
       "<div>\n",
       "<style scoped>\n",
       "    .dataframe tbody tr th:only-of-type {\n",
       "        vertical-align: middle;\n",
       "    }\n",
       "\n",
       "    .dataframe tbody tr th {\n",
       "        vertical-align: top;\n",
       "    }\n",
       "\n",
       "    .dataframe thead th {\n",
       "        text-align: right;\n",
       "    }\n",
       "</style>\n",
       "<table border=\"1\" class=\"dataframe\">\n",
       "  <thead>\n",
       "    <tr style=\"text-align: right;\">\n",
       "      <th></th>\n",
       "      <th>model_used</th>\n",
       "      <th>title_train_score</th>\n",
       "      <th>title_test_score</th>\n",
       "      <th>selftext_train_score</th>\n",
       "      <th>selftext_test_score</th>\n",
       "    </tr>\n",
       "  </thead>\n",
       "  <tbody>\n",
       "    <tr>\n",
       "      <th>0</th>\n",
       "      <td>CVec Logistic Regression</td>\n",
       "      <td>0.956551</td>\n",
       "      <td>0.756684</td>\n",
       "      <td>0.854947</td>\n",
       "      <td>0.863636</td>\n",
       "    </tr>\n",
       "    <tr>\n",
       "      <th>1</th>\n",
       "      <td>TfVec Logistic Regression</td>\n",
       "      <td>0.920455</td>\n",
       "      <td>0.732620</td>\n",
       "      <td>0.871658</td>\n",
       "      <td>0.847594</td>\n",
       "    </tr>\n",
       "    <tr>\n",
       "      <th>2</th>\n",
       "      <td>CVec Mn Naive Bayes</td>\n",
       "      <td>0.947861</td>\n",
       "      <td>0.743316</td>\n",
       "      <td>0.596257</td>\n",
       "      <td>0.526738</td>\n",
       "    </tr>\n",
       "    <tr>\n",
       "      <th>3</th>\n",
       "      <td>TfVec Mn Naive Bayes</td>\n",
       "      <td>0.949198</td>\n",
       "      <td>0.740642</td>\n",
       "      <td>0.558824</td>\n",
       "      <td>0.529412</td>\n",
       "    </tr>\n",
       "    <tr>\n",
       "      <th>4</th>\n",
       "      <td>CVec KNN</td>\n",
       "      <td>0.645053</td>\n",
       "      <td>0.537433</td>\n",
       "      <td>0.542781</td>\n",
       "      <td>0.513369</td>\n",
       "    </tr>\n",
       "    <tr>\n",
       "      <th>5</th>\n",
       "      <td>TfVec KNN</td>\n",
       "      <td>0.633021</td>\n",
       "      <td>0.545455</td>\n",
       "      <td>0.491979</td>\n",
       "      <td>0.483957</td>\n",
       "    </tr>\n",
       "    <tr>\n",
       "      <th>6</th>\n",
       "      <td>CVec Decision Tree</td>\n",
       "      <td>0.995989</td>\n",
       "      <td>0.684492</td>\n",
       "      <td>0.928476</td>\n",
       "      <td>0.850267</td>\n",
       "    </tr>\n",
       "    <tr>\n",
       "      <th>7</th>\n",
       "      <td>TfVec Decision Tree</td>\n",
       "      <td>0.995989</td>\n",
       "      <td>0.644385</td>\n",
       "      <td>0.928476</td>\n",
       "      <td>0.812834</td>\n",
       "    </tr>\n",
       "  </tbody>\n",
       "</table>\n",
       "</div>"
      ],
      "text/plain": [
       "                  model_used  title_train_score  title_test_score  \\\n",
       "0   CVec Logistic Regression           0.956551          0.756684   \n",
       "1  TfVec Logistic Regression           0.920455          0.732620   \n",
       "2        CVec Mn Naive Bayes           0.947861          0.743316   \n",
       "3       TfVec Mn Naive Bayes           0.949198          0.740642   \n",
       "4                   CVec KNN           0.645053          0.537433   \n",
       "5                  TfVec KNN           0.633021          0.545455   \n",
       "6         CVec Decision Tree           0.995989          0.684492   \n",
       "7        TfVec Decision Tree           0.995989          0.644385   \n",
       "\n",
       "   selftext_train_score  selftext_test_score  \n",
       "0              0.854947             0.863636  \n",
       "1              0.871658             0.847594  \n",
       "2              0.596257             0.526738  \n",
       "3              0.558824             0.529412  \n",
       "4              0.542781             0.513369  \n",
       "5              0.491979             0.483957  \n",
       "6              0.928476             0.850267  \n",
       "7              0.928476             0.812834  "
      ]
     },
     "execution_count": 25,
     "metadata": {},
     "output_type": "execute_result"
    }
   ],
   "source": [
    "model_trials_df"
   ]
  },
  {
   "cell_type": "markdown",
   "metadata": {},
   "source": [
    "### Analysis\n",
    "\n",
    "For both title and selftext, the train scores remained exactly the same using CountVectorizer and TfidfVectorizer. We saw parallel effects on the test scores also, with both decreasing by about .04 when using Tfidf instead of CVec.\n",
    "\n",
    "We are overfit on both Decision Tree (and most other model) train/test splits, but the selftext scores are relatively high, making this model strong enough to move forward with and see if we can bring down the variance by adjusting the hyperparameters."
   ]
  },
  {
   "cell_type": "markdown",
   "metadata": {},
   "source": [
    "---\n",
    "\n",
    "## Random Forest Classifier"
   ]
  },
  {
   "cell_type": "code",
   "execution_count": 26,
   "metadata": {},
   "outputs": [],
   "source": [
    "cvec_rf = Pipeline([\n",
    "        ('cvec', CountVectorizer()),\n",
    "        ('rf', RandomForestClassifier(random_state=42))\n",
    "])"
   ]
  },
  {
   "cell_type": "code",
   "execution_count": 27,
   "metadata": {},
   "outputs": [
    {
     "name": "stdout",
     "output_type": "stream",
     "text": [
      "Title CVec Random Forest Training Score: 0.99599\n",
      "Title CVec Random Forest Testing Score: 0.75401 \n",
      "\n",
      "Selftext CVec Random Forest Training Score: 0.92848\n",
      "Selftext CVec Random Forest Testing Score: 0.84492 \n",
      "\n",
      "Title Accuracy Rate: 0.75401\n",
      "Title Misclassification Rate: 0.24599 \n",
      "\n",
      "Selftext Accuracy Rate: 0.84492\n",
      "Selftext Misclassification Rate: 0.15508 \n",
      "\n",
      "Best accuracy rate confusion matrix:\n"
     ]
    },
    {
     "data": {
      "text/plain": [
       "<sklearn.metrics._plot.confusion_matrix.ConfusionMatrixDisplay at 0x130675a90>"
      ]
     },
     "execution_count": 27,
     "metadata": {},
     "output_type": "execute_result"
    },
    {
     "data": {
      "image/png": "[encoded data removed]",
      "text/plain": [
       "<Figure size 640x480 with 2 Axes>"
      ]
     },
     "metadata": {},
     "output_type": "display_data"
    }
   ],
   "source": [
    "model_trials(cvec_rf, 'CVec Random Forest')"
   ]
  },
  {
   "cell_type": "code",
   "execution_count": 28,
   "metadata": {},
   "outputs": [],
   "source": [
    "tfvec_rf = Pipeline([\n",
    "        ('tfvec', TfidfVectorizer()),\n",
    "        ('rf', RandomForestClassifier(random_state=42))\n",
    "])"
   ]
  },
  {
   "cell_type": "code",
   "execution_count": 29,
   "metadata": {},
   "outputs": [
    {
     "name": "stdout",
     "output_type": "stream",
     "text": [
      "Title TfVec Random Forest Training Score: 0.99599\n",
      "Title TfVec Random Forest Testing Score: 0.72727 \n",
      "\n",
      "Selftext TfVec Random Forest Training Score: 0.92848\n",
      "Selftext TfVec Random Forest Testing Score: 0.83957 \n",
      "\n",
      "Title Accuracy Rate: 0.72727\n",
      "Title Misclassification Rate: 0.27273 \n",
      "\n",
      "Selftext Accuracy Rate: 0.83957\n",
      "Selftext Misclassification Rate: 0.16043 \n",
      "\n",
      "Best accuracy rate confusion matrix:\n"
     ]
    },
    {
     "data": {
      "text/plain": [
       "<sklearn.metrics._plot.confusion_matrix.ConfusionMatrixDisplay at 0x13068f3a0>"
      ]
     },
     "execution_count": 29,
     "metadata": {},
     "output_type": "execute_result"
    },
    {
     "data": {
      "image/png": "[encoded data removed]",
      "text/plain": [
       "<Figure size 640x480 with 2 Axes>"
      ]
     },
     "metadata": {},
     "output_type": "display_data"
    }
   ],
   "source": [
    "model_trials(tfvec_rf, 'TfVec Random Forest')"
   ]
  },
  {
   "cell_type": "markdown",
   "metadata": {},
   "source": [
    "### Analysis\n",
    "\n",
    "Using Tfidf looks to have reclassified two of the true negatives as false positives. Otherwise, both models performed very well and had .8+ accuracy rates.\n",
    "\n",
    "What's more interesting is that the title and selftext train scores for the Decision Tree model (0.995989 and 0.928476, respectively) are exactly the same as the scores seen in the Random Forest model. Switching from Count Vectorizer to Tfidf did not seem to have any effect, either.\n",
    "\n",
    "Looking at the confusion matrices for these four models, which were generated from the X variable that produced the greatest test score (selftext, in all cases here), we can see that the predictions are almost the inverses of each other. Both Decision Tree models made more classifications--56%, on average--in the IHateOhio subreddit, leading to more true and false positives. \n",
    "\n",
    "Conversely, the Random Forest models had similar misclassification rates, but leaned more heavily toward Ohio subreddit predictions. This could mean that this is a better model, or that it performed well in part because it made more predictions of the majority class. In all, the top test-scoring model of the four was the CountVectorizer Decision Tree.\n",
    "\n",
    "Except for KNN and Multinomial Naive Bayes, all other confusion matrices have a similar pattern and there seem to be roughly 55-65 posts that are difficult for most models to classify. This is something I'll want to look into as it may be an indication of something I missed during EDA."
   ]
  },
  {
   "cell_type": "markdown",
   "metadata": {},
   "source": [
    "---\n",
    "\n",
    "## Bagging Classifier"
   ]
  },
  {
   "cell_type": "code",
   "execution_count": 30,
   "metadata": {},
   "outputs": [],
   "source": [
    "bag_pipe = Pipeline([\n",
    "    ('cvec', CountVectorizer()),\n",
    "    ('bag', BaggingClassifier(random_state=42))\n",
    "])"
   ]
  },
  {
   "cell_type": "code",
   "execution_count": 31,
   "metadata": {},
   "outputs": [
    {
     "name": "stdout",
     "output_type": "stream",
     "text": [
      "Title CVec Bagging Training Score: 0.97861\n",
      "Title CVec Bagging Testing Score: 0.7139 \n",
      "\n",
      "Selftext CVec Bagging Training Score: 0.91243\n",
      "Selftext CVec Bagging Testing Score: 0.85829 \n",
      "\n",
      "Title Accuracy Rate: 0.7139\n",
      "Title Misclassification Rate: 0.2861 \n",
      "\n",
      "Selftext Accuracy Rate: 0.85829\n",
      "Selftext Misclassification Rate: 0.14171 \n",
      "\n",
      "Best accuracy rate confusion matrix:\n"
     ]
    },
    {
     "data": {
      "text/plain": [
       "<sklearn.metrics._plot.confusion_matrix.ConfusionMatrixDisplay at 0x130675940>"
      ]
     },
     "execution_count": 31,
     "metadata": {},
     "output_type": "execute_result"
    },
    {
     "data": {
      "image/png": "[encoded data removed]",
      "text/plain": [
       "<Figure size 640x480 with 2 Axes>"
      ]
     },
     "metadata": {},
     "output_type": "display_data"
    }
   ],
   "source": [
    "model_trials(bag_pipe, 'CVec Bagging')"
   ]
  },
  {
   "cell_type": "code",
   "execution_count": 32,
   "metadata": {},
   "outputs": [],
   "source": [
    "tfvec_bag_pipe = Pipeline([\n",
    "    ('tfvec', TfidfVectorizer()),\n",
    "    ('bag', BaggingClassifier(random_state=42))\n",
    "])"
   ]
  },
  {
   "cell_type": "code",
   "execution_count": 33,
   "metadata": {},
   "outputs": [
    {
     "name": "stdout",
     "output_type": "stream",
     "text": [
      "Title TfVec Bagging Training Score: 0.98396\n",
      "Title TfVec Bagging Testing Score: 0.70053 \n",
      "\n",
      "Selftext TfVec Bagging Training Score: 0.9131\n",
      "Selftext TfVec Bagging Testing Score: 0.85294 \n",
      "\n",
      "Title Accuracy Rate: 0.70053\n",
      "Title Misclassification Rate: 0.29947 \n",
      "\n",
      "Selftext Accuracy Rate: 0.85294\n",
      "Selftext Misclassification Rate: 0.14706 \n",
      "\n",
      "Best accuracy rate confusion matrix:\n"
     ]
    },
    {
     "data": {
      "text/plain": [
       "<sklearn.metrics._plot.confusion_matrix.ConfusionMatrixDisplay at 0x1308e05b0>"
      ]
     },
     "execution_count": 33,
     "metadata": {},
     "output_type": "execute_result"
    },
    {
     "data": {
      "image/png": "[encoded data removed]",
      "text/plain": [
       "<Figure size 640x480 with 2 Axes>"
      ]
     },
     "metadata": {},
     "output_type": "display_data"
    }
   ],
   "source": [
    "model_trials(tfvec_bag_pipe, 'TfVec Bagging')"
   ]
  },
  {
   "cell_type": "markdown",
   "metadata": {},
   "source": [
    "### Analysis\n",
    "\n",
    "Again, using Tfidf led to minimal shifts in classifications, this time with two true positive posts being reclassified as false negatives.\n",
    "\n",
    "The Bagging model performed slightly better on the selftext test scores, but worse on most other scores. All train and test scores are very similar to those seen in the Decision Tree and Random Forest models, only with less variance because the trees are being exposed to different samples of the training set.\n",
    "\n",
    "We can see below that the Logistic Regression model and the Bagging model have the exact same average (between CVec and TfVec) test scores when using selftext as X, despite making different predictions."
   ]
  },
  {
   "cell_type": "code",
   "execution_count": 34,
   "metadata": {},
   "outputs": [
    {
     "name": "stdout",
     "output_type": "stream",
     "text": [
      "Logistic Regression Selftext Test Avg: 0.8556149732620321\n",
      "Bagging Selftext Test Avg: 0.8556149732620321\n"
     ]
    }
   ],
   "source": [
    "logreg_selftext_test_avg = (model_trials_df['selftext_test_score'][0] + model_trials_df['selftext_test_score'][1]) / 2\n",
    "\n",
    "bagging_selftext_test_avg = (model_trials_df['selftext_test_score'][10] + model_trials_df['selftext_test_score'][11]) / 2\n",
    "\n",
    "print(f'Logistic Regression Selftext Test Avg: {logreg_selftext_test_avg}')\n",
    "print(f'Bagging Selftext Test Avg: {bagging_selftext_test_avg}')"
   ]
  },
  {
   "cell_type": "code",
   "execution_count": 35,
   "metadata": {},
   "outputs": [
    {
     "data": {
      "text/html": [
       "<div>\n",
       "<style scoped>\n",
       "    .dataframe tbody tr th:only-of-type {\n",
       "        vertical-align: middle;\n",
       "    }\n",
       "\n",
       "    .dataframe tbody tr th {\n",
       "        vertical-align: top;\n",
       "    }\n",
       "\n",
       "    .dataframe thead th {\n",
       "        text-align: right;\n",
       "    }\n",
       "</style>\n",
       "<table border=\"1\" class=\"dataframe\">\n",
       "  <thead>\n",
       "    <tr style=\"text-align: right;\">\n",
       "      <th></th>\n",
       "      <th>model_used</th>\n",
       "      <th>title_train_score</th>\n",
       "      <th>title_test_score</th>\n",
       "      <th>selftext_train_score</th>\n",
       "      <th>selftext_test_score</th>\n",
       "    </tr>\n",
       "  </thead>\n",
       "  <tbody>\n",
       "    <tr>\n",
       "      <th>0</th>\n",
       "      <td>CVec Logistic Regression</td>\n",
       "      <td>0.956551</td>\n",
       "      <td>0.756684</td>\n",
       "      <td>0.854947</td>\n",
       "      <td>0.863636</td>\n",
       "    </tr>\n",
       "    <tr>\n",
       "      <th>1</th>\n",
       "      <td>TfVec Logistic Regression</td>\n",
       "      <td>0.920455</td>\n",
       "      <td>0.732620</td>\n",
       "      <td>0.871658</td>\n",
       "      <td>0.847594</td>\n",
       "    </tr>\n",
       "    <tr>\n",
       "      <th>2</th>\n",
       "      <td>CVec Mn Naive Bayes</td>\n",
       "      <td>0.947861</td>\n",
       "      <td>0.743316</td>\n",
       "      <td>0.596257</td>\n",
       "      <td>0.526738</td>\n",
       "    </tr>\n",
       "    <tr>\n",
       "      <th>3</th>\n",
       "      <td>TfVec Mn Naive Bayes</td>\n",
       "      <td>0.949198</td>\n",
       "      <td>0.740642</td>\n",
       "      <td>0.558824</td>\n",
       "      <td>0.529412</td>\n",
       "    </tr>\n",
       "    <tr>\n",
       "      <th>4</th>\n",
       "      <td>CVec KNN</td>\n",
       "      <td>0.645053</td>\n",
       "      <td>0.537433</td>\n",
       "      <td>0.542781</td>\n",
       "      <td>0.513369</td>\n",
       "    </tr>\n",
       "    <tr>\n",
       "      <th>5</th>\n",
       "      <td>TfVec KNN</td>\n",
       "      <td>0.633021</td>\n",
       "      <td>0.545455</td>\n",
       "      <td>0.491979</td>\n",
       "      <td>0.483957</td>\n",
       "    </tr>\n",
       "    <tr>\n",
       "      <th>6</th>\n",
       "      <td>CVec Decision Tree</td>\n",
       "      <td>0.995989</td>\n",
       "      <td>0.684492</td>\n",
       "      <td>0.928476</td>\n",
       "      <td>0.850267</td>\n",
       "    </tr>\n",
       "    <tr>\n",
       "      <th>7</th>\n",
       "      <td>TfVec Decision Tree</td>\n",
       "      <td>0.995989</td>\n",
       "      <td>0.644385</td>\n",
       "      <td>0.928476</td>\n",
       "      <td>0.812834</td>\n",
       "    </tr>\n",
       "    <tr>\n",
       "      <th>8</th>\n",
       "      <td>CVec Random Forest</td>\n",
       "      <td>0.995989</td>\n",
       "      <td>0.754011</td>\n",
       "      <td>0.928476</td>\n",
       "      <td>0.844920</td>\n",
       "    </tr>\n",
       "    <tr>\n",
       "      <th>9</th>\n",
       "      <td>TfVec Random Forest</td>\n",
       "      <td>0.995989</td>\n",
       "      <td>0.727273</td>\n",
       "      <td>0.928476</td>\n",
       "      <td>0.839572</td>\n",
       "    </tr>\n",
       "    <tr>\n",
       "      <th>10</th>\n",
       "      <td>CVec Bagging</td>\n",
       "      <td>0.978610</td>\n",
       "      <td>0.713904</td>\n",
       "      <td>0.912433</td>\n",
       "      <td>0.858289</td>\n",
       "    </tr>\n",
       "    <tr>\n",
       "      <th>11</th>\n",
       "      <td>TfVec Bagging</td>\n",
       "      <td>0.983957</td>\n",
       "      <td>0.700535</td>\n",
       "      <td>0.913102</td>\n",
       "      <td>0.852941</td>\n",
       "    </tr>\n",
       "  </tbody>\n",
       "</table>\n",
       "</div>"
      ],
      "text/plain": [
       "                   model_used  title_train_score  title_test_score  \\\n",
       "0    CVec Logistic Regression           0.956551          0.756684   \n",
       "1   TfVec Logistic Regression           0.920455          0.732620   \n",
       "2         CVec Mn Naive Bayes           0.947861          0.743316   \n",
       "3        TfVec Mn Naive Bayes           0.949198          0.740642   \n",
       "4                    CVec KNN           0.645053          0.537433   \n",
       "5                   TfVec KNN           0.633021          0.545455   \n",
       "6          CVec Decision Tree           0.995989          0.684492   \n",
       "7         TfVec Decision Tree           0.995989          0.644385   \n",
       "8          CVec Random Forest           0.995989          0.754011   \n",
       "9         TfVec Random Forest           0.995989          0.727273   \n",
       "10               CVec Bagging           0.978610          0.713904   \n",
       "11              TfVec Bagging           0.983957          0.700535   \n",
       "\n",
       "    selftext_train_score  selftext_test_score  \n",
       "0               0.854947             0.863636  \n",
       "1               0.871658             0.847594  \n",
       "2               0.596257             0.526738  \n",
       "3               0.558824             0.529412  \n",
       "4               0.542781             0.513369  \n",
       "5               0.491979             0.483957  \n",
       "6               0.928476             0.850267  \n",
       "7               0.928476             0.812834  \n",
       "8               0.928476             0.844920  \n",
       "9               0.928476             0.839572  \n",
       "10              0.912433             0.858289  \n",
       "11              0.913102             0.852941  "
      ]
     },
     "execution_count": 35,
     "metadata": {},
     "output_type": "execute_result"
    }
   ],
   "source": [
    "model_trials_df"
   ]
  },
  {
   "cell_type": "markdown",
   "metadata": {},
   "source": [
    "---\n",
    "\n",
    "## AdaBoost Classifier"
   ]
  },
  {
   "cell_type": "code",
   "execution_count": 36,
   "metadata": {},
   "outputs": [],
   "source": [
    "cvec_ada = Pipeline([\n",
    "    ('cvec', CountVectorizer()),\n",
    "    ('ada', AdaBoostClassifier(random_state=42))\n",
    "])"
   ]
  },
  {
   "cell_type": "code",
   "execution_count": 37,
   "metadata": {},
   "outputs": [
    {
     "name": "stdout",
     "output_type": "stream",
     "text": [
      "Title CVec AdaBoosting Training Score: 0.75\n",
      "Title CVec AdaBoosting Testing Score: 0.67112 \n",
      "\n",
      "Selftext CVec AdaBoosting Training Score: 0.86297\n",
      "Selftext CVec AdaBoosting Testing Score: 0.85561 \n",
      "\n",
      "Title Accuracy Rate: 0.67112\n",
      "Title Misclassification Rate: 0.32888 \n",
      "\n",
      "Selftext Accuracy Rate: 0.85561\n",
      "Selftext Misclassification Rate: 0.14439 \n",
      "\n",
      "Best accuracy rate confusion matrix:\n"
     ]
    },
    {
     "data": {
      "text/plain": [
       "<sklearn.metrics._plot.confusion_matrix.ConfusionMatrixDisplay at 0x13023c250>"
      ]
     },
     "execution_count": 37,
     "metadata": {},
     "output_type": "execute_result"
    },
    {
     "data": {
      "image/png": "[encoded data removed]",
      "text/plain": [
       "<Figure size 640x480 with 2 Axes>"
      ]
     },
     "metadata": {},
     "output_type": "display_data"
    }
   ],
   "source": [
    "model_trials(cvec_ada, 'CVec AdaBoosting')"
   ]
  },
  {
   "cell_type": "code",
   "execution_count": 38,
   "metadata": {},
   "outputs": [],
   "source": [
    "tfvec_ada = Pipeline([\n",
    "    ('tfvec', TfidfVectorizer()),\n",
    "    ('ada', AdaBoostClassifier(random_state=42))\n",
    "])"
   ]
  },
  {
   "cell_type": "code",
   "execution_count": 39,
   "metadata": {},
   "outputs": [
    {
     "name": "stdout",
     "output_type": "stream",
     "text": [
      "Title TfVec AdaBoosting Training Score: 0.76471\n",
      "Title TfVec AdaBoosting Testing Score: 0.68182 \n",
      "\n",
      "Selftext TfVec AdaBoosting Training Score: 0.88168\n",
      "Selftext TfVec AdaBoosting Testing Score: 0.84759 \n",
      "\n",
      "Title Accuracy Rate: 0.68182\n",
      "Title Misclassification Rate: 0.31818 \n",
      "\n",
      "Selftext Accuracy Rate: 0.84759\n",
      "Selftext Misclassification Rate: 0.15241 \n",
      "\n",
      "Best accuracy rate confusion matrix:\n"
     ]
    },
    {
     "data": {
      "text/plain": [
       "<sklearn.metrics._plot.confusion_matrix.ConfusionMatrixDisplay at 0x13076bcd0>"
      ]
     },
     "execution_count": 39,
     "metadata": {},
     "output_type": "execute_result"
    },
    {
     "data": {
      "image/png": "[encoded data removed]",
      "text/plain": [
       "<Figure size 640x480 with 2 Axes>"
      ]
     },
     "metadata": {},
     "output_type": "display_data"
    }
   ],
   "source": [
    "model_trials(tfvec_ada, 'TfVec AdaBoosting')"
   ]
  },
  {
   "cell_type": "markdown",
   "metadata": {},
   "source": [
    "### Analysis\n",
    "\n",
    "In terms of the test scores, AdaBoosting appears to be less effective in this dataset than Bagging. \n",
    "\n",
    "Using TfVec in the AdaBoost model increased both title scores and the selftext train score, but decreased the selftext test score. It looks like five posts were reclassified, one correctly and four incorrectly. \n",
    "\n",
    "Although these are not the best-scoring models, there does seem to be significantly less variance in the selftext scores than most of the other models. I'm going to try using this same model, but with Logistic Regression as the base estimator because LogReg is one of the other better-performing models we've seen so far."
   ]
  },
  {
   "cell_type": "markdown",
   "metadata": {},
   "source": [
    "---\n",
    "\n",
    "## AdaBoost Classifier with Logistic Regression"
   ]
  },
  {
   "cell_type": "code",
   "execution_count": 40,
   "metadata": {},
   "outputs": [],
   "source": [
    "cvec_ada_logreg = Pipeline([\n",
    "    ('cvec', CountVectorizer()),\n",
    "    ('ada', AdaBoostClassifier(base_estimator=LogisticRegression(), random_state=42))\n",
    "])"
   ]
  },
  {
   "cell_type": "code",
   "execution_count": 41,
   "metadata": {},
   "outputs": [
    {
     "name": "stdout",
     "output_type": "stream",
     "text": [
      "Title CVec AdaBoosting w/ LogReg Training Score: 0.73329\n",
      "Title CVec AdaBoosting w/ LogReg Testing Score: 0.70588 \n",
      "\n",
      "Selftext CVec AdaBoosting w/ LogReg Training Score: 0.86765\n",
      "Selftext CVec AdaBoosting w/ LogReg Testing Score: 0.83155 \n",
      "\n",
      "Title Accuracy Rate: 0.70588\n",
      "Title Misclassification Rate: 0.29412 \n",
      "\n",
      "Selftext Accuracy Rate: 0.83155\n",
      "Selftext Misclassification Rate: 0.16845 \n",
      "\n",
      "Best accuracy rate confusion matrix:\n"
     ]
    },
    {
     "data": {
      "text/plain": [
       "<sklearn.metrics._plot.confusion_matrix.ConfusionMatrixDisplay at 0x1304e0f70>"
      ]
     },
     "execution_count": 41,
     "metadata": {},
     "output_type": "execute_result"
    },
    {
     "data": {
      "image/png": "[encoded data removed]",
      "text/plain": [
       "<Figure size 640x480 with 2 Axes>"
      ]
     },
     "metadata": {},
     "output_type": "display_data"
    }
   ],
   "source": [
    "model_trials(cvec_ada_logreg, 'CVec AdaBoosting w/ LogReg')"
   ]
  },
  {
   "cell_type": "code",
   "execution_count": 42,
   "metadata": {},
   "outputs": [],
   "source": [
    "tfvec_ada_logreg = Pipeline([\n",
    "    ('tfvec', TfidfVectorizer()),\n",
    "    ('ada', AdaBoostClassifier(base_estimator=LogisticRegression(), random_state=42))\n",
    "])"
   ]
  },
  {
   "cell_type": "code",
   "execution_count": 43,
   "metadata": {},
   "outputs": [
    {
     "name": "stdout",
     "output_type": "stream",
     "text": [
      "Title TfVec AdaBoosting w/ LogReg Training Score: 0.68516\n",
      "Title TfVec AdaBoosting w/ LogReg Testing Score: 0.67914 \n",
      "\n",
      "Selftext TfVec AdaBoosting w/ LogReg Training Score: 0.81417\n",
      "Selftext TfVec AdaBoosting w/ LogReg Testing Score: 0.8369 \n",
      "\n",
      "Title Accuracy Rate: 0.67914\n",
      "Title Misclassification Rate: 0.32086 \n",
      "\n",
      "Selftext Accuracy Rate: 0.8369\n",
      "Selftext Misclassification Rate: 0.1631 \n",
      "\n",
      "Best accuracy rate confusion matrix:\n"
     ]
    },
    {
     "data": {
      "text/plain": [
       "<sklearn.metrics._plot.confusion_matrix.ConfusionMatrixDisplay at 0x131076250>"
      ]
     },
     "execution_count": 43,
     "metadata": {},
     "output_type": "execute_result"
    },
    {
     "data": {
      "image/png": "[encoded data removed]",
      "text/plain": [
       "<Figure size 640x480 with 2 Axes>"
      ]
     },
     "metadata": {},
     "output_type": "display_data"
    }
   ],
   "source": [
    "model_trials(tfvec_ada_logreg, 'TfVec AdaBoosting w/ LogReg')"
   ]
  },
  {
   "cell_type": "markdown",
   "metadata": {},
   "source": [
    "### Analysis\n",
    "\n",
    "Again, we see the differences between the CountVectorizer and Tfidf interpretations of the text. In this case, CountVectorizer made more predictions for the IHateOhio class and Tfidf was almost split down the middle, with 186 negative predictions (85% were correct) and 188 positive predictions (82% were correct). \n",
    "\n",
    "Contrary to my prior hypothesis, using Logistic Regression in conjunction with AdaBoost did not improve the test scores for title or selftext. That being said, these models did still perform relatively well and may be worth exploring further, with hyperparameter tuning."
   ]
  },
  {
   "cell_type": "markdown",
   "metadata": {},
   "source": [
    "---\n",
    "\n",
    "## Gradient Boosting Classifier"
   ]
  },
  {
   "cell_type": "code",
   "execution_count": 44,
   "metadata": {},
   "outputs": [],
   "source": [
    "cvec_gboost = Pipeline([\n",
    "    ('cvec', CountVectorizer()),\n",
    "    ('gb', GradientBoostingClassifier(random_state=42))\n",
    "])"
   ]
  },
  {
   "cell_type": "code",
   "execution_count": 45,
   "metadata": {},
   "outputs": [
    {
     "name": "stdout",
     "output_type": "stream",
     "text": [
      "Title CVec Gradient Boosting Training Score: 0.79947\n",
      "Title CVec Gradient Boosting Testing Score: 0.68984 \n",
      "\n",
      "Selftext CVec Gradient Boosting Training Score: 0.87834\n",
      "Selftext CVec Gradient Boosting Testing Score: 0.85829 \n",
      "\n",
      "Title Accuracy Rate: 0.68984\n",
      "Title Misclassification Rate: 0.31016 \n",
      "\n",
      "Selftext Accuracy Rate: 0.85829\n",
      "Selftext Misclassification Rate: 0.14171 \n",
      "\n",
      "Best accuracy rate confusion matrix:\n"
     ]
    },
    {
     "data": {
      "text/plain": [
       "<sklearn.metrics._plot.confusion_matrix.ConfusionMatrixDisplay at 0x130c36880>"
      ]
     },
     "execution_count": 45,
     "metadata": {},
     "output_type": "execute_result"
    },
    {
     "data": {
      "image/png": "[encoded data removed]",
      "text/plain": [
       "<Figure size 640x480 with 2 Axes>"
      ]
     },
     "metadata": {},
     "output_type": "display_data"
    }
   ],
   "source": [
    "model_trials(cvec_gboost, 'CVec Gradient Boosting')"
   ]
  },
  {
   "cell_type": "code",
   "execution_count": 46,
   "metadata": {},
   "outputs": [],
   "source": [
    "tfvec_gboost = Pipeline([\n",
    "    ('tfvec', TfidfVectorizer()),\n",
    "    ('gb', GradientBoostingClassifier(random_state=42))\n",
    "])"
   ]
  },
  {
   "cell_type": "code",
   "execution_count": 47,
   "metadata": {},
   "outputs": [
    {
     "name": "stdout",
     "output_type": "stream",
     "text": [
      "Title TfVec Gradient Boosting Training Score: 0.82219\n",
      "Title TfVec Gradient Boosting Testing Score: 0.70588 \n",
      "\n",
      "Selftext TfVec Gradient Boosting Training Score: 0.89773\n",
      "Selftext TfVec Gradient Boosting Testing Score: 0.86096 \n",
      "\n",
      "Title Accuracy Rate: 0.70588\n",
      "Title Misclassification Rate: 0.29412 \n",
      "\n",
      "Selftext Accuracy Rate: 0.86096\n",
      "Selftext Misclassification Rate: 0.13904 \n",
      "\n",
      "Best accuracy rate confusion matrix:\n"
     ]
    },
    {
     "data": {
      "text/plain": [
       "<sklearn.metrics._plot.confusion_matrix.ConfusionMatrixDisplay at 0x130db7130>"
      ]
     },
     "execution_count": 47,
     "metadata": {},
     "output_type": "execute_result"
    },
    {
     "data": {
      "image/png": "[encoded data removed]",
      "text/plain": [
       "<Figure size 640x480 with 2 Axes>"
      ]
     },
     "metadata": {},
     "output_type": "display_data"
    }
   ],
   "source": [
    "model_trials(tfvec_gboost, 'TfVec Gradient Boosting')"
   ]
  },
  {
   "cell_type": "markdown",
   "metadata": {},
   "source": [
    "### Analysis\n",
    "\n",
    "GradientBoosting is one of the best performing models yet in terms of average selftext test score, and to my surprise, outperformed AdaBoost. Though GBoost did have more false positives than a few other models, it also had some of the lowest false negative predictions. Using Tfidf here looks to have reclassified one false positive as a true negative while all else stayed the same. \n",
    "\n",
    "This model scored slightly worse than Bagging on title train and test scores, and the selftext train score. However, the selftext test score jumped by about .02, making GBoost a strong contender for the next level of model trials and adaptations."
   ]
  },
  {
   "cell_type": "markdown",
   "metadata": {},
   "source": [
    "---\n",
    "\n",
    "## Which posts are continuously being misclassified?"
   ]
  },
  {
   "cell_type": "markdown",
   "metadata": {},
   "source": [
    "In the above matrices, we see a lot of similar patterns, which I think could mean that there is a specific subset of post selftexts that most models are unable to accurately classify.\n",
    "\n",
    "I'll select a few of the most similar distributions to check for repeated misclassifications."
   ]
  },
  {
   "cell_type": "code",
   "execution_count": 48,
   "metadata": {},
   "outputs": [],
   "source": [
    "misclassify_df = pd.DataFrame()"
   ]
  },
  {
   "cell_type": "code",
   "execution_count": 49,
   "metadata": {},
   "outputs": [],
   "source": [
    "def misclassify(model):\n",
    "    X = reddit['selftext']\n",
    "    y = reddit['subreddit_class']\n",
    "    X_train, X_test, y_train, y_test = train_test_split(X, y, test_size=.2, stratify=y, random_state=42)\n",
    "\n",
    "    model.fit(X_train, y_train)\n",
    "\n",
    "    preds = model.predict(X_test)\n",
    "    true = y_test\n",
    "\n",
    "    sub_df = pd.DataFrame()\n",
    "    sub_df['post_text'] = X_test\n",
    "    sub_df['preds'] = preds\n",
    "    sub_df['true'] = true\n",
    "\n",
    "    sub_df = sub_df[sub_df['preds'] != sub_df['true']]\n",
    "\n",
    "    new_df = pd.concat([misclassify_df, sub_df])\n",
    "\n",
    "    print(f'This model had {len(sub_df)} misclassifications.')\n",
    "    return new_df"
   ]
  },
  {
   "cell_type": "code",
   "execution_count": 50,
   "metadata": {},
   "outputs": [
    {
     "name": "stdout",
     "output_type": "stream",
     "text": [
      "This model had 52 misclassifications.\n"
     ]
    },
    {
     "data": {
      "text/html": [
       "<div>\n",
       "<style scoped>\n",
       "    .dataframe tbody tr th:only-of-type {\n",
       "        vertical-align: middle;\n",
       "    }\n",
       "\n",
       "    .dataframe tbody tr th {\n",
       "        vertical-align: top;\n",
       "    }\n",
       "\n",
       "    .dataframe thead th {\n",
       "        text-align: right;\n",
       "    }\n",
       "</style>\n",
       "<table border=\"1\" class=\"dataframe\">\n",
       "  <thead>\n",
       "    <tr style=\"text-align: right;\">\n",
       "      <th></th>\n",
       "      <th>post_text</th>\n",
       "      <th>preds</th>\n",
       "      <th>true</th>\n",
       "    </tr>\n",
       "  </thead>\n",
       "  <tbody>\n",
       "    <tr>\n",
       "      <th>20</th>\n",
       "      <td></td>\n",
       "      <td>1</td>\n",
       "      <td>0</td>\n",
       "    </tr>\n",
       "    <tr>\n",
       "      <th>992</th>\n",
       "      <td>[https://energynews.us/2022/04/18/dark-money-helped-ohio-utilities-subsidize-coal-plants-delaying-action-on-climate-change-at-ratepayers-expense/](https://energynews.us/2022/04/18/dark-money-helpe...</td>\n",
       "      <td>0</td>\n",
       "      <td>1</td>\n",
       "    </tr>\n",
       "    <tr>\n",
       "      <th>372</th>\n",
       "      <td></td>\n",
       "      <td>1</td>\n",
       "      <td>0</td>\n",
       "    </tr>\n",
       "    <tr>\n",
       "      <th>805</th>\n",
       "      <td>is michigan r bitch now i’m college fb</td>\n",
       "      <td>1</td>\n",
       "      <td>0</td>\n",
       "    </tr>\n",
       "    <tr>\n",
       "      <th>1199</th>\n",
       "      <td>[https://www.nbcnews.com/news/us-news/frantic-parents-fear-kids-after-radioactive-contamination-found-ohio-middle-n1005771](https://www.nbcnews.com/news/us-news/frantic-parents-fear-kids-after-ra...</td>\n",
       "      <td>0</td>\n",
       "      <td>1</td>\n",
       "    </tr>\n",
       "    <tr>\n",
       "      <th>1233</th>\n",
       "      <td>hey guys. just wanna keep spreading the hate for that god awful state. i promise to run for president one day, and with my first act, issue an executive order. either separating ohio from the unit...</td>\n",
       "      <td>0</td>\n",
       "      <td>1</td>\n",
       "    </tr>\n",
       "    <tr>\n",
       "      <th>308</th>\n",
       "      <td>popular vote</td>\n",
       "      <td>1</td>\n",
       "      <td>0</td>\n",
       "    </tr>\n",
       "    <tr>\n",
       "      <th>1005</th>\n",
       "      <td>for reference i work for um and gave my mother in law a maze and blue winter jacket. she still lives in ohio because we haven't been able to find her a suitable place near us in michigan. she walk...</td>\n",
       "      <td>0</td>\n",
       "      <td>1</td>\n",
       "    </tr>\n",
       "    <tr>\n",
       "      <th>600</th>\n",
       "      <td></td>\n",
       "      <td>1</td>\n",
       "      <td>0</td>\n",
       "    </tr>\n",
       "    <tr>\n",
       "      <th>492</th>\n",
       "      <td></td>\n",
       "      <td>1</td>\n",
       "      <td>0</td>\n",
       "    </tr>\n",
       "    <tr>\n",
       "      <th>1161</th>\n",
       "      <td>the title of this show speaks for itself.\\n[south of nowhere]\\n(https://m.imdb.com/title/tt0462139/)</td>\n",
       "      <td>0</td>\n",
       "      <td>1</td>\n",
       "    </tr>\n",
       "    <tr>\n",
       "      <th>98</th>\n",
       "      <td>i'm here for a week 😭😭</td>\n",
       "      <td>1</td>\n",
       "      <td>0</td>\n",
       "    </tr>\n",
       "    <tr>\n",
       "      <th>455</th>\n",
       "      <td></td>\n",
       "      <td>1</td>\n",
       "      <td>0</td>\n",
       "    </tr>\n",
       "    <tr>\n",
       "      <th>646</th>\n",
       "      <td></td>\n",
       "      <td>1</td>\n",
       "      <td>0</td>\n",
       "    </tr>\n",
       "    <tr>\n",
       "      <th>724</th>\n",
       "      <td></td>\n",
       "      <td>1</td>\n",
       "      <td>0</td>\n",
       "    </tr>\n",
       "    <tr>\n",
       "      <th>343</th>\n",
       "      <td></td>\n",
       "      <td>1</td>\n",
       "      <td>0</td>\n",
       "    </tr>\n",
       "    <tr>\n",
       "      <th>476</th>\n",
       "      <td>hopefully some native of macedonia knows the answer.</td>\n",
       "      <td>1</td>\n",
       "      <td>0</td>\n",
       "    </tr>\n",
       "    <tr>\n",
       "      <th>1122</th>\n",
       "      <td>jesus christ.  i don't know if anyone here is a fan of pro wrestling, but the community has imploded over the last week or so.  just google\"#speakingout\", or head over to r/squaredcircle and read ...</td>\n",
       "      <td>0</td>\n",
       "      <td>1</td>\n",
       "    </tr>\n",
       "    <tr>\n",
       "      <th>816</th>\n",
       "      <td></td>\n",
       "      <td>1</td>\n",
       "      <td>0</td>\n",
       "    </tr>\n",
       "    <tr>\n",
       "      <th>21</th>\n",
       "      <td></td>\n",
       "      <td>1</td>\n",
       "      <td>0</td>\n",
       "    </tr>\n",
       "    <tr>\n",
       "      <th>134</th>\n",
       "      <td></td>\n",
       "      <td>1</td>\n",
       "      <td>0</td>\n",
       "    </tr>\n",
       "    <tr>\n",
       "      <th>330</th>\n",
       "      <td>&amp;amp;#x200b;\\n\\nhttps://preview.redd.it/th0drdlxmzq81.png?width=1293&amp;amp;format=png&amp;amp;auto=webp&amp;amp;s=0a10d058500b99e2227c2c5d11430f0a0b5bba64</td>\n",
       "      <td>1</td>\n",
       "      <td>0</td>\n",
       "    </tr>\n",
       "    <tr>\n",
       "      <th>1191</th>\n",
       "      <td>need to die</td>\n",
       "      <td>0</td>\n",
       "      <td>1</td>\n",
       "    </tr>\n",
       "    <tr>\n",
       "      <th>392</th>\n",
       "      <td>dinner most likely.</td>\n",
       "      <td>1</td>\n",
       "      <td>0</td>\n",
       "    </tr>\n",
       "    <tr>\n",
       "      <th>252</th>\n",
       "      <td>mattress stores\\ncarwashes\\npharmacies\\nstorage cubes</td>\n",
       "      <td>1</td>\n",
       "      <td>0</td>\n",
       "    </tr>\n",
       "    <tr>\n",
       "      <th>1010</th>\n",
       "      <td>https://www.theonion.com/super-bowl-cincinnati-residents-take-solace-after-loss-1848518448</td>\n",
       "      <td>0</td>\n",
       "      <td>1</td>\n",
       "    </tr>\n",
       "    <tr>\n",
       "      <th>1222</th>\n",
       "      <td>i can confirm, this state sucks. the north is cold as fuck and the south is riddled with used heroin needles. the only thing that i enjoy is mohican.</td>\n",
       "      <td>0</td>\n",
       "      <td>1</td>\n",
       "    </tr>\n",
       "    <tr>\n",
       "      <th>674</th>\n",
       "      <td>just a suggestion, i dont know how or i would do it!</td>\n",
       "      <td>1</td>\n",
       "      <td>0</td>\n",
       "    </tr>\n",
       "    <tr>\n",
       "      <th>974</th>\n",
       "      <td>coming from a 24 ur old female so. cal resident\\n\\nthe stories i hear that is unbelievable or utterly disturbing/disgusting. they just keep coming. what the fuck is wrong with ohio? \\n\\nfrom a spi...</td>\n",
       "      <td>0</td>\n",
       "      <td>1</td>\n",
       "    </tr>\n",
       "    <tr>\n",
       "      <th>747</th>\n",
       "      <td>[deleted]</td>\n",
       "      <td>1</td>\n",
       "      <td>0</td>\n",
       "    </tr>\n",
       "    <tr>\n",
       "      <th>242</th>\n",
       "      <td></td>\n",
       "      <td>1</td>\n",
       "      <td>0</td>\n",
       "    </tr>\n",
       "    <tr>\n",
       "      <th>1194</th>\n",
       "      <td>there are many forms of torture. from water boarding to electrocution. but none are worse than the form of torture i had to endure. i endured the worst forms of physical and mental torture. \\n\\nmy...</td>\n",
       "      <td>0</td>\n",
       "      <td>1</td>\n",
       "    </tr>\n",
       "    <tr>\n",
       "      <th>540</th>\n",
       "      <td>\\n\\n[view poll](https://www.reddit.com/poll/nykrjo)</td>\n",
       "      <td>1</td>\n",
       "      <td>0</td>\n",
       "    </tr>\n",
       "    <tr>\n",
       "      <th>1069</th>\n",
       "      <td>at being the worst state in the entire world. get rid of it already.</td>\n",
       "      <td>0</td>\n",
       "      <td>1</td>\n",
       "    </tr>\n",
       "    <tr>\n",
       "      <th>241</th>\n",
       "      <td>seriously….anybody</td>\n",
       "      <td>1</td>\n",
       "      <td>0</td>\n",
       "    </tr>\n",
       "    <tr>\n",
       "      <th>612</th>\n",
       "      <td>why make a sub about something that doesn’t exist</td>\n",
       "      <td>1</td>\n",
       "      <td>0</td>\n",
       "    </tr>\n",
       "    <tr>\n",
       "      <th>642</th>\n",
       "      <td></td>\n",
       "      <td>1</td>\n",
       "      <td>0</td>\n",
       "    </tr>\n",
       "    <tr>\n",
       "      <th>769</th>\n",
       "      <td></td>\n",
       "      <td>1</td>\n",
       "      <td>0</td>\n",
       "    </tr>\n",
       "    <tr>\n",
       "      <th>964</th>\n",
       "      <td>just today i had one egomaniac try to put me down and shame me in front of the entire shop. all he did was piss me off and prove my theory that no one on that shift can be trusted. on the bike rid...</td>\n",
       "      <td>0</td>\n",
       "      <td>1</td>\n",
       "    </tr>\n",
       "    <tr>\n",
       "      <th>690</th>\n",
       "      <td>just finished my guide to filing your weekly claim, hopefully this helps out a fellow ohioan out there!\\n\\n[unofficial guide to filing weekly claims on ohio unemployment](https://docs.google.com/d...</td>\n",
       "      <td>1</td>\n",
       "      <td>0</td>\n",
       "    </tr>\n",
       "    <tr>\n",
       "      <th>825</th>\n",
       "      <td></td>\n",
       "      <td>1</td>\n",
       "      <td>0</td>\n",
       "    </tr>\n",
       "    <tr>\n",
       "      <th>1032</th>\n",
       "      <td>fuck hamilton and hamilton accents. goshen is a shit show, centerville/dayton is full of drug dealers and freaks. columbus is boring, if you’re proud of being from there, i’m sorry pal. steubenvil...</td>\n",
       "      <td>0</td>\n",
       "      <td>1</td>\n",
       "    </tr>\n",
       "    <tr>\n",
       "      <th>160</th>\n",
       "      <td></td>\n",
       "      <td>1</td>\n",
       "      <td>0</td>\n",
       "    </tr>\n",
       "    <tr>\n",
       "      <th>663</th>\n",
       "      <td></td>\n",
       "      <td>1</td>\n",
       "      <td>0</td>\n",
       "    </tr>\n",
       "    <tr>\n",
       "      <th>216</th>\n",
       "      <td>my daughter needs new glasses but can’t find an office that will take her medicaid insurance.</td>\n",
       "      <td>1</td>\n",
       "      <td>0</td>\n",
       "    </tr>\n",
       "    <tr>\n",
       "      <th>466</th>\n",
       "      <td></td>\n",
       "      <td>1</td>\n",
       "      <td>0</td>\n",
       "    </tr>\n",
       "    <tr>\n",
       "      <th>555</th>\n",
       "      <td>[deleted]</td>\n",
       "      <td>1</td>\n",
       "      <td>0</td>\n",
       "    </tr>\n",
       "    <tr>\n",
       "      <th>1159</th>\n",
       "      <td>no explanation here. all in the title</td>\n",
       "      <td>0</td>\n",
       "      <td>1</td>\n",
       "    </tr>\n",
       "    <tr>\n",
       "      <th>1136</th>\n",
       "      <td>i want to see where the most concentrated hate is. sound off in the comments if your state isn’t listed.\\n\\n[view poll](https://www.reddit.com/poll/inds4l)</td>\n",
       "      <td>0</td>\n",
       "      <td>1</td>\n",
       "    </tr>\n",
       "    <tr>\n",
       "      <th>1106</th>\n",
       "      <td>i’m from michigan. i live about an hour away from ohio and hate it. as do most people from michigan.\\n\\nthe reason why i think ohio sucks is firstly for michigan pride. our states are like rivals ...</td>\n",
       "      <td>0</td>\n",
       "      <td>1</td>\n",
       "    </tr>\n",
       "    <tr>\n",
       "      <th>726</th>\n",
       "      <td>the draft last night had me thinking about this, i’m from cleveland but have lived in columbus and spend a great deal of time in cincy visiting friends. i like both, though maybe not as much as my...</td>\n",
       "      <td>1</td>\n",
       "      <td>0</td>\n",
       "    </tr>\n",
       "    <tr>\n",
       "      <th>1103</th>\n",
       "      <td>it’s a non-progressive mediocre pit of doom. i can’t wait until i can move to the west coast or new york. at least i live in the best part of ohio</td>\n",
       "      <td>0</td>\n",
       "      <td>1</td>\n",
       "    </tr>\n",
       "  </tbody>\n",
       "</table>\n",
       "</div>"
      ],
      "text/plain": [
       "                                                                                                                                                                                                    post_text  \\\n",
       "20                                                                                                                                                                                                              \n",
       "992   [https://energynews.us/2022/04/18/dark-money-helped-ohio-utilities-subsidize-coal-plants-delaying-action-on-climate-change-at-ratepayers-expense/](https://energynews.us/2022/04/18/dark-money-helpe...   \n",
       "372                                                                                                                                                                                                             \n",
       "805                                                                                                                                                                    is michigan r bitch now i’m college fb   \n",
       "1199   [https://www.nbcnews.com/news/us-news/frantic-parents-fear-kids-after-radioactive-contamination-found-ohio-middle-n1005771](https://www.nbcnews.com/news/us-news/frantic-parents-fear-kids-after-ra...   \n",
       "1233  hey guys. just wanna keep spreading the hate for that god awful state. i promise to run for president one day, and with my first act, issue an executive order. either separating ohio from the unit...   \n",
       "308                                                                                                                                                                                              popular vote   \n",
       "1005  for reference i work for um and gave my mother in law a maze and blue winter jacket. she still lives in ohio because we haven't been able to find her a suitable place near us in michigan. she walk...   \n",
       "600                                                                                                                                                                                                             \n",
       "492                                                                                                                                                                                                             \n",
       "1161                                                                                                     the title of this show speaks for itself.\\n[south of nowhere]\\n(https://m.imdb.com/title/tt0462139/)   \n",
       "98                                                                                                                                                                                     i'm here for a week 😭😭   \n",
       "455                                                                                                                                                                                                             \n",
       "646                                                                                                                                                                                                             \n",
       "724                                                                                                                                                                                                             \n",
       "343                                                                                                                                                                                                             \n",
       "476                                                                                                                                                      hopefully some native of macedonia knows the answer.   \n",
       "1122  jesus christ.  i don't know if anyone here is a fan of pro wrestling, but the community has imploded over the last week or so.  just google\"#speakingout\", or head over to r/squaredcircle and read ...   \n",
       "816                                                                                                                                                                                                             \n",
       "21                                                                                                                                                                                                              \n",
       "134                                                                                                                                                                                                             \n",
       "330                                                          &amp;#x200b;\\n\\nhttps://preview.redd.it/th0drdlxmzq81.png?width=1293&amp;format=png&amp;auto=webp&amp;s=0a10d058500b99e2227c2c5d11430f0a0b5bba64   \n",
       "1191                                                                                                                                                                                              need to die   \n",
       "392                                                                                                                                                                                       dinner most likely.   \n",
       "252                                                                                                                                                     mattress stores\\ncarwashes\\npharmacies\\nstorage cubes   \n",
       "1010                                                                                                               https://www.theonion.com/super-bowl-cincinnati-residents-take-solace-after-loss-1848518448   \n",
       "1222                                                    i can confirm, this state sucks. the north is cold as fuck and the south is riddled with used heroin needles. the only thing that i enjoy is mohican.   \n",
       "674                                                                                                                                                      just a suggestion, i dont know how or i would do it!   \n",
       "974   coming from a 24 ur old female so. cal resident\\n\\nthe stories i hear that is unbelievable or utterly disturbing/disgusting. they just keep coming. what the fuck is wrong with ohio? \\n\\nfrom a spi...   \n",
       "747                                                                                                                                                                                                 [deleted]   \n",
       "242                                                                                                                                                                                                             \n",
       "1194  there are many forms of torture. from water boarding to electrocution. but none are worse than the form of torture i had to endure. i endured the worst forms of physical and mental torture. \\n\\nmy...   \n",
       "540                                                                                                                                                       \\n\\n[view poll](https://www.reddit.com/poll/nykrjo)   \n",
       "1069                                                                                                                                     at being the worst state in the entire world. get rid of it already.   \n",
       "241                                                                                                                                                                                        seriously….anybody   \n",
       "612                                                                                                                                                         why make a sub about something that doesn’t exist   \n",
       "642                                                                                                                                                                                                             \n",
       "769                                                                                                                                                                                                             \n",
       "964   just today i had one egomaniac try to put me down and shame me in front of the entire shop. all he did was piss me off and prove my theory that no one on that shift can be trusted. on the bike rid...   \n",
       "690   just finished my guide to filing your weekly claim, hopefully this helps out a fellow ohioan out there!\\n\\n[unofficial guide to filing weekly claims on ohio unemployment](https://docs.google.com/d...   \n",
       "825                                                                                                                                                                                                             \n",
       "1032  fuck hamilton and hamilton accents. goshen is a shit show, centerville/dayton is full of drug dealers and freaks. columbus is boring, if you’re proud of being from there, i’m sorry pal. steubenvil...   \n",
       "160                                                                                                                                                                                                             \n",
       "663                                                                                                                                                                                                             \n",
       "216                                                                                                             my daughter needs new glasses but can’t find an office that will take her medicaid insurance.   \n",
       "466                                                                                                                                                                                                             \n",
       "555                                                                                                                                                                                                 [deleted]   \n",
       "1159                                                                                                                                                                    no explanation here. all in the title   \n",
       "1136                                              i want to see where the most concentrated hate is. sound off in the comments if your state isn’t listed.\\n\\n[view poll](https://www.reddit.com/poll/inds4l)   \n",
       "1106  i’m from michigan. i live about an hour away from ohio and hate it. as do most people from michigan.\\n\\nthe reason why i think ohio sucks is firstly for michigan pride. our states are like rivals ...   \n",
       "726   the draft last night had me thinking about this, i’m from cleveland but have lived in columbus and spend a great deal of time in cincy visiting friends. i like both, though maybe not as much as my...   \n",
       "1103                                                       it’s a non-progressive mediocre pit of doom. i can’t wait until i can move to the west coast or new york. at least i live in the best part of ohio   \n",
       "\n",
       "      preds  true  \n",
       "20        1     0  \n",
       "992       0     1  \n",
       "372       1     0  \n",
       "805       1     0  \n",
       "1199      0     1  \n",
       "1233      0     1  \n",
       "308       1     0  \n",
       "1005      0     1  \n",
       "600       1     0  \n",
       "492       1     0  \n",
       "1161      0     1  \n",
       "98        1     0  \n",
       "455       1     0  \n",
       "646       1     0  \n",
       "724       1     0  \n",
       "343       1     0  \n",
       "476       1     0  \n",
       "1122      0     1  \n",
       "816       1     0  \n",
       "21        1     0  \n",
       "134       1     0  \n",
       "330       1     0  \n",
       "1191      0     1  \n",
       "392       1     0  \n",
       "252       1     0  \n",
       "1010      0     1  \n",
       "1222      0     1  \n",
       "674       1     0  \n",
       "974       0     1  \n",
       "747       1     0  \n",
       "242       1     0  \n",
       "1194      0     1  \n",
       "540       1     0  \n",
       "1069      0     1  \n",
       "241       1     0  \n",
       "612       1     0  \n",
       "642       1     0  \n",
       "769       1     0  \n",
       "964       0     1  \n",
       "690       1     0  \n",
       "825       1     0  \n",
       "1032      0     1  \n",
       "160       1     0  \n",
       "663       1     0  \n",
       "216       1     0  \n",
       "466       1     0  \n",
       "555       1     0  \n",
       "1159      0     1  \n",
       "1136      0     1  \n",
       "1106      0     1  \n",
       "726       1     0  \n",
       "1103      0     1  "
      ]
     },
     "execution_count": 50,
     "metadata": {},
     "output_type": "execute_result"
    }
   ],
   "source": [
    "misclassify(tfvec_gboost)"
   ]
  },
  {
   "cell_type": "code",
   "execution_count": 51,
   "metadata": {},
   "outputs": [
    {
     "name": "stdout",
     "output_type": "stream",
     "text": [
      "This model had 52 misclassifications.\n",
      "This model had 54 misclassifications.\n",
      "This model had 55 misclassifications.\n",
      "This model had 58 misclassifications.\n"
     ]
    },
    {
     "data": {
      "text/plain": [
       "(219, 3)"
      ]
     },
     "execution_count": 51,
     "metadata": {},
     "output_type": "execute_result"
    }
   ],
   "source": [
    "misclassify_df = pd.concat([misclassify(tfvec_gboost), misclassify(cvec_ada), misclassify(tfvec_bag_pipe), misclassify(cvec_rf)])\n",
    "misclassify_df.shape"
   ]
  },
  {
   "cell_type": "code",
   "execution_count": 52,
   "metadata": {},
   "outputs": [
    {
     "data": {
      "text/plain": [
       "20     4\n",
       "747    4\n",
       "330    4\n",
       "392    4\n",
       "252    4\n",
       "      ..\n",
       "313    1\n",
       "862    1\n",
       "674    1\n",
       "216    1\n",
       "502    1\n",
       "Length: 78, dtype: int64"
      ]
     },
     "execution_count": 52,
     "metadata": {},
     "output_type": "execute_result"
    }
   ],
   "source": [
    "misclassify_df.index.value_counts()"
   ]
  },
  {
   "cell_type": "code",
   "execution_count": 53,
   "metadata": {},
   "outputs": [],
   "source": [
    "misclassify_df['count'] = misclassify_df.index.value_counts()"
   ]
  },
  {
   "cell_type": "code",
   "execution_count": 68,
   "metadata": {},
   "outputs": [
    {
     "data": {
      "text/html": [
       "<div>\n",
       "<style scoped>\n",
       "    .dataframe tbody tr th:only-of-type {\n",
       "        vertical-align: middle;\n",
       "    }\n",
       "\n",
       "    .dataframe tbody tr th {\n",
       "        vertical-align: top;\n",
       "    }\n",
       "\n",
       "    .dataframe thead th {\n",
       "        text-align: right;\n",
       "    }\n",
       "</style>\n",
       "<table border=\"1\" class=\"dataframe\">\n",
       "  <thead>\n",
       "    <tr style=\"text-align: right;\">\n",
       "      <th></th>\n",
       "      <th>post_text</th>\n",
       "      <th>preds</th>\n",
       "      <th>true</th>\n",
       "      <th>count</th>\n",
       "    </tr>\n",
       "  </thead>\n",
       "  <tbody>\n",
       "    <tr>\n",
       "      <th>20</th>\n",
       "      <td></td>\n",
       "      <td>1</td>\n",
       "      <td>0</td>\n",
       "      <td>4</td>\n",
       "    </tr>\n",
       "    <tr>\n",
       "      <th>992</th>\n",
       "      <td>[https://energynews.us/2022/04/18/dark-money-helped-ohio-utilities-subsidize-coal-plants-delaying-action-on-climate-change-at-ratepayers-expense/](https://energynews.us/2022/04/18/dark-money-helpe...</td>\n",
       "      <td>0</td>\n",
       "      <td>1</td>\n",
       "      <td>4</td>\n",
       "    </tr>\n",
       "    <tr>\n",
       "      <th>805</th>\n",
       "      <td>is michigan r bitch now i’m college fb</td>\n",
       "      <td>1</td>\n",
       "      <td>0</td>\n",
       "      <td>4</td>\n",
       "    </tr>\n",
       "    <tr>\n",
       "      <th>1199</th>\n",
       "      <td>[https://www.nbcnews.com/news/us-news/frantic-parents-fear-kids-after-radioactive-contamination-found-ohio-middle-n1005771](https://www.nbcnews.com/news/us-news/frantic-parents-fear-kids-after-ra...</td>\n",
       "      <td>0</td>\n",
       "      <td>1</td>\n",
       "      <td>3</td>\n",
       "    </tr>\n",
       "    <tr>\n",
       "      <th>308</th>\n",
       "      <td>popular vote</td>\n",
       "      <td>1</td>\n",
       "      <td>0</td>\n",
       "      <td>4</td>\n",
       "    </tr>\n",
       "    <tr>\n",
       "      <th>1005</th>\n",
       "      <td>for reference i work for um and gave my mother in law a maze and blue winter jacket. she still lives in ohio because we haven't been able to find her a suitable place near us in michigan. she walk...</td>\n",
       "      <td>0</td>\n",
       "      <td>1</td>\n",
       "      <td>4</td>\n",
       "    </tr>\n",
       "    <tr>\n",
       "      <th>1161</th>\n",
       "      <td>the title of this show speaks for itself.\\n[south of nowhere]\\n(https://m.imdb.com/title/tt0462139/)</td>\n",
       "      <td>0</td>\n",
       "      <td>1</td>\n",
       "      <td>4</td>\n",
       "    </tr>\n",
       "    <tr>\n",
       "      <th>98</th>\n",
       "      <td>i'm here for a week 😭😭</td>\n",
       "      <td>1</td>\n",
       "      <td>0</td>\n",
       "      <td>4</td>\n",
       "    </tr>\n",
       "    <tr>\n",
       "      <th>476</th>\n",
       "      <td>hopefully some native of macedonia knows the answer.</td>\n",
       "      <td>1</td>\n",
       "      <td>0</td>\n",
       "      <td>3</td>\n",
       "    </tr>\n",
       "    <tr>\n",
       "      <th>1122</th>\n",
       "      <td>jesus christ.  i don't know if anyone here is a fan of pro wrestling, but the community has imploded over the last week or so.  just google\"#speakingout\", or head over to r/squaredcircle and read ...</td>\n",
       "      <td>0</td>\n",
       "      <td>1</td>\n",
       "      <td>4</td>\n",
       "    </tr>\n",
       "    <tr>\n",
       "      <th>330</th>\n",
       "      <td>&amp;amp;#x200b;\\n\\nhttps://preview.redd.it/th0drdlxmzq81.png?width=1293&amp;amp;format=png&amp;amp;auto=webp&amp;amp;s=0a10d058500b99e2227c2c5d11430f0a0b5bba64</td>\n",
       "      <td>1</td>\n",
       "      <td>0</td>\n",
       "      <td>4</td>\n",
       "    </tr>\n",
       "    <tr>\n",
       "      <th>1191</th>\n",
       "      <td>need to die</td>\n",
       "      <td>0</td>\n",
       "      <td>1</td>\n",
       "      <td>3</td>\n",
       "    </tr>\n",
       "    <tr>\n",
       "      <th>392</th>\n",
       "      <td>dinner most likely.</td>\n",
       "      <td>1</td>\n",
       "      <td>0</td>\n",
       "      <td>4</td>\n",
       "    </tr>\n",
       "    <tr>\n",
       "      <th>252</th>\n",
       "      <td>mattress stores\\ncarwashes\\npharmacies\\nstorage cubes</td>\n",
       "      <td>1</td>\n",
       "      <td>0</td>\n",
       "      <td>4</td>\n",
       "    </tr>\n",
       "    <tr>\n",
       "      <th>1010</th>\n",
       "      <td>https://www.theonion.com/super-bowl-cincinnati-residents-take-solace-after-loss-1848518448</td>\n",
       "      <td>0</td>\n",
       "      <td>1</td>\n",
       "      <td>3</td>\n",
       "    </tr>\n",
       "    <tr>\n",
       "      <th>1222</th>\n",
       "      <td>i can confirm, this state sucks. the north is cold as fuck and the south is riddled with used heroin needles. the only thing that i enjoy is mohican.</td>\n",
       "      <td>0</td>\n",
       "      <td>1</td>\n",
       "      <td>4</td>\n",
       "    </tr>\n",
       "    <tr>\n",
       "      <th>974</th>\n",
       "      <td>coming from a 24 ur old female so. cal resident\\n\\nthe stories i hear that is unbelievable or utterly disturbing/disgusting. they just keep coming. what the fuck is wrong with ohio? \\n\\nfrom a spi...</td>\n",
       "      <td>0</td>\n",
       "      <td>1</td>\n",
       "      <td>4</td>\n",
       "    </tr>\n",
       "    <tr>\n",
       "      <th>747</th>\n",
       "      <td>[deleted]</td>\n",
       "      <td>1</td>\n",
       "      <td>0</td>\n",
       "      <td>4</td>\n",
       "    </tr>\n",
       "    <tr>\n",
       "      <th>1194</th>\n",
       "      <td>there are many forms of torture. from water boarding to electrocution. but none are worse than the form of torture i had to endure. i endured the worst forms of physical and mental torture. \\n\\nmy...</td>\n",
       "      <td>0</td>\n",
       "      <td>1</td>\n",
       "      <td>4</td>\n",
       "    </tr>\n",
       "    <tr>\n",
       "      <th>540</th>\n",
       "      <td>\\n\\n[view poll](https://www.reddit.com/poll/nykrjo)</td>\n",
       "      <td>1</td>\n",
       "      <td>0</td>\n",
       "      <td>3</td>\n",
       "    </tr>\n",
       "    <tr>\n",
       "      <th>1069</th>\n",
       "      <td>at being the worst state in the entire world. get rid of it already.</td>\n",
       "      <td>0</td>\n",
       "      <td>1</td>\n",
       "      <td>3</td>\n",
       "    </tr>\n",
       "    <tr>\n",
       "      <th>241</th>\n",
       "      <td>seriously….anybody</td>\n",
       "      <td>1</td>\n",
       "      <td>0</td>\n",
       "      <td>4</td>\n",
       "    </tr>\n",
       "    <tr>\n",
       "      <th>612</th>\n",
       "      <td>why make a sub about something that doesn’t exist</td>\n",
       "      <td>1</td>\n",
       "      <td>0</td>\n",
       "      <td>4</td>\n",
       "    </tr>\n",
       "    <tr>\n",
       "      <th>964</th>\n",
       "      <td>just today i had one egomaniac try to put me down and shame me in front of the entire shop. all he did was piss me off and prove my theory that no one on that shift can be trusted. on the bike rid...</td>\n",
       "      <td>0</td>\n",
       "      <td>1</td>\n",
       "      <td>3</td>\n",
       "    </tr>\n",
       "    <tr>\n",
       "      <th>690</th>\n",
       "      <td>just finished my guide to filing your weekly claim, hopefully this helps out a fellow ohioan out there!\\n\\n[unofficial guide to filing weekly claims on ohio unemployment](https://docs.google.com/d...</td>\n",
       "      <td>1</td>\n",
       "      <td>0</td>\n",
       "      <td>3</td>\n",
       "    </tr>\n",
       "  </tbody>\n",
       "</table>\n",
       "</div>"
      ],
      "text/plain": [
       "                                                                                                                                                                                                    post_text  \\\n",
       "20                                                                                                                                                                                                              \n",
       "992   [https://energynews.us/2022/04/18/dark-money-helped-ohio-utilities-subsidize-coal-plants-delaying-action-on-climate-change-at-ratepayers-expense/](https://energynews.us/2022/04/18/dark-money-helpe...   \n",
       "805                                                                                                                                                                    is michigan r bitch now i’m college fb   \n",
       "1199   [https://www.nbcnews.com/news/us-news/frantic-parents-fear-kids-after-radioactive-contamination-found-ohio-middle-n1005771](https://www.nbcnews.com/news/us-news/frantic-parents-fear-kids-after-ra...   \n",
       "308                                                                                                                                                                                              popular vote   \n",
       "1005  for reference i work for um and gave my mother in law a maze and blue winter jacket. she still lives in ohio because we haven't been able to find her a suitable place near us in michigan. she walk...   \n",
       "1161                                                                                                     the title of this show speaks for itself.\\n[south of nowhere]\\n(https://m.imdb.com/title/tt0462139/)   \n",
       "98                                                                                                                                                                                     i'm here for a week 😭😭   \n",
       "476                                                                                                                                                      hopefully some native of macedonia knows the answer.   \n",
       "1122  jesus christ.  i don't know if anyone here is a fan of pro wrestling, but the community has imploded over the last week or so.  just google\"#speakingout\", or head over to r/squaredcircle and read ...   \n",
       "330                                                          &amp;#x200b;\\n\\nhttps://preview.redd.it/th0drdlxmzq81.png?width=1293&amp;format=png&amp;auto=webp&amp;s=0a10d058500b99e2227c2c5d11430f0a0b5bba64   \n",
       "1191                                                                                                                                                                                              need to die   \n",
       "392                                                                                                                                                                                       dinner most likely.   \n",
       "252                                                                                                                                                     mattress stores\\ncarwashes\\npharmacies\\nstorage cubes   \n",
       "1010                                                                                                               https://www.theonion.com/super-bowl-cincinnati-residents-take-solace-after-loss-1848518448   \n",
       "1222                                                    i can confirm, this state sucks. the north is cold as fuck and the south is riddled with used heroin needles. the only thing that i enjoy is mohican.   \n",
       "974   coming from a 24 ur old female so. cal resident\\n\\nthe stories i hear that is unbelievable or utterly disturbing/disgusting. they just keep coming. what the fuck is wrong with ohio? \\n\\nfrom a spi...   \n",
       "747                                                                                                                                                                                                 [deleted]   \n",
       "1194  there are many forms of torture. from water boarding to electrocution. but none are worse than the form of torture i had to endure. i endured the worst forms of physical and mental torture. \\n\\nmy...   \n",
       "540                                                                                                                                                       \\n\\n[view poll](https://www.reddit.com/poll/nykrjo)   \n",
       "1069                                                                                                                                     at being the worst state in the entire world. get rid of it already.   \n",
       "241                                                                                                                                                                                        seriously….anybody   \n",
       "612                                                                                                                                                         why make a sub about something that doesn’t exist   \n",
       "964   just today i had one egomaniac try to put me down and shame me in front of the entire shop. all he did was piss me off and prove my theory that no one on that shift can be trusted. on the bike rid...   \n",
       "690   just finished my guide to filing your weekly claim, hopefully this helps out a fellow ohioan out there!\\n\\n[unofficial guide to filing weekly claims on ohio unemployment](https://docs.google.com/d...   \n",
       "\n",
       "      preds  true  count  \n",
       "20        1     0      4  \n",
       "992       0     1      4  \n",
       "805       1     0      4  \n",
       "1199      0     1      3  \n",
       "308       1     0      4  \n",
       "1005      0     1      4  \n",
       "1161      0     1      4  \n",
       "98        1     0      4  \n",
       "476       1     0      3  \n",
       "1122      0     1      4  \n",
       "330       1     0      4  \n",
       "1191      0     1      3  \n",
       "392       1     0      4  \n",
       "252       1     0      4  \n",
       "1010      0     1      3  \n",
       "1222      0     1      4  \n",
       "974       0     1      4  \n",
       "747       1     0      4  \n",
       "1194      0     1      4  \n",
       "540       1     0      3  \n",
       "1069      0     1      3  \n",
       "241       1     0      4  \n",
       "612       1     0      4  \n",
       "964       0     1      3  \n",
       "690       1     0      3  "
      ]
     },
     "execution_count": 68,
     "metadata": {},
     "output_type": "execute_result"
    }
   ],
   "source": [
    "three_plus_times = misclassify_df[misclassify_df['count'] > 2]\n",
    "three_plus_times.drop_duplicates(subset='post_text', inplace=True)\n",
    "three_plus_times.head(25)"
   ]
  },
  {
   "cell_type": "code",
   "execution_count": 67,
   "metadata": {},
   "outputs": [
    {
     "name": "stdout",
     "output_type": "stream",
     "text": [
      "1    137\n",
      "0     82\n",
      "Name: preds, dtype: int64\n",
      "0    137\n",
      "1     82\n",
      "Name: true, dtype: int64\n"
     ]
    }
   ],
   "source": [
    "print(misclassify_df['preds'].value_counts())\n",
    "print(misclassify_df['true'].value_counts())"
   ]
  },
  {
   "cell_type": "code",
   "execution_count": 72,
   "metadata": {},
   "outputs": [
    {
     "data": {
      "text/html": [
       "<div>\n",
       "<style scoped>\n",
       "    .dataframe tbody tr th:only-of-type {\n",
       "        vertical-align: middle;\n",
       "    }\n",
       "\n",
       "    .dataframe tbody tr th {\n",
       "        vertical-align: top;\n",
       "    }\n",
       "\n",
       "    .dataframe thead th {\n",
       "        text-align: right;\n",
       "    }\n",
       "</style>\n",
       "<table border=\"1\" class=\"dataframe\">\n",
       "  <thead>\n",
       "    <tr style=\"text-align: right;\">\n",
       "      <th></th>\n",
       "      <th>subreddit_class</th>\n",
       "      <th>title</th>\n",
       "      <th>selftext</th>\n",
       "      <th>author</th>\n",
       "      <th>title_word_count</th>\n",
       "      <th>selftext_word_count</th>\n",
       "    </tr>\n",
       "  </thead>\n",
       "  <tbody>\n",
       "    <tr>\n",
       "      <th>1069</th>\n",
       "      <td>1</td>\n",
       "      <td>ohio is actually the best</td>\n",
       "      <td>at being the worst state in the entire world. get rid of it already.</td>\n",
       "      <td>parzival1337</td>\n",
       "      <td>5</td>\n",
       "      <td>14</td>\n",
       "    </tr>\n",
       "  </tbody>\n",
       "</table>\n",
       "</div>"
      ],
      "text/plain": [
       "      subreddit_class                      title  \\\n",
       "1069                1  ohio is actually the best   \n",
       "\n",
       "                                                                  selftext  \\\n",
       "1069  at being the worst state in the entire world. get rid of it already.   \n",
       "\n",
       "            author  title_word_count  selftext_word_count  \n",
       "1069  parzival1337                 5                   14  "
      ]
     },
     "execution_count": 72,
     "metadata": {},
     "output_type": "execute_result"
    }
   ],
   "source": [
    "reddit[reddit['selftext'] == 'at being the worst state in the entire world. get rid of it already.']"
   ]
  },
  {
   "cell_type": "markdown",
   "metadata": {},
   "source": [
    "Most misclassifications here seem to be coming from urls left in the dataframe, as well as empty selftexts and those filled with [deleted]. Based on the above counts, we can see that most errors made by the models are incorrect IHateOhio predictions, which should actually be Ohio classifications. This makes sense in that a lot of these are vague for a machine - links, nulls, and deleted captions are all relatively neutral expressions, which explains why the models continuously have a hard time with the same ones. \n",
    "\n",
    "The posts that do not have any of the three components mentioned above seem like they should be easier for models to correctly guess the classifications for, but the language in a few is also confusing for a model. For instance, the post \"i can confirm, this state sucks. the north is cold as fuck and the south is riddled with used heroin needles. the only thing that i enjoy is mohican\" is pretty clear to a human (who speaks English) reading it that this person is  not fond of Ohio. However, the post was misclassified in all four of the models tested, and likely more models above. The reason why is difficult to speculate, but I think the one \"enjoy\" in the last sentence may be what is throwing the models off. \n",
    "\n",
    "Another issue in the model is sarcasm. The models do not understand tone or intention, so a sarcastic comment like the one shown above (also split between title and selftext, making the model read each statement separately) is going to be taken literally and misclassified.\n",
    "\n",
    "In future models, I would try to account for these issues in the model by:\n",
    "1. Removing URLs, blanks, and any other posts that are not relevant to the problem statement.\n",
    "2. Add my own stop words to give the models a better understanding of what to look for and what to ignore.\n",
    "3. Instead of splitting the title and selftext sections and scoring separately, I'd be curious to see if combining the two would lead to a more cohesive message for the model and therefore, higher scores."
   ]
  },
  {
   "cell_type": "markdown",
   "metadata": {},
   "source": [
    "---\n",
    "\n",
    "## Model Evaluation"
   ]
  },
  {
   "cell_type": "code",
   "execution_count": 57,
   "metadata": {},
   "outputs": [
    {
     "data": {
      "text/html": [
       "<div>\n",
       "<style scoped>\n",
       "    .dataframe tbody tr th:only-of-type {\n",
       "        vertical-align: middle;\n",
       "    }\n",
       "\n",
       "    .dataframe tbody tr th {\n",
       "        vertical-align: top;\n",
       "    }\n",
       "\n",
       "    .dataframe thead th {\n",
       "        text-align: right;\n",
       "    }\n",
       "</style>\n",
       "<table border=\"1\" class=\"dataframe\">\n",
       "  <thead>\n",
       "    <tr style=\"text-align: right;\">\n",
       "      <th></th>\n",
       "      <th>model_used</th>\n",
       "      <th>title_train_score</th>\n",
       "      <th>title_test_score</th>\n",
       "      <th>selftext_train_score</th>\n",
       "      <th>selftext_test_score</th>\n",
       "    </tr>\n",
       "  </thead>\n",
       "  <tbody>\n",
       "    <tr>\n",
       "      <th>0</th>\n",
       "      <td>CVec Logistic Regression</td>\n",
       "      <td>0.956551</td>\n",
       "      <td>0.756684</td>\n",
       "      <td>0.854947</td>\n",
       "      <td>0.863636</td>\n",
       "    </tr>\n",
       "    <tr>\n",
       "      <th>1</th>\n",
       "      <td>TfVec Logistic Regression</td>\n",
       "      <td>0.920455</td>\n",
       "      <td>0.732620</td>\n",
       "      <td>0.871658</td>\n",
       "      <td>0.847594</td>\n",
       "    </tr>\n",
       "    <tr>\n",
       "      <th>2</th>\n",
       "      <td>CVec Mn Naive Bayes</td>\n",
       "      <td>0.947861</td>\n",
       "      <td>0.743316</td>\n",
       "      <td>0.596257</td>\n",
       "      <td>0.526738</td>\n",
       "    </tr>\n",
       "    <tr>\n",
       "      <th>3</th>\n",
       "      <td>TfVec Mn Naive Bayes</td>\n",
       "      <td>0.949198</td>\n",
       "      <td>0.740642</td>\n",
       "      <td>0.558824</td>\n",
       "      <td>0.529412</td>\n",
       "    </tr>\n",
       "    <tr>\n",
       "      <th>4</th>\n",
       "      <td>CVec KNN</td>\n",
       "      <td>0.645053</td>\n",
       "      <td>0.537433</td>\n",
       "      <td>0.542781</td>\n",
       "      <td>0.513369</td>\n",
       "    </tr>\n",
       "    <tr>\n",
       "      <th>5</th>\n",
       "      <td>TfVec KNN</td>\n",
       "      <td>0.633021</td>\n",
       "      <td>0.545455</td>\n",
       "      <td>0.491979</td>\n",
       "      <td>0.483957</td>\n",
       "    </tr>\n",
       "    <tr>\n",
       "      <th>6</th>\n",
       "      <td>CVec Decision Tree</td>\n",
       "      <td>0.995989</td>\n",
       "      <td>0.684492</td>\n",
       "      <td>0.928476</td>\n",
       "      <td>0.850267</td>\n",
       "    </tr>\n",
       "    <tr>\n",
       "      <th>7</th>\n",
       "      <td>TfVec Decision Tree</td>\n",
       "      <td>0.995989</td>\n",
       "      <td>0.644385</td>\n",
       "      <td>0.928476</td>\n",
       "      <td>0.812834</td>\n",
       "    </tr>\n",
       "    <tr>\n",
       "      <th>8</th>\n",
       "      <td>CVec Random Forest</td>\n",
       "      <td>0.995989</td>\n",
       "      <td>0.754011</td>\n",
       "      <td>0.928476</td>\n",
       "      <td>0.844920</td>\n",
       "    </tr>\n",
       "    <tr>\n",
       "      <th>9</th>\n",
       "      <td>TfVec Random Forest</td>\n",
       "      <td>0.995989</td>\n",
       "      <td>0.727273</td>\n",
       "      <td>0.928476</td>\n",
       "      <td>0.839572</td>\n",
       "    </tr>\n",
       "    <tr>\n",
       "      <th>10</th>\n",
       "      <td>CVec Bagging</td>\n",
       "      <td>0.978610</td>\n",
       "      <td>0.713904</td>\n",
       "      <td>0.912433</td>\n",
       "      <td>0.858289</td>\n",
       "    </tr>\n",
       "    <tr>\n",
       "      <th>11</th>\n",
       "      <td>TfVec Bagging</td>\n",
       "      <td>0.983957</td>\n",
       "      <td>0.700535</td>\n",
       "      <td>0.913102</td>\n",
       "      <td>0.852941</td>\n",
       "    </tr>\n",
       "    <tr>\n",
       "      <th>12</th>\n",
       "      <td>CVec AdaBoosting</td>\n",
       "      <td>0.750000</td>\n",
       "      <td>0.671123</td>\n",
       "      <td>0.862968</td>\n",
       "      <td>0.855615</td>\n",
       "    </tr>\n",
       "    <tr>\n",
       "      <th>13</th>\n",
       "      <td>TfVec AdaBoosting</td>\n",
       "      <td>0.764706</td>\n",
       "      <td>0.681818</td>\n",
       "      <td>0.881684</td>\n",
       "      <td>0.847594</td>\n",
       "    </tr>\n",
       "    <tr>\n",
       "      <th>14</th>\n",
       "      <td>CVec AdaBoosting w/ LogReg</td>\n",
       "      <td>0.733289</td>\n",
       "      <td>0.705882</td>\n",
       "      <td>0.867647</td>\n",
       "      <td>0.831551</td>\n",
       "    </tr>\n",
       "    <tr>\n",
       "      <th>15</th>\n",
       "      <td>TfVec AdaBoosting w/ LogReg</td>\n",
       "      <td>0.685160</td>\n",
       "      <td>0.679144</td>\n",
       "      <td>0.814171</td>\n",
       "      <td>0.836898</td>\n",
       "    </tr>\n",
       "    <tr>\n",
       "      <th>16</th>\n",
       "      <td>CVec Gradient Boosting</td>\n",
       "      <td>0.799465</td>\n",
       "      <td>0.689840</td>\n",
       "      <td>0.878342</td>\n",
       "      <td>0.858289</td>\n",
       "    </tr>\n",
       "    <tr>\n",
       "      <th>17</th>\n",
       "      <td>TfVec Gradient Boosting</td>\n",
       "      <td>0.822193</td>\n",
       "      <td>0.705882</td>\n",
       "      <td>0.897727</td>\n",
       "      <td>0.860963</td>\n",
       "    </tr>\n",
       "  </tbody>\n",
       "</table>\n",
       "</div>"
      ],
      "text/plain": [
       "                     model_used  title_train_score  title_test_score  \\\n",
       "0      CVec Logistic Regression           0.956551          0.756684   \n",
       "1     TfVec Logistic Regression           0.920455          0.732620   \n",
       "2           CVec Mn Naive Bayes           0.947861          0.743316   \n",
       "3          TfVec Mn Naive Bayes           0.949198          0.740642   \n",
       "4                      CVec KNN           0.645053          0.537433   \n",
       "5                     TfVec KNN           0.633021          0.545455   \n",
       "6            CVec Decision Tree           0.995989          0.684492   \n",
       "7           TfVec Decision Tree           0.995989          0.644385   \n",
       "8            CVec Random Forest           0.995989          0.754011   \n",
       "9           TfVec Random Forest           0.995989          0.727273   \n",
       "10                 CVec Bagging           0.978610          0.713904   \n",
       "11                TfVec Bagging           0.983957          0.700535   \n",
       "12             CVec AdaBoosting           0.750000          0.671123   \n",
       "13            TfVec AdaBoosting           0.764706          0.681818   \n",
       "14   CVec AdaBoosting w/ LogReg           0.733289          0.705882   \n",
       "15  TfVec AdaBoosting w/ LogReg           0.685160          0.679144   \n",
       "16       CVec Gradient Boosting           0.799465          0.689840   \n",
       "17      TfVec Gradient Boosting           0.822193          0.705882   \n",
       "\n",
       "    selftext_train_score  selftext_test_score  \n",
       "0               0.854947             0.863636  \n",
       "1               0.871658             0.847594  \n",
       "2               0.596257             0.526738  \n",
       "3               0.558824             0.529412  \n",
       "4               0.542781             0.513369  \n",
       "5               0.491979             0.483957  \n",
       "6               0.928476             0.850267  \n",
       "7               0.928476             0.812834  \n",
       "8               0.928476             0.844920  \n",
       "9               0.928476             0.839572  \n",
       "10              0.912433             0.858289  \n",
       "11              0.913102             0.852941  \n",
       "12              0.862968             0.855615  \n",
       "13              0.881684             0.847594  \n",
       "14              0.867647             0.831551  \n",
       "15              0.814171             0.836898  \n",
       "16              0.878342             0.858289  \n",
       "17              0.897727             0.860963  "
      ]
     },
     "execution_count": 57,
     "metadata": {},
     "output_type": "execute_result"
    }
   ],
   "source": [
    "model_trials_df.to_csv('../datasets/model_trials.csv')\n",
    "\n",
    "model_trials_df"
   ]
  },
  {
   "cell_type": "code",
   "execution_count": 58,
   "metadata": {},
   "outputs": [
    {
     "data": {
      "text/html": [
       "<div>\n",
       "<style scoped>\n",
       "    .dataframe tbody tr th:only-of-type {\n",
       "        vertical-align: middle;\n",
       "    }\n",
       "\n",
       "    .dataframe tbody tr th {\n",
       "        vertical-align: top;\n",
       "    }\n",
       "\n",
       "    .dataframe thead th {\n",
       "        text-align: right;\n",
       "    }\n",
       "</style>\n",
       "<table border=\"1\" class=\"dataframe\">\n",
       "  <thead>\n",
       "    <tr style=\"text-align: right;\">\n",
       "      <th></th>\n",
       "      <th>title_train_score</th>\n",
       "      <th>title_test_score</th>\n",
       "      <th>selftext_train_score</th>\n",
       "      <th>selftext_test_score</th>\n",
       "    </tr>\n",
       "  </thead>\n",
       "  <tbody>\n",
       "    <tr>\n",
       "      <th>count</th>\n",
       "      <td>18.000000</td>\n",
       "      <td>18.000000</td>\n",
       "      <td>18.000000</td>\n",
       "      <td>18.000000</td>\n",
       "    </tr>\n",
       "    <tr>\n",
       "      <th>mean</th>\n",
       "      <td>0.864082</td>\n",
       "      <td>0.689691</td>\n",
       "      <td>0.814357</td>\n",
       "      <td>0.773024</td>\n",
       "    </tr>\n",
       "    <tr>\n",
       "      <th>std</th>\n",
       "      <td>0.133368</td>\n",
       "      <td>0.061913</td>\n",
       "      <td>0.151020</td>\n",
       "      <td>0.143579</td>\n",
       "    </tr>\n",
       "    <tr>\n",
       "      <th>min</th>\n",
       "      <td>0.633021</td>\n",
       "      <td>0.537433</td>\n",
       "      <td>0.491979</td>\n",
       "      <td>0.483957</td>\n",
       "    </tr>\n",
       "    <tr>\n",
       "      <th>25%</th>\n",
       "      <td>0.753676</td>\n",
       "      <td>0.679813</td>\n",
       "      <td>0.824365</td>\n",
       "      <td>0.817513</td>\n",
       "    </tr>\n",
       "    <tr>\n",
       "      <th>50%</th>\n",
       "      <td>0.934158</td>\n",
       "      <td>0.703209</td>\n",
       "      <td>0.875000</td>\n",
       "      <td>0.846257</td>\n",
       "    </tr>\n",
       "    <tr>\n",
       "      <th>75%</th>\n",
       "      <td>0.982620</td>\n",
       "      <td>0.731283</td>\n",
       "      <td>0.912934</td>\n",
       "      <td>0.854947</td>\n",
       "    </tr>\n",
       "    <tr>\n",
       "      <th>max</th>\n",
       "      <td>0.995989</td>\n",
       "      <td>0.756684</td>\n",
       "      <td>0.928476</td>\n",
       "      <td>0.863636</td>\n",
       "    </tr>\n",
       "  </tbody>\n",
       "</table>\n",
       "</div>"
      ],
      "text/plain": [
       "       title_train_score  title_test_score  selftext_train_score  \\\n",
       "count          18.000000         18.000000             18.000000   \n",
       "mean            0.864082          0.689691              0.814357   \n",
       "std             0.133368          0.061913              0.151020   \n",
       "min             0.633021          0.537433              0.491979   \n",
       "25%             0.753676          0.679813              0.824365   \n",
       "50%             0.934158          0.703209              0.875000   \n",
       "75%             0.982620          0.731283              0.912934   \n",
       "max             0.995989          0.756684              0.928476   \n",
       "\n",
       "       selftext_test_score  \n",
       "count            18.000000  \n",
       "mean              0.773024  \n",
       "std               0.143579  \n",
       "min               0.483957  \n",
       "25%               0.817513  \n",
       "50%               0.846257  \n",
       "75%               0.854947  \n",
       "max               0.863636  "
      ]
     },
     "execution_count": 58,
     "metadata": {},
     "output_type": "execute_result"
    }
   ],
   "source": [
    "model_trials_df.describe()"
   ]
  },
  {
   "cell_type": "markdown",
   "metadata": {},
   "source": [
    "The average accuracy among the test scores was 0.731, which is not as high as I'd like and indicates that there are misclassifications that can be tuned and, ideally, reclassified correctly.\n",
    "\n",
    "The highest mean score as well as the maximum score were both seen in the title train scores, which I think is mostly due to overfitting. The second highest mean score was seen in the selftext train scores, but this column also had the greatest standard devation. The title test score had the lowest mean of the four, but also had the least deviation from the mean.\n",
    "\n",
    "The only two models that performed better using the title column as X instead of selftext, as shown in the dataframe above and also in the colors of their confusion matrices, were Multinomial Naive Bayes and KNN. All other models either moderately or strongly preferred the selftext as X.\n",
    "\n",
    "Further, the test scores are, in my opinion, the most important when deciding which models to proceed with. As the selftext column had the highest average test score, this is how I'll be choosing which models to keep using with varied hyperparameters."
   ]
  },
  {
   "cell_type": "code",
   "execution_count": 59,
   "metadata": {},
   "outputs": [
    {
     "data": {
      "text/html": [
       "<div>\n",
       "<style scoped>\n",
       "    .dataframe tbody tr th:only-of-type {\n",
       "        vertical-align: middle;\n",
       "    }\n",
       "\n",
       "    .dataframe tbody tr th {\n",
       "        vertical-align: top;\n",
       "    }\n",
       "\n",
       "    .dataframe thead th {\n",
       "        text-align: right;\n",
       "    }\n",
       "</style>\n",
       "<table border=\"1\" class=\"dataframe\">\n",
       "  <thead>\n",
       "    <tr style=\"text-align: right;\">\n",
       "      <th></th>\n",
       "      <th>model_used</th>\n",
       "      <th>selftext_test_score</th>\n",
       "    </tr>\n",
       "  </thead>\n",
       "  <tbody>\n",
       "    <tr>\n",
       "      <th>0</th>\n",
       "      <td>CVec Logistic Regression</td>\n",
       "      <td>0.863636</td>\n",
       "    </tr>\n",
       "    <tr>\n",
       "      <th>17</th>\n",
       "      <td>TfVec Gradient Boosting</td>\n",
       "      <td>0.860963</td>\n",
       "    </tr>\n",
       "    <tr>\n",
       "      <th>10</th>\n",
       "      <td>CVec Bagging</td>\n",
       "      <td>0.858289</td>\n",
       "    </tr>\n",
       "    <tr>\n",
       "      <th>16</th>\n",
       "      <td>CVec Gradient Boosting</td>\n",
       "      <td>0.858289</td>\n",
       "    </tr>\n",
       "    <tr>\n",
       "      <th>12</th>\n",
       "      <td>CVec AdaBoosting</td>\n",
       "      <td>0.855615</td>\n",
       "    </tr>\n",
       "    <tr>\n",
       "      <th>11</th>\n",
       "      <td>TfVec Bagging</td>\n",
       "      <td>0.852941</td>\n",
       "    </tr>\n",
       "    <tr>\n",
       "      <th>6</th>\n",
       "      <td>CVec Decision Tree</td>\n",
       "      <td>0.850267</td>\n",
       "    </tr>\n",
       "    <tr>\n",
       "      <th>1</th>\n",
       "      <td>TfVec Logistic Regression</td>\n",
       "      <td>0.847594</td>\n",
       "    </tr>\n",
       "    <tr>\n",
       "      <th>13</th>\n",
       "      <td>TfVec AdaBoosting</td>\n",
       "      <td>0.847594</td>\n",
       "    </tr>\n",
       "    <tr>\n",
       "      <th>8</th>\n",
       "      <td>CVec Random Forest</td>\n",
       "      <td>0.844920</td>\n",
       "    </tr>\n",
       "  </tbody>\n",
       "</table>\n",
       "</div>"
      ],
      "text/plain": [
       "                   model_used  selftext_test_score\n",
       "0    CVec Logistic Regression             0.863636\n",
       "17    TfVec Gradient Boosting             0.860963\n",
       "10               CVec Bagging             0.858289\n",
       "16     CVec Gradient Boosting             0.858289\n",
       "12           CVec AdaBoosting             0.855615\n",
       "11              TfVec Bagging             0.852941\n",
       "6          CVec Decision Tree             0.850267\n",
       "1   TfVec Logistic Regression             0.847594\n",
       "13          TfVec AdaBoosting             0.847594\n",
       "8          CVec Random Forest             0.844920"
      ]
     },
     "execution_count": 59,
     "metadata": {},
     "output_type": "execute_result"
    }
   ],
   "source": [
    "model_trials_df[['model_used', 'selftext_test_score']].sort_values(by=['selftext_test_score'], ascending=False).head(10)"
   ]
  },
  {
   "cell_type": "markdown",
   "metadata": {},
   "source": [
    "Above are the top ten highest selftext test scores. We see an almost even split between CountVectorizer and Tfidf, which probably has less to do with the vectorizers themselves and more to do with the models that were using them.\n",
    "\n",
    "We also see quite a few repeats in here - Logistic Regression, Gradient Boosting, Bagging, and Ada Boosting (sans Logistic Regression) - meaning the same model showing up twice, once for each vectorizer. Moving into the model tuning, I'll be employing GridSearch to find the optimal hyperparameters and the highest-scoring model overall.\n",
    "\n",
    "I was incorrect in my earlier prediction that using the title as X would lead to better results. Despite the sentiment scores and missing values, selftext out-scored title by a wide margin in all but four models. \n",
    "\n",
    "However, based on the scores above, I do still believe that I'll be able to meet my problem statement goal building a final model that classifies with at least 85% accuracy."
   ]
  }
 ],
 "metadata": {
  "kernelspec": {
   "display_name": "Python 3.9.6 64-bit ('3.9.6')",
   "language": "python",
   "name": "python3"
  },
  "language_info": {
   "codemirror_mode": {
    "name": "ipython",
    "version": 3
   },
   "file_extension": ".py",
   "mimetype": "text/x-python",
   "name": "python",
   "nbconvert_exporter": "python",
   "pygments_lexer": "ipython3",
   "version": "3.9.6"
  },
  "orig_nbformat": 4,
  "vscode": {
   "interpreter": {
    "hash": "d3fbca8c5142a5f3fc0e150e2aa7dc992112775c37c59dc77ad7b753c4c0bceb"
   }
  }
 },
 "nbformat": 4,
 "nbformat_minor": 2
}
