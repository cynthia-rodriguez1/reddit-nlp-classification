{
 "cells": [
  {
   "cell_type": "markdown",
   "metadata": {},
   "source": [
    "# EDA and Preprocessing"
   ]
  },
  {
   "cell_type": "markdown",
   "metadata": {},
   "source": [
    "Here I'll be performing my initial exploratory analysis to get a feel for the data and see what some of the most common words and bigrams used in each subreddit page are.\n",
    "\n",
    "**Note: In this notebook, I will be removing most, if not all, of the URLs in the dataframe for the purposes of cleaning. There is a second version of this project located in the appendix files that does not have the URLs removed. Extracting the links in this notebook did decrease the train and test scores seen in almost all model trials, but hopefully resulted in cleaner data and better interpretations overall.**"
   ]
  },
  {
   "cell_type": "code",
   "execution_count": 1,
   "metadata": {},
   "outputs": [],
   "source": [
    "# Imports\n",
    "\n",
    "import pandas as pd\n",
    "import matplotlib.pyplot as plt\n",
    "import matplotlib.patches as mpatches\n",
    "import numpy as np\n",
    "import re\n",
    "import spacy\n",
    "import spacy.cli\n",
    "from sklearn.feature_extraction import text \n",
    "\n",
    "\n",
    "from sklearn.feature_extraction.text import CountVectorizer\n",
    "from vaderSentiment.vaderSentiment import SentimentIntensityAnalyzer\n",
    "import re\n",
    "\n",
    "pd.options.display.max_colwidth = 200"
   ]
  },
  {
   "cell_type": "code",
   "execution_count": 2,
   "metadata": {},
   "outputs": [
    {
     "name": "stdout",
     "output_type": "stream",
     "text": [
      "(1870, 89)\n"
     ]
    },
    {
     "data": {
      "text/html": [
       "<div>\n",
       "<style scoped>\n",
       "    .dataframe tbody tr th:only-of-type {\n",
       "        vertical-align: middle;\n",
       "    }\n",
       "\n",
       "    .dataframe tbody tr th {\n",
       "        vertical-align: top;\n",
       "    }\n",
       "\n",
       "    .dataframe thead th {\n",
       "        text-align: right;\n",
       "    }\n",
       "</style>\n",
       "<table border=\"1\" class=\"dataframe\">\n",
       "  <thead>\n",
       "    <tr style=\"text-align: right;\">\n",
       "      <th></th>\n",
       "      <th>subreddit</th>\n",
       "      <th>title</th>\n",
       "      <th>selftext</th>\n",
       "    </tr>\n",
       "  </thead>\n",
       "  <tbody>\n",
       "    <tr>\n",
       "      <th>0</th>\n",
       "      <td>Ohio</td>\n",
       "      <td>About the Donovan Lewis police shooting in Columbus.</td>\n",
       "      <td>Donovan reacted as naturally as anyone would when strangers burst open your bedroom door. There is inherent risk when serving a warrant and going through someone’s home unwelcomed. Cops need to re...</td>\n",
       "    </tr>\n",
       "    <tr>\n",
       "      <th>1</th>\n",
       "      <td>Ohio</td>\n",
       "      <td>The chokehold JD Vance has on my YouTube ads.</td>\n",
       "      <td>No matter how much you tell me about it, I’m not reading Hillbilly Elegy. But seriously, Tim Ryan needs to make an ad on there.</td>\n",
       "    </tr>\n",
       "    <tr>\n",
       "      <th>2</th>\n",
       "      <td>Ohio</td>\n",
       "      <td>Need wedding photographer plzzz</td>\n",
       "      <td>Hi everyone my fiancé and I booked a photographer last year for our wedding for 9/10/22 and we put a deposit down and signed a contract . The past 2 weeks we have called then emailed even txted an...</td>\n",
       "    </tr>\n",
       "    <tr>\n",
       "      <th>3</th>\n",
       "      <td>Ohio</td>\n",
       "      <td>Ranked choice voting?</td>\n",
       "      <td>Alaska seems to be doing well, when does Ohio follow.</td>\n",
       "    </tr>\n",
       "    <tr>\n",
       "      <th>4</th>\n",
       "      <td>Ohio</td>\n",
       "      <td>How long is the wait for a handgun purchased from Atlantic gun &amp;amp; tackle</td>\n",
       "      <td>Not sure if this is the right place to be asking. But I recently just purchased a handgun from Atlantic gun &amp;amp; tackle and they said I could get approved today in the next hour or it could be up...</td>\n",
       "    </tr>\n",
       "    <tr>\n",
       "      <th>1865</th>\n",
       "      <td>IHateOhio</td>\n",
       "      <td>Candle knows what’s up!</td>\n",
       "      <td>NaN</td>\n",
       "    </tr>\n",
       "    <tr>\n",
       "      <th>1866</th>\n",
       "      <td>IHateOhio</td>\n",
       "      <td>Caught this monstrous DiWhy in SE MI, cherry on top was the license plate</td>\n",
       "      <td>NaN</td>\n",
       "    </tr>\n",
       "    <tr>\n",
       "      <th>1867</th>\n",
       "      <td>IHateOhio</td>\n",
       "      <td>Cuyahoga named River of the Year</td>\n",
       "      <td>NaN</td>\n",
       "    </tr>\n",
       "    <tr>\n",
       "      <th>1868</th>\n",
       "      <td>IHateOhio</td>\n",
       "      <td>Cursed_tribute</td>\n",
       "      <td>NaN</td>\n",
       "    </tr>\n",
       "    <tr>\n",
       "      <th>1869</th>\n",
       "      <td>IHateOhio</td>\n",
       "      <td>I hate Ohio</td>\n",
       "      <td>NaN</td>\n",
       "    </tr>\n",
       "  </tbody>\n",
       "</table>\n",
       "</div>"
      ],
      "text/plain": [
       "      subreddit  \\\n",
       "0          Ohio   \n",
       "1          Ohio   \n",
       "2          Ohio   \n",
       "3          Ohio   \n",
       "4          Ohio   \n",
       "1865  IHateOhio   \n",
       "1866  IHateOhio   \n",
       "1867  IHateOhio   \n",
       "1868  IHateOhio   \n",
       "1869  IHateOhio   \n",
       "\n",
       "                                                                            title  \\\n",
       "0                            About the Donovan Lewis police shooting in Columbus.   \n",
       "1                                   The chokehold JD Vance has on my YouTube ads.   \n",
       "2                                                 Need wedding photographer plzzz   \n",
       "3                                                           Ranked choice voting?   \n",
       "4     How long is the wait for a handgun purchased from Atlantic gun &amp; tackle   \n",
       "1865                                                      Candle knows what’s up!   \n",
       "1866    Caught this monstrous DiWhy in SE MI, cherry on top was the license plate   \n",
       "1867                                             Cuyahoga named River of the Year   \n",
       "1868                                                               Cursed_tribute   \n",
       "1869                                                                  I hate Ohio   \n",
       "\n",
       "                                                                                                                                                                                                     selftext  \n",
       "0     Donovan reacted as naturally as anyone would when strangers burst open your bedroom door. There is inherent risk when serving a warrant and going through someone’s home unwelcomed. Cops need to re...  \n",
       "1                                                                             No matter how much you tell me about it, I’m not reading Hillbilly Elegy. But seriously, Tim Ryan needs to make an ad on there.  \n",
       "2     Hi everyone my fiancé and I booked a photographer last year for our wedding for 9/10/22 and we put a deposit down and signed a contract . The past 2 weeks we have called then emailed even txted an...  \n",
       "3                                                                                                                                                       Alaska seems to be doing well, when does Ohio follow.  \n",
       "4     Not sure if this is the right place to be asking. But I recently just purchased a handgun from Atlantic gun &amp; tackle and they said I could get approved today in the next hour or it could be up...  \n",
       "1865                                                                                                                                                                                                      NaN  \n",
       "1866                                                                                                                                                                                                      NaN  \n",
       "1867                                                                                                                                                                                                      NaN  \n",
       "1868                                                                                                                                                                                                      NaN  \n",
       "1869                                                                                                                                                                                                      NaN  "
      ]
     },
     "execution_count": 2,
     "metadata": {},
     "output_type": "execute_result"
    }
   ],
   "source": [
    "# Reading in the saved CSV file\n",
    "\n",
    "reddit = pd.read_csv('../datasets/reddit_all_columns_df.csv')\n",
    "reddit.drop(columns='Unnamed: 0', inplace=True)\n",
    "print(reddit.shape)\n",
    "reddit[['subreddit', 'title', 'selftext']].iloc[list(range(5)) + list(range(-5,0))]"
   ]
  },
  {
   "cell_type": "code",
   "execution_count": 3,
   "metadata": {},
   "outputs": [
    {
     "data": {
      "text/plain": [
       "Ohio         0.515508\n",
       "IHateOhio    0.484492\n",
       "Name: subreddit, dtype: float64"
      ]
     },
     "execution_count": 3,
     "metadata": {},
     "output_type": "execute_result"
    }
   ],
   "source": [
    "reddit['subreddit'].value_counts(normalize=True)"
   ]
  },
  {
   "cell_type": "code",
   "execution_count": 4,
   "metadata": {},
   "outputs": [
    {
     "name": "stdout",
     "output_type": "stream",
     "text": [
      "<class 'pandas.core.frame.DataFrame'>\n",
      "RangeIndex: 1870 entries, 0 to 1869\n",
      "Data columns (total 89 columns):\n",
      " #   Column                         Non-Null Count  Dtype  \n",
      "---  ------                         --------------  -----  \n",
      " 0   all_awardings                  1725 non-null   object \n",
      " 1   allow_live_comments            1676 non-null   object \n",
      " 2   author                         1870 non-null   object \n",
      " 3   author_flair_css_class         26 non-null     object \n",
      " 4   author_flair_richtext          1851 non-null   object \n",
      " 5   author_flair_text              207 non-null    object \n",
      " 6   author_flair_type              1851 non-null   object \n",
      " 7   author_fullname                1851 non-null   object \n",
      " 8   author_is_blocked              790 non-null    object \n",
      " 9   author_patreon_flair           1833 non-null   object \n",
      " 10  author_premium                 1522 non-null   object \n",
      " 11  awarders                       1627 non-null   object \n",
      " 12  can_mod_post                   1870 non-null   bool   \n",
      " 13  contest_mode                   1870 non-null   bool   \n",
      " 14  created_utc                    1870 non-null   int64  \n",
      " 15  domain                         1870 non-null   object \n",
      " 16  full_link                      1870 non-null   object \n",
      " 17  gildings                       1870 non-null   object \n",
      " 18  id                             1870 non-null   object \n",
      " 19  is_created_from_ads_ui         883 non-null    object \n",
      " 20  is_crosspostable               1870 non-null   bool   \n",
      " 21  is_meta                        1870 non-null   bool   \n",
      " 22  is_original_content            1870 non-null   bool   \n",
      " 23  is_reddit_media_domain         1870 non-null   bool   \n",
      " 24  is_robot_indexable             1868 non-null   object \n",
      " 25  is_self                        1870 non-null   bool   \n",
      " 26  is_video                       1870 non-null   bool   \n",
      " 27  link_flair_background_color    335 non-null    object \n",
      " 28  link_flair_richtext            1870 non-null   object \n",
      " 29  link_flair_text_color          1870 non-null   object \n",
      " 30  link_flair_type                1870 non-null   object \n",
      " 31  locked                         1870 non-null   bool   \n",
      " 32  media_only                     1870 non-null   bool   \n",
      " 33  no_follow                      1870 non-null   bool   \n",
      " 34  num_comments                   1870 non-null   int64  \n",
      " 35  num_crossposts                 1870 non-null   int64  \n",
      " 36  over_18                        1870 non-null   bool   \n",
      " 37  parent_whitelist_status        1272 non-null   object \n",
      " 38  permalink                      1870 non-null   object \n",
      " 39  pinned                         1870 non-null   bool   \n",
      " 40  pwls                           1272 non-null   float64\n",
      " 41  retrieved_on                   1870 non-null   int64  \n",
      " 42  score                          1870 non-null   int64  \n",
      " 43  selftext                       1082 non-null   object \n",
      " 44  send_replies                   1870 non-null   bool   \n",
      " 45  spoiler                        1870 non-null   bool   \n",
      " 46  stickied                       1870 non-null   bool   \n",
      " 47  subreddit                      1870 non-null   object \n",
      " 48  subreddit_id                   1870 non-null   object \n",
      " 49  subreddit_subscribers          1870 non-null   int64  \n",
      " 50  subreddit_type                 1870 non-null   object \n",
      " 51  thumbnail                      1870 non-null   object \n",
      " 52  title                          1870 non-null   object \n",
      " 53  total_awards_received          1725 non-null   float64\n",
      " 54  treatment_tags                 1404 non-null   object \n",
      " 55  upvote_ratio                   1303 non-null   float64\n",
      " 56  url                            1870 non-null   object \n",
      " 57  whitelist_status               1272 non-null   object \n",
      " 58  wls                            1272 non-null   float64\n",
      " 59  media_metadata                 37 non-null     object \n",
      " 60  post_hint                      626 non-null    object \n",
      " 61  preview                        626 non-null    object \n",
      " 62  thumbnail_height               569 non-null    float64\n",
      " 63  thumbnail_width                569 non-null    float64\n",
      " 64  author_flair_background_color  185 non-null    object \n",
      " 65  author_flair_template_id       202 non-null    object \n",
      " 66  author_flair_text_color        226 non-null    object \n",
      " 67  author_cakeday                 13 non-null     object \n",
      " 68  banned_by                      1 non-null      object \n",
      " 69  removed_by_category            22 non-null     object \n",
      " 70  edited                         2 non-null      float64\n",
      " 71  poll_data                      11 non-null     object \n",
      " 72  steward_reports                162 non-null    object \n",
      " 73  updated_utc                    171 non-null    float64\n",
      " 74  og_description                 0 non-null      float64\n",
      " 75  og_title                       0 non-null      float64\n",
      " 76  link_flair_css_class           4 non-null      object \n",
      " 77  link_flair_text                344 non-null    object \n",
      " 78  link_flair_template_id         340 non-null    object \n",
      " 79  gilded                         1 non-null      float64\n",
      " 80  crosspost_parent               233 non-null    object \n",
      " 81  crosspost_parent_list          233 non-null    object \n",
      " 82  url_overridden_by_dest         424 non-null    object \n",
      " 83  media                          23 non-null     object \n",
      " 84  media_embed                    21 non-null     object \n",
      " 85  secure_media                   23 non-null     object \n",
      " 86  secure_media_embed             21 non-null     object \n",
      " 87  gallery_data                   7 non-null      object \n",
      " 88  is_gallery                     8 non-null      object \n",
      "dtypes: bool(16), float64(11), int64(6), object(56)\n",
      "memory usage: 1.1+ MB\n"
     ]
    }
   ],
   "source": [
    "reddit.info()"
   ]
  },
  {
   "cell_type": "code",
   "execution_count": 5,
   "metadata": {},
   "outputs": [
    {
     "data": {
      "text/plain": [
       "63489"
      ]
     },
     "execution_count": 5,
     "metadata": {},
     "output_type": "execute_result"
    }
   ],
   "source": [
    "reddit.isnull().sum().sum()"
   ]
  },
  {
   "cell_type": "markdown",
   "metadata": {},
   "source": [
    "Of the 166,430 cells in the dataframe, 63,489 are null values, which is about 38%. \n",
    "\n",
    "Rather than clean each column, I'm going to filter the dataframe to the columns that I think will provide value in analysis and then proceed from there to clean those more important features."
   ]
  },
  {
   "cell_type": "code",
   "execution_count": 6,
   "metadata": {},
   "outputs": [
    {
     "data": {
      "text/html": [
       "<div>\n",
       "<style scoped>\n",
       "    .dataframe tbody tr th:only-of-type {\n",
       "        vertical-align: middle;\n",
       "    }\n",
       "\n",
       "    .dataframe tbody tr th {\n",
       "        vertical-align: top;\n",
       "    }\n",
       "\n",
       "    .dataframe thead th {\n",
       "        text-align: right;\n",
       "    }\n",
       "</style>\n",
       "<table border=\"1\" class=\"dataframe\">\n",
       "  <thead>\n",
       "    <tr style=\"text-align: right;\">\n",
       "      <th></th>\n",
       "      <th>subreddit</th>\n",
       "      <th>title</th>\n",
       "      <th>selftext</th>\n",
       "      <th>author</th>\n",
       "    </tr>\n",
       "  </thead>\n",
       "  <tbody>\n",
       "    <tr>\n",
       "      <th>0</th>\n",
       "      <td>Ohio</td>\n",
       "      <td>About the Donovan Lewis police shooting in Columbus.</td>\n",
       "      <td>Donovan reacted as naturally as anyone would when strangers burst open your bedroom door. There is inherent risk when serving a warrant and going through someone’s home unwelcomed. Cops need to re...</td>\n",
       "      <td>barelycriminal</td>\n",
       "    </tr>\n",
       "    <tr>\n",
       "      <th>1</th>\n",
       "      <td>Ohio</td>\n",
       "      <td>The chokehold JD Vance has on my YouTube ads.</td>\n",
       "      <td>No matter how much you tell me about it, I’m not reading Hillbilly Elegy. But seriously, Tim Ryan needs to make an ad on there.</td>\n",
       "      <td>DreamsAndBoxes</td>\n",
       "    </tr>\n",
       "    <tr>\n",
       "      <th>2</th>\n",
       "      <td>Ohio</td>\n",
       "      <td>Need wedding photographer plzzz</td>\n",
       "      <td>Hi everyone my fiancé and I booked a photographer last year for our wedding for 9/10/22 and we put a deposit down and signed a contract . The past 2 weeks we have called then emailed even txted an...</td>\n",
       "      <td>Ohiowelder</td>\n",
       "    </tr>\n",
       "    <tr>\n",
       "      <th>3</th>\n",
       "      <td>Ohio</td>\n",
       "      <td>Ranked choice voting?</td>\n",
       "      <td>Alaska seems to be doing well, when does Ohio follow.</td>\n",
       "      <td>titanup1993</td>\n",
       "    </tr>\n",
       "    <tr>\n",
       "      <th>4</th>\n",
       "      <td>Ohio</td>\n",
       "      <td>How long is the wait for a handgun purchased from Atlantic gun &amp;amp; tackle</td>\n",
       "      <td>Not sure if this is the right place to be asking. But I recently just purchased a handgun from Atlantic gun &amp;amp; tackle and they said I could get approved today in the next hour or it could be up...</td>\n",
       "      <td>Professional_Pie4546</td>\n",
       "    </tr>\n",
       "  </tbody>\n",
       "</table>\n",
       "</div>"
      ],
      "text/plain": [
       "  subreddit  \\\n",
       "0      Ohio   \n",
       "1      Ohio   \n",
       "2      Ohio   \n",
       "3      Ohio   \n",
       "4      Ohio   \n",
       "\n",
       "                                                                         title  \\\n",
       "0                         About the Donovan Lewis police shooting in Columbus.   \n",
       "1                                The chokehold JD Vance has on my YouTube ads.   \n",
       "2                                              Need wedding photographer plzzz   \n",
       "3                                                        Ranked choice voting?   \n",
       "4  How long is the wait for a handgun purchased from Atlantic gun &amp; tackle   \n",
       "\n",
       "                                                                                                                                                                                                  selftext  \\\n",
       "0  Donovan reacted as naturally as anyone would when strangers burst open your bedroom door. There is inherent risk when serving a warrant and going through someone’s home unwelcomed. Cops need to re...   \n",
       "1                                                                          No matter how much you tell me about it, I’m not reading Hillbilly Elegy. But seriously, Tim Ryan needs to make an ad on there.   \n",
       "2  Hi everyone my fiancé and I booked a photographer last year for our wedding for 9/10/22 and we put a deposit down and signed a contract . The past 2 weeks we have called then emailed even txted an...   \n",
       "3                                                                                                                                                    Alaska seems to be doing well, when does Ohio follow.   \n",
       "4  Not sure if this is the right place to be asking. But I recently just purchased a handgun from Atlantic gun &amp; tackle and they said I could get approved today in the next hour or it could be up...   \n",
       "\n",
       "                 author  \n",
       "0        barelycriminal  \n",
       "1        DreamsAndBoxes  \n",
       "2            Ohiowelder  \n",
       "3           titanup1993  \n",
       "4  Professional_Pie4546  "
      ]
     },
     "execution_count": 6,
     "metadata": {},
     "output_type": "execute_result"
    }
   ],
   "source": [
    "reddit = reddit[['subreddit', 'title', 'selftext', 'author']]\n",
    "\n",
    "reddit.head()"
   ]
  },
  {
   "cell_type": "code",
   "execution_count": 7,
   "metadata": {},
   "outputs": [
    {
     "data": {
      "text/plain": [
       "subreddit      0\n",
       "title          0\n",
       "selftext     788\n",
       "author         0\n",
       "dtype: int64"
      ]
     },
     "execution_count": 7,
     "metadata": {},
     "output_type": "execute_result"
    }
   ],
   "source": [
    "reddit.isnull().sum()"
   ]
  },
  {
   "cell_type": "code",
   "execution_count": 8,
   "metadata": {},
   "outputs": [
    {
     "data": {
      "text/html": [
       "<div>\n",
       "<style scoped>\n",
       "    .dataframe tbody tr th:only-of-type {\n",
       "        vertical-align: middle;\n",
       "    }\n",
       "\n",
       "    .dataframe tbody tr th {\n",
       "        vertical-align: top;\n",
       "    }\n",
       "\n",
       "    .dataframe thead th {\n",
       "        text-align: right;\n",
       "    }\n",
       "</style>\n",
       "<table border=\"1\" class=\"dataframe\">\n",
       "  <thead>\n",
       "    <tr style=\"text-align: right;\">\n",
       "      <th></th>\n",
       "      <th>title</th>\n",
       "      <th>selftext</th>\n",
       "      <th>author</th>\n",
       "    </tr>\n",
       "    <tr>\n",
       "      <th>subreddit</th>\n",
       "      <th></th>\n",
       "      <th></th>\n",
       "      <th></th>\n",
       "    </tr>\n",
       "  </thead>\n",
       "  <tbody>\n",
       "    <tr>\n",
       "      <th>False</th>\n",
       "      <td>0</td>\n",
       "      <td>788</td>\n",
       "      <td>0</td>\n",
       "    </tr>\n",
       "  </tbody>\n",
       "</table>\n",
       "</div>"
      ],
      "text/plain": [
       "           title  selftext  author\n",
       "subreddit                         \n",
       "False          0       788       0"
      ]
     },
     "execution_count": 8,
     "metadata": {},
     "output_type": "execute_result"
    }
   ],
   "source": [
    "reddit.isnull().groupby(by=['subreddit']).sum()"
   ]
  },
  {
   "cell_type": "markdown",
   "metadata": {},
   "source": [
    "We can see here that 788 of the 1,870 selftext values are null. Because of the way the functions scraped the data, we know that all of these nulls are from the IHateOhio subreddit (confirmed above). \n",
    "\n",
    "The reason that I am not removing these rows entirely is that I want to have an equal distribution of data from the two subreddits, and dropping almost 800 rows from only one would heavily skew the baseline scores, and probably my results as a whole.\n",
    "\n",
    "I'll be imputing the nulls with an empty string. Since all null selftexts are from the IHateOhio subreddit, this could be an indicator of which thread the post is from, so I'm hoping that this may in fact help when I begin modeling."
   ]
  },
  {
   "cell_type": "code",
   "execution_count": 9,
   "metadata": {},
   "outputs": [
    {
     "name": "stdout",
     "output_type": "stream",
     "text": [
      "Total nulls before imputation: 788\n"
     ]
    },
    {
     "data": {
      "text/plain": [
       "subreddit    0\n",
       "title        0\n",
       "selftext     0\n",
       "author       0\n",
       "dtype: int64"
      ]
     },
     "execution_count": 9,
     "metadata": {},
     "output_type": "execute_result"
    }
   ],
   "source": [
    "print(f'Total nulls before imputation: {reddit.isnull().sum().sum()}')\n",
    "\n",
    "reddit.fillna(' ', inplace=True)\n",
    "\n",
    "# Checking that the changes were made\n",
    "reddit.isnull().sum()"
   ]
  },
  {
   "cell_type": "code",
   "execution_count": 10,
   "metadata": {},
   "outputs": [
    {
     "data": {
      "text/plain": [
       "subreddit    196\n",
       "title        196\n",
       "selftext     196\n",
       "author       196\n",
       "dtype: int64"
      ]
     },
     "execution_count": 10,
     "metadata": {},
     "output_type": "execute_result"
    }
   ],
   "source": [
    "# Now dealing with links in the post captions\n",
    "reddit[reddit['selftext'].str.contains('https')].count()"
   ]
  },
  {
   "cell_type": "code",
   "execution_count": 11,
   "metadata": {},
   "outputs": [
    {
     "data": {
      "text/plain": [
       "subreddit\n",
       "IHateOhio     32\n",
       "Ohio         164\n",
       "Name: selftext, dtype: int64"
      ]
     },
     "execution_count": 11,
     "metadata": {},
     "output_type": "execute_result"
    }
   ],
   "source": [
    "reddit[reddit['selftext'].str.contains('https')].groupby('subreddit')['selftext'].count()"
   ]
  },
  {
   "cell_type": "code",
   "execution_count": 12,
   "metadata": {},
   "outputs": [
    {
     "data": {
      "text/plain": [
       "subreddit\n",
       "IHateOhio    3\n",
       "Ohio         4\n",
       "Name: title, dtype: int64"
      ]
     },
     "execution_count": 12,
     "metadata": {},
     "output_type": "execute_result"
    }
   ],
   "source": [
    "reddit[reddit['title'].str.contains('https')].groupby('subreddit')['title'].count()"
   ]
  },
  {
   "cell_type": "markdown",
   "metadata": {},
   "source": [
    "Of the 196 links in the selftext, 164 of these are in the Ohio subreddit. Because this is currently the majority class, removing all 164 here and 32 from the IHateOhio thread should not immensely throw off the distribution of the data. Though there are much fewer links in the post titles of each subreddit, I'll be removing these rows also for the sake of consistency."
   ]
  },
  {
   "cell_type": "code",
   "execution_count": 13,
   "metadata": {},
   "outputs": [
    {
     "name": "stdout",
     "output_type": "stream",
     "text": [
      "(1870, 4)\n",
      "(1668, 4)\n"
     ]
    }
   ],
   "source": [
    "print(reddit.shape)\n",
    "\n",
    "reddit = reddit[(reddit['selftext'].str.contains('https') == False) & (reddit['title'].str.contains('https') == False)]\n",
    "reddit.reset_index(drop=True, inplace=True)\n",
    "\n",
    "print(reddit.shape)\n"
   ]
  },
  {
   "cell_type": "code",
   "execution_count": 14,
   "metadata": {},
   "outputs": [
    {
     "data": {
      "text/plain": [
       "IHateOhio    0.522182\n",
       "Ohio         0.477818\n",
       "Name: subreddit, dtype: float64"
      ]
     },
     "execution_count": 14,
     "metadata": {},
     "output_type": "execute_result"
    }
   ],
   "source": [
    "reddit['subreddit'].value_counts(normalize=True)"
   ]
  },
  {
   "cell_type": "markdown",
   "metadata": {},
   "source": [
    "We've shrunk slightly to 1,668 rows, and can see that the subreddit distribution is roughly the same, but with Ohio now as the minority class. \n",
    "\n",
    "With the nulls filled and urls removed, I'll be moving into some light EDA to see if there are any patterns in title and/or post length among the two subreddits, as well as answer a few other questions I have."
   ]
  },
  {
   "cell_type": "code",
   "execution_count": 15,
   "metadata": {},
   "outputs": [],
   "source": [
    "reddit['title_word_count'] = [len(i.split()) for i in reddit['title']]\n",
    "reddit['selftext_word_count'] = [len(str(i).split()) for i in reddit['selftext']]"
   ]
  },
  {
   "cell_type": "code",
   "execution_count": 16,
   "metadata": {},
   "outputs": [
    {
     "data": {
      "text/plain": [
       "subreddit\n",
       "IHateOhio    8.067738\n",
       "Ohio         8.757842\n",
       "Name: title_word_count, dtype: float64"
      ]
     },
     "execution_count": 16,
     "metadata": {},
     "output_type": "execute_result"
    }
   ],
   "source": [
    "reddit.groupby('subreddit')['title_word_count'].mean()"
   ]
  },
  {
   "cell_type": "code",
   "execution_count": 17,
   "metadata": {},
   "outputs": [
    {
     "data": {
      "text/plain": [
       "subreddit\n",
       "IHateOhio     9.964409\n",
       "Ohio         58.373902\n",
       "Name: selftext_word_count, dtype: float64"
      ]
     },
     "execution_count": 17,
     "metadata": {},
     "output_type": "execute_result"
    }
   ],
   "source": [
    "reddit.groupby('subreddit')['selftext_word_count'].mean()"
   ]
  },
  {
   "cell_type": "markdown",
   "metadata": {},
   "source": [
    "While the mean title lengths are similar, it looks like users in the Ohio subreddit are writing captions that are almost 6x as long as those being written by the users posting in the IHateOhio subreddit."
   ]
  },
  {
   "cell_type": "code",
   "execution_count": 18,
   "metadata": {},
   "outputs": [
    {
     "name": "stdout",
     "output_type": "stream",
     "text": [
      "Mean number of posts per user: 1.379652605459057\n"
     ]
    },
    {
     "data": {
      "text/plain": [
       "author\n",
       "RandomGuy952           45\n",
       "Ow_wow                 27\n",
       "GriffinFTW             25\n",
       "Vonandro               18\n",
       "[deleted]              18\n",
       "                       ..\n",
       "Orient43146             1\n",
       "OriginalOmbre           1\n",
       "Original_Clorox         1\n",
       "Outrageous_Dot_5669     1\n",
       "zvbgamer                1\n",
       "Name: title, Length: 1209, dtype: int64"
      ]
     },
     "execution_count": 18,
     "metadata": {},
     "output_type": "execute_result"
    }
   ],
   "source": [
    "print(f\"Mean number of posts per user: {reddit.groupby('author')['title'].count().mean()}\")\n",
    "reddit.groupby('author')['title'].count().sort_values(ascending=False)"
   ]
  },
  {
   "cell_type": "markdown",
   "metadata": {},
   "source": [
    "We can see here that the average number of posts per user is a little over 1, but some users post more frequently than others."
   ]
  },
  {
   "cell_type": "code",
   "execution_count": 19,
   "metadata": {},
   "outputs": [
    {
     "data": {
      "text/html": [
       "<div>\n",
       "<style scoped>\n",
       "    .dataframe tbody tr th:only-of-type {\n",
       "        vertical-align: middle;\n",
       "    }\n",
       "\n",
       "    .dataframe tbody tr th {\n",
       "        vertical-align: top;\n",
       "    }\n",
       "\n",
       "    .dataframe thead th {\n",
       "        text-align: right;\n",
       "    }\n",
       "</style>\n",
       "<table border=\"1\" class=\"dataframe\">\n",
       "  <thead>\n",
       "    <tr style=\"text-align: right;\">\n",
       "      <th></th>\n",
       "      <th>title_word_count</th>\n",
       "      <th>selftext_word_count</th>\n",
       "    </tr>\n",
       "  </thead>\n",
       "  <tbody>\n",
       "    <tr>\n",
       "      <th>count</th>\n",
       "      <td>1668.000000</td>\n",
       "      <td>1668.000000</td>\n",
       "    </tr>\n",
       "    <tr>\n",
       "      <th>mean</th>\n",
       "      <td>8.397482</td>\n",
       "      <td>33.095324</td>\n",
       "    </tr>\n",
       "    <tr>\n",
       "      <th>std</th>\n",
       "      <td>7.323753</td>\n",
       "      <td>62.432984</td>\n",
       "    </tr>\n",
       "    <tr>\n",
       "      <th>min</th>\n",
       "      <td>1.000000</td>\n",
       "      <td>0.000000</td>\n",
       "    </tr>\n",
       "    <tr>\n",
       "      <th>25%</th>\n",
       "      <td>4.000000</td>\n",
       "      <td>0.000000</td>\n",
       "    </tr>\n",
       "    <tr>\n",
       "      <th>50%</th>\n",
       "      <td>6.000000</td>\n",
       "      <td>3.000000</td>\n",
       "    </tr>\n",
       "    <tr>\n",
       "      <th>75%</th>\n",
       "      <td>11.000000</td>\n",
       "      <td>45.000000</td>\n",
       "    </tr>\n",
       "    <tr>\n",
       "      <th>max</th>\n",
       "      <td>59.000000</td>\n",
       "      <td>708.000000</td>\n",
       "    </tr>\n",
       "  </tbody>\n",
       "</table>\n",
       "</div>"
      ],
      "text/plain": [
       "       title_word_count  selftext_word_count\n",
       "count       1668.000000          1668.000000\n",
       "mean           8.397482            33.095324\n",
       "std            7.323753            62.432984\n",
       "min            1.000000             0.000000\n",
       "25%            4.000000             0.000000\n",
       "50%            6.000000             3.000000\n",
       "75%           11.000000            45.000000\n",
       "max           59.000000           708.000000"
      ]
     },
     "execution_count": 19,
     "metadata": {},
     "output_type": "execute_result"
    }
   ],
   "source": [
    "reddit.describe()"
   ]
  },
  {
   "cell_type": "code",
   "execution_count": 20,
   "metadata": {},
   "outputs": [
    {
     "data": {
      "image/png": "[encoded data removed]",
      "text/plain": [
       "<Figure size 1200x600 with 2 Axes>"
      ]
     },
     "metadata": {},
     "output_type": "display_data"
    }
   ],
   "source": [
    "plt.figure(figsize=(12, 6))\n",
    "\n",
    "cols = ['title_word_count', 'selftext_word_count']\n",
    "for i in range(2):\n",
    "    plt.subplot(1, 2, i+1)\n",
    "    plt.hist(reddit[cols[i]], bins=25)\n",
    "    split_words = cols[i].split('_')\n",
    "    split_words = [i.title() for i in split_words]\n",
    "    joined_words = ' '.join(split_words)\n",
    "    plt.title(f'Distribution of {joined_words}')"
   ]
  },
  {
   "cell_type": "markdown",
   "metadata": {},
   "source": [
    "Despite the 700+ empty-string cells, the selftext_word_count column has a greater mean and max value than the title_word_count column. \n",
    "\n",
    "We can also see from the histograms that the distributions for both (combined subreddit) measures is highly skewed. Specifically, the selftext distribution looks to contain most counts between 0 and ~50 words, but the maximum of 708 words (an outlier) is affecting the distribution."
   ]
  },
  {
   "cell_type": "code",
   "execution_count": 21,
   "metadata": {},
   "outputs": [
    {
     "data": {
      "text/html": [
       "<div>\n",
       "<style scoped>\n",
       "    .dataframe tbody tr th:only-of-type {\n",
       "        vertical-align: middle;\n",
       "    }\n",
       "\n",
       "    .dataframe tbody tr th {\n",
       "        vertical-align: top;\n",
       "    }\n",
       "\n",
       "    .dataframe thead th {\n",
       "        text-align: right;\n",
       "    }\n",
       "</style>\n",
       "<table border=\"1\" class=\"dataframe\">\n",
       "  <thead>\n",
       "    <tr style=\"text-align: right;\">\n",
       "      <th></th>\n",
       "      <th>title_word_count</th>\n",
       "      <th>selftext_word_count</th>\n",
       "    </tr>\n",
       "  </thead>\n",
       "  <tbody>\n",
       "    <tr>\n",
       "      <th>title_word_count</th>\n",
       "      <td>1.000000</td>\n",
       "      <td>-0.060429</td>\n",
       "    </tr>\n",
       "    <tr>\n",
       "      <th>selftext_word_count</th>\n",
       "      <td>-0.060429</td>\n",
       "      <td>1.000000</td>\n",
       "    </tr>\n",
       "  </tbody>\n",
       "</table>\n",
       "</div>"
      ],
      "text/plain": [
       "                     title_word_count  selftext_word_count\n",
       "title_word_count             1.000000            -0.060429\n",
       "selftext_word_count         -0.060429             1.000000"
      ]
     },
     "execution_count": 21,
     "metadata": {},
     "output_type": "execute_result"
    }
   ],
   "source": [
    "reddit.corr()"
   ]
  },
  {
   "cell_type": "markdown",
   "metadata": {},
   "source": [
    "There is very weak negative correlation between title word count and caption word count. This is likely partially due to the many null values in the selftext column, but could also imply that those who write long titles do not necessarily write long captions, as well."
   ]
  },
  {
   "cell_type": "code",
   "execution_count": 22,
   "metadata": {},
   "outputs": [
    {
     "data": {
      "text/html": [
       "<div>\n",
       "<style scoped>\n",
       "    .dataframe tbody tr th:only-of-type {\n",
       "        vertical-align: middle;\n",
       "    }\n",
       "\n",
       "    .dataframe tbody tr th {\n",
       "        vertical-align: top;\n",
       "    }\n",
       "\n",
       "    .dataframe thead th {\n",
       "        text-align: right;\n",
       "    }\n",
       "</style>\n",
       "<table border=\"1\" class=\"dataframe\">\n",
       "  <thead>\n",
       "    <tr style=\"text-align: right;\">\n",
       "      <th></th>\n",
       "      <th>subreddit_class</th>\n",
       "      <th>title</th>\n",
       "      <th>selftext</th>\n",
       "      <th>author</th>\n",
       "      <th>title_word_count</th>\n",
       "      <th>selftext_word_count</th>\n",
       "    </tr>\n",
       "  </thead>\n",
       "  <tbody>\n",
       "    <tr>\n",
       "      <th>0</th>\n",
       "      <td>ohio</td>\n",
       "      <td>about the donovan lewis police shooting in columbus.</td>\n",
       "      <td>donovan reacted as naturally as anyone would when strangers burst open your bedroom door. there is inherent risk when serving a warrant and going through someone’s home unwelcomed. cops need to re...</td>\n",
       "      <td>barelycriminal</td>\n",
       "      <td>8</td>\n",
       "      <td>48</td>\n",
       "    </tr>\n",
       "    <tr>\n",
       "      <th>1</th>\n",
       "      <td>ohio</td>\n",
       "      <td>the chokehold jd vance has on my youtube ads.</td>\n",
       "      <td>no matter how much you tell me about it, i’m not reading hillbilly elegy. but seriously, tim ryan needs to make an ad on there.</td>\n",
       "      <td>dreamsandboxes</td>\n",
       "      <td>9</td>\n",
       "      <td>25</td>\n",
       "    </tr>\n",
       "    <tr>\n",
       "      <th>2</th>\n",
       "      <td>ohio</td>\n",
       "      <td>need wedding photographer plzzz</td>\n",
       "      <td>hi everyone my fiancé and i booked a photographer last year for our wedding for 9/10/22 and we put a deposit down and signed a contract . the past 2 weeks we have called then emailed even txted an...</td>\n",
       "      <td>ohiowelder</td>\n",
       "      <td>4</td>\n",
       "      <td>77</td>\n",
       "    </tr>\n",
       "  </tbody>\n",
       "</table>\n",
       "</div>"
      ],
      "text/plain": [
       "  subreddit_class                                                 title  \\\n",
       "0            ohio  about the donovan lewis police shooting in columbus.   \n",
       "1            ohio         the chokehold jd vance has on my youtube ads.   \n",
       "2            ohio                       need wedding photographer plzzz   \n",
       "\n",
       "                                                                                                                                                                                                  selftext  \\\n",
       "0  donovan reacted as naturally as anyone would when strangers burst open your bedroom door. there is inherent risk when serving a warrant and going through someone’s home unwelcomed. cops need to re...   \n",
       "1                                                                          no matter how much you tell me about it, i’m not reading hillbilly elegy. but seriously, tim ryan needs to make an ad on there.   \n",
       "2  hi everyone my fiancé and i booked a photographer last year for our wedding for 9/10/22 and we put a deposit down and signed a contract . the past 2 weeks we have called then emailed even txted an...   \n",
       "\n",
       "           author  title_word_count  selftext_word_count  \n",
       "0  barelycriminal                 8                   48  \n",
       "1  dreamsandboxes                 9                   25  \n",
       "2      ohiowelder                 4                   77  "
      ]
     },
     "execution_count": 22,
     "metadata": {},
     "output_type": "execute_result"
    }
   ],
   "source": [
    "'''I'm also going to lowercase all words within the object-type columns before employing CountVectorizer\n",
    "I know that all context is lowercased by default when using CV\n",
    "But the values that are checked against the stopwords are not always lowercased, meaning that some stopwords will be missed,\n",
    "depending on their case in the original post/df\n",
    "Source: https://github.com/scikit-learn/scikit-learn/issues/19311'''\n",
    "\n",
    "reddit = reddit.applymap(lambda x: x.lower() if type(x) == str else x)\n",
    "reddit.rename(columns={'subreddit': 'subreddit_class'}, inplace=True) # Doing this before vectorizing in case the word 'subreddit' is used at all\n",
    "\n",
    "reddit.head(3)"
   ]
  },
  {
   "cell_type": "code",
   "execution_count": 23,
   "metadata": {},
   "outputs": [],
   "source": [
    "reddit.to_csv('../datasets/reddit_slimmed_no_https.csv')"
   ]
  },
  {
   "cell_type": "markdown",
   "metadata": {},
   "source": [
    "---\n",
    "## EDA on Title and SelfText Columns"
   ]
  },
  {
   "cell_type": "code",
   "execution_count": 24,
   "metadata": {},
   "outputs": [],
   "source": [
    "# Using spacy to lemmatize the title and selftext columns, to then perform EDA\n",
    "nlp = spacy.load('en_core_web_md')"
   ]
  },
  {
   "cell_type": "code",
   "execution_count": 25,
   "metadata": {},
   "outputs": [],
   "source": [
    "def lem(sent):\n",
    "    return ' '.join([x.lemma_ for x in nlp(sent)])"
   ]
  },
  {
   "cell_type": "code",
   "execution_count": 26,
   "metadata": {},
   "outputs": [],
   "source": [
    "reddit['lem_title'] = reddit['title'].apply(lambda x: lem(x))"
   ]
  },
  {
   "cell_type": "code",
   "execution_count": 27,
   "metadata": {},
   "outputs": [],
   "source": [
    "# Added 'ohio' and 'state' because these two were included in most posts from \n",
    "my_additional_stop_words = ['ohio', 'state', 'x200b', 'img']\n",
    "new_stop_words = text.ENGLISH_STOP_WORDS.union(my_additional_stop_words)"
   ]
  },
  {
   "cell_type": "markdown",
   "metadata": {},
   "source": [
    "I added 'ohio' and 'state' to the stopwords list because these two were in most posts frmo both subreddit threads and did not provide any valuable information. I removed the other two for further cleaning of the data."
   ]
  },
  {
   "cell_type": "code",
   "execution_count": 28,
   "metadata": {},
   "outputs": [],
   "source": [
    "# Count vectorizing here for EDA, but will vectorize again before model trials to avoid data leakage\n",
    "cvec = CountVectorizer(stop_words=new_stop_words)\n",
    "\n",
    "reddit_fit = cvec.fit_transform(reddit['lem_title'])"
   ]
  },
  {
   "cell_type": "code",
   "execution_count": 29,
   "metadata": {},
   "outputs": [
    {
     "data": {
      "text/plain": [
       "matrix([[0, 0, 0, ..., 0, 0, 0],\n",
       "        [0, 0, 0, ..., 0, 0, 0],\n",
       "        [0, 0, 0, ..., 0, 0, 0],\n",
       "        ...,\n",
       "        [0, 0, 0, ..., 0, 0, 0],\n",
       "        [0, 0, 0, ..., 0, 0, 0],\n",
       "        [0, 0, 0, ..., 0, 0, 0]])"
      ]
     },
     "execution_count": 29,
     "metadata": {},
     "output_type": "execute_result"
    }
   ],
   "source": [
    "reddit_fit.todense()"
   ]
  },
  {
   "cell_type": "code",
   "execution_count": 30,
   "metadata": {},
   "outputs": [
    {
     "data": {
      "text/html": [
       "<div>\n",
       "<style scoped>\n",
       "    .dataframe tbody tr th:only-of-type {\n",
       "        vertical-align: middle;\n",
       "    }\n",
       "\n",
       "    .dataframe tbody tr th {\n",
       "        vertical-align: top;\n",
       "    }\n",
       "\n",
       "    .dataframe thead th {\n",
       "        text-align: right;\n",
       "    }\n",
       "</style>\n",
       "<table border=\"1\" class=\"dataframe\">\n",
       "  <thead>\n",
       "    <tr style=\"text-align: right;\">\n",
       "      <th></th>\n",
       "      <th>000</th>\n",
       "      <th>04</th>\n",
       "      <th>0h10</th>\n",
       "      <th>10</th>\n",
       "      <th>100</th>\n",
       "      <th>10000</th>\n",
       "      <th>1099</th>\n",
       "      <th>10th</th>\n",
       "      <th>10x</th>\n",
       "      <th>11</th>\n",
       "      <th>...</th>\n",
       "      <th>yrg</th>\n",
       "      <th>yugi</th>\n",
       "      <th>yup</th>\n",
       "      <th>zanesville</th>\n",
       "      <th>zero</th>\n",
       "      <th>zimbabwe</th>\n",
       "      <th>zipline</th>\n",
       "      <th>zito</th>\n",
       "      <th>zone</th>\n",
       "      <th>zoom</th>\n",
       "    </tr>\n",
       "  </thead>\n",
       "  <tbody>\n",
       "    <tr>\n",
       "      <th>0</th>\n",
       "      <td>0</td>\n",
       "      <td>0</td>\n",
       "      <td>0</td>\n",
       "      <td>0</td>\n",
       "      <td>0</td>\n",
       "      <td>0</td>\n",
       "      <td>0</td>\n",
       "      <td>0</td>\n",
       "      <td>0</td>\n",
       "      <td>0</td>\n",
       "      <td>...</td>\n",
       "      <td>0</td>\n",
       "      <td>0</td>\n",
       "      <td>0</td>\n",
       "      <td>0</td>\n",
       "      <td>0</td>\n",
       "      <td>0</td>\n",
       "      <td>0</td>\n",
       "      <td>0</td>\n",
       "      <td>0</td>\n",
       "      <td>0</td>\n",
       "    </tr>\n",
       "    <tr>\n",
       "      <th>1</th>\n",
       "      <td>0</td>\n",
       "      <td>0</td>\n",
       "      <td>0</td>\n",
       "      <td>0</td>\n",
       "      <td>0</td>\n",
       "      <td>0</td>\n",
       "      <td>0</td>\n",
       "      <td>0</td>\n",
       "      <td>0</td>\n",
       "      <td>0</td>\n",
       "      <td>...</td>\n",
       "      <td>0</td>\n",
       "      <td>0</td>\n",
       "      <td>0</td>\n",
       "      <td>0</td>\n",
       "      <td>0</td>\n",
       "      <td>0</td>\n",
       "      <td>0</td>\n",
       "      <td>0</td>\n",
       "      <td>0</td>\n",
       "      <td>0</td>\n",
       "    </tr>\n",
       "    <tr>\n",
       "      <th>2</th>\n",
       "      <td>0</td>\n",
       "      <td>0</td>\n",
       "      <td>0</td>\n",
       "      <td>0</td>\n",
       "      <td>0</td>\n",
       "      <td>0</td>\n",
       "      <td>0</td>\n",
       "      <td>0</td>\n",
       "      <td>0</td>\n",
       "      <td>0</td>\n",
       "      <td>...</td>\n",
       "      <td>0</td>\n",
       "      <td>0</td>\n",
       "      <td>0</td>\n",
       "      <td>0</td>\n",
       "      <td>0</td>\n",
       "      <td>0</td>\n",
       "      <td>0</td>\n",
       "      <td>0</td>\n",
       "      <td>0</td>\n",
       "      <td>0</td>\n",
       "    </tr>\n",
       "    <tr>\n",
       "      <th>3</th>\n",
       "      <td>0</td>\n",
       "      <td>0</td>\n",
       "      <td>0</td>\n",
       "      <td>0</td>\n",
       "      <td>0</td>\n",
       "      <td>0</td>\n",
       "      <td>0</td>\n",
       "      <td>0</td>\n",
       "      <td>0</td>\n",
       "      <td>0</td>\n",
       "      <td>...</td>\n",
       "      <td>0</td>\n",
       "      <td>0</td>\n",
       "      <td>0</td>\n",
       "      <td>0</td>\n",
       "      <td>0</td>\n",
       "      <td>0</td>\n",
       "      <td>0</td>\n",
       "      <td>0</td>\n",
       "      <td>0</td>\n",
       "      <td>0</td>\n",
       "    </tr>\n",
       "    <tr>\n",
       "      <th>4</th>\n",
       "      <td>0</td>\n",
       "      <td>0</td>\n",
       "      <td>0</td>\n",
       "      <td>0</td>\n",
       "      <td>0</td>\n",
       "      <td>0</td>\n",
       "      <td>0</td>\n",
       "      <td>0</td>\n",
       "      <td>0</td>\n",
       "      <td>0</td>\n",
       "      <td>...</td>\n",
       "      <td>0</td>\n",
       "      <td>0</td>\n",
       "      <td>0</td>\n",
       "      <td>0</td>\n",
       "      <td>0</td>\n",
       "      <td>0</td>\n",
       "      <td>0</td>\n",
       "      <td>0</td>\n",
       "      <td>0</td>\n",
       "      <td>0</td>\n",
       "    </tr>\n",
       "  </tbody>\n",
       "</table>\n",
       "<p>5 rows × 2595 columns</p>\n",
       "</div>"
      ],
      "text/plain": [
       "   000  04  0h10  10  100  10000  1099  10th  10x  11  ...  yrg  yugi  yup  \\\n",
       "0    0   0     0   0    0      0     0     0    0   0  ...    0     0    0   \n",
       "1    0   0     0   0    0      0     0     0    0   0  ...    0     0    0   \n",
       "2    0   0     0   0    0      0     0     0    0   0  ...    0     0    0   \n",
       "3    0   0     0   0    0      0     0     0    0   0  ...    0     0    0   \n",
       "4    0   0     0   0    0      0     0     0    0   0  ...    0     0    0   \n",
       "\n",
       "   zanesville  zero  zimbabwe  zipline  zito  zone  zoom  \n",
       "0           0     0         0        0     0     0     0  \n",
       "1           0     0         0        0     0     0     0  \n",
       "2           0     0         0        0     0     0     0  \n",
       "3           0     0         0        0     0     0     0  \n",
       "4           0     0         0        0     0     0     0  \n",
       "\n",
       "[5 rows x 2595 columns]"
      ]
     },
     "execution_count": 30,
     "metadata": {},
     "output_type": "execute_result"
    }
   ],
   "source": [
    "title_df = pd.DataFrame(reddit_fit.todense(), columns=cvec.get_feature_names_out())\n",
    "\n",
    "title_df.head()"
   ]
  },
  {
   "cell_type": "markdown",
   "metadata": {},
   "source": [
    "### What are the 20 most common words used in titles for both subreddits?"
   ]
  },
  {
   "cell_type": "code",
   "execution_count": 31,
   "metadata": {},
   "outputs": [
    {
     "data": {
      "text/plain": [
       "hate            80\n",
       "fuck            53\n",
       "like            53\n",
       "look            49\n",
       "just            49\n",
       "good            48\n",
       "bad             47\n",
       "people          47\n",
       "unemployment    45\n",
       "live            44\n",
       "place           43\n",
       "make            43\n",
       "know            35\n",
       "need            35\n",
       "think           33\n",
       "question        32\n",
       "time            31\n",
       "year            29\n",
       "new             29\n",
       "want            29\n",
       "dtype: int64"
      ]
     },
     "execution_count": 31,
     "metadata": {},
     "output_type": "execute_result"
    }
   ],
   "source": [
    "top_20_all = title_df.sum(axis=0).sort_values(ascending=False).head(20)\n",
    "\n",
    "top_20_all"
   ]
  },
  {
   "cell_type": "code",
   "execution_count": 32,
   "metadata": {},
   "outputs": [
    {
     "data": {
      "image/png": "[encoded data removed]",
      "text/plain": [
       "<Figure size 800x800 with 1 Axes>"
      ]
     },
     "metadata": {},
     "output_type": "display_data"
    }
   ],
   "source": [
    "plt.figure(figsize=(8,8))\n",
    "top_20_all.sort_values(ascending=True).plot.barh(title='Top 20 Words Used in Both Subreddit Post Titles', color='seagreen');"
   ]
  },
  {
   "cell_type": "code",
   "execution_count": 33,
   "metadata": {},
   "outputs": [
    {
     "data": {
      "text/html": [
       "<div>\n",
       "<style scoped>\n",
       "    .dataframe tbody tr th:only-of-type {\n",
       "        vertical-align: middle;\n",
       "    }\n",
       "\n",
       "    .dataframe tbody tr th {\n",
       "        vertical-align: top;\n",
       "    }\n",
       "\n",
       "    .dataframe thead th {\n",
       "        text-align: right;\n",
       "    }\n",
       "</style>\n",
       "<table border=\"1\" class=\"dataframe\">\n",
       "  <thead>\n",
       "    <tr style=\"text-align: right;\">\n",
       "      <th></th>\n",
       "      <th>000</th>\n",
       "      <th>04</th>\n",
       "      <th>0h10</th>\n",
       "      <th>10</th>\n",
       "      <th>100</th>\n",
       "      <th>10000</th>\n",
       "      <th>1099</th>\n",
       "      <th>10th</th>\n",
       "      <th>10x</th>\n",
       "      <th>11</th>\n",
       "      <th>...</th>\n",
       "      <th>zito</th>\n",
       "      <th>zone</th>\n",
       "      <th>zoom</th>\n",
       "      <th>subreddit_class</th>\n",
       "      <th>title</th>\n",
       "      <th>selftext</th>\n",
       "      <th>author</th>\n",
       "      <th>title_word_count</th>\n",
       "      <th>selftext_word_count</th>\n",
       "      <th>lem_title</th>\n",
       "    </tr>\n",
       "  </thead>\n",
       "  <tbody>\n",
       "    <tr>\n",
       "      <th>0</th>\n",
       "      <td>0</td>\n",
       "      <td>0</td>\n",
       "      <td>0</td>\n",
       "      <td>0</td>\n",
       "      <td>0</td>\n",
       "      <td>0</td>\n",
       "      <td>0</td>\n",
       "      <td>0</td>\n",
       "      <td>0</td>\n",
       "      <td>0</td>\n",
       "      <td>...</td>\n",
       "      <td>0</td>\n",
       "      <td>0</td>\n",
       "      <td>0</td>\n",
       "      <td>ohio</td>\n",
       "      <td>about the donovan lewis police shooting in columbus.</td>\n",
       "      <td>donovan reacted as naturally as anyone would when strangers burst open your bedroom door. there is inherent risk when serving a warrant and going through someone’s home unwelcomed. cops need to re...</td>\n",
       "      <td>barelycriminal</td>\n",
       "      <td>8</td>\n",
       "      <td>48</td>\n",
       "      <td>about the donovan lewis police shoot in columbus .</td>\n",
       "    </tr>\n",
       "  </tbody>\n",
       "</table>\n",
       "<p>1 rows × 2602 columns</p>\n",
       "</div>"
      ],
      "text/plain": [
       "   000  04  0h10  10  100  10000  1099  10th  10x  11  ...  zito  zone  zoom  \\\n",
       "0    0   0     0   0    0      0     0     0    0   0  ...     0     0     0   \n",
       "\n",
       "   subreddit_class                                                 title  \\\n",
       "0             ohio  about the donovan lewis police shooting in columbus.   \n",
       "\n",
       "                                                                                                                                                                                                  selftext  \\\n",
       "0  donovan reacted as naturally as anyone would when strangers burst open your bedroom door. there is inherent risk when serving a warrant and going through someone’s home unwelcomed. cops need to re...   \n",
       "\n",
       "           author  title_word_count  selftext_word_count  \\\n",
       "0  barelycriminal                 8                   48   \n",
       "\n",
       "                                            lem_title  \n",
       "0  about the donovan lewis police shoot in columbus .  \n",
       "\n",
       "[1 rows x 2602 columns]"
      ]
     },
     "execution_count": 33,
     "metadata": {},
     "output_type": "execute_result"
    }
   ],
   "source": [
    "words_and_counts = pd.concat([title_df, reddit], axis=1)\n",
    "words_and_counts.head(1)"
   ]
  },
  {
   "cell_type": "markdown",
   "metadata": {},
   "source": [
    "### How about in selftext?"
   ]
  },
  {
   "cell_type": "code",
   "execution_count": 34,
   "metadata": {},
   "outputs": [],
   "source": [
    "reddit['lem_selftext'] = reddit['selftext'].apply(lambda x: lem(x))"
   ]
  },
  {
   "cell_type": "code",
   "execution_count": 35,
   "metadata": {},
   "outputs": [],
   "source": [
    "cvec = CountVectorizer(stop_words=new_stop_words)\n",
    "\n",
    "reddit_st_fit = cvec.fit_transform(reddit['lem_selftext'])"
   ]
  },
  {
   "cell_type": "code",
   "execution_count": 36,
   "metadata": {},
   "outputs": [
    {
     "data": {
      "text/plain": [
       "just      347\n",
       "know      241\n",
       "like      235\n",
       "people    189\n",
       "want      177\n",
       "look      156\n",
       "place     146\n",
       "ve        146\n",
       "say       139\n",
       "live      137\n",
       "good      135\n",
       "time      134\n",
       "make      129\n",
       "year      119\n",
       "think     119\n",
       "thank     115\n",
       "try       114\n",
       "need      114\n",
       "thing     111\n",
       "work      111\n",
       "dtype: int64"
      ]
     },
     "execution_count": 36,
     "metadata": {},
     "output_type": "execute_result"
    }
   ],
   "source": [
    "selftext_df = pd.DataFrame(reddit_st_fit.todense(), columns=cvec.get_feature_names_out())\n",
    "\n",
    "top_20_st = selftext_df.sum(axis=0).sort_values(ascending=False).head(20)\n",
    "\n",
    "top_20_st"
   ]
  },
  {
   "cell_type": "markdown",
   "metadata": {},
   "source": [
    "Unlike the title, it looks like there are some contractions in the selftext sections of posts. I'm going to filter a few of these out get a better sense of which full words are most present in post captions."
   ]
  },
  {
   "cell_type": "code",
   "execution_count": 37,
   "metadata": {},
   "outputs": [],
   "source": [
    "drop_list = ['ve', 'png']\n",
    "cols_keep = [col for col in selftext_df.columns if col not in drop_list]\n",
    "selftext_df = selftext_df[cols_keep]"
   ]
  },
  {
   "cell_type": "code",
   "execution_count": 38,
   "metadata": {},
   "outputs": [
    {
     "data": {
      "text/plain": [
       "just      347\n",
       "know      241\n",
       "like      235\n",
       "people    189\n",
       "want      177\n",
       "look      156\n",
       "place     146\n",
       "say       139\n",
       "live      137\n",
       "good      135\n",
       "time      134\n",
       "make      129\n",
       "year      119\n",
       "think     119\n",
       "thank     115\n",
       "try       114\n",
       "need      114\n",
       "work      111\n",
       "thing     111\n",
       "day       105\n",
       "dtype: int64"
      ]
     },
     "execution_count": 38,
     "metadata": {},
     "output_type": "execute_result"
    }
   ],
   "source": [
    "top_20_st = selftext_df.sum(axis=0).sort_values(ascending=False).head(20)\n",
    "\n",
    "top_20_st"
   ]
  },
  {
   "cell_type": "code",
   "execution_count": 39,
   "metadata": {},
   "outputs": [
    {
     "data": {
      "image/png": "[encoded data removed]",
      "text/plain": [
       "<Figure size 800x800 with 1 Axes>"
      ]
     },
     "metadata": {},
     "output_type": "display_data"
    }
   ],
   "source": [
    "plt.figure(figsize=(8,8))\n",
    "top_20_st.sort_values(ascending=True).plot.barh(title='Top 20 Words Used in Both Subreddit Post Selftexts', color='darkcyan');"
   ]
  },
  {
   "cell_type": "markdown",
   "metadata": {},
   "source": [
    "### Did any users post in both subreddit threads?"
   ]
  },
  {
   "cell_type": "code",
   "execution_count": 40,
   "metadata": {},
   "outputs": [
    {
     "data": {
      "text/html": [
       "<div>\n",
       "<style scoped>\n",
       "    .dataframe tbody tr th:only-of-type {\n",
       "        vertical-align: middle;\n",
       "    }\n",
       "\n",
       "    .dataframe tbody tr th {\n",
       "        vertical-align: top;\n",
       "    }\n",
       "\n",
       "    .dataframe thead th {\n",
       "        text-align: right;\n",
       "    }\n",
       "</style>\n",
       "<table border=\"1\" class=\"dataframe\">\n",
       "  <thead>\n",
       "    <tr style=\"text-align: right;\">\n",
       "      <th></th>\n",
       "      <th>subreddit_class</th>\n",
       "      <th>title</th>\n",
       "      <th>selftext</th>\n",
       "      <th>author</th>\n",
       "      <th>title_word_count</th>\n",
       "      <th>selftext_word_count</th>\n",
       "      <th>lem_title</th>\n",
       "      <th>lem_selftext</th>\n",
       "    </tr>\n",
       "  </thead>\n",
       "  <tbody>\n",
       "    <tr>\n",
       "      <th>752</th>\n",
       "      <td>ohio</td>\n",
       "      <td>i hate ohio?</td>\n",
       "      <td>i just don’t like ohio you know i just hate it bad weather stupid place ahhhh. i mean let’s just firebomb cleveland or cincinnati or just the whole state i just don’t like it stupid place. i’m sha...</td>\n",
       "      <td>kipdu</td>\n",
       "      <td>3</td>\n",
       "      <td>44</td>\n",
       "      <td>I hate ohio ?</td>\n",
       "      <td>I just do not like ohio you know I just hate it bad weather stupid place ahhhh . I mean let ’s just firebomb cleveland or cincinnati or just the whole state I just do not like it stupid place . I ...</td>\n",
       "    </tr>\n",
       "    <tr>\n",
       "      <th>935</th>\n",
       "      <td>ihateohio</td>\n",
       "      <td>3000 members</td>\n",
       "      <td>cool little thing guys congrats!</td>\n",
       "      <td>kipdu</td>\n",
       "      <td>2</td>\n",
       "      <td>5</td>\n",
       "      <td>3000 member</td>\n",
       "      <td>cool little thing guy congrat !</td>\n",
       "    </tr>\n",
       "    <tr>\n",
       "      <th>986</th>\n",
       "      <td>ihateohio</td>\n",
       "      <td>oh thank god there’s a subreddit for this i just hate ohio so much it’s terrible i’m litterly shaking let’s firebomb cleveland and cincinnati</td>\n",
       "      <td></td>\n",
       "      <td>kipdu</td>\n",
       "      <td>24</td>\n",
       "      <td>0</td>\n",
       "      <td>oh thank god there ’ a subreddit for this I just hate ohio so much it ’ terrible I ’m litterly shake let ’s firebomb cleveland and cincinnati</td>\n",
       "      <td></td>\n",
       "    </tr>\n",
       "    <tr>\n",
       "      <th>992</th>\n",
       "      <td>ihateohio</td>\n",
       "      <td>oh my gosh i’m so grateful that i’m now a moderator for my favorite subreddit.</td>\n",
       "      <td></td>\n",
       "      <td>kipdu</td>\n",
       "      <td>15</td>\n",
       "      <td>0</td>\n",
       "      <td>oh my gosh I ’m so grateful that I ’m now a moderator for my favorite subreddit .</td>\n",
       "      <td></td>\n",
       "    </tr>\n",
       "    <tr>\n",
       "      <th>1266</th>\n",
       "      <td>ihateohio</td>\n",
       "      <td>the man...</td>\n",
       "      <td></td>\n",
       "      <td>kipdu</td>\n",
       "      <td>2</td>\n",
       "      <td>0</td>\n",
       "      <td>the man ...</td>\n",
       "      <td></td>\n",
       "    </tr>\n",
       "    <tr>\n",
       "      <th>1445</th>\n",
       "      <td>ihateohio</td>\n",
       "      <td>can’t wait for ohio to be gone 😊</td>\n",
       "      <td></td>\n",
       "      <td>kipdu</td>\n",
       "      <td>8</td>\n",
       "      <td>0</td>\n",
       "      <td>can not wait for ohio to be go 😊</td>\n",
       "      <td></td>\n",
       "    </tr>\n",
       "  </tbody>\n",
       "</table>\n",
       "</div>"
      ],
      "text/plain": [
       "     subreddit_class  \\\n",
       "752             ohio   \n",
       "935        ihateohio   \n",
       "986        ihateohio   \n",
       "992        ihateohio   \n",
       "1266       ihateohio   \n",
       "1445       ihateohio   \n",
       "\n",
       "                                                                                                                                              title  \\\n",
       "752                                                                                                                                    i hate ohio?   \n",
       "935                                                                                                                                    3000 members   \n",
       "986   oh thank god there’s a subreddit for this i just hate ohio so much it’s terrible i’m litterly shaking let’s firebomb cleveland and cincinnati   \n",
       "992                                                                  oh my gosh i’m so grateful that i’m now a moderator for my favorite subreddit.   \n",
       "1266                                                                                                                                     the man...   \n",
       "1445                                                                                                               can’t wait for ohio to be gone 😊   \n",
       "\n",
       "                                                                                                                                                                                                     selftext  \\\n",
       "752   i just don’t like ohio you know i just hate it bad weather stupid place ahhhh. i mean let’s just firebomb cleveland or cincinnati or just the whole state i just don’t like it stupid place. i’m sha...   \n",
       "935                                                                                                                                                                          cool little thing guys congrats!   \n",
       "986                                                                                                                                                                                                             \n",
       "992                                                                                                                                                                                                             \n",
       "1266                                                                                                                                                                                                            \n",
       "1445                                                                                                                                                                                                            \n",
       "\n",
       "     author  title_word_count  selftext_word_count  \\\n",
       "752   kipdu                 3                   44   \n",
       "935   kipdu                 2                    5   \n",
       "986   kipdu                24                    0   \n",
       "992   kipdu                15                    0   \n",
       "1266  kipdu                 2                    0   \n",
       "1445  kipdu                 8                    0   \n",
       "\n",
       "                                                                                                                                          lem_title  \\\n",
       "752                                                                                                                                   I hate ohio ?   \n",
       "935                                                                                                                                     3000 member   \n",
       "986   oh thank god there ’ a subreddit for this I just hate ohio so much it ’ terrible I ’m litterly shake let ’s firebomb cleveland and cincinnati   \n",
       "992                                                               oh my gosh I ’m so grateful that I ’m now a moderator for my favorite subreddit .   \n",
       "1266                                                                                                                                    the man ...   \n",
       "1445                                                                                                               can not wait for ohio to be go 😊   \n",
       "\n",
       "                                                                                                                                                                                                 lem_selftext  \n",
       "752   I just do not like ohio you know I just hate it bad weather stupid place ahhhh . I mean let ’s just firebomb cleveland or cincinnati or just the whole state I just do not like it stupid place . I ...  \n",
       "935                                                                                                                                                                           cool little thing guy congrat !  \n",
       "986                                                                                                                                                                                                            \n",
       "992                                                                                                                                                                                                            \n",
       "1266                                                                                                                                                                                                           \n",
       "1445                                                                                                                                                                                                           "
      ]
     },
     "execution_count": 40,
     "metadata": {},
     "output_type": "execute_result"
    }
   ],
   "source": [
    "reddit_auth_cleaned = reddit[reddit['author'] != '[deleted]']\n",
    "\n",
    "reddit_auth_cleaned[reddit_auth_cleaned.groupby('author')['subreddit_class'].transform('nunique')>1]"
   ]
  },
  {
   "cell_type": "markdown",
   "metadata": {},
   "source": [
    "One user posted in both the Ohio and IHateOhio subreddits, but appears to have a strong dislike of the state in all posts."
   ]
  },
  {
   "cell_type": "markdown",
   "metadata": {},
   "source": [
    "### What were the top 10 words used separately in each subreddit title?"
   ]
  },
  {
   "cell_type": "code",
   "execution_count": 41,
   "metadata": {},
   "outputs": [],
   "source": [
    "ohio_top_10 = words_and_counts[words_and_counts['subreddit_class'] == 'ohio'].iloc[:, :-8].sum(axis=0).sort_values(ascending=False).head(10)\n",
    "hate_ohio_top_10 = words_and_counts[words_and_counts['subreddit_class'] == 'ihateohio'].iloc[:, :-8].sum(axis=0).sort_values(ascending=False).head(10)"
   ]
  },
  {
   "cell_type": "code",
   "execution_count": 42,
   "metadata": {},
   "outputs": [
    {
     "data": {
      "text/html": [
       "<div>\n",
       "<style scoped>\n",
       "    .dataframe tbody tr th:only-of-type {\n",
       "        vertical-align: middle;\n",
       "    }\n",
       "\n",
       "    .dataframe tbody tr th {\n",
       "        vertical-align: top;\n",
       "    }\n",
       "\n",
       "    .dataframe thead th {\n",
       "        text-align: right;\n",
       "    }\n",
       "</style>\n",
       "<table border=\"1\" class=\"dataframe\">\n",
       "  <thead>\n",
       "    <tr style=\"text-align: right;\">\n",
       "      <th></th>\n",
       "      <th>word</th>\n",
       "      <th>count</th>\n",
       "    </tr>\n",
       "  </thead>\n",
       "  <tbody>\n",
       "    <tr>\n",
       "      <th>0</th>\n",
       "      <td>unemployment</td>\n",
       "      <td>43</td>\n",
       "    </tr>\n",
       "    <tr>\n",
       "      <th>1</th>\n",
       "      <td>look</td>\n",
       "      <td>38</td>\n",
       "    </tr>\n",
       "    <tr>\n",
       "      <th>2</th>\n",
       "      <td>good</td>\n",
       "      <td>32</td>\n",
       "    </tr>\n",
       "    <tr>\n",
       "      <th>3</th>\n",
       "      <td>need</td>\n",
       "      <td>30</td>\n",
       "    </tr>\n",
       "    <tr>\n",
       "      <th>4</th>\n",
       "      <td>question</td>\n",
       "      <td>27</td>\n",
       "    </tr>\n",
       "    <tr>\n",
       "      <th>5</th>\n",
       "      <td>place</td>\n",
       "      <td>23</td>\n",
       "    </tr>\n",
       "    <tr>\n",
       "      <th>6</th>\n",
       "      <td>know</td>\n",
       "      <td>23</td>\n",
       "    </tr>\n",
       "    <tr>\n",
       "      <th>7</th>\n",
       "      <td>people</td>\n",
       "      <td>22</td>\n",
       "    </tr>\n",
       "    <tr>\n",
       "      <th>8</th>\n",
       "      <td>vote</td>\n",
       "      <td>19</td>\n",
       "    </tr>\n",
       "    <tr>\n",
       "      <th>9</th>\n",
       "      <td>area</td>\n",
       "      <td>18</td>\n",
       "    </tr>\n",
       "    <tr>\n",
       "      <th>10</th>\n",
       "      <td>hate</td>\n",
       "      <td>74</td>\n",
       "    </tr>\n",
       "    <tr>\n",
       "      <th>11</th>\n",
       "      <td>fuck</td>\n",
       "      <td>50</td>\n",
       "    </tr>\n",
       "    <tr>\n",
       "      <th>12</th>\n",
       "      <td>bad</td>\n",
       "      <td>43</td>\n",
       "    </tr>\n",
       "    <tr>\n",
       "      <th>13</th>\n",
       "      <td>like</td>\n",
       "      <td>36</td>\n",
       "    </tr>\n",
       "    <tr>\n",
       "      <th>14</th>\n",
       "      <td>just</td>\n",
       "      <td>32</td>\n",
       "    </tr>\n",
       "    <tr>\n",
       "      <th>15</th>\n",
       "      <td>live</td>\n",
       "      <td>27</td>\n",
       "    </tr>\n",
       "    <tr>\n",
       "      <th>16</th>\n",
       "      <td>people</td>\n",
       "      <td>25</td>\n",
       "    </tr>\n",
       "    <tr>\n",
       "      <th>17</th>\n",
       "      <td>make</td>\n",
       "      <td>25</td>\n",
       "    </tr>\n",
       "    <tr>\n",
       "      <th>18</th>\n",
       "      <td>think</td>\n",
       "      <td>24</td>\n",
       "    </tr>\n",
       "    <tr>\n",
       "      <th>19</th>\n",
       "      <td>place</td>\n",
       "      <td>20</td>\n",
       "    </tr>\n",
       "  </tbody>\n",
       "</table>\n",
       "</div>"
      ],
      "text/plain": [
       "            word  count\n",
       "0   unemployment     43\n",
       "1           look     38\n",
       "2           good     32\n",
       "3           need     30\n",
       "4       question     27\n",
       "5          place     23\n",
       "6           know     23\n",
       "7         people     22\n",
       "8           vote     19\n",
       "9           area     18\n",
       "10          hate     74\n",
       "11          fuck     50\n",
       "12           bad     43\n",
       "13          like     36\n",
       "14          just     32\n",
       "15          live     27\n",
       "16        people     25\n",
       "17          make     25\n",
       "18         think     24\n",
       "19         place     20"
      ]
     },
     "execution_count": 42,
     "metadata": {},
     "output_type": "execute_result"
    }
   ],
   "source": [
    "top_10_each = pd.concat([ohio_top_10, hate_ohio_top_10])\n",
    "top_10_each = top_10_each.reset_index().rename(columns={'index': 'word', 0: 'count'})\n",
    "top_10_each"
   ]
  },
  {
   "cell_type": "code",
   "execution_count": 43,
   "metadata": {},
   "outputs": [
    {
     "data": {
      "image/png": "[encoded data removed]",
      "text/plain": [
       "<Figure size 800x800 with 1 Axes>"
      ]
     },
     "metadata": {},
     "output_type": "display_data"
    }
   ],
   "source": [
    "colors = ['navy', 'navy', 'navy', 'navy', 'navy', 'navy', 'navy', 'navy', 'navy', 'navy', 'steelblue', 'steelblue', 'steelblue', 'steelblue', 'steelblue', 'steelblue', 'steelblue', 'steelblue', 'steelblue', 'steelblue']\n",
    "\n",
    "plt.figure(figsize=(8,8))\n",
    "plt.barh(y=top_10_each.index[::-1], width=top_10_each['count'], color = colors)\n",
    "plt.yticks(ticks = top_10_each.index, labels=top_10_each['word'][::-1])\n",
    "ohio = mpatches.Patch(color='navy', label='Ohio')\n",
    "hateohio = mpatches.Patch(color='steelblue', label='IHateOhio')\n",
    "plt.legend(handles=[ohio, hateohio])\n",
    "plt.xlabel('Count')\n",
    "plt.title('Top 10 Most-Used Words in Each Subreddit Title');"
   ]
  },
  {
   "cell_type": "markdown",
   "metadata": {},
   "source": [
    "### Now looking at selftext."
   ]
  },
  {
   "cell_type": "code",
   "execution_count": 44,
   "metadata": {},
   "outputs": [],
   "source": [
    "st_words_and_counts = pd.concat([selftext_df, reddit], axis=1)\n",
    "st_ohio_top_10 = st_words_and_counts[st_words_and_counts['subreddit_class'] == 'ohio'].iloc[:, :-8].sum(axis=0).sort_values(ascending=False).head(10)\n",
    "st_hate_ohio_top_10 = st_words_and_counts[st_words_and_counts['subreddit_class'] == 'ihateohio'].iloc[:, :-8].sum(axis=0).sort_values(ascending=False).head(10)"
   ]
  },
  {
   "cell_type": "code",
   "execution_count": 45,
   "metadata": {},
   "outputs": [
    {
     "data": {
      "text/html": [
       "<div>\n",
       "<style scoped>\n",
       "    .dataframe tbody tr th:only-of-type {\n",
       "        vertical-align: middle;\n",
       "    }\n",
       "\n",
       "    .dataframe tbody tr th {\n",
       "        vertical-align: top;\n",
       "    }\n",
       "\n",
       "    .dataframe thead th {\n",
       "        text-align: right;\n",
       "    }\n",
       "</style>\n",
       "<table border=\"1\" class=\"dataframe\">\n",
       "  <thead>\n",
       "    <tr style=\"text-align: right;\">\n",
       "      <th></th>\n",
       "      <th>word</th>\n",
       "      <th>count</th>\n",
       "    </tr>\n",
       "  </thead>\n",
       "  <tbody>\n",
       "    <tr>\n",
       "      <th>0</th>\n",
       "      <td>just</td>\n",
       "      <td>267</td>\n",
       "    </tr>\n",
       "    <tr>\n",
       "      <th>1</th>\n",
       "      <td>know</td>\n",
       "      <td>211</td>\n",
       "    </tr>\n",
       "    <tr>\n",
       "      <th>2</th>\n",
       "      <td>like</td>\n",
       "      <td>186</td>\n",
       "    </tr>\n",
       "    <tr>\n",
       "      <th>3</th>\n",
       "      <td>want</td>\n",
       "      <td>151</td>\n",
       "    </tr>\n",
       "    <tr>\n",
       "      <th>4</th>\n",
       "      <td>look</td>\n",
       "      <td>150</td>\n",
       "    </tr>\n",
       "    <tr>\n",
       "      <th>5</th>\n",
       "      <td>people</td>\n",
       "      <td>137</td>\n",
       "    </tr>\n",
       "    <tr>\n",
       "      <th>6</th>\n",
       "      <td>say</td>\n",
       "      <td>127</td>\n",
       "    </tr>\n",
       "    <tr>\n",
       "      <th>7</th>\n",
       "      <td>time</td>\n",
       "      <td>122</td>\n",
       "    </tr>\n",
       "    <tr>\n",
       "      <th>8</th>\n",
       "      <td>place</td>\n",
       "      <td>121</td>\n",
       "    </tr>\n",
       "    <tr>\n",
       "      <th>9</th>\n",
       "      <td>good</td>\n",
       "      <td>109</td>\n",
       "    </tr>\n",
       "    <tr>\n",
       "      <th>10</th>\n",
       "      <td>just</td>\n",
       "      <td>80</td>\n",
       "    </tr>\n",
       "    <tr>\n",
       "      <th>11</th>\n",
       "      <td>fuck</td>\n",
       "      <td>52</td>\n",
       "    </tr>\n",
       "    <tr>\n",
       "      <th>12</th>\n",
       "      <td>people</td>\n",
       "      <td>52</td>\n",
       "    </tr>\n",
       "    <tr>\n",
       "      <th>13</th>\n",
       "      <td>like</td>\n",
       "      <td>49</td>\n",
       "    </tr>\n",
       "    <tr>\n",
       "      <th>14</th>\n",
       "      <td>hate</td>\n",
       "      <td>42</td>\n",
       "    </tr>\n",
       "    <tr>\n",
       "      <th>15</th>\n",
       "      <td>fucking</td>\n",
       "      <td>35</td>\n",
       "    </tr>\n",
       "    <tr>\n",
       "      <th>16</th>\n",
       "      <td>bad</td>\n",
       "      <td>35</td>\n",
       "    </tr>\n",
       "    <tr>\n",
       "      <th>17</th>\n",
       "      <td>know</td>\n",
       "      <td>30</td>\n",
       "    </tr>\n",
       "    <tr>\n",
       "      <th>18</th>\n",
       "      <td>live</td>\n",
       "      <td>29</td>\n",
       "    </tr>\n",
       "    <tr>\n",
       "      <th>19</th>\n",
       "      <td>shit</td>\n",
       "      <td>28</td>\n",
       "    </tr>\n",
       "  </tbody>\n",
       "</table>\n",
       "</div>"
      ],
      "text/plain": [
       "       word  count\n",
       "0      just    267\n",
       "1      know    211\n",
       "2      like    186\n",
       "3      want    151\n",
       "4      look    150\n",
       "5    people    137\n",
       "6       say    127\n",
       "7      time    122\n",
       "8     place    121\n",
       "9      good    109\n",
       "10     just     80\n",
       "11     fuck     52\n",
       "12   people     52\n",
       "13     like     49\n",
       "14     hate     42\n",
       "15  fucking     35\n",
       "16      bad     35\n",
       "17     know     30\n",
       "18     live     29\n",
       "19     shit     28"
      ]
     },
     "execution_count": 45,
     "metadata": {},
     "output_type": "execute_result"
    }
   ],
   "source": [
    "st_top_10_each = pd.concat([st_ohio_top_10, st_hate_ohio_top_10])\n",
    "st_top_10_each = st_top_10_each.reset_index().rename(columns={'index': 'word', 0: 'count'})\n",
    "st_top_10_each"
   ]
  },
  {
   "cell_type": "code",
   "execution_count": 46,
   "metadata": {},
   "outputs": [
    {
     "data": {
      "image/png": "[encoded data removed]",
      "text/plain": [
       "<Figure size 800x800 with 1 Axes>"
      ]
     },
     "metadata": {},
     "output_type": "display_data"
    }
   ],
   "source": [
    "colors = ['#18453B', '#18453B', '#18453B', '#18453B', '#18453B', '#18453B', '#18453B', '#18453B', '#18453B', '#18453B', '#0B9A6D', '#0B9A6D', '#0B9A6D', '#0B9A6D', '#0B9A6D', '#0B9A6D', '#0B9A6D', '#0B9A6D', '#0B9A6D', '#0B9A6D']\n",
    "\n",
    "plt.figure(figsize=(8,8))\n",
    "plt.barh(y=st_top_10_each.index[::-1], width=st_top_10_each['count'], color = colors)\n",
    "plt.yticks(ticks = st_top_10_each.index, labels=st_top_10_each['word'][::-1])\n",
    "ohio = mpatches.Patch(color='#18453B', label='Ohio')\n",
    "hateohio = mpatches.Patch(color='#0B9A6D', label='IHateOhio')\n",
    "plt.legend(handles=[ohio, hateohio])\n",
    "plt.xlabel('Count')\n",
    "plt.title('Top 10 Most-Used Words in Each Subreddit Selftext');"
   ]
  },
  {
   "cell_type": "markdown",
   "metadata": {},
   "source": [
    "Similar to the title words, there is a clear difference in those shown in the above bar chart. The IHateOhio subreddit has a number of expletives, while the Ohio captions look to be more centered around opinions and questions."
   ]
  },
  {
   "cell_type": "markdown",
   "metadata": {},
   "source": [
    "### What are the most common bigrams in the post titles?"
   ]
  },
  {
   "cell_type": "code",
   "execution_count": 47,
   "metadata": {},
   "outputs": [
    {
     "data": {
      "text/plain": [
       "matrix([[0, 0, 0, ..., 0, 0, 0],\n",
       "        [0, 0, 0, ..., 0, 0, 0],\n",
       "        [0, 0, 0, ..., 0, 0, 0],\n",
       "        ...,\n",
       "        [0, 0, 0, ..., 0, 0, 0],\n",
       "        [0, 0, 0, ..., 0, 0, 0],\n",
       "        [0, 0, 0, ..., 0, 0, 0]])"
      ]
     },
     "execution_count": 47,
     "metadata": {},
     "output_type": "execute_result"
    }
   ],
   "source": [
    "cvec = CountVectorizer(stop_words=new_stop_words, ngram_range=(2,2))\n",
    "\n",
    "reddit_bi_fit = cvec.fit_transform(reddit['lem_title'])\n",
    "\n",
    "reddit_bi_fit.todense()"
   ]
  },
  {
   "cell_type": "code",
   "execution_count": 48,
   "metadata": {},
   "outputs": [
    {
     "data": {
      "text/plain": [
       "year old           8\n",
       "break claim        6\n",
       "hate place         6\n",
       "fuck fuck          5\n",
       "absentee ballot    5\n",
       "high school        5\n",
       "oh god             5\n",
       "cedar point        5\n",
       "road trip          5\n",
       "speed ticket       5\n",
       "dtype: int64"
      ]
     },
     "execution_count": 48,
     "metadata": {},
     "output_type": "execute_result"
    }
   ],
   "source": [
    "bigram_df = pd.DataFrame(reddit_bi_fit.todense(), columns=cvec.get_feature_names_out())\n",
    "\n",
    "top_10_bigrams = bigram_df.sum(axis=0).sort_values(ascending=False).head(10)\n",
    "\n",
    "top_10_bigrams"
   ]
  },
  {
   "cell_type": "code",
   "execution_count": 49,
   "metadata": {},
   "outputs": [
    {
     "data": {
      "text/plain": [
       "matrix([[0, 0, 0, ..., 0, 0, 0],\n",
       "        [0, 0, 0, ..., 0, 0, 0],\n",
       "        [0, 0, 0, ..., 0, 0, 0],\n",
       "        ...,\n",
       "        [0, 0, 0, ..., 0, 0, 0],\n",
       "        [0, 0, 0, ..., 0, 0, 0],\n",
       "        [0, 0, 0, ..., 0, 0, 0]])"
      ]
     },
     "execution_count": 49,
     "metadata": {},
     "output_type": "execute_result"
    }
   ],
   "source": [
    "cvec = CountVectorizer(stop_words=new_stop_words, ngram_range=(2,2))\n",
    "\n",
    "reddit_st_bi_fit = cvec.fit_transform(reddit['lem_selftext'])\n",
    "\n",
    "reddit_st_bi_fit.todense()"
   ]
  },
  {
   "cell_type": "code",
   "execution_count": 50,
   "metadata": {},
   "outputs": [
    {
     "data": {
      "text/plain": [
       "just want        27\n",
       "thank advance    22\n",
       "year old         20\n",
       "feel like        18\n",
       "let know         16\n",
       "want know        15\n",
       "year ago         14\n",
       "just curious     11\n",
       "small town       10\n",
       "look like        10\n",
       "dtype: int64"
      ]
     },
     "execution_count": 50,
     "metadata": {},
     "output_type": "execute_result"
    }
   ],
   "source": [
    "bigram_st_df = pd.DataFrame(reddit_st_bi_fit.todense(), columns=cvec.get_feature_names_out())\n",
    "\n",
    "top_10_st_bigrams = bigram_st_df.sum(axis=0).sort_values(ascending=False).head(10)\n",
    "\n",
    "top_10_st_bigrams"
   ]
  },
  {
   "cell_type": "markdown",
   "metadata": {},
   "source": [
    "### What is the overall sentiment of the titles in each subreddit?"
   ]
  },
  {
   "cell_type": "code",
   "execution_count": 51,
   "metadata": {},
   "outputs": [],
   "source": [
    "sent = SentimentIntensityAnalyzer()"
   ]
  },
  {
   "cell_type": "code",
   "execution_count": 52,
   "metadata": {},
   "outputs": [],
   "source": [
    "titles = reddit[['lem_title', 'subreddit_class']]\n",
    "\n",
    "love_sent = []\n",
    "hate_sent = []\n",
    "\n",
    "for i in range(len(titles)):\n",
    "    if titles['subreddit_class'][i] == 'ohio':\n",
    "        love_sent.append(sent.polarity_scores(titles['lem_title'][i]))\n",
    "    else:\n",
    "        hate_sent.append(sent.polarity_scores(titles['lem_title'][i]))            "
   ]
  },
  {
   "cell_type": "code",
   "execution_count": 53,
   "metadata": {},
   "outputs": [],
   "source": [
    "love_sent_df = pd.DataFrame.from_dict(love_sent)\n",
    "hate_sent_df = pd.DataFrame.from_dict(hate_sent)"
   ]
  },
  {
   "cell_type": "code",
   "execution_count": 54,
   "metadata": {},
   "outputs": [
    {
     "data": {
      "text/html": [
       "<div>\n",
       "<style scoped>\n",
       "    .dataframe tbody tr th:only-of-type {\n",
       "        vertical-align: middle;\n",
       "    }\n",
       "\n",
       "    .dataframe tbody tr th {\n",
       "        vertical-align: top;\n",
       "    }\n",
       "\n",
       "    .dataframe thead th {\n",
       "        text-align: right;\n",
       "    }\n",
       "</style>\n",
       "<table border=\"1\" class=\"dataframe\">\n",
       "  <thead>\n",
       "    <tr style=\"text-align: right;\">\n",
       "      <th></th>\n",
       "      <th>neg</th>\n",
       "      <th>neu</th>\n",
       "      <th>pos</th>\n",
       "      <th>compound</th>\n",
       "    </tr>\n",
       "  </thead>\n",
       "  <tbody>\n",
       "    <tr>\n",
       "      <th>count</th>\n",
       "      <td>797.000000</td>\n",
       "      <td>797.000000</td>\n",
       "      <td>797.000000</td>\n",
       "      <td>797.000000</td>\n",
       "    </tr>\n",
       "    <tr>\n",
       "      <th>mean</th>\n",
       "      <td>0.063181</td>\n",
       "      <td>0.859184</td>\n",
       "      <td>0.077636</td>\n",
       "      <td>0.039269</td>\n",
       "    </tr>\n",
       "    <tr>\n",
       "      <th>std</th>\n",
       "      <td>0.148434</td>\n",
       "      <td>0.195805</td>\n",
       "      <td>0.146421</td>\n",
       "      <td>0.311392</td>\n",
       "    </tr>\n",
       "    <tr>\n",
       "      <th>min</th>\n",
       "      <td>0.000000</td>\n",
       "      <td>0.000000</td>\n",
       "      <td>0.000000</td>\n",
       "      <td>-0.880700</td>\n",
       "    </tr>\n",
       "    <tr>\n",
       "      <th>25%</th>\n",
       "      <td>0.000000</td>\n",
       "      <td>0.741000</td>\n",
       "      <td>0.000000</td>\n",
       "      <td>0.000000</td>\n",
       "    </tr>\n",
       "    <tr>\n",
       "      <th>50%</th>\n",
       "      <td>0.000000</td>\n",
       "      <td>1.000000</td>\n",
       "      <td>0.000000</td>\n",
       "      <td>0.000000</td>\n",
       "    </tr>\n",
       "    <tr>\n",
       "      <th>75%</th>\n",
       "      <td>0.000000</td>\n",
       "      <td>1.000000</td>\n",
       "      <td>0.130000</td>\n",
       "      <td>0.077200</td>\n",
       "    </tr>\n",
       "    <tr>\n",
       "      <th>max</th>\n",
       "      <td>0.865000</td>\n",
       "      <td>1.000000</td>\n",
       "      <td>1.000000</td>\n",
       "      <td>0.945700</td>\n",
       "    </tr>\n",
       "  </tbody>\n",
       "</table>\n",
       "</div>"
      ],
      "text/plain": [
       "              neg         neu         pos    compound\n",
       "count  797.000000  797.000000  797.000000  797.000000\n",
       "mean     0.063181    0.859184    0.077636    0.039269\n",
       "std      0.148434    0.195805    0.146421    0.311392\n",
       "min      0.000000    0.000000    0.000000   -0.880700\n",
       "25%      0.000000    0.741000    0.000000    0.000000\n",
       "50%      0.000000    1.000000    0.000000    0.000000\n",
       "75%      0.000000    1.000000    0.130000    0.077200\n",
       "max      0.865000    1.000000    1.000000    0.945700"
      ]
     },
     "execution_count": 54,
     "metadata": {},
     "output_type": "execute_result"
    }
   ],
   "source": [
    "love_sent_df.describe()"
   ]
  },
  {
   "cell_type": "code",
   "execution_count": 55,
   "metadata": {},
   "outputs": [
    {
     "data": {
      "text/html": [
       "<div>\n",
       "<style scoped>\n",
       "    .dataframe tbody tr th:only-of-type {\n",
       "        vertical-align: middle;\n",
       "    }\n",
       "\n",
       "    .dataframe tbody tr th {\n",
       "        vertical-align: top;\n",
       "    }\n",
       "\n",
       "    .dataframe thead th {\n",
       "        text-align: right;\n",
       "    }\n",
       "</style>\n",
       "<table border=\"1\" class=\"dataframe\">\n",
       "  <thead>\n",
       "    <tr style=\"text-align: right;\">\n",
       "      <th></th>\n",
       "      <th>neg</th>\n",
       "      <th>neu</th>\n",
       "      <th>pos</th>\n",
       "      <th>compound</th>\n",
       "    </tr>\n",
       "  </thead>\n",
       "  <tbody>\n",
       "    <tr>\n",
       "      <th>count</th>\n",
       "      <td>871.000000</td>\n",
       "      <td>871.000000</td>\n",
       "      <td>871.000000</td>\n",
       "      <td>871.000000</td>\n",
       "    </tr>\n",
       "    <tr>\n",
       "      <th>mean</th>\n",
       "      <td>0.166279</td>\n",
       "      <td>0.740394</td>\n",
       "      <td>0.093323</td>\n",
       "      <td>-0.107750</td>\n",
       "    </tr>\n",
       "    <tr>\n",
       "      <th>std</th>\n",
       "      <td>0.233329</td>\n",
       "      <td>0.253817</td>\n",
       "      <td>0.173837</td>\n",
       "      <td>0.399072</td>\n",
       "    </tr>\n",
       "    <tr>\n",
       "      <th>min</th>\n",
       "      <td>0.000000</td>\n",
       "      <td>0.000000</td>\n",
       "      <td>0.000000</td>\n",
       "      <td>-0.977500</td>\n",
       "    </tr>\n",
       "    <tr>\n",
       "      <th>25%</th>\n",
       "      <td>0.000000</td>\n",
       "      <td>0.576500</td>\n",
       "      <td>0.000000</td>\n",
       "      <td>-0.502800</td>\n",
       "    </tr>\n",
       "    <tr>\n",
       "      <th>50%</th>\n",
       "      <td>0.000000</td>\n",
       "      <td>0.759000</td>\n",
       "      <td>0.000000</td>\n",
       "      <td>0.000000</td>\n",
       "    </tr>\n",
       "    <tr>\n",
       "      <th>75%</th>\n",
       "      <td>0.296500</td>\n",
       "      <td>1.000000</td>\n",
       "      <td>0.145000</td>\n",
       "      <td>0.000000</td>\n",
       "    </tr>\n",
       "    <tr>\n",
       "      <th>max</th>\n",
       "      <td>1.000000</td>\n",
       "      <td>1.000000</td>\n",
       "      <td>1.000000</td>\n",
       "      <td>0.862500</td>\n",
       "    </tr>\n",
       "  </tbody>\n",
       "</table>\n",
       "</div>"
      ],
      "text/plain": [
       "              neg         neu         pos    compound\n",
       "count  871.000000  871.000000  871.000000  871.000000\n",
       "mean     0.166279    0.740394    0.093323   -0.107750\n",
       "std      0.233329    0.253817    0.173837    0.399072\n",
       "min      0.000000    0.000000    0.000000   -0.977500\n",
       "25%      0.000000    0.576500    0.000000   -0.502800\n",
       "50%      0.000000    0.759000    0.000000    0.000000\n",
       "75%      0.296500    1.000000    0.145000    0.000000\n",
       "max      1.000000    1.000000    1.000000    0.862500"
      ]
     },
     "execution_count": 55,
     "metadata": {},
     "output_type": "execute_result"
    }
   ],
   "source": [
    "hate_sent_df.describe()"
   ]
  },
  {
   "cell_type": "markdown",
   "metadata": {},
   "source": [
    "### What is the overall sentiment of the captions in each subreddit?"
   ]
  },
  {
   "cell_type": "code",
   "execution_count": 56,
   "metadata": {},
   "outputs": [],
   "source": [
    "sent = SentimentIntensityAnalyzer()"
   ]
  },
  {
   "cell_type": "code",
   "execution_count": 57,
   "metadata": {},
   "outputs": [],
   "source": [
    "selftexts = reddit[['lem_selftext', 'subreddit_class']]\n",
    "\n",
    "st_love_sent = []\n",
    "st_hate_sent = []\n",
    "\n",
    "for i in range(len(selftexts)):\n",
    "    if selftexts['subreddit_class'][i] == 'ohio':\n",
    "        st_love_sent.append(sent.polarity_scores(selftexts['lem_selftext'][i]))\n",
    "    else:\n",
    "        st_hate_sent.append(sent.polarity_scores(selftexts['lem_selftext'][i]))     "
   ]
  },
  {
   "cell_type": "code",
   "execution_count": 58,
   "metadata": {},
   "outputs": [],
   "source": [
    "st_love_sent_df = pd.DataFrame.from_dict(st_love_sent)\n",
    "st_hate_sent_df = pd.DataFrame.from_dict(st_hate_sent)"
   ]
  },
  {
   "cell_type": "code",
   "execution_count": 59,
   "metadata": {},
   "outputs": [
    {
     "data": {
      "text/html": [
       "<div>\n",
       "<style scoped>\n",
       "    .dataframe tbody tr th:only-of-type {\n",
       "        vertical-align: middle;\n",
       "    }\n",
       "\n",
       "    .dataframe tbody tr th {\n",
       "        vertical-align: top;\n",
       "    }\n",
       "\n",
       "    .dataframe thead th {\n",
       "        text-align: right;\n",
       "    }\n",
       "</style>\n",
       "<table border=\"1\" class=\"dataframe\">\n",
       "  <thead>\n",
       "    <tr style=\"text-align: right;\">\n",
       "      <th></th>\n",
       "      <th>neg</th>\n",
       "      <th>neu</th>\n",
       "      <th>pos</th>\n",
       "      <th>compound</th>\n",
       "    </tr>\n",
       "  </thead>\n",
       "  <tbody>\n",
       "    <tr>\n",
       "      <th>count</th>\n",
       "      <td>797.000000</td>\n",
       "      <td>797.000000</td>\n",
       "      <td>797.000000</td>\n",
       "      <td>797.000000</td>\n",
       "    </tr>\n",
       "    <tr>\n",
       "      <th>mean</th>\n",
       "      <td>0.040390</td>\n",
       "      <td>0.725231</td>\n",
       "      <td>0.083828</td>\n",
       "      <td>0.229967</td>\n",
       "    </tr>\n",
       "    <tr>\n",
       "      <th>std</th>\n",
       "      <td>0.061952</td>\n",
       "      <td>0.319992</td>\n",
       "      <td>0.095082</td>\n",
       "      <td>0.539884</td>\n",
       "    </tr>\n",
       "    <tr>\n",
       "      <th>min</th>\n",
       "      <td>0.000000</td>\n",
       "      <td>0.000000</td>\n",
       "      <td>0.000000</td>\n",
       "      <td>-0.992800</td>\n",
       "    </tr>\n",
       "    <tr>\n",
       "      <th>25%</th>\n",
       "      <td>0.000000</td>\n",
       "      <td>0.746000</td>\n",
       "      <td>0.000000</td>\n",
       "      <td>0.000000</td>\n",
       "    </tr>\n",
       "    <tr>\n",
       "      <th>50%</th>\n",
       "      <td>0.011000</td>\n",
       "      <td>0.848000</td>\n",
       "      <td>0.067000</td>\n",
       "      <td>0.128000</td>\n",
       "    </tr>\n",
       "    <tr>\n",
       "      <th>75%</th>\n",
       "      <td>0.063000</td>\n",
       "      <td>0.907000</td>\n",
       "      <td>0.131000</td>\n",
       "      <td>0.746400</td>\n",
       "    </tr>\n",
       "    <tr>\n",
       "      <th>max</th>\n",
       "      <td>0.481000</td>\n",
       "      <td>1.000000</td>\n",
       "      <td>1.000000</td>\n",
       "      <td>0.999500</td>\n",
       "    </tr>\n",
       "  </tbody>\n",
       "</table>\n",
       "</div>"
      ],
      "text/plain": [
       "              neg         neu         pos    compound\n",
       "count  797.000000  797.000000  797.000000  797.000000\n",
       "mean     0.040390    0.725231    0.083828    0.229967\n",
       "std      0.061952    0.319992    0.095082    0.539884\n",
       "min      0.000000    0.000000    0.000000   -0.992800\n",
       "25%      0.000000    0.746000    0.000000    0.000000\n",
       "50%      0.011000    0.848000    0.067000    0.128000\n",
       "75%      0.063000    0.907000    0.131000    0.746400\n",
       "max      0.481000    1.000000    1.000000    0.999500"
      ]
     },
     "execution_count": 59,
     "metadata": {},
     "output_type": "execute_result"
    }
   ],
   "source": [
    "st_love_sent_df.describe()"
   ]
  },
  {
   "cell_type": "code",
   "execution_count": 60,
   "metadata": {},
   "outputs": [
    {
     "data": {
      "text/html": [
       "<div>\n",
       "<style scoped>\n",
       "    .dataframe tbody tr th:only-of-type {\n",
       "        vertical-align: middle;\n",
       "    }\n",
       "\n",
       "    .dataframe tbody tr th {\n",
       "        vertical-align: top;\n",
       "    }\n",
       "\n",
       "    .dataframe thead th {\n",
       "        text-align: right;\n",
       "    }\n",
       "</style>\n",
       "<table border=\"1\" class=\"dataframe\">\n",
       "  <thead>\n",
       "    <tr style=\"text-align: right;\">\n",
       "      <th></th>\n",
       "      <th>neg</th>\n",
       "      <th>neu</th>\n",
       "      <th>pos</th>\n",
       "      <th>compound</th>\n",
       "    </tr>\n",
       "  </thead>\n",
       "  <tbody>\n",
       "    <tr>\n",
       "      <th>count</th>\n",
       "      <td>871.000000</td>\n",
       "      <td>871.000000</td>\n",
       "      <td>871.00000</td>\n",
       "      <td>871.000000</td>\n",
       "    </tr>\n",
       "    <tr>\n",
       "      <th>mean</th>\n",
       "      <td>0.045082</td>\n",
       "      <td>0.174366</td>\n",
       "      <td>0.02051</td>\n",
       "      <td>-0.063885</td>\n",
       "    </tr>\n",
       "    <tr>\n",
       "      <th>std</th>\n",
       "      <td>0.129271</td>\n",
       "      <td>0.328061</td>\n",
       "      <td>0.07581</td>\n",
       "      <td>0.275363</td>\n",
       "    </tr>\n",
       "    <tr>\n",
       "      <th>min</th>\n",
       "      <td>0.000000</td>\n",
       "      <td>0.000000</td>\n",
       "      <td>0.00000</td>\n",
       "      <td>-0.997500</td>\n",
       "    </tr>\n",
       "    <tr>\n",
       "      <th>25%</th>\n",
       "      <td>0.000000</td>\n",
       "      <td>0.000000</td>\n",
       "      <td>0.00000</td>\n",
       "      <td>0.000000</td>\n",
       "    </tr>\n",
       "    <tr>\n",
       "      <th>50%</th>\n",
       "      <td>0.000000</td>\n",
       "      <td>0.000000</td>\n",
       "      <td>0.00000</td>\n",
       "      <td>0.000000</td>\n",
       "    </tr>\n",
       "    <tr>\n",
       "      <th>75%</th>\n",
       "      <td>0.000000</td>\n",
       "      <td>0.000000</td>\n",
       "      <td>0.00000</td>\n",
       "      <td>0.000000</td>\n",
       "    </tr>\n",
       "    <tr>\n",
       "      <th>max</th>\n",
       "      <td>1.000000</td>\n",
       "      <td>1.000000</td>\n",
       "      <td>1.00000</td>\n",
       "      <td>0.984900</td>\n",
       "    </tr>\n",
       "  </tbody>\n",
       "</table>\n",
       "</div>"
      ],
      "text/plain": [
       "              neg         neu        pos    compound\n",
       "count  871.000000  871.000000  871.00000  871.000000\n",
       "mean     0.045082    0.174366    0.02051   -0.063885\n",
       "std      0.129271    0.328061    0.07581    0.275363\n",
       "min      0.000000    0.000000    0.00000   -0.997500\n",
       "25%      0.000000    0.000000    0.00000    0.000000\n",
       "50%      0.000000    0.000000    0.00000    0.000000\n",
       "75%      0.000000    0.000000    0.00000    0.000000\n",
       "max      1.000000    1.000000    1.00000    0.984900"
      ]
     },
     "execution_count": 60,
     "metadata": {},
     "output_type": "execute_result"
    }
   ],
   "source": [
    "st_hate_sent_df.describe()"
   ]
  },
  {
   "cell_type": "markdown",
   "metadata": {},
   "source": [
    "Referring to the means for each dataframe, it looks like most post titles and captions rank highest on neutrality. The IHateOhio titles had a relatively high mean neutrality score (0.74), while the IHateOhio captions didn't score particularly high on any measure. \n",
    "\n",
    "For the sake of analysis and predictions, I'll be using the compound means for each dataframe, as these are described to be the 'normalized, composite score' for each post in [this](https://github.com/cjhutto/vaderSentiment) documentation.\n",
    "\n",
    "The IHateOhio post titles have the lowest mean compound score, at almost -0.11. On the contrary, the Ohio titles have a relatively impartial score of 0.039. The IHateOhio selftexts have a less impressive mean compound score of -0.064, but the Ohio selftexts have a strong mean of 0.229. All compound score standard deviations are 0.27 or above, meaning that these scores can vary quite a bit and depending on how they vary, could make it easier or harder for the models to classify.\n",
    "\n",
    "I'll be interested to see if the heavier negative score in the IHateOhio titles make for better predictions, or if the positive skew of the Ohio selftexts will be more effective in modeling."
   ]
  },
  {
   "cell_type": "code",
   "execution_count": 61,
   "metadata": {},
   "outputs": [
    {
     "data": {
      "text/plain": [
       "neg         0.045082\n",
       "neu         0.174366\n",
       "pos         0.020510\n",
       "compound   -0.063885\n",
       "Name: mean, dtype: float64"
      ]
     },
     "execution_count": 61,
     "metadata": {},
     "output_type": "execute_result"
    }
   ],
   "source": [
    "hate_des = st_hate_sent_df.describe()\n",
    "hate_des.loc['mean']"
   ]
  },
  {
   "cell_type": "code",
   "execution_count": 62,
   "metadata": {},
   "outputs": [
    {
     "data": {
      "image/png": "[encoded data removed]",
      "text/plain": [
       "<Figure size 1000x800 with 1 Axes>"
      ]
     },
     "metadata": {},
     "output_type": "display_data"
    }
   ],
   "source": [
    "data = [['Ohio Title Scores', 0.063181, 0.859184, 0.077636, 0.039269], ['IHateOhio Title Scores', 0.166279, 0.740394, 0.093323, -0.107750], \n",
    "['Ohio Selftext Scores', 0.040390, 0.725231, 0.083828, 0.229967], ['IHateOhio Selftext Scores', 0.045082, 0.174366, 0.02051, -0.063885]]\n",
    "\n",
    "df = pd.DataFrame(data, columns=['Subreddit', 'Neg', 'Neu', 'Pos', 'Compound'])\n",
    "df.set_index('Subreddit', inplace=True)\n",
    "\n",
    "y_tix = [-.2, 0, .2, .4, .6, .8, 1]\n",
    "df.plot(kind='bar', rot=1, figsize=(10,8), ylim=[-.2, 1], xlabel=' ', colormap='Dark2', title='Subreddit Sentiment Scores', yticks=y_tix)\n",
    "plt.axhline(y=0, color = 'black', linewidth=0.4)\n",
    "plt.legend(loc='upper center');"
   ]
  },
  {
   "cell_type": "markdown",
   "metadata": {},
   "source": [
    "---\n",
    "\n",
    "## Model Predictions\n",
    "\n",
    "Going into the model building, I predict the title column to perform better and produce greater test scores than the selftext column. This is because:\n",
    "- There are no nulls in the title column, but 788 in the selftext column.\n",
    "- In the graphs above, the most commonly used words are similar among the title and selftext columns. Because there is some resemblance between the two, but less missing data in the title column, I would expect it to be more useful.\n",
    "- Additionally, I believe the -0.1 mean compound score of the IHateOhio titles will be important in predictions.\n",
    "\n",
    "With regard to the two subreddit threads, I imagine that the Ohio posts will be somewhat more difficult for most models to classify because there are less strongly-worded phrases."
   ]
  }
 ],
 "metadata": {
  "kernelspec": {
   "display_name": "Python 3.9.6 64-bit ('3.9.6')",
   "language": "python",
   "name": "python3"
  },
  "language_info": {
   "codemirror_mode": {
    "name": "ipython",
    "version": 3
   },
   "file_extension": ".py",
   "mimetype": "text/x-python",
   "name": "python",
   "nbconvert_exporter": "python",
   "pygments_lexer": "ipython3",
   "version": "3.9.6"
  },
  "orig_nbformat": 4,
  "vscode": {
   "interpreter": {
    "hash": "d3fbca8c5142a5f3fc0e150e2aa7dc992112775c37c59dc77ad7b753c4c0bceb"
   }
  }
 },
 "nbformat": 4,
 "nbformat_minor": 2
}
