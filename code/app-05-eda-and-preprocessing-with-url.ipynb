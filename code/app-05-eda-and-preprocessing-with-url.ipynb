{
 "cells": [
  {
   "cell_type": "markdown",
   "metadata": {},
   "source": [
    "# EDA and Preprocessing"
   ]
  },
  {
   "cell_type": "markdown",
   "metadata": {},
   "source": [
    "Here I'll be performing my initial exploratory analysis to get a feel for the data and see what some of the most common words and bigrams used in each subreddit page are."
   ]
  },
  {
   "cell_type": "code",
   "execution_count": 1,
   "metadata": {},
   "outputs": [],
   "source": [
    "# Imports\n",
    "\n",
    "import pandas as pd\n",
    "import matplotlib.pyplot as plt\n",
    "import matplotlib.patches as mpatches\n",
    "import numpy as np\n",
    "import seaborn as sns\n",
    "\n",
    "from sklearn.feature_extraction.text import CountVectorizer\n",
    "from vaderSentiment.vaderSentiment import SentimentIntensityAnalyzer\n",
    "import re\n",
    "\n",
    "pd.options.display.max_colwidth = 200"
   ]
  },
  {
   "cell_type": "code",
   "execution_count": 2,
   "metadata": {},
   "outputs": [
    {
     "name": "stdout",
     "output_type": "stream",
     "text": [
      "(1870, 89)\n"
     ]
    },
    {
     "data": {
      "text/html": [
       "<div>\n",
       "<style scoped>\n",
       "    .dataframe tbody tr th:only-of-type {\n",
       "        vertical-align: middle;\n",
       "    }\n",
       "\n",
       "    .dataframe tbody tr th {\n",
       "        vertical-align: top;\n",
       "    }\n",
       "\n",
       "    .dataframe thead th {\n",
       "        text-align: right;\n",
       "    }\n",
       "</style>\n",
       "<table border=\"1\" class=\"dataframe\">\n",
       "  <thead>\n",
       "    <tr style=\"text-align: right;\">\n",
       "      <th></th>\n",
       "      <th>subreddit</th>\n",
       "      <th>title</th>\n",
       "      <th>selftext</th>\n",
       "    </tr>\n",
       "  </thead>\n",
       "  <tbody>\n",
       "    <tr>\n",
       "      <th>0</th>\n",
       "      <td>Ohio</td>\n",
       "      <td>About the Donovan Lewis police shooting in Columbus.</td>\n",
       "      <td>Donovan reacted as naturally as anyone would when strangers burst open your bedroom door. There is inherent risk when serving a warrant and going through someone’s home unwelcomed. Cops need to re...</td>\n",
       "    </tr>\n",
       "    <tr>\n",
       "      <th>1</th>\n",
       "      <td>Ohio</td>\n",
       "      <td>The chokehold JD Vance has on my YouTube ads.</td>\n",
       "      <td>No matter how much you tell me about it, I’m not reading Hillbilly Elegy. But seriously, Tim Ryan needs to make an ad on there.</td>\n",
       "    </tr>\n",
       "    <tr>\n",
       "      <th>2</th>\n",
       "      <td>Ohio</td>\n",
       "      <td>Need wedding photographer plzzz</td>\n",
       "      <td>Hi everyone my fiancé and I booked a photographer last year for our wedding for 9/10/22 and we put a deposit down and signed a contract . The past 2 weeks we have called then emailed even txted an...</td>\n",
       "    </tr>\n",
       "    <tr>\n",
       "      <th>3</th>\n",
       "      <td>Ohio</td>\n",
       "      <td>Ranked choice voting?</td>\n",
       "      <td>Alaska seems to be doing well, when does Ohio follow.</td>\n",
       "    </tr>\n",
       "    <tr>\n",
       "      <th>4</th>\n",
       "      <td>Ohio</td>\n",
       "      <td>How long is the wait for a handgun purchased from Atlantic gun &amp;amp; tackle</td>\n",
       "      <td>Not sure if this is the right place to be asking. But I recently just purchased a handgun from Atlantic gun &amp;amp; tackle and they said I could get approved today in the next hour or it could be up...</td>\n",
       "    </tr>\n",
       "    <tr>\n",
       "      <th>1865</th>\n",
       "      <td>IHateOhio</td>\n",
       "      <td>Candle knows what’s up!</td>\n",
       "      <td>NaN</td>\n",
       "    </tr>\n",
       "    <tr>\n",
       "      <th>1866</th>\n",
       "      <td>IHateOhio</td>\n",
       "      <td>Caught this monstrous DiWhy in SE MI, cherry on top was the license plate</td>\n",
       "      <td>NaN</td>\n",
       "    </tr>\n",
       "    <tr>\n",
       "      <th>1867</th>\n",
       "      <td>IHateOhio</td>\n",
       "      <td>Cuyahoga named River of the Year</td>\n",
       "      <td>NaN</td>\n",
       "    </tr>\n",
       "    <tr>\n",
       "      <th>1868</th>\n",
       "      <td>IHateOhio</td>\n",
       "      <td>Cursed_tribute</td>\n",
       "      <td>NaN</td>\n",
       "    </tr>\n",
       "    <tr>\n",
       "      <th>1869</th>\n",
       "      <td>IHateOhio</td>\n",
       "      <td>I hate Ohio</td>\n",
       "      <td>NaN</td>\n",
       "    </tr>\n",
       "  </tbody>\n",
       "</table>\n",
       "</div>"
      ],
      "text/plain": [
       "      subreddit  \\\n",
       "0          Ohio   \n",
       "1          Ohio   \n",
       "2          Ohio   \n",
       "3          Ohio   \n",
       "4          Ohio   \n",
       "1865  IHateOhio   \n",
       "1866  IHateOhio   \n",
       "1867  IHateOhio   \n",
       "1868  IHateOhio   \n",
       "1869  IHateOhio   \n",
       "\n",
       "                                                                            title  \\\n",
       "0                            About the Donovan Lewis police shooting in Columbus.   \n",
       "1                                   The chokehold JD Vance has on my YouTube ads.   \n",
       "2                                                 Need wedding photographer plzzz   \n",
       "3                                                           Ranked choice voting?   \n",
       "4     How long is the wait for a handgun purchased from Atlantic gun &amp; tackle   \n",
       "1865                                                      Candle knows what’s up!   \n",
       "1866    Caught this monstrous DiWhy in SE MI, cherry on top was the license plate   \n",
       "1867                                             Cuyahoga named River of the Year   \n",
       "1868                                                               Cursed_tribute   \n",
       "1869                                                                  I hate Ohio   \n",
       "\n",
       "                                                                                                                                                                                                     selftext  \n",
       "0     Donovan reacted as naturally as anyone would when strangers burst open your bedroom door. There is inherent risk when serving a warrant and going through someone’s home unwelcomed. Cops need to re...  \n",
       "1                                                                             No matter how much you tell me about it, I’m not reading Hillbilly Elegy. But seriously, Tim Ryan needs to make an ad on there.  \n",
       "2     Hi everyone my fiancé and I booked a photographer last year for our wedding for 9/10/22 and we put a deposit down and signed a contract . The past 2 weeks we have called then emailed even txted an...  \n",
       "3                                                                                                                                                       Alaska seems to be doing well, when does Ohio follow.  \n",
       "4     Not sure if this is the right place to be asking. But I recently just purchased a handgun from Atlantic gun &amp; tackle and they said I could get approved today in the next hour or it could be up...  \n",
       "1865                                                                                                                                                                                                      NaN  \n",
       "1866                                                                                                                                                                                                      NaN  \n",
       "1867                                                                                                                                                                                                      NaN  \n",
       "1868                                                                                                                                                                                                      NaN  \n",
       "1869                                                                                                                                                                                                      NaN  "
      ]
     },
     "execution_count": 2,
     "metadata": {},
     "output_type": "execute_result"
    }
   ],
   "source": [
    "# Reading in the saved CSV file\n",
    "\n",
    "reddit = pd.read_csv('../datasets/reddit_all_columns_df.csv')\n",
    "reddit.drop(columns='Unnamed: 0', inplace=True)\n",
    "print(reddit.shape)\n",
    "reddit[['subreddit', 'title', 'selftext']].iloc[list(range(5)) + list(range(-5,0))]"
   ]
  },
  {
   "cell_type": "code",
   "execution_count": 3,
   "metadata": {},
   "outputs": [
    {
     "name": "stdout",
     "output_type": "stream",
     "text": [
      "<class 'pandas.core.frame.DataFrame'>\n",
      "RangeIndex: 1870 entries, 0 to 1869\n",
      "Data columns (total 89 columns):\n",
      " #   Column                         Non-Null Count  Dtype  \n",
      "---  ------                         --------------  -----  \n",
      " 0   all_awardings                  1725 non-null   object \n",
      " 1   allow_live_comments            1676 non-null   object \n",
      " 2   author                         1870 non-null   object \n",
      " 3   author_flair_css_class         26 non-null     object \n",
      " 4   author_flair_richtext          1851 non-null   object \n",
      " 5   author_flair_text              207 non-null    object \n",
      " 6   author_flair_type              1851 non-null   object \n",
      " 7   author_fullname                1851 non-null   object \n",
      " 8   author_is_blocked              790 non-null    object \n",
      " 9   author_patreon_flair           1833 non-null   object \n",
      " 10  author_premium                 1522 non-null   object \n",
      " 11  awarders                       1627 non-null   object \n",
      " 12  can_mod_post                   1870 non-null   bool   \n",
      " 13  contest_mode                   1870 non-null   bool   \n",
      " 14  created_utc                    1870 non-null   int64  \n",
      " 15  domain                         1870 non-null   object \n",
      " 16  full_link                      1870 non-null   object \n",
      " 17  gildings                       1870 non-null   object \n",
      " 18  id                             1870 non-null   object \n",
      " 19  is_created_from_ads_ui         883 non-null    object \n",
      " 20  is_crosspostable               1870 non-null   bool   \n",
      " 21  is_meta                        1870 non-null   bool   \n",
      " 22  is_original_content            1870 non-null   bool   \n",
      " 23  is_reddit_media_domain         1870 non-null   bool   \n",
      " 24  is_robot_indexable             1868 non-null   object \n",
      " 25  is_self                        1870 non-null   bool   \n",
      " 26  is_video                       1870 non-null   bool   \n",
      " 27  link_flair_background_color    335 non-null    object \n",
      " 28  link_flair_richtext            1870 non-null   object \n",
      " 29  link_flair_text_color          1870 non-null   object \n",
      " 30  link_flair_type                1870 non-null   object \n",
      " 31  locked                         1870 non-null   bool   \n",
      " 32  media_only                     1870 non-null   bool   \n",
      " 33  no_follow                      1870 non-null   bool   \n",
      " 34  num_comments                   1870 non-null   int64  \n",
      " 35  num_crossposts                 1870 non-null   int64  \n",
      " 36  over_18                        1870 non-null   bool   \n",
      " 37  parent_whitelist_status        1272 non-null   object \n",
      " 38  permalink                      1870 non-null   object \n",
      " 39  pinned                         1870 non-null   bool   \n",
      " 40  pwls                           1272 non-null   float64\n",
      " 41  retrieved_on                   1870 non-null   int64  \n",
      " 42  score                          1870 non-null   int64  \n",
      " 43  selftext                       1082 non-null   object \n",
      " 44  send_replies                   1870 non-null   bool   \n",
      " 45  spoiler                        1870 non-null   bool   \n",
      " 46  stickied                       1870 non-null   bool   \n",
      " 47  subreddit                      1870 non-null   object \n",
      " 48  subreddit_id                   1870 non-null   object \n",
      " 49  subreddit_subscribers          1870 non-null   int64  \n",
      " 50  subreddit_type                 1870 non-null   object \n",
      " 51  thumbnail                      1870 non-null   object \n",
      " 52  title                          1870 non-null   object \n",
      " 53  total_awards_received          1725 non-null   float64\n",
      " 54  treatment_tags                 1404 non-null   object \n",
      " 55  upvote_ratio                   1303 non-null   float64\n",
      " 56  url                            1870 non-null   object \n",
      " 57  whitelist_status               1272 non-null   object \n",
      " 58  wls                            1272 non-null   float64\n",
      " 59  media_metadata                 37 non-null     object \n",
      " 60  post_hint                      626 non-null    object \n",
      " 61  preview                        626 non-null    object \n",
      " 62  thumbnail_height               569 non-null    float64\n",
      " 63  thumbnail_width                569 non-null    float64\n",
      " 64  author_flair_background_color  185 non-null    object \n",
      " 65  author_flair_template_id       202 non-null    object \n",
      " 66  author_flair_text_color        226 non-null    object \n",
      " 67  author_cakeday                 13 non-null     object \n",
      " 68  banned_by                      1 non-null      object \n",
      " 69  removed_by_category            22 non-null     object \n",
      " 70  edited                         2 non-null      float64\n",
      " 71  poll_data                      11 non-null     object \n",
      " 72  steward_reports                162 non-null    object \n",
      " 73  updated_utc                    171 non-null    float64\n",
      " 74  og_description                 0 non-null      float64\n",
      " 75  og_title                       0 non-null      float64\n",
      " 76  link_flair_css_class           4 non-null      object \n",
      " 77  link_flair_text                344 non-null    object \n",
      " 78  link_flair_template_id         340 non-null    object \n",
      " 79  gilded                         1 non-null      float64\n",
      " 80  crosspost_parent               233 non-null    object \n",
      " 81  crosspost_parent_list          233 non-null    object \n",
      " 82  url_overridden_by_dest         424 non-null    object \n",
      " 83  media                          23 non-null     object \n",
      " 84  media_embed                    21 non-null     object \n",
      " 85  secure_media                   23 non-null     object \n",
      " 86  secure_media_embed             21 non-null     object \n",
      " 87  gallery_data                   7 non-null      object \n",
      " 88  is_gallery                     8 non-null      object \n",
      "dtypes: bool(16), float64(11), int64(6), object(56)\n",
      "memory usage: 1.1+ MB\n"
     ]
    }
   ],
   "source": [
    "reddit.info()"
   ]
  },
  {
   "cell_type": "code",
   "execution_count": 4,
   "metadata": {},
   "outputs": [
    {
     "data": {
      "text/plain": [
       "63489"
      ]
     },
     "execution_count": 4,
     "metadata": {},
     "output_type": "execute_result"
    }
   ],
   "source": [
    "reddit.isnull().sum().sum()"
   ]
  },
  {
   "cell_type": "markdown",
   "metadata": {},
   "source": [
    "Of the 166,430 cells in the dataframe, 63,489 are null values, which is about 38%. \n",
    "\n",
    "Rather than clean each column, I'm going to filter the dataframe to the columns that I think will provide value in analysis and then proceed from there to clean those more important features."
   ]
  },
  {
   "cell_type": "code",
   "execution_count": 5,
   "metadata": {},
   "outputs": [
    {
     "data": {
      "text/html": [
       "<div>\n",
       "<style scoped>\n",
       "    .dataframe tbody tr th:only-of-type {\n",
       "        vertical-align: middle;\n",
       "    }\n",
       "\n",
       "    .dataframe tbody tr th {\n",
       "        vertical-align: top;\n",
       "    }\n",
       "\n",
       "    .dataframe thead th {\n",
       "        text-align: right;\n",
       "    }\n",
       "</style>\n",
       "<table border=\"1\" class=\"dataframe\">\n",
       "  <thead>\n",
       "    <tr style=\"text-align: right;\">\n",
       "      <th></th>\n",
       "      <th>subreddit</th>\n",
       "      <th>title</th>\n",
       "      <th>selftext</th>\n",
       "      <th>author</th>\n",
       "    </tr>\n",
       "  </thead>\n",
       "  <tbody>\n",
       "    <tr>\n",
       "      <th>0</th>\n",
       "      <td>Ohio</td>\n",
       "      <td>About the Donovan Lewis police shooting in Columbus.</td>\n",
       "      <td>Donovan reacted as naturally as anyone would when strangers burst open your bedroom door. There is inherent risk when serving a warrant and going through someone’s home unwelcomed. Cops need to re...</td>\n",
       "      <td>barelycriminal</td>\n",
       "    </tr>\n",
       "    <tr>\n",
       "      <th>1</th>\n",
       "      <td>Ohio</td>\n",
       "      <td>The chokehold JD Vance has on my YouTube ads.</td>\n",
       "      <td>No matter how much you tell me about it, I’m not reading Hillbilly Elegy. But seriously, Tim Ryan needs to make an ad on there.</td>\n",
       "      <td>DreamsAndBoxes</td>\n",
       "    </tr>\n",
       "    <tr>\n",
       "      <th>2</th>\n",
       "      <td>Ohio</td>\n",
       "      <td>Need wedding photographer plzzz</td>\n",
       "      <td>Hi everyone my fiancé and I booked a photographer last year for our wedding for 9/10/22 and we put a deposit down and signed a contract . The past 2 weeks we have called then emailed even txted an...</td>\n",
       "      <td>Ohiowelder</td>\n",
       "    </tr>\n",
       "    <tr>\n",
       "      <th>3</th>\n",
       "      <td>Ohio</td>\n",
       "      <td>Ranked choice voting?</td>\n",
       "      <td>Alaska seems to be doing well, when does Ohio follow.</td>\n",
       "      <td>titanup1993</td>\n",
       "    </tr>\n",
       "    <tr>\n",
       "      <th>4</th>\n",
       "      <td>Ohio</td>\n",
       "      <td>How long is the wait for a handgun purchased from Atlantic gun &amp;amp; tackle</td>\n",
       "      <td>Not sure if this is the right place to be asking. But I recently just purchased a handgun from Atlantic gun &amp;amp; tackle and they said I could get approved today in the next hour or it could be up...</td>\n",
       "      <td>Professional_Pie4546</td>\n",
       "    </tr>\n",
       "  </tbody>\n",
       "</table>\n",
       "</div>"
      ],
      "text/plain": [
       "  subreddit  \\\n",
       "0      Ohio   \n",
       "1      Ohio   \n",
       "2      Ohio   \n",
       "3      Ohio   \n",
       "4      Ohio   \n",
       "\n",
       "                                                                         title  \\\n",
       "0                         About the Donovan Lewis police shooting in Columbus.   \n",
       "1                                The chokehold JD Vance has on my YouTube ads.   \n",
       "2                                              Need wedding photographer plzzz   \n",
       "3                                                        Ranked choice voting?   \n",
       "4  How long is the wait for a handgun purchased from Atlantic gun &amp; tackle   \n",
       "\n",
       "                                                                                                                                                                                                  selftext  \\\n",
       "0  Donovan reacted as naturally as anyone would when strangers burst open your bedroom door. There is inherent risk when serving a warrant and going through someone’s home unwelcomed. Cops need to re...   \n",
       "1                                                                          No matter how much you tell me about it, I’m not reading Hillbilly Elegy. But seriously, Tim Ryan needs to make an ad on there.   \n",
       "2  Hi everyone my fiancé and I booked a photographer last year for our wedding for 9/10/22 and we put a deposit down and signed a contract . The past 2 weeks we have called then emailed even txted an...   \n",
       "3                                                                                                                                                    Alaska seems to be doing well, when does Ohio follow.   \n",
       "4  Not sure if this is the right place to be asking. But I recently just purchased a handgun from Atlantic gun &amp; tackle and they said I could get approved today in the next hour or it could be up...   \n",
       "\n",
       "                 author  \n",
       "0        barelycriminal  \n",
       "1        DreamsAndBoxes  \n",
       "2            Ohiowelder  \n",
       "3           titanup1993  \n",
       "4  Professional_Pie4546  "
      ]
     },
     "execution_count": 5,
     "metadata": {},
     "output_type": "execute_result"
    }
   ],
   "source": [
    "reddit = reddit[['subreddit', 'title', 'selftext', 'author']]\n",
    "\n",
    "reddit.head()"
   ]
  },
  {
   "cell_type": "code",
   "execution_count": 6,
   "metadata": {},
   "outputs": [
    {
     "data": {
      "text/plain": [
       "subreddit      0\n",
       "title          0\n",
       "selftext     788\n",
       "author         0\n",
       "dtype: int64"
      ]
     },
     "execution_count": 6,
     "metadata": {},
     "output_type": "execute_result"
    }
   ],
   "source": [
    "reddit.isnull().sum()"
   ]
  },
  {
   "cell_type": "markdown",
   "metadata": {},
   "source": [
    "We can see here that a lot of the 'selftext' values are null. When I was looking into the two subreddit pages, I noticed that a lot of times a majority of the post would be in the title itself. \n",
    "\n",
    "Even with the parameter added for selftext when scraping the threads, we see a similar pattern of empty captions. I'm hoping that this may in fact help the model, because all null selftext values are from the IHateOhio subreddit, which may be an indicator of which thread the post is from.\n",
    "\n",
    "I'm going to do some light EDA to see if there are any patterns in title and/or post length among the two subreddits."
   ]
  },
  {
   "cell_type": "code",
   "execution_count": 7,
   "metadata": {},
   "outputs": [],
   "source": [
    "reddit['title_word_count'] = [len(i.split()) for i in reddit['title']]\n",
    "reddit['selftext_word_count'] = [len(str(i).split()) for i in reddit['selftext']]"
   ]
  },
  {
   "cell_type": "code",
   "execution_count": 8,
   "metadata": {},
   "outputs": [
    {
     "data": {
      "text/plain": [
       "subreddit\n",
       "IHateOhio    8.103753\n",
       "Ohio         9.095436\n",
       "Name: title_word_count, dtype: float64"
      ]
     },
     "execution_count": 8,
     "metadata": {},
     "output_type": "execute_result"
    }
   ],
   "source": [
    "reddit.groupby('subreddit')['title_word_count'].mean()"
   ]
  },
  {
   "cell_type": "code",
   "execution_count": 9,
   "metadata": {},
   "outputs": [
    {
     "data": {
      "text/plain": [
       "subreddit\n",
       "IHateOhio    11.724062\n",
       "Ohio         68.804979\n",
       "Name: selftext_word_count, dtype: float64"
      ]
     },
     "execution_count": 9,
     "metadata": {},
     "output_type": "execute_result"
    }
   ],
   "source": [
    "reddit.groupby('subreddit')['selftext_word_count'].mean()"
   ]
  },
  {
   "cell_type": "markdown",
   "metadata": {},
   "source": [
    "While the mean title lengths are somewhat similar, it looks like users in the Ohio subreddit are wordier in the captions than those posting in the IHateOhio subreddit."
   ]
  },
  {
   "cell_type": "code",
   "execution_count": 10,
   "metadata": {},
   "outputs": [
    {
     "name": "stdout",
     "output_type": "stream",
     "text": [
      "Mean number of posts per user: 1.3689604685212298\n"
     ]
    },
    {
     "data": {
      "text/plain": [
       "author\n",
       "RandomGuy952      46\n",
       "Ow_wow            27\n",
       "GriffinFTW        25\n",
       "[deleted]         19\n",
       "Vonandro          18\n",
       "                  ..\n",
       "Oijias             1\n",
       "Ohiowelder         1\n",
       "Ohiobo6294         1\n",
       "OffToTheLizard     1\n",
       "zvbgamer           1\n",
       "Name: title, Length: 1366, dtype: int64"
      ]
     },
     "execution_count": 10,
     "metadata": {},
     "output_type": "execute_result"
    }
   ],
   "source": [
    "print(f\"Mean number of posts per user: {reddit.groupby('author')['title'].count().mean()}\")\n",
    "reddit.groupby('author')['title'].count().sort_values(ascending=False)"
   ]
  },
  {
   "cell_type": "markdown",
   "metadata": {},
   "source": [
    "We can see here that the average number of posts per user is just over 1, but some users post more frequently than others."
   ]
  },
  {
   "cell_type": "code",
   "execution_count": 11,
   "metadata": {},
   "outputs": [
    {
     "data": {
      "text/html": [
       "<div>\n",
       "<style scoped>\n",
       "    .dataframe tbody tr th:only-of-type {\n",
       "        vertical-align: middle;\n",
       "    }\n",
       "\n",
       "    .dataframe tbody tr th {\n",
       "        vertical-align: top;\n",
       "    }\n",
       "\n",
       "    .dataframe thead th {\n",
       "        text-align: right;\n",
       "    }\n",
       "</style>\n",
       "<table border=\"1\" class=\"dataframe\">\n",
       "  <thead>\n",
       "    <tr style=\"text-align: right;\">\n",
       "      <th></th>\n",
       "      <th>title_word_count</th>\n",
       "      <th>selftext_word_count</th>\n",
       "    </tr>\n",
       "  </thead>\n",
       "  <tbody>\n",
       "    <tr>\n",
       "      <th>count</th>\n",
       "      <td>1870.000000</td>\n",
       "      <td>1870.000000</td>\n",
       "    </tr>\n",
       "    <tr>\n",
       "      <th>mean</th>\n",
       "      <td>8.614973</td>\n",
       "      <td>41.149733</td>\n",
       "    </tr>\n",
       "    <tr>\n",
       "      <th>std</th>\n",
       "      <td>7.446789</td>\n",
       "      <td>96.700965</td>\n",
       "    </tr>\n",
       "    <tr>\n",
       "      <th>min</th>\n",
       "      <td>1.000000</td>\n",
       "      <td>1.000000</td>\n",
       "    </tr>\n",
       "    <tr>\n",
       "      <th>25%</th>\n",
       "      <td>4.000000</td>\n",
       "      <td>1.000000</td>\n",
       "    </tr>\n",
       "    <tr>\n",
       "      <th>50%</th>\n",
       "      <td>6.000000</td>\n",
       "      <td>7.000000</td>\n",
       "    </tr>\n",
       "    <tr>\n",
       "      <th>75%</th>\n",
       "      <td>11.000000</td>\n",
       "      <td>50.000000</td>\n",
       "    </tr>\n",
       "    <tr>\n",
       "      <th>max</th>\n",
       "      <td>59.000000</td>\n",
       "      <td>2372.000000</td>\n",
       "    </tr>\n",
       "  </tbody>\n",
       "</table>\n",
       "</div>"
      ],
      "text/plain": [
       "       title_word_count  selftext_word_count\n",
       "count       1870.000000          1870.000000\n",
       "mean           8.614973            41.149733\n",
       "std            7.446789            96.700965\n",
       "min            1.000000             1.000000\n",
       "25%            4.000000             1.000000\n",
       "50%            6.000000             7.000000\n",
       "75%           11.000000            50.000000\n",
       "max           59.000000          2372.000000"
      ]
     },
     "execution_count": 11,
     "metadata": {},
     "output_type": "execute_result"
    }
   ],
   "source": [
    "reddit.describe()"
   ]
  },
  {
   "cell_type": "code",
   "execution_count": 12,
   "metadata": {},
   "outputs": [
    {
     "data": {
      "image/png": "[encoded data removed]",
      "text/plain": [
       "<Figure size 1200x600 with 2 Axes>"
      ]
     },
     "metadata": {},
     "output_type": "display_data"
    }
   ],
   "source": [
    "plt.figure(figsize=(12, 6))\n",
    "\n",
    "cols = ['title_word_count', 'selftext_word_count']\n",
    "for i in range(2):\n",
    "    plt.subplot(1, 2, i+1)\n",
    "    plt.hist(reddit[cols[i]], bins=25)\n",
    "    split_words = cols[i].split('_')\n",
    "    split_words = [i.title() for i in split_words]\n",
    "    joined_words = ' '.join(split_words)\n",
    "    plt.title(f'Distribution of {joined_words}')"
   ]
  },
  {
   "cell_type": "markdown",
   "metadata": {},
   "source": [
    "Despite the 700+ null cells, the selftext_word_count column has a greater mean and max value than the title_word_count column. \n",
    "\n",
    "We can also see from the histograms that the distributions for both (combined subreddit) measures is highly skewed. Specifically, the selftext distribution looks to contain most counts between 0 and 250 words, but the maximum of 2,372 words (an outlier) is affecting the distribution."
   ]
  },
  {
   "cell_type": "code",
   "execution_count": 13,
   "metadata": {},
   "outputs": [
    {
     "data": {
      "text/html": [
       "<div>\n",
       "<style scoped>\n",
       "    .dataframe tbody tr th:only-of-type {\n",
       "        vertical-align: middle;\n",
       "    }\n",
       "\n",
       "    .dataframe tbody tr th {\n",
       "        vertical-align: top;\n",
       "    }\n",
       "\n",
       "    .dataframe thead th {\n",
       "        text-align: right;\n",
       "    }\n",
       "</style>\n",
       "<table border=\"1\" class=\"dataframe\">\n",
       "  <thead>\n",
       "    <tr style=\"text-align: right;\">\n",
       "      <th></th>\n",
       "      <th>title_word_count</th>\n",
       "      <th>selftext_word_count</th>\n",
       "    </tr>\n",
       "  </thead>\n",
       "  <tbody>\n",
       "    <tr>\n",
       "      <th>title_word_count</th>\n",
       "      <td>1.00000</td>\n",
       "      <td>0.01967</td>\n",
       "    </tr>\n",
       "    <tr>\n",
       "      <th>selftext_word_count</th>\n",
       "      <td>0.01967</td>\n",
       "      <td>1.00000</td>\n",
       "    </tr>\n",
       "  </tbody>\n",
       "</table>\n",
       "</div>"
      ],
      "text/plain": [
       "                     title_word_count  selftext_word_count\n",
       "title_word_count              1.00000              0.01967\n",
       "selftext_word_count           0.01967              1.00000"
      ]
     },
     "execution_count": 13,
     "metadata": {},
     "output_type": "execute_result"
    }
   ],
   "source": [
    "reddit.corr()"
   ]
  },
  {
   "cell_type": "markdown",
   "metadata": {},
   "source": [
    "There is very weak correlation between title word count and caption word count. This is likely partially due to the many null values in the selftext column, but could also imply that those who write long titles do not necessarily write long captions, as well."
   ]
  },
  {
   "cell_type": "code",
   "execution_count": 14,
   "metadata": {},
   "outputs": [
    {
     "data": {
      "text/plain": [
       "subreddit                0\n",
       "title                    0\n",
       "selftext               788\n",
       "author                   0\n",
       "title_word_count         0\n",
       "selftext_word_count      0\n",
       "dtype: int64"
      ]
     },
     "execution_count": 14,
     "metadata": {},
     "output_type": "execute_result"
    }
   ],
   "source": [
    "# Now dealing with the nulls\n",
    "\n",
    "reddit.isnull().sum()"
   ]
  },
  {
   "cell_type": "code",
   "execution_count": 15,
   "metadata": {},
   "outputs": [
    {
     "name": "stdout",
     "output_type": "stream",
     "text": [
      "Total nulls before imputation: 788\n"
     ]
    },
    {
     "data": {
      "text/plain": [
       "subreddit              0\n",
       "title                  0\n",
       "selftext               0\n",
       "author                 0\n",
       "title_word_count       0\n",
       "selftext_word_count    0\n",
       "dtype: int64"
      ]
     },
     "execution_count": 15,
     "metadata": {},
     "output_type": "execute_result"
    }
   ],
   "source": [
    "# Now dealing with the nulls\n",
    "print(f'Total nulls before imputation: {reddit.isnull().sum().sum()}')\n",
    "\n",
    "reddit.fillna(' ', inplace=True)\n",
    "\n",
    "# Checking that the changes were made\n",
    "reddit.isnull().sum()"
   ]
  },
  {
   "cell_type": "code",
   "execution_count": 16,
   "metadata": {},
   "outputs": [
    {
     "data": {
      "text/html": [
       "<div>\n",
       "<style scoped>\n",
       "    .dataframe tbody tr th:only-of-type {\n",
       "        vertical-align: middle;\n",
       "    }\n",
       "\n",
       "    .dataframe tbody tr th {\n",
       "        vertical-align: top;\n",
       "    }\n",
       "\n",
       "    .dataframe thead th {\n",
       "        text-align: right;\n",
       "    }\n",
       "</style>\n",
       "<table border=\"1\" class=\"dataframe\">\n",
       "  <thead>\n",
       "    <tr style=\"text-align: right;\">\n",
       "      <th></th>\n",
       "      <th>subreddit_class</th>\n",
       "      <th>title</th>\n",
       "      <th>selftext</th>\n",
       "      <th>author</th>\n",
       "      <th>title_word_count</th>\n",
       "      <th>selftext_word_count</th>\n",
       "    </tr>\n",
       "  </thead>\n",
       "  <tbody>\n",
       "    <tr>\n",
       "      <th>0</th>\n",
       "      <td>ohio</td>\n",
       "      <td>about the donovan lewis police shooting in columbus.</td>\n",
       "      <td>donovan reacted as naturally as anyone would when strangers burst open your bedroom door. there is inherent risk when serving a warrant and going through someone’s home unwelcomed. cops need to re...</td>\n",
       "      <td>barelycriminal</td>\n",
       "      <td>8</td>\n",
       "      <td>48</td>\n",
       "    </tr>\n",
       "    <tr>\n",
       "      <th>1</th>\n",
       "      <td>ohio</td>\n",
       "      <td>the chokehold jd vance has on my youtube ads.</td>\n",
       "      <td>no matter how much you tell me about it, i’m not reading hillbilly elegy. but seriously, tim ryan needs to make an ad on there.</td>\n",
       "      <td>dreamsandboxes</td>\n",
       "      <td>9</td>\n",
       "      <td>25</td>\n",
       "    </tr>\n",
       "    <tr>\n",
       "      <th>2</th>\n",
       "      <td>ohio</td>\n",
       "      <td>need wedding photographer plzzz</td>\n",
       "      <td>hi everyone my fiancé and i booked a photographer last year for our wedding for 9/10/22 and we put a deposit down and signed a contract . the past 2 weeks we have called then emailed even txted an...</td>\n",
       "      <td>ohiowelder</td>\n",
       "      <td>4</td>\n",
       "      <td>77</td>\n",
       "    </tr>\n",
       "  </tbody>\n",
       "</table>\n",
       "</div>"
      ],
      "text/plain": [
       "  subreddit_class                                                 title  \\\n",
       "0            ohio  about the donovan lewis police shooting in columbus.   \n",
       "1            ohio         the chokehold jd vance has on my youtube ads.   \n",
       "2            ohio                       need wedding photographer plzzz   \n",
       "\n",
       "                                                                                                                                                                                                  selftext  \\\n",
       "0  donovan reacted as naturally as anyone would when strangers burst open your bedroom door. there is inherent risk when serving a warrant and going through someone’s home unwelcomed. cops need to re...   \n",
       "1                                                                          no matter how much you tell me about it, i’m not reading hillbilly elegy. but seriously, tim ryan needs to make an ad on there.   \n",
       "2  hi everyone my fiancé and i booked a photographer last year for our wedding for 9/10/22 and we put a deposit down and signed a contract . the past 2 weeks we have called then emailed even txted an...   \n",
       "\n",
       "           author  title_word_count  selftext_word_count  \n",
       "0  barelycriminal                 8                   48  \n",
       "1  dreamsandboxes                 9                   25  \n",
       "2      ohiowelder                 4                   77  "
      ]
     },
     "execution_count": 16,
     "metadata": {},
     "output_type": "execute_result"
    }
   ],
   "source": [
    "'''I'm also going to lowercase all words within the object-type columns before employing CountVectorizer\n",
    "I know that all context is lowercased by default when using CV\n",
    "But the values that are checked against the stopwords are not always lowercased, meaning that some stopwords will be missed,\n",
    "depending on their case in the original post/df\n",
    "Source: https://github.com/scikit-learn/scikit-learn/issues/19311'''\n",
    "\n",
    "reddit = reddit.applymap(lambda x: x.lower() if type(x) == str else x)\n",
    "reddit.rename(columns={'subreddit': 'subreddit_class'}, inplace=True) # Doing this before vectorizing in case the word 'subreddit' is used at all\n",
    "reddit.to_csv('../datasets/reddit_slimmed.csv')\n",
    "\n",
    "reddit.head(3)"
   ]
  },
  {
   "cell_type": "markdown",
   "metadata": {},
   "source": [
    "---\n",
    "## EDA on Title and SelfText Columns"
   ]
  },
  {
   "cell_type": "code",
   "execution_count": 17,
   "metadata": {},
   "outputs": [],
   "source": [
    "cvec = CountVectorizer(stop_words='english')\n",
    "\n",
    "reddit_fit = cvec.fit_transform(reddit['title'])"
   ]
  },
  {
   "cell_type": "code",
   "execution_count": 18,
   "metadata": {},
   "outputs": [
    {
     "data": {
      "text/plain": [
       "matrix([[0, 0, 0, ..., 0, 0, 0],\n",
       "        [0, 0, 0, ..., 0, 0, 0],\n",
       "        [0, 0, 0, ..., 0, 0, 0],\n",
       "        ...,\n",
       "        [0, 0, 0, ..., 0, 0, 0],\n",
       "        [0, 0, 0, ..., 0, 0, 0],\n",
       "        [0, 0, 0, ..., 0, 0, 0]])"
      ]
     },
     "execution_count": 18,
     "metadata": {},
     "output_type": "execute_result"
    }
   ],
   "source": [
    "reddit_fit.todense()"
   ]
  },
  {
   "cell_type": "code",
   "execution_count": 19,
   "metadata": {},
   "outputs": [
    {
     "data": {
      "text/html": [
       "<div>\n",
       "<style scoped>\n",
       "    .dataframe tbody tr th:only-of-type {\n",
       "        vertical-align: middle;\n",
       "    }\n",
       "\n",
       "    .dataframe tbody tr th {\n",
       "        vertical-align: top;\n",
       "    }\n",
       "\n",
       "    .dataframe thead th {\n",
       "        text-align: right;\n",
       "    }\n",
       "</style>\n",
       "<table border=\"1\" class=\"dataframe\">\n",
       "  <thead>\n",
       "    <tr style=\"text-align: right;\">\n",
       "      <th></th>\n",
       "      <th>00</th>\n",
       "      <th>000</th>\n",
       "      <th>00am</th>\n",
       "      <th>04</th>\n",
       "      <th>05</th>\n",
       "      <th>0h10</th>\n",
       "      <th>10</th>\n",
       "      <th>100</th>\n",
       "      <th>10000</th>\n",
       "      <th>1099</th>\n",
       "      <th>...</th>\n",
       "      <th>yugi</th>\n",
       "      <th>yup</th>\n",
       "      <th>zanesville</th>\n",
       "      <th>zero</th>\n",
       "      <th>zimbabwe</th>\n",
       "      <th>zipline</th>\n",
       "      <th>zito</th>\n",
       "      <th>zmepugcad</th>\n",
       "      <th>zone</th>\n",
       "      <th>zoom</th>\n",
       "    </tr>\n",
       "  </thead>\n",
       "  <tbody>\n",
       "    <tr>\n",
       "      <th>0</th>\n",
       "      <td>0</td>\n",
       "      <td>0</td>\n",
       "      <td>0</td>\n",
       "      <td>0</td>\n",
       "      <td>0</td>\n",
       "      <td>0</td>\n",
       "      <td>0</td>\n",
       "      <td>0</td>\n",
       "      <td>0</td>\n",
       "      <td>0</td>\n",
       "      <td>...</td>\n",
       "      <td>0</td>\n",
       "      <td>0</td>\n",
       "      <td>0</td>\n",
       "      <td>0</td>\n",
       "      <td>0</td>\n",
       "      <td>0</td>\n",
       "      <td>0</td>\n",
       "      <td>0</td>\n",
       "      <td>0</td>\n",
       "      <td>0</td>\n",
       "    </tr>\n",
       "    <tr>\n",
       "      <th>1</th>\n",
       "      <td>0</td>\n",
       "      <td>0</td>\n",
       "      <td>0</td>\n",
       "      <td>0</td>\n",
       "      <td>0</td>\n",
       "      <td>0</td>\n",
       "      <td>0</td>\n",
       "      <td>0</td>\n",
       "      <td>0</td>\n",
       "      <td>0</td>\n",
       "      <td>...</td>\n",
       "      <td>0</td>\n",
       "      <td>0</td>\n",
       "      <td>0</td>\n",
       "      <td>0</td>\n",
       "      <td>0</td>\n",
       "      <td>0</td>\n",
       "      <td>0</td>\n",
       "      <td>0</td>\n",
       "      <td>0</td>\n",
       "      <td>0</td>\n",
       "    </tr>\n",
       "    <tr>\n",
       "      <th>2</th>\n",
       "      <td>0</td>\n",
       "      <td>0</td>\n",
       "      <td>0</td>\n",
       "      <td>0</td>\n",
       "      <td>0</td>\n",
       "      <td>0</td>\n",
       "      <td>0</td>\n",
       "      <td>0</td>\n",
       "      <td>0</td>\n",
       "      <td>0</td>\n",
       "      <td>...</td>\n",
       "      <td>0</td>\n",
       "      <td>0</td>\n",
       "      <td>0</td>\n",
       "      <td>0</td>\n",
       "      <td>0</td>\n",
       "      <td>0</td>\n",
       "      <td>0</td>\n",
       "      <td>0</td>\n",
       "      <td>0</td>\n",
       "      <td>0</td>\n",
       "    </tr>\n",
       "    <tr>\n",
       "      <th>3</th>\n",
       "      <td>0</td>\n",
       "      <td>0</td>\n",
       "      <td>0</td>\n",
       "      <td>0</td>\n",
       "      <td>0</td>\n",
       "      <td>0</td>\n",
       "      <td>0</td>\n",
       "      <td>0</td>\n",
       "      <td>0</td>\n",
       "      <td>0</td>\n",
       "      <td>...</td>\n",
       "      <td>0</td>\n",
       "      <td>0</td>\n",
       "      <td>0</td>\n",
       "      <td>0</td>\n",
       "      <td>0</td>\n",
       "      <td>0</td>\n",
       "      <td>0</td>\n",
       "      <td>0</td>\n",
       "      <td>0</td>\n",
       "      <td>0</td>\n",
       "    </tr>\n",
       "    <tr>\n",
       "      <th>4</th>\n",
       "      <td>0</td>\n",
       "      <td>0</td>\n",
       "      <td>0</td>\n",
       "      <td>0</td>\n",
       "      <td>0</td>\n",
       "      <td>0</td>\n",
       "      <td>0</td>\n",
       "      <td>0</td>\n",
       "      <td>0</td>\n",
       "      <td>0</td>\n",
       "      <td>...</td>\n",
       "      <td>0</td>\n",
       "      <td>0</td>\n",
       "      <td>0</td>\n",
       "      <td>0</td>\n",
       "      <td>0</td>\n",
       "      <td>0</td>\n",
       "      <td>0</td>\n",
       "      <td>0</td>\n",
       "      <td>0</td>\n",
       "      <td>0</td>\n",
       "    </tr>\n",
       "  </tbody>\n",
       "</table>\n",
       "<p>5 rows × 3531 columns</p>\n",
       "</div>"
      ],
      "text/plain": [
       "   00  000  00am  04  05  0h10  10  100  10000  1099  ...  yugi  yup  \\\n",
       "0   0    0     0   0   0     0   0    0      0     0  ...     0    0   \n",
       "1   0    0     0   0   0     0   0    0      0     0  ...     0    0   \n",
       "2   0    0     0   0   0     0   0    0      0     0  ...     0    0   \n",
       "3   0    0     0   0   0     0   0    0      0     0  ...     0    0   \n",
       "4   0    0     0   0   0     0   0    0      0     0  ...     0    0   \n",
       "\n",
       "   zanesville  zero  zimbabwe  zipline  zito  zmepugcad  zone  zoom  \n",
       "0           0     0         0        0     0          0     0     0  \n",
       "1           0     0         0        0     0          0     0     0  \n",
       "2           0     0         0        0     0          0     0     0  \n",
       "3           0     0         0        0     0          0     0     0  \n",
       "4           0     0         0        0     0          0     0     0  \n",
       "\n",
       "[5 rows x 3531 columns]"
      ]
     },
     "execution_count": 19,
     "metadata": {},
     "output_type": "execute_result"
    }
   ],
   "source": [
    "title_df = pd.DataFrame(reddit_fit.todense(), columns=cvec.get_feature_names_out())\n",
    "\n",
    "title_df.head()"
   ]
  },
  {
   "cell_type": "markdown",
   "metadata": {},
   "source": [
    "### What are the 20 most common words used in titles for both subreddits?"
   ]
  },
  {
   "cell_type": "code",
   "execution_count": 20,
   "metadata": {},
   "outputs": [
    {
     "data": {
      "text/plain": [
       "ohio            807\n",
       "state            93\n",
       "hate             71\n",
       "just             51\n",
       "like             51\n",
       "fuck             51\n",
       "people           50\n",
       "unemployment     48\n",
       "new              37\n",
       "place            35\n",
       "columbus         35\n",
       "looking          34\n",
       "oh               32\n",
       "live             32\n",
       "help             31\n",
       "need             30\n",
       "know             30\n",
       "best             29\n",
       "time             29\n",
       "got              28\n",
       "dtype: int64"
      ]
     },
     "execution_count": 20,
     "metadata": {},
     "output_type": "execute_result"
    }
   ],
   "source": [
    "top_20_all = title_df.sum(axis=0).sort_values(ascending=False).head(20)\n",
    "\n",
    "top_20_all"
   ]
  },
  {
   "cell_type": "code",
   "execution_count": 21,
   "metadata": {},
   "outputs": [
    {
     "data": {
      "image/png": "[encoded data removed]",
      "text/plain": [
       "<Figure size 800x800 with 1 Axes>"
      ]
     },
     "metadata": {},
     "output_type": "display_data"
    }
   ],
   "source": [
    "plt.figure(figsize=(8,8))\n",
    "top_20_all.sort_values(ascending=True).plot.barh(title='Top 20 Words Used in Both Subreddit Post Titles', color='firebrick');"
   ]
  },
  {
   "cell_type": "code",
   "execution_count": 22,
   "metadata": {},
   "outputs": [
    {
     "data": {
      "text/html": [
       "<div>\n",
       "<style scoped>\n",
       "    .dataframe tbody tr th:only-of-type {\n",
       "        vertical-align: middle;\n",
       "    }\n",
       "\n",
       "    .dataframe tbody tr th {\n",
       "        vertical-align: top;\n",
       "    }\n",
       "\n",
       "    .dataframe thead th {\n",
       "        text-align: right;\n",
       "    }\n",
       "</style>\n",
       "<table border=\"1\" class=\"dataframe\">\n",
       "  <thead>\n",
       "    <tr style=\"text-align: right;\">\n",
       "      <th></th>\n",
       "      <th>00</th>\n",
       "      <th>000</th>\n",
       "      <th>00am</th>\n",
       "      <th>04</th>\n",
       "      <th>05</th>\n",
       "      <th>0h10</th>\n",
       "      <th>10</th>\n",
       "      <th>100</th>\n",
       "      <th>10000</th>\n",
       "      <th>1099</th>\n",
       "      <th>...</th>\n",
       "      <th>zito</th>\n",
       "      <th>zmepugcad</th>\n",
       "      <th>zone</th>\n",
       "      <th>zoom</th>\n",
       "      <th>subreddit_class</th>\n",
       "      <th>title</th>\n",
       "      <th>selftext</th>\n",
       "      <th>author</th>\n",
       "      <th>title_word_count</th>\n",
       "      <th>selftext_word_count</th>\n",
       "    </tr>\n",
       "  </thead>\n",
       "  <tbody>\n",
       "    <tr>\n",
       "      <th>0</th>\n",
       "      <td>0</td>\n",
       "      <td>0</td>\n",
       "      <td>0</td>\n",
       "      <td>0</td>\n",
       "      <td>0</td>\n",
       "      <td>0</td>\n",
       "      <td>0</td>\n",
       "      <td>0</td>\n",
       "      <td>0</td>\n",
       "      <td>0</td>\n",
       "      <td>...</td>\n",
       "      <td>0</td>\n",
       "      <td>0</td>\n",
       "      <td>0</td>\n",
       "      <td>0</td>\n",
       "      <td>ohio</td>\n",
       "      <td>about the donovan lewis police shooting in columbus.</td>\n",
       "      <td>donovan reacted as naturally as anyone would when strangers burst open your bedroom door. there is inherent risk when serving a warrant and going through someone’s home unwelcomed. cops need to re...</td>\n",
       "      <td>barelycriminal</td>\n",
       "      <td>8</td>\n",
       "      <td>48</td>\n",
       "    </tr>\n",
       "    <tr>\n",
       "      <th>1</th>\n",
       "      <td>0</td>\n",
       "      <td>0</td>\n",
       "      <td>0</td>\n",
       "      <td>0</td>\n",
       "      <td>0</td>\n",
       "      <td>0</td>\n",
       "      <td>0</td>\n",
       "      <td>0</td>\n",
       "      <td>0</td>\n",
       "      <td>0</td>\n",
       "      <td>...</td>\n",
       "      <td>0</td>\n",
       "      <td>0</td>\n",
       "      <td>0</td>\n",
       "      <td>0</td>\n",
       "      <td>ohio</td>\n",
       "      <td>the chokehold jd vance has on my youtube ads.</td>\n",
       "      <td>no matter how much you tell me about it, i’m not reading hillbilly elegy. but seriously, tim ryan needs to make an ad on there.</td>\n",
       "      <td>dreamsandboxes</td>\n",
       "      <td>9</td>\n",
       "      <td>25</td>\n",
       "    </tr>\n",
       "    <tr>\n",
       "      <th>2</th>\n",
       "      <td>0</td>\n",
       "      <td>0</td>\n",
       "      <td>0</td>\n",
       "      <td>0</td>\n",
       "      <td>0</td>\n",
       "      <td>0</td>\n",
       "      <td>0</td>\n",
       "      <td>0</td>\n",
       "      <td>0</td>\n",
       "      <td>0</td>\n",
       "      <td>...</td>\n",
       "      <td>0</td>\n",
       "      <td>0</td>\n",
       "      <td>0</td>\n",
       "      <td>0</td>\n",
       "      <td>ohio</td>\n",
       "      <td>need wedding photographer plzzz</td>\n",
       "      <td>hi everyone my fiancé and i booked a photographer last year for our wedding for 9/10/22 and we put a deposit down and signed a contract . the past 2 weeks we have called then emailed even txted an...</td>\n",
       "      <td>ohiowelder</td>\n",
       "      <td>4</td>\n",
       "      <td>77</td>\n",
       "    </tr>\n",
       "  </tbody>\n",
       "</table>\n",
       "<p>3 rows × 3537 columns</p>\n",
       "</div>"
      ],
      "text/plain": [
       "   00  000  00am  04  05  0h10  10  100  10000  1099  ...  zito  zmepugcad  \\\n",
       "0   0    0     0   0   0     0   0    0      0     0  ...     0          0   \n",
       "1   0    0     0   0   0     0   0    0      0     0  ...     0          0   \n",
       "2   0    0     0   0   0     0   0    0      0     0  ...     0          0   \n",
       "\n",
       "   zone  zoom  subreddit_class  \\\n",
       "0     0     0             ohio   \n",
       "1     0     0             ohio   \n",
       "2     0     0             ohio   \n",
       "\n",
       "                                                  title  \\\n",
       "0  about the donovan lewis police shooting in columbus.   \n",
       "1         the chokehold jd vance has on my youtube ads.   \n",
       "2                       need wedding photographer plzzz   \n",
       "\n",
       "                                                                                                                                                                                                  selftext  \\\n",
       "0  donovan reacted as naturally as anyone would when strangers burst open your bedroom door. there is inherent risk when serving a warrant and going through someone’s home unwelcomed. cops need to re...   \n",
       "1                                                                          no matter how much you tell me about it, i’m not reading hillbilly elegy. but seriously, tim ryan needs to make an ad on there.   \n",
       "2  hi everyone my fiancé and i booked a photographer last year for our wedding for 9/10/22 and we put a deposit down and signed a contract . the past 2 weeks we have called then emailed even txted an...   \n",
       "\n",
       "           author  title_word_count  selftext_word_count  \n",
       "0  barelycriminal                 8                   48  \n",
       "1  dreamsandboxes                 9                   25  \n",
       "2      ohiowelder                 4                   77  \n",
       "\n",
       "[3 rows x 3537 columns]"
      ]
     },
     "execution_count": 22,
     "metadata": {},
     "output_type": "execute_result"
    }
   ],
   "source": [
    "words_and_counts = pd.concat([title_df, reddit], axis=1)\n",
    "words_and_counts.head(3)"
   ]
  },
  {
   "cell_type": "markdown",
   "metadata": {},
   "source": [
    "### How about in selftext?"
   ]
  },
  {
   "cell_type": "code",
   "execution_count": 23,
   "metadata": {},
   "outputs": [],
   "source": [
    "cvec = CountVectorizer(stop_words='english')\n",
    "\n",
    "# I'm starting with the title column to vectorize because many of the selftext column is empty strings\n",
    "reddit_st_fit = cvec.fit_transform(reddit['selftext'])"
   ]
  },
  {
   "cell_type": "code",
   "execution_count": 24,
   "metadata": {},
   "outputs": [
    {
     "data": {
      "text/plain": [
       "ohio       743\n",
       "https      400\n",
       "just       392\n",
       "amp        306\n",
       "com        281\n",
       "state      272\n",
       "like       272\n",
       "people     255\n",
       "know       253\n",
       "www        192\n",
       "ve         160\n",
       "don        157\n",
       "want       155\n",
       "time       147\n",
       "looking    122\n",
       "help       120\n",
       "need       113\n",
       "place      107\n",
       "good       104\n",
       "going      101\n",
       "dtype: int64"
      ]
     },
     "execution_count": 24,
     "metadata": {},
     "output_type": "execute_result"
    }
   ],
   "source": [
    "selftext_df = pd.DataFrame(reddit_st_fit.todense(), columns=cvec.get_feature_names_out())\n",
    "\n",
    "top_20_st = selftext_df.sum(axis=0).sort_values(ascending=False).head(20)\n",
    "\n",
    "top_20_st"
   ]
  },
  {
   "cell_type": "code",
   "execution_count": 25,
   "metadata": {},
   "outputs": [
    {
     "data": {
      "text/plain": [
       "https    400\n",
       "dtype: int64"
      ]
     },
     "execution_count": 25,
     "metadata": {},
     "output_type": "execute_result"
    }
   ],
   "source": [
    "selftext_df.filter(regex='https').sum()"
   ]
  },
  {
   "cell_type": "markdown",
   "metadata": {},
   "source": [
    "Unlike the title, it looks like there are quite few links in the selftext sections of posts. I'm going to filter a few of these out get a better sense of what actual words are most present in post captions."
   ]
  },
  {
   "cell_type": "code",
   "execution_count": 26,
   "metadata": {},
   "outputs": [],
   "source": [
    "drop_list = ['https', 'amp', 'com', 'www', 'don', 've', 'x200b', 'png']\n",
    "cols_keep = [col for col in selftext_df.columns if col not in drop_list]\n",
    "selftext_df = selftext_df[cols_keep]"
   ]
  },
  {
   "cell_type": "code",
   "execution_count": 27,
   "metadata": {},
   "outputs": [
    {
     "data": {
      "text/plain": [
       "ohio       743\n",
       "just       392\n",
       "like       272\n",
       "state      272\n",
       "people     255\n",
       "know       253\n",
       "want       155\n",
       "time       147\n",
       "looking    122\n",
       "help       120\n",
       "need       113\n",
       "place      107\n",
       "good       104\n",
       "going      101\n",
       "new         99\n",
       "live        98\n",
       "make        96\n",
       "year        93\n",
       "really      91\n",
       "think       88\n",
       "dtype: int64"
      ]
     },
     "execution_count": 27,
     "metadata": {},
     "output_type": "execute_result"
    }
   ],
   "source": [
    "top_20_st = selftext_df.sum(axis=0).sort_values(ascending=False).head(20)\n",
    "\n",
    "top_20_st"
   ]
  },
  {
   "cell_type": "code",
   "execution_count": 28,
   "metadata": {},
   "outputs": [
    {
     "data": {
      "image/png": "[encoded data removed]",
      "text/plain": [
       "<Figure size 800x800 with 1 Axes>"
      ]
     },
     "metadata": {},
     "output_type": "display_data"
    }
   ],
   "source": [
    "plt.figure(figsize=(8,8))\n",
    "top_20_st.sort_values(ascending=True).plot.barh(title='Top 20 Words Used in Both Subreddit Post Captions', color='mediumblue');"
   ]
  },
  {
   "cell_type": "markdown",
   "metadata": {},
   "source": [
    "### Did any users post in both subreddit threads?"
   ]
  },
  {
   "cell_type": "code",
   "execution_count": 29,
   "metadata": {},
   "outputs": [
    {
     "data": {
      "text/html": [
       "<div>\n",
       "<style scoped>\n",
       "    .dataframe tbody tr th:only-of-type {\n",
       "        vertical-align: middle;\n",
       "    }\n",
       "\n",
       "    .dataframe tbody tr th {\n",
       "        vertical-align: top;\n",
       "    }\n",
       "\n",
       "    .dataframe thead th {\n",
       "        text-align: right;\n",
       "    }\n",
       "</style>\n",
       "<table border=\"1\" class=\"dataframe\">\n",
       "  <thead>\n",
       "    <tr style=\"text-align: right;\">\n",
       "      <th></th>\n",
       "      <th>subreddit_class</th>\n",
       "      <th>title</th>\n",
       "      <th>selftext</th>\n",
       "      <th>author</th>\n",
       "      <th>title_word_count</th>\n",
       "      <th>selftext_word_count</th>\n",
       "    </tr>\n",
       "  </thead>\n",
       "  <tbody>\n",
       "    <tr>\n",
       "      <th>908</th>\n",
       "      <td>ohio</td>\n",
       "      <td>i hate ohio?</td>\n",
       "      <td>i just don’t like ohio you know i just hate it bad weather stupid place ahhhh. i mean let’s just firebomb cleveland or cincinnati or just the whole state i just don’t like it stupid place. i’m sha...</td>\n",
       "      <td>kipdu</td>\n",
       "      <td>3</td>\n",
       "      <td>44</td>\n",
       "    </tr>\n",
       "    <tr>\n",
       "      <th>1128</th>\n",
       "      <td>ihateohio</td>\n",
       "      <td>3000 members</td>\n",
       "      <td>cool little thing guys congrats!</td>\n",
       "      <td>kipdu</td>\n",
       "      <td>2</td>\n",
       "      <td>5</td>\n",
       "    </tr>\n",
       "    <tr>\n",
       "      <th>1183</th>\n",
       "      <td>ihateohio</td>\n",
       "      <td>oh thank god there’s a subreddit for this i just hate ohio so much it’s terrible i’m litterly shaking let’s firebomb cleveland and cincinnati</td>\n",
       "      <td></td>\n",
       "      <td>kipdu</td>\n",
       "      <td>24</td>\n",
       "      <td>1</td>\n",
       "    </tr>\n",
       "    <tr>\n",
       "      <th>1189</th>\n",
       "      <td>ihateohio</td>\n",
       "      <td>oh my gosh i’m so grateful that i’m now a moderator for my favorite subreddit.</td>\n",
       "      <td></td>\n",
       "      <td>kipdu</td>\n",
       "      <td>15</td>\n",
       "      <td>1</td>\n",
       "    </tr>\n",
       "    <tr>\n",
       "      <th>1199</th>\n",
       "      <td>ihateohio</td>\n",
       "      <td>obviously its ohio</td>\n",
       "      <td>[https://www.nbcnews.com/news/us-news/frantic-parents-fear-kids-after-radioactive-contamination-found-ohio-middle-n1005771](https://www.nbcnews.com/news/us-news/frantic-parents-fear-kids-after-ra...</td>\n",
       "      <td>kipdu</td>\n",
       "      <td>3</td>\n",
       "      <td>1</td>\n",
       "    </tr>\n",
       "    <tr>\n",
       "      <th>1466</th>\n",
       "      <td>ihateohio</td>\n",
       "      <td>the man...</td>\n",
       "      <td></td>\n",
       "      <td>kipdu</td>\n",
       "      <td>2</td>\n",
       "      <td>1</td>\n",
       "    </tr>\n",
       "    <tr>\n",
       "      <th>1647</th>\n",
       "      <td>ihateohio</td>\n",
       "      <td>can’t wait for ohio to be gone 😊</td>\n",
       "      <td></td>\n",
       "      <td>kipdu</td>\n",
       "      <td>8</td>\n",
       "      <td>1</td>\n",
       "    </tr>\n",
       "  </tbody>\n",
       "</table>\n",
       "</div>"
      ],
      "text/plain": [
       "     subreddit_class  \\\n",
       "908             ohio   \n",
       "1128       ihateohio   \n",
       "1183       ihateohio   \n",
       "1189       ihateohio   \n",
       "1199       ihateohio   \n",
       "1466       ihateohio   \n",
       "1647       ihateohio   \n",
       "\n",
       "                                                                                                                                              title  \\\n",
       "908                                                                                                                                    i hate ohio?   \n",
       "1128                                                                                                                                   3000 members   \n",
       "1183  oh thank god there’s a subreddit for this i just hate ohio so much it’s terrible i’m litterly shaking let’s firebomb cleveland and cincinnati   \n",
       "1189                                                                 oh my gosh i’m so grateful that i’m now a moderator for my favorite subreddit.   \n",
       "1199                                                                                                                             obviously its ohio   \n",
       "1466                                                                                                                                     the man...   \n",
       "1647                                                                                                               can’t wait for ohio to be gone 😊   \n",
       "\n",
       "                                                                                                                                                                                                     selftext  \\\n",
       "908   i just don’t like ohio you know i just hate it bad weather stupid place ahhhh. i mean let’s just firebomb cleveland or cincinnati or just the whole state i just don’t like it stupid place. i’m sha...   \n",
       "1128                                                                                                                                                                         cool little thing guys congrats!   \n",
       "1183                                                                                                                                                                                                            \n",
       "1189                                                                                                                                                                                                            \n",
       "1199   [https://www.nbcnews.com/news/us-news/frantic-parents-fear-kids-after-radioactive-contamination-found-ohio-middle-n1005771](https://www.nbcnews.com/news/us-news/frantic-parents-fear-kids-after-ra...   \n",
       "1466                                                                                                                                                                                                            \n",
       "1647                                                                                                                                                                                                            \n",
       "\n",
       "     author  title_word_count  selftext_word_count  \n",
       "908   kipdu                 3                   44  \n",
       "1128  kipdu                 2                    5  \n",
       "1183  kipdu                24                    1  \n",
       "1189  kipdu                15                    1  \n",
       "1199  kipdu                 3                    1  \n",
       "1466  kipdu                 2                    1  \n",
       "1647  kipdu                 8                    1  "
      ]
     },
     "execution_count": 29,
     "metadata": {},
     "output_type": "execute_result"
    }
   ],
   "source": [
    "reddit_auth_cleaned = reddit[reddit['author'] != '[deleted]']\n",
    "\n",
    "reddit_auth_cleaned[reddit_auth_cleaned.groupby('author')['subreddit_class'].transform('nunique')>1]"
   ]
  },
  {
   "cell_type": "markdown",
   "metadata": {},
   "source": [
    "One user posted in both the Ohio and IHateOhio subreddits, but appears to have a strong dislike of the state in all posts."
   ]
  },
  {
   "cell_type": "markdown",
   "metadata": {},
   "source": [
    "### What were the top 10 words used separately in each subreddit title?"
   ]
  },
  {
   "cell_type": "code",
   "execution_count": 30,
   "metadata": {},
   "outputs": [],
   "source": [
    "ohio_top_10 = words_and_counts[words_and_counts['subreddit_class'] == 'ohio'].iloc[:, :-6].sum(axis=0).sort_values(ascending=False).head(10)\n",
    "hate_ohio_top_10 = words_and_counts[words_and_counts['subreddit_class'] == 'ihateohio'].iloc[:, :-6].sum(axis=0).sort_values(ascending=False).head(10)"
   ]
  },
  {
   "cell_type": "code",
   "execution_count": 31,
   "metadata": {},
   "outputs": [
    {
     "data": {
      "text/html": [
       "<div>\n",
       "<style scoped>\n",
       "    .dataframe tbody tr th:only-of-type {\n",
       "        vertical-align: middle;\n",
       "    }\n",
       "\n",
       "    .dataframe tbody tr th {\n",
       "        vertical-align: top;\n",
       "    }\n",
       "\n",
       "    .dataframe thead th {\n",
       "        text-align: right;\n",
       "    }\n",
       "</style>\n",
       "<table border=\"1\" class=\"dataframe\">\n",
       "  <thead>\n",
       "    <tr style=\"text-align: right;\">\n",
       "      <th></th>\n",
       "      <th>word</th>\n",
       "      <th>count</th>\n",
       "    </tr>\n",
       "  </thead>\n",
       "  <tbody>\n",
       "    <tr>\n",
       "      <th>0</th>\n",
       "      <td>ohio</td>\n",
       "      <td>306</td>\n",
       "    </tr>\n",
       "    <tr>\n",
       "      <th>1</th>\n",
       "      <td>unemployment</td>\n",
       "      <td>46</td>\n",
       "    </tr>\n",
       "    <tr>\n",
       "      <th>2</th>\n",
       "      <td>state</td>\n",
       "      <td>41</td>\n",
       "    </tr>\n",
       "    <tr>\n",
       "      <th>3</th>\n",
       "      <td>looking</td>\n",
       "      <td>34</td>\n",
       "    </tr>\n",
       "    <tr>\n",
       "      <th>4</th>\n",
       "      <td>columbus</td>\n",
       "      <td>27</td>\n",
       "    </tr>\n",
       "    <tr>\n",
       "      <th>5</th>\n",
       "      <td>need</td>\n",
       "      <td>25</td>\n",
       "    </tr>\n",
       "    <tr>\n",
       "      <th>6</th>\n",
       "      <td>people</td>\n",
       "      <td>25</td>\n",
       "    </tr>\n",
       "    <tr>\n",
       "      <th>7</th>\n",
       "      <td>know</td>\n",
       "      <td>25</td>\n",
       "    </tr>\n",
       "    <tr>\n",
       "      <th>8</th>\n",
       "      <td>help</td>\n",
       "      <td>24</td>\n",
       "    </tr>\n",
       "    <tr>\n",
       "      <th>9</th>\n",
       "      <td>question</td>\n",
       "      <td>23</td>\n",
       "    </tr>\n",
       "    <tr>\n",
       "      <th>10</th>\n",
       "      <td>ohio</td>\n",
       "      <td>501</td>\n",
       "    </tr>\n",
       "    <tr>\n",
       "      <th>11</th>\n",
       "      <td>hate</td>\n",
       "      <td>63</td>\n",
       "    </tr>\n",
       "    <tr>\n",
       "      <th>12</th>\n",
       "      <td>state</td>\n",
       "      <td>52</td>\n",
       "    </tr>\n",
       "    <tr>\n",
       "      <th>13</th>\n",
       "      <td>fuck</td>\n",
       "      <td>48</td>\n",
       "    </tr>\n",
       "    <tr>\n",
       "      <th>14</th>\n",
       "      <td>like</td>\n",
       "      <td>35</td>\n",
       "    </tr>\n",
       "    <tr>\n",
       "      <th>15</th>\n",
       "      <td>just</td>\n",
       "      <td>32</td>\n",
       "    </tr>\n",
       "    <tr>\n",
       "      <th>16</th>\n",
       "      <td>people</td>\n",
       "      <td>25</td>\n",
       "    </tr>\n",
       "    <tr>\n",
       "      <th>17</th>\n",
       "      <td>new</td>\n",
       "      <td>20</td>\n",
       "    </tr>\n",
       "    <tr>\n",
       "      <th>18</th>\n",
       "      <td>shit</td>\n",
       "      <td>20</td>\n",
       "    </tr>\n",
       "    <tr>\n",
       "      <th>19</th>\n",
       "      <td>live</td>\n",
       "      <td>19</td>\n",
       "    </tr>\n",
       "  </tbody>\n",
       "</table>\n",
       "</div>"
      ],
      "text/plain": [
       "            word  count\n",
       "0           ohio    306\n",
       "1   unemployment     46\n",
       "2          state     41\n",
       "3        looking     34\n",
       "4       columbus     27\n",
       "5           need     25\n",
       "6         people     25\n",
       "7           know     25\n",
       "8           help     24\n",
       "9       question     23\n",
       "10          ohio    501\n",
       "11          hate     63\n",
       "12         state     52\n",
       "13          fuck     48\n",
       "14          like     35\n",
       "15          just     32\n",
       "16        people     25\n",
       "17           new     20\n",
       "18          shit     20\n",
       "19          live     19"
      ]
     },
     "execution_count": 31,
     "metadata": {},
     "output_type": "execute_result"
    }
   ],
   "source": [
    "top_10_each = pd.concat([ohio_top_10, hate_ohio_top_10])\n",
    "top_10_each = top_10_each.reset_index().rename(columns={'index': 'word', 0: 'count'})\n",
    "top_10_each"
   ]
  },
  {
   "cell_type": "code",
   "execution_count": 32,
   "metadata": {},
   "outputs": [
    {
     "data": {
      "image/png": "[encoded data removed]",
      "text/plain": [
       "<Figure size 800x800 with 1 Axes>"
      ]
     },
     "metadata": {},
     "output_type": "display_data"
    }
   ],
   "source": [
    "colors = ['navy', 'navy', 'navy', 'navy', 'navy', 'navy', 'navy', 'navy', 'navy', 'navy', 'goldenrod', 'goldenrod', 'goldenrod', 'goldenrod', 'goldenrod', 'goldenrod', 'goldenrod', 'goldenrod', 'goldenrod', 'goldenrod']\n",
    "\n",
    "plt.figure(figsize=(8,8))\n",
    "plt.barh(y=top_10_each.index[::-1], width=top_10_each['count'], color = colors)\n",
    "plt.yticks(ticks = top_10_each.index, labels=top_10_each['word'][::-1])\n",
    "ohio = mpatches.Patch(color='navy', label='Ohio')\n",
    "hateohio = mpatches.Patch(color='goldenrod', label='IHateOhio')\n",
    "plt.legend(handles=[ohio, hateohio])\n",
    "plt.xlabel('Count')\n",
    "plt.title('Top 10 Most-Used Words in Each Subreddit Title');"
   ]
  },
  {
   "cell_type": "markdown",
   "metadata": {},
   "source": [
    "### Now looking at selftext."
   ]
  },
  {
   "cell_type": "code",
   "execution_count": 33,
   "metadata": {},
   "outputs": [],
   "source": [
    "st_words_and_counts = pd.concat([selftext_df, reddit], axis=1)\n",
    "st_ohio_top_10 = st_words_and_counts[st_words_and_counts['subreddit_class'] == 'ohio'].iloc[:, :-6].sum(axis=0).sort_values(ascending=False).head(10)\n",
    "st_hate_ohio_top_10 = st_words_and_counts[st_words_and_counts['subreddit_class'] == 'ihateohio'].iloc[:, :-6].sum(axis=0).sort_values(ascending=False).head(10)"
   ]
  },
  {
   "cell_type": "code",
   "execution_count": 34,
   "metadata": {},
   "outputs": [
    {
     "data": {
      "text/html": [
       "<div>\n",
       "<style scoped>\n",
       "    .dataframe tbody tr th:only-of-type {\n",
       "        vertical-align: middle;\n",
       "    }\n",
       "\n",
       "    .dataframe tbody tr th {\n",
       "        vertical-align: top;\n",
       "    }\n",
       "\n",
       "    .dataframe thead th {\n",
       "        text-align: right;\n",
       "    }\n",
       "</style>\n",
       "<table border=\"1\" class=\"dataframe\">\n",
       "  <thead>\n",
       "    <tr style=\"text-align: right;\">\n",
       "      <th></th>\n",
       "      <th>word</th>\n",
       "      <th>count</th>\n",
       "    </tr>\n",
       "  </thead>\n",
       "  <tbody>\n",
       "    <tr>\n",
       "      <th>0</th>\n",
       "      <td>ohio</td>\n",
       "      <td>495</td>\n",
       "    </tr>\n",
       "    <tr>\n",
       "      <th>1</th>\n",
       "      <td>just</td>\n",
       "      <td>312</td>\n",
       "    </tr>\n",
       "    <tr>\n",
       "      <th>2</th>\n",
       "      <td>know</td>\n",
       "      <td>230</td>\n",
       "    </tr>\n",
       "    <tr>\n",
       "      <th>3</th>\n",
       "      <td>like</td>\n",
       "      <td>220</td>\n",
       "    </tr>\n",
       "    <tr>\n",
       "      <th>4</th>\n",
       "      <td>state</td>\n",
       "      <td>203</td>\n",
       "    </tr>\n",
       "    <tr>\n",
       "      <th>5</th>\n",
       "      <td>people</td>\n",
       "      <td>197</td>\n",
       "    </tr>\n",
       "    <tr>\n",
       "      <th>6</th>\n",
       "      <td>time</td>\n",
       "      <td>136</td>\n",
       "    </tr>\n",
       "    <tr>\n",
       "      <th>7</th>\n",
       "      <td>want</td>\n",
       "      <td>129</td>\n",
       "    </tr>\n",
       "    <tr>\n",
       "      <th>8</th>\n",
       "      <td>looking</td>\n",
       "      <td>120</td>\n",
       "    </tr>\n",
       "    <tr>\n",
       "      <th>9</th>\n",
       "      <td>help</td>\n",
       "      <td>116</td>\n",
       "    </tr>\n",
       "    <tr>\n",
       "      <th>10</th>\n",
       "      <td>ohio</td>\n",
       "      <td>248</td>\n",
       "    </tr>\n",
       "    <tr>\n",
       "      <th>11</th>\n",
       "      <td>just</td>\n",
       "      <td>80</td>\n",
       "    </tr>\n",
       "    <tr>\n",
       "      <th>12</th>\n",
       "      <td>state</td>\n",
       "      <td>69</td>\n",
       "    </tr>\n",
       "    <tr>\n",
       "      <th>13</th>\n",
       "      <td>people</td>\n",
       "      <td>58</td>\n",
       "    </tr>\n",
       "    <tr>\n",
       "      <th>14</th>\n",
       "      <td>2021</td>\n",
       "      <td>55</td>\n",
       "    </tr>\n",
       "    <tr>\n",
       "      <th>15</th>\n",
       "      <td>like</td>\n",
       "      <td>52</td>\n",
       "    </tr>\n",
       "    <tr>\n",
       "      <th>16</th>\n",
       "      <td>fuck</td>\n",
       "      <td>42</td>\n",
       "    </tr>\n",
       "    <tr>\n",
       "      <th>17</th>\n",
       "      <td>fucking</td>\n",
       "      <td>41</td>\n",
       "    </tr>\n",
       "    <tr>\n",
       "      <th>18</th>\n",
       "      <td>hate</td>\n",
       "      <td>36</td>\n",
       "    </tr>\n",
       "    <tr>\n",
       "      <th>19</th>\n",
       "      <td>shit</td>\n",
       "      <td>27</td>\n",
       "    </tr>\n",
       "  </tbody>\n",
       "</table>\n",
       "</div>"
      ],
      "text/plain": [
       "       word  count\n",
       "0      ohio    495\n",
       "1      just    312\n",
       "2      know    230\n",
       "3      like    220\n",
       "4     state    203\n",
       "5    people    197\n",
       "6      time    136\n",
       "7      want    129\n",
       "8   looking    120\n",
       "9      help    116\n",
       "10     ohio    248\n",
       "11     just     80\n",
       "12    state     69\n",
       "13   people     58\n",
       "14     2021     55\n",
       "15     like     52\n",
       "16     fuck     42\n",
       "17  fucking     41\n",
       "18     hate     36\n",
       "19     shit     27"
      ]
     },
     "execution_count": 34,
     "metadata": {},
     "output_type": "execute_result"
    }
   ],
   "source": [
    "st_top_10_each = pd.concat([st_ohio_top_10, st_hate_ohio_top_10])\n",
    "st_top_10_each = st_top_10_each.reset_index().rename(columns={'index': 'word', 0: 'count'})\n",
    "st_top_10_each"
   ]
  },
  {
   "cell_type": "code",
   "execution_count": 35,
   "metadata": {},
   "outputs": [
    {
     "data": {
      "image/png": "[encoded data removed]",
      "text/plain": [
       "<Figure size 800x800 with 1 Axes>"
      ]
     },
     "metadata": {},
     "output_type": "display_data"
    }
   ],
   "source": [
    "colors = ['#18453B', '#18453B', '#18453B', '#18453B', '#18453B', '#18453B', '#18453B', '#18453B', '#18453B', '#18453B', '#0B9A6D', '#0B9A6D', '#0B9A6D', '#0B9A6D', '#0B9A6D', '#0B9A6D', '#0B9A6D', '#0B9A6D', '#0B9A6D', '#0B9A6D']\n",
    "\n",
    "plt.figure(figsize=(8,8))\n",
    "plt.barh(y=st_top_10_each.index[::-1], width=st_top_10_each['count'], color = colors)\n",
    "plt.yticks(ticks = st_top_10_each.index, labels=st_top_10_each['word'][::-1])\n",
    "ohio = mpatches.Patch(color='#18453B', label='Ohio')\n",
    "hateohio = mpatches.Patch(color='#0B9A6D', label='IHateOhio')\n",
    "plt.legend(handles=[ohio, hateohio])\n",
    "plt.xlabel('Count')\n",
    "plt.title('Top 10 Most-Used Words in Each Subreddit Caption');"
   ]
  },
  {
   "cell_type": "markdown",
   "metadata": {},
   "source": [
    "Similar to the title words, there is a clear difference in those shown in the above bar chart. The IHateOhio subreddit has a number of expletives, while the Ohio captions look to be more centered around questions and information."
   ]
  },
  {
   "cell_type": "markdown",
   "metadata": {},
   "source": [
    "### What are the most common bigrams in the post titles?"
   ]
  },
  {
   "cell_type": "code",
   "execution_count": 36,
   "metadata": {},
   "outputs": [
    {
     "data": {
      "text/plain": [
       "matrix([[0, 0, 0, ..., 0, 0, 0],\n",
       "        [0, 0, 0, ..., 0, 0, 0],\n",
       "        [0, 0, 0, ..., 0, 0, 0],\n",
       "        ...,\n",
       "        [0, 0, 0, ..., 0, 0, 0],\n",
       "        [0, 0, 0, ..., 0, 0, 0],\n",
       "        [0, 0, 0, ..., 0, 0, 0]])"
      ]
     },
     "execution_count": 36,
     "metadata": {},
     "output_type": "execute_result"
    }
   ],
   "source": [
    "cvec = CountVectorizer(stop_words='english', ngram_range=(2,2))\n",
    "\n",
    "reddit_bi_fit = cvec.fit_transform(reddit['title'])\n",
    "\n",
    "reddit_bi_fit.todense()"
   ]
  },
  {
   "cell_type": "code",
   "execution_count": 37,
   "metadata": {},
   "outputs": [
    {
     "data": {
      "text/plain": [
       "hate ohio      38\n",
       "fuck ohio      24\n",
       "ohio state     15\n",
       "ohio sucks     15\n",
       "live ohio      13\n",
       "ohio like      13\n",
       "year old       11\n",
       "hates ohio     10\n",
       "cedar point     9\n",
       "ohio man        8\n",
       "dtype: int64"
      ]
     },
     "execution_count": 37,
     "metadata": {},
     "output_type": "execute_result"
    }
   ],
   "source": [
    "bigram_df = pd.DataFrame(reddit_bi_fit.todense(), columns=cvec.get_feature_names_out())\n",
    "\n",
    "top_10_bigrams = bigram_df.sum(axis=0).sort_values(ascending=False).head(10)\n",
    "\n",
    "top_10_bigrams"
   ]
  },
  {
   "cell_type": "markdown",
   "metadata": {},
   "source": [
    "Because 'ohio' is used in 8 out of 10 of these bigrams, I think it would be more effective to use single words in modeling. "
   ]
  },
  {
   "cell_type": "markdown",
   "metadata": {},
   "source": [
    "### What is the overall sentiment of the titles in each subreddit?"
   ]
  },
  {
   "cell_type": "code",
   "execution_count": 38,
   "metadata": {},
   "outputs": [],
   "source": [
    "sent = SentimentIntensityAnalyzer()"
   ]
  },
  {
   "cell_type": "code",
   "execution_count": 39,
   "metadata": {},
   "outputs": [],
   "source": [
    "titles = reddit[['title', 'subreddit_class']]\n",
    "\n",
    "love_sent = []\n",
    "hate_sent = []\n",
    "\n",
    "for i in range(len(titles)):\n",
    "    if titles['subreddit_class'][i] == 'ohio':\n",
    "        love_sent.append(sent.polarity_scores(titles['title'][i]))\n",
    "    else:\n",
    "        hate_sent.append(sent.polarity_scores(titles['title'][i]))            "
   ]
  },
  {
   "cell_type": "code",
   "execution_count": 40,
   "metadata": {},
   "outputs": [],
   "source": [
    "love_sent_df = pd.DataFrame.from_dict(love_sent)\n",
    "hate_sent_df = pd.DataFrame.from_dict(hate_sent)"
   ]
  },
  {
   "cell_type": "code",
   "execution_count": 41,
   "metadata": {},
   "outputs": [
    {
     "data": {
      "text/html": [
       "<div>\n",
       "<style scoped>\n",
       "    .dataframe tbody tr th:only-of-type {\n",
       "        vertical-align: middle;\n",
       "    }\n",
       "\n",
       "    .dataframe tbody tr th {\n",
       "        vertical-align: top;\n",
       "    }\n",
       "\n",
       "    .dataframe thead th {\n",
       "        text-align: right;\n",
       "    }\n",
       "</style>\n",
       "<table border=\"1\" class=\"dataframe\">\n",
       "  <thead>\n",
       "    <tr style=\"text-align: right;\">\n",
       "      <th></th>\n",
       "      <th>neg</th>\n",
       "      <th>neu</th>\n",
       "      <th>pos</th>\n",
       "      <th>compound</th>\n",
       "    </tr>\n",
       "  </thead>\n",
       "  <tbody>\n",
       "    <tr>\n",
       "      <th>count</th>\n",
       "      <td>964.000000</td>\n",
       "      <td>964.000000</td>\n",
       "      <td>964.000000</td>\n",
       "      <td>964.000000</td>\n",
       "    </tr>\n",
       "    <tr>\n",
       "      <th>mean</th>\n",
       "      <td>0.070617</td>\n",
       "      <td>0.844371</td>\n",
       "      <td>0.085012</td>\n",
       "      <td>0.033731</td>\n",
       "    </tr>\n",
       "    <tr>\n",
       "      <th>std</th>\n",
       "      <td>0.162051</td>\n",
       "      <td>0.215521</td>\n",
       "      <td>0.161742</td>\n",
       "      <td>0.318067</td>\n",
       "    </tr>\n",
       "    <tr>\n",
       "      <th>min</th>\n",
       "      <td>0.000000</td>\n",
       "      <td>0.000000</td>\n",
       "      <td>0.000000</td>\n",
       "      <td>-0.940300</td>\n",
       "    </tr>\n",
       "    <tr>\n",
       "      <th>25%</th>\n",
       "      <td>0.000000</td>\n",
       "      <td>0.714000</td>\n",
       "      <td>0.000000</td>\n",
       "      <td>0.000000</td>\n",
       "    </tr>\n",
       "    <tr>\n",
       "      <th>50%</th>\n",
       "      <td>0.000000</td>\n",
       "      <td>1.000000</td>\n",
       "      <td>0.000000</td>\n",
       "      <td>0.000000</td>\n",
       "    </tr>\n",
       "    <tr>\n",
       "      <th>75%</th>\n",
       "      <td>0.000000</td>\n",
       "      <td>1.000000</td>\n",
       "      <td>0.141250</td>\n",
       "      <td>0.000000</td>\n",
       "    </tr>\n",
       "    <tr>\n",
       "      <th>max</th>\n",
       "      <td>1.000000</td>\n",
       "      <td>1.000000</td>\n",
       "      <td>1.000000</td>\n",
       "      <td>0.955700</td>\n",
       "    </tr>\n",
       "  </tbody>\n",
       "</table>\n",
       "</div>"
      ],
      "text/plain": [
       "              neg         neu         pos    compound\n",
       "count  964.000000  964.000000  964.000000  964.000000\n",
       "mean     0.070617    0.844371    0.085012    0.033731\n",
       "std      0.162051    0.215521    0.161742    0.318067\n",
       "min      0.000000    0.000000    0.000000   -0.940300\n",
       "25%      0.000000    0.714000    0.000000    0.000000\n",
       "50%      0.000000    1.000000    0.000000    0.000000\n",
       "75%      0.000000    1.000000    0.141250    0.000000\n",
       "max      1.000000    1.000000    1.000000    0.955700"
      ]
     },
     "execution_count": 41,
     "metadata": {},
     "output_type": "execute_result"
    }
   ],
   "source": [
    "love_sent_df.describe()"
   ]
  },
  {
   "cell_type": "code",
   "execution_count": 42,
   "metadata": {},
   "outputs": [
    {
     "data": {
      "text/html": [
       "<div>\n",
       "<style scoped>\n",
       "    .dataframe tbody tr th:only-of-type {\n",
       "        vertical-align: middle;\n",
       "    }\n",
       "\n",
       "    .dataframe tbody tr th {\n",
       "        vertical-align: top;\n",
       "    }\n",
       "\n",
       "    .dataframe thead th {\n",
       "        text-align: right;\n",
       "    }\n",
       "</style>\n",
       "<table border=\"1\" class=\"dataframe\">\n",
       "  <thead>\n",
       "    <tr style=\"text-align: right;\">\n",
       "      <th></th>\n",
       "      <th>neg</th>\n",
       "      <th>neu</th>\n",
       "      <th>pos</th>\n",
       "      <th>compound</th>\n",
       "    </tr>\n",
       "  </thead>\n",
       "  <tbody>\n",
       "    <tr>\n",
       "      <th>count</th>\n",
       "      <td>906.000000</td>\n",
       "      <td>906.000000</td>\n",
       "      <td>906.000000</td>\n",
       "      <td>906.000000</td>\n",
       "    </tr>\n",
       "    <tr>\n",
       "      <th>mean</th>\n",
       "      <td>0.165881</td>\n",
       "      <td>0.737008</td>\n",
       "      <td>0.097116</td>\n",
       "      <td>-0.098194</td>\n",
       "    </tr>\n",
       "    <tr>\n",
       "      <th>std</th>\n",
       "      <td>0.234652</td>\n",
       "      <td>0.261642</td>\n",
       "      <td>0.183419</td>\n",
       "      <td>0.392195</td>\n",
       "    </tr>\n",
       "    <tr>\n",
       "      <th>min</th>\n",
       "      <td>0.000000</td>\n",
       "      <td>0.000000</td>\n",
       "      <td>0.000000</td>\n",
       "      <td>-0.977500</td>\n",
       "    </tr>\n",
       "    <tr>\n",
       "      <th>25%</th>\n",
       "      <td>0.000000</td>\n",
       "      <td>0.555000</td>\n",
       "      <td>0.000000</td>\n",
       "      <td>-0.471175</td>\n",
       "    </tr>\n",
       "    <tr>\n",
       "      <th>50%</th>\n",
       "      <td>0.000000</td>\n",
       "      <td>0.757000</td>\n",
       "      <td>0.000000</td>\n",
       "      <td>0.000000</td>\n",
       "    </tr>\n",
       "    <tr>\n",
       "      <th>75%</th>\n",
       "      <td>0.306000</td>\n",
       "      <td>1.000000</td>\n",
       "      <td>0.144000</td>\n",
       "      <td>0.000000</td>\n",
       "    </tr>\n",
       "    <tr>\n",
       "      <th>max</th>\n",
       "      <td>1.000000</td>\n",
       "      <td>1.000000</td>\n",
       "      <td>1.000000</td>\n",
       "      <td>0.938200</td>\n",
       "    </tr>\n",
       "  </tbody>\n",
       "</table>\n",
       "</div>"
      ],
      "text/plain": [
       "              neg         neu         pos    compound\n",
       "count  906.000000  906.000000  906.000000  906.000000\n",
       "mean     0.165881    0.737008    0.097116   -0.098194\n",
       "std      0.234652    0.261642    0.183419    0.392195\n",
       "min      0.000000    0.000000    0.000000   -0.977500\n",
       "25%      0.000000    0.555000    0.000000   -0.471175\n",
       "50%      0.000000    0.757000    0.000000    0.000000\n",
       "75%      0.306000    1.000000    0.144000    0.000000\n",
       "max      1.000000    1.000000    1.000000    0.938200"
      ]
     },
     "execution_count": 42,
     "metadata": {},
     "output_type": "execute_result"
    }
   ],
   "source": [
    "hate_sent_df.describe()"
   ]
  },
  {
   "cell_type": "markdown",
   "metadata": {},
   "source": [
    "### What is the overall sentiment of the captions in each subreddit?"
   ]
  },
  {
   "cell_type": "code",
   "execution_count": 43,
   "metadata": {},
   "outputs": [],
   "source": [
    "sent = SentimentIntensityAnalyzer()"
   ]
  },
  {
   "cell_type": "code",
   "execution_count": 44,
   "metadata": {},
   "outputs": [],
   "source": [
    "selftexts = reddit[['selftext', 'subreddit_class']]\n",
    "\n",
    "st_love_sent = []\n",
    "st_hate_sent = []\n",
    "\n",
    "for i in range(len(selftexts)):\n",
    "    if selftexts['subreddit_class'][i] == 'ohio':\n",
    "        st_love_sent.append(sent.polarity_scores(selftexts['selftext'][i]))\n",
    "    else:\n",
    "        st_hate_sent.append(sent.polarity_scores(selftexts['selftext'][i]))     "
   ]
  },
  {
   "cell_type": "code",
   "execution_count": 45,
   "metadata": {},
   "outputs": [],
   "source": [
    "st_love_sent_df = pd.DataFrame.from_dict(st_love_sent)\n",
    "st_hate_sent_df = pd.DataFrame.from_dict(st_hate_sent)"
   ]
  },
  {
   "cell_type": "code",
   "execution_count": 46,
   "metadata": {},
   "outputs": [
    {
     "data": {
      "text/html": [
       "<div>\n",
       "<style scoped>\n",
       "    .dataframe tbody tr th:only-of-type {\n",
       "        vertical-align: middle;\n",
       "    }\n",
       "\n",
       "    .dataframe tbody tr th {\n",
       "        vertical-align: top;\n",
       "    }\n",
       "\n",
       "    .dataframe thead th {\n",
       "        text-align: right;\n",
       "    }\n",
       "</style>\n",
       "<table border=\"1\" class=\"dataframe\">\n",
       "  <thead>\n",
       "    <tr style=\"text-align: right;\">\n",
       "      <th></th>\n",
       "      <th>neg</th>\n",
       "      <th>neu</th>\n",
       "      <th>pos</th>\n",
       "      <th>compound</th>\n",
       "    </tr>\n",
       "  </thead>\n",
       "  <tbody>\n",
       "    <tr>\n",
       "      <th>count</th>\n",
       "      <td>964.000000</td>\n",
       "      <td>964.000000</td>\n",
       "      <td>964.000000</td>\n",
       "      <td>964.000000</td>\n",
       "    </tr>\n",
       "    <tr>\n",
       "      <th>mean</th>\n",
       "      <td>0.042908</td>\n",
       "      <td>0.737140</td>\n",
       "      <td>0.092353</td>\n",
       "      <td>0.237245</td>\n",
       "    </tr>\n",
       "    <tr>\n",
       "      <th>std</th>\n",
       "      <td>0.067907</td>\n",
       "      <td>0.301249</td>\n",
       "      <td>0.102190</td>\n",
       "      <td>0.544487</td>\n",
       "    </tr>\n",
       "    <tr>\n",
       "      <th>min</th>\n",
       "      <td>0.000000</td>\n",
       "      <td>0.000000</td>\n",
       "      <td>0.000000</td>\n",
       "      <td>-0.995100</td>\n",
       "    </tr>\n",
       "    <tr>\n",
       "      <th>25%</th>\n",
       "      <td>0.000000</td>\n",
       "      <td>0.730750</td>\n",
       "      <td>0.000000</td>\n",
       "      <td>0.000000</td>\n",
       "    </tr>\n",
       "    <tr>\n",
       "      <th>50%</th>\n",
       "      <td>0.000000</td>\n",
       "      <td>0.837000</td>\n",
       "      <td>0.074000</td>\n",
       "      <td>0.064150</td>\n",
       "    </tr>\n",
       "    <tr>\n",
       "      <th>75%</th>\n",
       "      <td>0.069000</td>\n",
       "      <td>0.906000</td>\n",
       "      <td>0.148000</td>\n",
       "      <td>0.765000</td>\n",
       "    </tr>\n",
       "    <tr>\n",
       "      <th>max</th>\n",
       "      <td>0.545000</td>\n",
       "      <td>1.000000</td>\n",
       "      <td>1.000000</td>\n",
       "      <td>0.999600</td>\n",
       "    </tr>\n",
       "  </tbody>\n",
       "</table>\n",
       "</div>"
      ],
      "text/plain": [
       "              neg         neu         pos    compound\n",
       "count  964.000000  964.000000  964.000000  964.000000\n",
       "mean     0.042908    0.737140    0.092353    0.237245\n",
       "std      0.067907    0.301249    0.102190    0.544487\n",
       "min      0.000000    0.000000    0.000000   -0.995100\n",
       "25%      0.000000    0.730750    0.000000    0.000000\n",
       "50%      0.000000    0.837000    0.074000    0.064150\n",
       "75%      0.069000    0.906000    0.148000    0.765000\n",
       "max      0.545000    1.000000    1.000000    0.999600"
      ]
     },
     "execution_count": 46,
     "metadata": {},
     "output_type": "execute_result"
    }
   ],
   "source": [
    "st_love_sent_df.describe()"
   ]
  },
  {
   "cell_type": "code",
   "execution_count": 47,
   "metadata": {},
   "outputs": [
    {
     "data": {
      "text/html": [
       "<div>\n",
       "<style scoped>\n",
       "    .dataframe tbody tr th:only-of-type {\n",
       "        vertical-align: middle;\n",
       "    }\n",
       "\n",
       "    .dataframe tbody tr th {\n",
       "        vertical-align: top;\n",
       "    }\n",
       "\n",
       "    .dataframe thead th {\n",
       "        text-align: right;\n",
       "    }\n",
       "</style>\n",
       "<table border=\"1\" class=\"dataframe\">\n",
       "  <thead>\n",
       "    <tr style=\"text-align: right;\">\n",
       "      <th></th>\n",
       "      <th>neg</th>\n",
       "      <th>neu</th>\n",
       "      <th>pos</th>\n",
       "      <th>compound</th>\n",
       "    </tr>\n",
       "  </thead>\n",
       "  <tbody>\n",
       "    <tr>\n",
       "      <th>count</th>\n",
       "      <td>906.000000</td>\n",
       "      <td>906.000000</td>\n",
       "      <td>906.000000</td>\n",
       "      <td>906.000000</td>\n",
       "    </tr>\n",
       "    <tr>\n",
       "      <th>mean</th>\n",
       "      <td>0.047866</td>\n",
       "      <td>0.194704</td>\n",
       "      <td>0.023442</td>\n",
       "      <td>-0.056484</td>\n",
       "    </tr>\n",
       "    <tr>\n",
       "      <th>std</th>\n",
       "      <td>0.133409</td>\n",
       "      <td>0.343578</td>\n",
       "      <td>0.083016</td>\n",
       "      <td>0.278138</td>\n",
       "    </tr>\n",
       "    <tr>\n",
       "      <th>min</th>\n",
       "      <td>0.000000</td>\n",
       "      <td>0.000000</td>\n",
       "      <td>0.000000</td>\n",
       "      <td>-0.997200</td>\n",
       "    </tr>\n",
       "    <tr>\n",
       "      <th>25%</th>\n",
       "      <td>0.000000</td>\n",
       "      <td>0.000000</td>\n",
       "      <td>0.000000</td>\n",
       "      <td>0.000000</td>\n",
       "    </tr>\n",
       "    <tr>\n",
       "      <th>50%</th>\n",
       "      <td>0.000000</td>\n",
       "      <td>0.000000</td>\n",
       "      <td>0.000000</td>\n",
       "      <td>0.000000</td>\n",
       "    </tr>\n",
       "    <tr>\n",
       "      <th>75%</th>\n",
       "      <td>0.000000</td>\n",
       "      <td>0.335750</td>\n",
       "      <td>0.000000</td>\n",
       "      <td>0.000000</td>\n",
       "    </tr>\n",
       "    <tr>\n",
       "      <th>max</th>\n",
       "      <td>1.000000</td>\n",
       "      <td>1.000000</td>\n",
       "      <td>1.000000</td>\n",
       "      <td>0.996800</td>\n",
       "    </tr>\n",
       "  </tbody>\n",
       "</table>\n",
       "</div>"
      ],
      "text/plain": [
       "              neg         neu         pos    compound\n",
       "count  906.000000  906.000000  906.000000  906.000000\n",
       "mean     0.047866    0.194704    0.023442   -0.056484\n",
       "std      0.133409    0.343578    0.083016    0.278138\n",
       "min      0.000000    0.000000    0.000000   -0.997200\n",
       "25%      0.000000    0.000000    0.000000    0.000000\n",
       "50%      0.000000    0.000000    0.000000    0.000000\n",
       "75%      0.000000    0.335750    0.000000    0.000000\n",
       "max      1.000000    1.000000    1.000000    0.996800"
      ]
     },
     "execution_count": 47,
     "metadata": {},
     "output_type": "execute_result"
    }
   ],
   "source": [
    "st_hate_sent_df.describe()"
   ]
  },
  {
   "cell_type": "markdown",
   "metadata": {},
   "source": [
    "Looking at the means for each dataframe, most posts have a high neutrality score and some variance in all columns. The IHateOhio captions surprisingly had the greatest mean neutrality, but also the lowest mean positivity scores. \n",
    "\n",
    "For the sake of analysis and predictions, I'll be using the compound means for each dataframe, as these are described to be the 'normalized, composite score' for each post in [this](https://github.com/cjhutto/vaderSentiment) documentation.\n",
    "\n",
    "The IHateOhio post titles have the lowest mean compound score, at almost -0.10. On the contrary, the Ohio titles have a relatively impartial score of 0.03. The IHateOhio selftexts have a less impressive mean compound score of -0.06, but the Ohio selftexts have a strong mean of 0.24. \n",
    "\n",
    "I'll be interested to see if the heavier negative score in the IHateOhio titles make for better predictions, or if the positive skew of the Ohio selftexts will be more effective in modeling."
   ]
  },
  {
   "cell_type": "code",
   "execution_count": 48,
   "metadata": {},
   "outputs": [
    {
     "data": {
      "text/plain": [
       "neg         0.047866\n",
       "neu         0.194704\n",
       "pos         0.023442\n",
       "compound   -0.056484\n",
       "Name: mean, dtype: float64"
      ]
     },
     "execution_count": 48,
     "metadata": {},
     "output_type": "execute_result"
    }
   ],
   "source": [
    "hate_des = st_hate_sent_df.describe()\n",
    "hate_des.loc['mean']"
   ]
  },
  {
   "cell_type": "code",
   "execution_count": 49,
   "metadata": {},
   "outputs": [
    {
     "data": {
      "image/png": "[encoded data removed]",
      "text/plain": [
       "<Figure size 1000x800 with 1 Axes>"
      ]
     },
     "metadata": {},
     "output_type": "display_data"
    }
   ],
   "source": [
    "data = [['Ohio Title Scores', 0.070617, 0.844371, 0.085012, 0.033731], ['IHateOhio Title Scores', 0.165881, 0.737008, 0.097116, -0.098194], \n",
    "['Ohio Selftext Scores', 0.042908, 0.864733, 0.092353, 0.237245], ['IHateOhio Selftext Scores', 0.047866, 0.928700, 0.023442, -0.056484]]\n",
    "\n",
    "df = pd.DataFrame(data, columns=['Subreddit', 'Neg', 'Neu', 'Pos', 'Compound'])\n",
    "df.set_index('Subreddit', inplace=True)\n",
    "\n",
    "y_tix = [-.2, 0, .2, .4, .6, .8, 1]\n",
    "df.plot(kind='bar', rot=1, figsize=(10,8), ylim=[-.2, 1], xlabel=' ', colormap='Dark2', title='Subreddit Sentiment Scores', yticks=y_tix)\n",
    "plt.axhline(y=0, color = 'black', linewidth=0.4)\n",
    "plt.legend(loc='upper center');"
   ]
  },
  {
   "cell_type": "markdown",
   "metadata": {},
   "source": [
    "---\n",
    "\n",
    "## Model Predictions\n",
    "\n",
    "Going into the model building, I predict the title column to perform better and produce greater test scores than the selftext column. This is because:\n",
    "- There are no nulls in the title column, but 788 in the selftext column.\n",
    "- In the graphs above, the most commonly used words are similar among the title and selftext columns. Because there is some resemblance between the two, but less missing data in the title column, I would expect it to be more useful.\n",
    "- Additionally, I believe the -0.1 mean compound score of the IHateOhio titles will be important in predictions.\n",
    "\n",
    "With regard to the two subreddit threads, I imagine that the Ohio posts will be somewhat more difficult for most models to classify because there are less strongly-worded phrases."
   ]
  }
 ],
 "metadata": {
  "kernelspec": {
   "display_name": "Python 3.9.6 64-bit ('3.9.6')",
   "language": "python",
   "name": "python3"
  },
  "language_info": {
   "codemirror_mode": {
    "name": "ipython",
    "version": 3
   },
   "file_extension": ".py",
   "mimetype": "text/x-python",
   "name": "python",
   "nbconvert_exporter": "python",
   "pygments_lexer": "ipython3",
   "version": "3.9.6"
  },
  "orig_nbformat": 4,
  "vscode": {
   "interpreter": {
    "hash": "d3fbca8c5142a5f3fc0e150e2aa7dc992112775c37c59dc77ad7b753c4c0bceb"
   }
  }
 },
 "nbformat": 4,
 "nbformat_minor": 2
}
